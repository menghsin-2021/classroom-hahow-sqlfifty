{
 "cells": [
  {
   "cell_type": "markdown",
   "id": "lightweight-fruit",
   "metadata": {
    "slideshow": {
     "slide_type": "slide"
    }
   },
   "source": [
    "# SQL 的五十道練習\n",
    "\n",
    "> 垂直與水平合併\n",
    "\n",
    "[數據交點](https://www.datainpoint.com/) | 郭耀仁 <yaojenkuo@datainpoint.com>"
   ]
  },
  {
   "cell_type": "markdown",
   "id": "associate-buffalo",
   "metadata": {
    "slideshow": {
     "slide_type": "subslide"
    }
   },
   "source": [
    "## 這個章節要學起來的 SQL 保留字\n",
    "\n",
    "- `UNION`\n",
    "- `ALL`\n",
    "- `JOIN`\n",
    "- `ON`\n",
    "- `LEFT JOIN`"
   ]
  },
  {
   "cell_type": "code",
   "execution_count": 1,
   "id": "matched-spyware",
   "metadata": {
    "slideshow": {
     "slide_type": "skip"
    }
   },
   "outputs": [],
   "source": [
    "%LOAD sqlite3 db=../databases/imdb.db timeout=2 shared_cache=true"
   ]
  },
  {
   "cell_type": "code",
   "execution_count": 2,
   "id": "desperate-contest",
   "metadata": {
    "slideshow": {
     "slide_type": "skip"
    }
   },
   "outputs": [],
   "source": [
    "ATTACH \"../databases/nba.db\" AS nba;"
   ]
  },
  {
   "cell_type": "code",
   "execution_count": 3,
   "id": "located-society",
   "metadata": {
    "slideshow": {
     "slide_type": "skip"
    }
   },
   "outputs": [],
   "source": [
    "ATTACH \"../databases/twElection2020.db\" AS twElection2020;"
   ]
  },
  {
   "cell_type": "code",
   "execution_count": 4,
   "id": "positive-conservative",
   "metadata": {
    "slideshow": {
     "slide_type": "skip"
    }
   },
   "outputs": [],
   "source": [
    "ATTACH \"../databases/covid19.db\" AS covid19;"
   ]
  },
  {
   "cell_type": "markdown",
   "id": "forward-passage",
   "metadata": {
    "slideshow": {
     "slide_type": "slide"
    }
   },
   "source": [
    "## 關聯資料表"
   ]
  },
  {
   "cell_type": "markdown",
   "id": "guided-credit",
   "metadata": {
    "slideshow": {
     "slide_type": "subslide"
    }
   },
   "source": [
    "## 在「子查詢 」章節中，我們知道子查詢常見的應用情境有：\n",
    "\n",
    "- 查詢的篩選條件必須要先做一個查詢才能得知。\n",
    "- 查詢的計算內容必須要先做一個查詢才能得知。\n",
    "- 查詢所需要的**資料來自不同資料表**。"
   ]
  },
  {
   "cell_type": "markdown",
   "id": "endless-sodium",
   "metadata": {
    "slideshow": {
     "slide_type": "subslide"
    }
   },
   "source": [
    "## 回憶一下當時如何回答這個問題：我們想知道在 `imdb` 資料庫中，哪幾部電影 Tom Hanks 有演出？\n",
    "\n",
    "- 先從 `actors` 資料表查詢 Tom Hanks 的演員編號是多少。\n",
    "- 再依據前一個查詢結果去 `casting` 資料表查詢。\n",
    "- 再依據前一個查詢結果去 `movies` 資料表查詢。"
   ]
  },
  {
   "cell_type": "markdown",
   "id": "decimal-newsletter",
   "metadata": {
    "slideshow": {
     "slide_type": "subslide"
    }
   },
   "source": [
    "## 這意味著我們的查詢範圍開始由「單個」資料表擴展至「多個」資料表\n",
    "\n",
    "- 子查詢。\n",
    "- 垂直與水平合併。"
   ]
  },
  {
   "cell_type": "markdown",
   "id": "smaller-transaction",
   "metadata": {
    "slideshow": {
     "slide_type": "subslide"
    }
   },
   "source": [
    "## 關聯式資料庫（Relational Database）的核心精神\n",
    "\n",
    "- 可以設計資料表彼此之間的「關聯」特性。\n",
    "- 讓資料表彼此之間的重複性、重疊性降低。"
   ]
  },
  {
   "cell_type": "markdown",
   "id": "previous-gasoline",
   "metadata": {
    "slideshow": {
     "slide_type": "subslide"
    }
   },
   "source": [
    "## 資料表能夠從兩個維度關聯\n",
    "\n",
    "- 垂直合併：讓資料表以垂直方向合併觀測值（列）。\n",
    "- 水平合併：讓資料表以水平方向合併變數（欄）。"
   ]
  },
  {
   "cell_type": "markdown",
   "id": "supposed-spread",
   "metadata": {
    "slideshow": {
     "slide_type": "slide"
    }
   },
   "source": [
    "## 垂直合併"
   ]
  },
  {
   "cell_type": "markdown",
   "id": "impaired-section",
   "metadata": {
    "slideshow": {
     "slide_type": "subslide"
    }
   },
   "source": [
    "## 以 `UNION` 垂直合併\n",
    "\n",
    "```sql\n",
    "A SELECT statement\n",
    "UNION\n",
    "Another SELECT statement\n",
    "```"
   ]
  },
  {
   "cell_type": "markdown",
   "id": "brief-castle",
   "metadata": {
    "slideshow": {
     "slide_type": "subslide"
    }
   },
   "source": [
    "## 垂直合併簡單來說，就是結合觀測值\n",
    "\n",
    "![union](union.png)"
   ]
  },
  {
   "cell_type": "code",
   "execution_count": 5,
   "id": "subjective-therapist",
   "metadata": {
    "slideshow": {
     "slide_type": "subslide"
    }
   },
   "outputs": [
    {
     "data": {
      "text/html": [
       "<table>\n",
       "<tr>\n",
       "<th>my_favorites</th>\n",
       "</tr>\n",
       "<tr>\n",
       "<td>Christopher Nolan</td>\n",
       "</tr>\n",
       "<tr>\n",
       "<td>Leonardo DiCaprio</td>\n",
       "</tr>\n",
       "<tr>\n",
       "<td>Steven Spielberg</td>\n",
       "</tr>\n",
       "<tr>\n",
       "<td>Tom Hanks</td>\n",
       "</tr>\n",
       "</table>\n",
       "4 rows in set (0.00 sec)"
      ],
      "text/plain": [
       "+-------------------+\n",
       "| my_favorites      |\n",
       "+-------------------+\n",
       "| Christopher Nolan |\n",
       "+-------------------+\n",
       "| Leonardo DiCaprio |\n",
       "+-------------------+\n",
       "| Steven Spielberg  |\n",
       "+-------------------+\n",
       "| Tom Hanks         |\n",
       "+-------------------+\n",
       "4 rows in set (0.00 sec)"
      ]
     },
     "execution_count": 5,
     "metadata": {},
     "output_type": "execute_result"
    }
   ],
   "source": [
    "SELECT director AS my_favorites\n",
    "  FROM movies\n",
    " WHERE director IN ('Christopher Nolan', 'Steven Spielberg')\n",
    " UNION\n",
    "SELECT name\n",
    "  FROM actors\n",
    " WHERE name IN ('Tom Hanks', 'Leonardo DiCaprio');"
   ]
  },
  {
   "cell_type": "markdown",
   "id": "sound-chassis",
   "metadata": {
    "slideshow": {
     "slide_type": "subslide"
    }
   },
   "source": [
    "## 使用 `UNION` 的注意事項\n",
    "\n",
    "- 垂直合併的欄位數要相同。\n",
    "- 垂直合併的 SQL 若有使用到 `ORDER BY` 只能放在 `UNION` 之後。\n",
    "- 垂直合併的重複觀測值會被省略。"
   ]
  },
  {
   "cell_type": "markdown",
   "id": "legendary-learning",
   "metadata": {
    "slideshow": {
     "slide_type": "subslide"
    }
   },
   "source": [
    "## 垂直合併的欄位數要相同\n",
    "\n",
    "```sql\n",
    "SELECT director AS my_favorites\n",
    "  FROM movies\n",
    " WHERE director IN ('Christopher Nolan', 'Steven Spielberg')\n",
    " UNION\n",
    "SELECT name,\n",
    "       id  -- 垂直合併的欄位數不相同\n",
    "  FROM actors\n",
    " WHERE name IN ('Tom Hanks', 'Leonardo DiCaprio');\n",
    "```"
   ]
  },
  {
   "cell_type": "code",
   "execution_count": null,
   "id": "established-award",
   "metadata": {
    "slideshow": {
     "slide_type": "subslide"
    }
   },
   "outputs": [],
   "source": []
  },
  {
   "cell_type": "markdown",
   "id": "mighty-survival",
   "metadata": {
    "slideshow": {
     "slide_type": "subslide"
    }
   },
   "source": [
    "## 垂直合併的 SQL 若有使用到 `ORDER BY` 只能放在 `UNION` 之後\n",
    "\n",
    "```sql\n",
    "SELECT director AS my_favorites\n",
    "  FROM movies\n",
    " WHERE director IN ('Christopher Nolan', 'Steven Spielberg')\n",
    " ORDER BY my_favorites\n",
    " UNION\n",
    "SELECT name\n",
    "  FROM actors\n",
    " WHERE name IN ('Tom Hanks', 'Leonardo DiCaprio');\n",
    "```"
   ]
  },
  {
   "cell_type": "code",
   "execution_count": null,
   "id": "equal-swedish",
   "metadata": {
    "slideshow": {
     "slide_type": "subslide"
    }
   },
   "outputs": [],
   "source": []
  },
  {
   "cell_type": "markdown",
   "id": "regulation-remainder",
   "metadata": {
    "slideshow": {
     "slide_type": "subslide"
    }
   },
   "source": [
    "## 垂直合併的重複觀測值會被省略"
   ]
  },
  {
   "cell_type": "code",
   "execution_count": 6,
   "id": "comprehensive-classification",
   "metadata": {
    "slideshow": {
     "slide_type": "-"
    }
   },
   "outputs": [
    {
     "data": {
      "text/html": [
       "<table>\n",
       "<tr>\n",
       "<th>my_favorites</th>\n",
       "</tr>\n",
       "<tr>\n",
       "<td>Christopher Nolan</td>\n",
       "</tr>\n",
       "<tr>\n",
       "<td>Steven Spielberg</td>\n",
       "</tr>\n",
       "<tr>\n",
       "<td>Christopher Nolan</td>\n",
       "</tr>\n",
       "<tr>\n",
       "<td>Steven Spielberg</td>\n",
       "</tr>\n",
       "<tr>\n",
       "<td>Christopher Nolan</td>\n",
       "</tr>\n",
       "<tr>\n",
       "<td>Christopher Nolan</td>\n",
       "</tr>\n",
       "<tr>\n",
       "<td>Christopher Nolan</td>\n",
       "</tr>\n",
       "<tr>\n",
       "<td>Steven Spielberg</td>\n",
       "</tr>\n",
       "<tr>\n",
       "<td>Christopher Nolan</td>\n",
       "</tr>\n",
       "<tr>\n",
       "<td>Steven Spielberg</td>\n",
       "</tr>\n",
       "<tr>\n",
       "<td>Christopher Nolan</td>\n",
       "</tr>\n",
       "<tr>\n",
       "<td>Steven Spielberg</td>\n",
       "</tr>\n",
       "<tr>\n",
       "<td>Steven Spielberg</td>\n",
       "</tr>\n",
       "</table>\n",
       "13 rows in set (0.00 sec)"
      ],
      "text/plain": [
       "+-------------------+\n",
       "| my_favorites      |\n",
       "+-------------------+\n",
       "| Christopher Nolan |\n",
       "+-------------------+\n",
       "| Steven Spielberg  |\n",
       "+-------------------+\n",
       "| Christopher Nolan |\n",
       "+-------------------+\n",
       "| Steven Spielberg  |\n",
       "+-------------------+\n",
       "| Christopher Nolan |\n",
       "+-------------------+\n",
       "| Christopher Nolan |\n",
       "+-------------------+\n",
       "| Christopher Nolan |\n",
       "+-------------------+\n",
       "| Steven Spielberg  |\n",
       "+-------------------+\n",
       "| Christopher Nolan |\n",
       "+-------------------+\n",
       "| Steven Spielberg  |\n",
       "+-------------------+\n",
       "| Christopher Nolan |\n",
       "+-------------------+\n",
       "| Steven Spielberg  |\n",
       "+-------------------+\n",
       "| Steven Spielberg  |\n",
       "+-------------------+\n",
       "13 rows in set (0.00 sec)"
      ]
     },
     "execution_count": 6,
     "metadata": {},
     "output_type": "execute_result"
    }
   ],
   "source": [
    "SELECT director AS my_favorites\n",
    "  FROM movies\n",
    " WHERE director IN ('Christopher Nolan', 'Steven Spielberg');\n",
    "SELECT name\n",
    "  FROM actors\n",
    " WHERE name IN ('Tom Hanks', 'Leonardo DiCaprio')\n",
    " ORDER BY my_favorites;"
   ]
  },
  {
   "cell_type": "markdown",
   "id": "understood-match",
   "metadata": {
    "slideshow": {
     "slide_type": "subslide"
    }
   },
   "source": [
    "## 若希望保留重複觀測值，改使用 `UNION ALL`\n",
    "\n",
    "```sql\n",
    "A SELECT statement\n",
    "UNION ALL\n",
    "Another SELECT statement\n",
    "```"
   ]
  },
  {
   "cell_type": "code",
   "execution_count": 7,
   "id": "technical-package",
   "metadata": {
    "slideshow": {
     "slide_type": "subslide"
    }
   },
   "outputs": [
    {
     "data": {
      "text/html": [
       "<table>\n",
       "<tr>\n",
       "<th>my_favorites</th>\n",
       "</tr>\n",
       "<tr>\n",
       "<td>Christopher Nolan</td>\n",
       "</tr>\n",
       "<tr>\n",
       "<td>Christopher Nolan</td>\n",
       "</tr>\n",
       "<tr>\n",
       "<td>Christopher Nolan</td>\n",
       "</tr>\n",
       "<tr>\n",
       "<td>Christopher Nolan</td>\n",
       "</tr>\n",
       "<tr>\n",
       "<td>Christopher Nolan</td>\n",
       "</tr>\n",
       "<tr>\n",
       "<td>Christopher Nolan</td>\n",
       "</tr>\n",
       "<tr>\n",
       "<td>Christopher Nolan</td>\n",
       "</tr>\n",
       "<tr>\n",
       "<td>Leonardo DiCaprio</td>\n",
       "</tr>\n",
       "<tr>\n",
       "<td>Steven Spielberg</td>\n",
       "</tr>\n",
       "<tr>\n",
       "<td>Steven Spielberg</td>\n",
       "</tr>\n",
       "<tr>\n",
       "<td>Steven Spielberg</td>\n",
       "</tr>\n",
       "<tr>\n",
       "<td>Steven Spielberg</td>\n",
       "</tr>\n",
       "<tr>\n",
       "<td>Steven Spielberg</td>\n",
       "</tr>\n",
       "<tr>\n",
       "<td>Steven Spielberg</td>\n",
       "</tr>\n",
       "<tr>\n",
       "<td>Tom Hanks</td>\n",
       "</tr>\n",
       "</table>\n",
       "15 rows in set (0.00 sec)"
      ],
      "text/plain": [
       "+-------------------+\n",
       "| my_favorites      |\n",
       "+-------------------+\n",
       "| Christopher Nolan |\n",
       "+-------------------+\n",
       "| Christopher Nolan |\n",
       "+-------------------+\n",
       "| Christopher Nolan |\n",
       "+-------------------+\n",
       "| Christopher Nolan |\n",
       "+-------------------+\n",
       "| Christopher Nolan |\n",
       "+-------------------+\n",
       "| Christopher Nolan |\n",
       "+-------------------+\n",
       "| Christopher Nolan |\n",
       "+-------------------+\n",
       "| Leonardo DiCaprio |\n",
       "+-------------------+\n",
       "| Steven Spielberg  |\n",
       "+-------------------+\n",
       "| Steven Spielberg  |\n",
       "+-------------------+\n",
       "| Steven Spielberg  |\n",
       "+-------------------+\n",
       "| Steven Spielberg  |\n",
       "+-------------------+\n",
       "| Steven Spielberg  |\n",
       "+-------------------+\n",
       "| Steven Spielberg  |\n",
       "+-------------------+\n",
       "| Tom Hanks         |\n",
       "+-------------------+\n",
       "15 rows in set (0.00 sec)"
      ]
     },
     "execution_count": 7,
     "metadata": {},
     "output_type": "execute_result"
    }
   ],
   "source": [
    "SELECT director AS my_favorites\n",
    "  FROM movies\n",
    " WHERE director IN ('Christopher Nolan', 'Steven Spielberg')\n",
    " UNION ALL\n",
    "SELECT name\n",
    "  FROM actors\n",
    " WHERE name IN ('Tom Hanks', 'Leonardo DiCaprio')\n",
    " ORDER BY my_favorites;"
   ]
  },
  {
   "cell_type": "markdown",
   "id": "sunset-testing",
   "metadata": {
    "slideshow": {
     "slide_type": "slide"
    }
   },
   "source": [
    "## 水平合併"
   ]
  },
  {
   "cell_type": "markdown",
   "id": "tough-appreciation",
   "metadata": {
    "slideshow": {
     "slide_type": "subslide"
    }
   },
   "source": [
    "## 學習資料庫的實體關係圖（ER Diagram, Entity Relationship Diagram） \n",
    "\n",
    "- 體會關聯式資料庫的核心精神。\n",
    "- 暸解資料表之間透過如同「橋樑」般存在的**結合鍵**（Join Key）水平合併。"
   ]
  },
  {
   "cell_type": "markdown",
   "id": "occupational-frame",
   "metadata": {
    "slideshow": {
     "slide_type": "subslide"
    }
   },
   "source": [
    "## `covid19` 資料庫的實體關係圖\n",
    "\n",
    "![erd_covid19](erd_covid19.png)"
   ]
  },
  {
   "cell_type": "markdown",
   "id": "bigger-interstate",
   "metadata": {
    "slideshow": {
     "slide_type": "subslide"
    }
   },
   "source": [
    "## `imdb` 資料庫的實體關係圖\n",
    "\n",
    "![erd_imdb](erd_imdb.png)"
   ]
  },
  {
   "cell_type": "markdown",
   "id": "loving-shell",
   "metadata": {
    "slideshow": {
     "slide_type": "subslide"
    }
   },
   "source": [
    "## `nba` 資料庫的實體關係圖\n",
    "\n",
    "![erd_nba](erd_nba.png)"
   ]
  },
  {
   "cell_type": "markdown",
   "id": "capital-first",
   "metadata": {
    "slideshow": {
     "slide_type": "subslide"
    }
   },
   "source": [
    "## `twElection2020` 資料庫的實體關係圖\n",
    "\n",
    "![erd_twElection2020](erd_twElection2020.png)"
   ]
  },
  {
   "cell_type": "markdown",
   "id": "superior-dynamics",
   "metadata": {
    "slideshow": {
     "slide_type": "subslide"
    }
   },
   "source": [
    "## 以 `JOIN` 水平合併\n",
    "\n",
    "因為是「水平」合併，在 `FROM` 後的資料表被稱為「左表格」、`JOIN` 後的資料表被稱為「右表格」。\n",
    "\n",
    "```sql\n",
    "SELECT left_table.column_names,\n",
    "       right_table.column_names\n",
    "  FROM left_table\n",
    "  JOIN right_table\n",
    "    ON left_table.join_key = right_table.join_key;\n",
    "```"
   ]
  },
  {
   "cell_type": "markdown",
   "id": "afraid-cuisine",
   "metadata": {
    "slideshow": {
     "slide_type": "subslide"
    }
   },
   "source": [
    "## 水平合併簡單來說，就是結合變數\n",
    "\n",
    "![join](join.png)"
   ]
  },
  {
   "cell_type": "markdown",
   "id": "gentle-watts",
   "metadata": {
    "slideshow": {
     "slide_type": "subslide"
    }
   },
   "source": [
    "## 以 `JOIN` 水平合併 `movies` 與 `casting`"
   ]
  },
  {
   "cell_type": "code",
   "execution_count": 8,
   "id": "raising-cigarette",
   "metadata": {
    "slideshow": {
     "slide_type": "-"
    }
   },
   "outputs": [
    {
     "data": {
      "text/html": [
       "<table>\n",
       "<tr>\n",
       "<th>title</th>\n",
       "<th>actor_id</th>\n",
       "</tr>\n",
       "<tr>\n",
       "<td>The Shawshank Redemption</td>\n",
       "<td>2853</td>\n",
       "</tr>\n",
       "<tr>\n",
       "<td>The Shawshank Redemption</td>\n",
       "<td>2097</td>\n",
       "</tr>\n",
       "<tr>\n",
       "<td>The Shawshank Redemption</td>\n",
       "<td>333</td>\n",
       "</tr>\n",
       "<tr>\n",
       "<td>The Shawshank Redemption</td>\n",
       "<td>3029</td>\n",
       "</tr>\n",
       "<tr>\n",
       "<td>The Shawshank Redemption</td>\n",
       "<td>533</td>\n",
       "</tr>\n",
       "<tr>\n",
       "<td>The Shawshank Redemption</td>\n",
       "<td>1042</td>\n",
       "</tr>\n",
       "<tr>\n",
       "<td>The Shawshank Redemption</td>\n",
       "<td>1923</td>\n",
       "</tr>\n",
       "<tr>\n",
       "<td>The Shawshank Redemption</td>\n",
       "<td>1319</td>\n",
       "</tr>\n",
       "<tr>\n",
       "<td>The Shawshank Redemption</td>\n",
       "<td>1370</td>\n",
       "</tr>\n",
       "<tr>\n",
       "<td>The Shawshank Redemption</td>\n",
       "<td>1724</td>\n",
       "</tr>\n",
       "<tr>\n",
       "<td>The Shawshank Redemption</td>\n",
       "<td>2151</td>\n",
       "</tr>\n",
       "<tr>\n",
       "<td>The Shawshank Redemption</td>\n",
       "<td>363</td>\n",
       "</tr>\n",
       "<tr>\n",
       "<td>The Shawshank Redemption</td>\n",
       "<td>659</td>\n",
       "</tr>\n",
       "<tr>\n",
       "<td>The Shawshank Redemption</td>\n",
       "<td>1530</td>\n",
       "</tr>\n",
       "<tr>\n",
       "<td>The Shawshank Redemption</td>\n",
       "<td>1553</td>\n",
       "</tr>\n",
       "</table>\n",
       "15 rows in set (0.00 sec)"
      ],
      "text/plain": [
       "+--------------------------+----------+\n",
       "| title                    | actor_id |\n",
       "+--------------------------+----------+\n",
       "| The Shawshank Redemption | 2853     |\n",
       "+--------------------------+----------+\n",
       "| The Shawshank Redemption | 2097     |\n",
       "+--------------------------+----------+\n",
       "| The Shawshank Redemption | 333      |\n",
       "+--------------------------+----------+\n",
       "| The Shawshank Redemption | 3029     |\n",
       "+--------------------------+----------+\n",
       "| The Shawshank Redemption | 533      |\n",
       "+--------------------------+----------+\n",
       "| The Shawshank Redemption | 1042     |\n",
       "+--------------------------+----------+\n",
       "| The Shawshank Redemption | 1923     |\n",
       "+--------------------------+----------+\n",
       "| The Shawshank Redemption | 1319     |\n",
       "+--------------------------+----------+\n",
       "| The Shawshank Redemption | 1370     |\n",
       "+--------------------------+----------+\n",
       "| The Shawshank Redemption | 1724     |\n",
       "+--------------------------+----------+\n",
       "| The Shawshank Redemption | 2151     |\n",
       "+--------------------------+----------+\n",
       "| The Shawshank Redemption | 363      |\n",
       "+--------------------------+----------+\n",
       "| The Shawshank Redemption | 659      |\n",
       "+--------------------------+----------+\n",
       "| The Shawshank Redemption | 1530     |\n",
       "+--------------------------+----------+\n",
       "| The Shawshank Redemption | 1553     |\n",
       "+--------------------------+----------+\n",
       "15 rows in set (0.00 sec)"
      ]
     },
     "execution_count": 8,
     "metadata": {},
     "output_type": "execute_result"
    }
   ],
   "source": [
    "SELECT movies.title,\n",
    "       casting.actor_id\n",
    "  FROM movies  -- 左表格\n",
    "  JOIN casting -- 右表格\n",
    "    ON movies.id = casting.movie_id\n",
    " WHERE movies.title = 'The Shawshank Redemption';"
   ]
  },
  {
   "cell_type": "markdown",
   "id": "included-fiction",
   "metadata": {
    "slideshow": {
     "slide_type": "subslide"
    }
   },
   "source": [
    "## 以 `JOIN` 水平合併 `movies`、`casting` 與 `actors`"
   ]
  },
  {
   "cell_type": "code",
   "execution_count": 9,
   "id": "dried-aspect",
   "metadata": {
    "slideshow": {
     "slide_type": "-"
    }
   },
   "outputs": [
    {
     "data": {
      "text/html": [
       "<table>\n",
       "<tr>\n",
       "<th>title</th>\n",
       "<th>ord</th>\n",
       "<th>name</th>\n",
       "</tr>\n",
       "<tr>\n",
       "<td>The Shawshank Redemption</td>\n",
       "<td>1</td>\n",
       "<td>Tim Robbins</td>\n",
       "</tr>\n",
       "<tr>\n",
       "<td>The Shawshank Redemption</td>\n",
       "<td>2</td>\n",
       "<td>Morgan Freeman</td>\n",
       "</tr>\n",
       "<tr>\n",
       "<td>The Shawshank Redemption</td>\n",
       "<td>3</td>\n",
       "<td>Bob Gunton</td>\n",
       "</tr>\n",
       "<tr>\n",
       "<td>The Shawshank Redemption</td>\n",
       "<td>4</td>\n",
       "<td>William Sadler</td>\n",
       "</tr>\n",
       "<tr>\n",
       "<td>The Shawshank Redemption</td>\n",
       "<td>5</td>\n",
       "<td>Clancy Brown</td>\n",
       "</tr>\n",
       "<tr>\n",
       "<td>The Shawshank Redemption</td>\n",
       "<td>6</td>\n",
       "<td>Gil Bellows</td>\n",
       "</tr>\n",
       "<tr>\n",
       "<td>The Shawshank Redemption</td>\n",
       "<td>7</td>\n",
       "<td>Mark Rolston</td>\n",
       "</tr>\n",
       "<tr>\n",
       "<td>The Shawshank Redemption</td>\n",
       "<td>8</td>\n",
       "<td>James Whitmore</td>\n",
       "</tr>\n",
       "<tr>\n",
       "<td>The Shawshank Redemption</td>\n",
       "<td>9</td>\n",
       "<td>Jeffrey DeMunn</td>\n",
       "</tr>\n",
       "<tr>\n",
       "<td>The Shawshank Redemption</td>\n",
       "<td>10</td>\n",
       "<td>Larry Brandenburg</td>\n",
       "</tr>\n",
       "<tr>\n",
       "<td>The Shawshank Redemption</td>\n",
       "<td>11</td>\n",
       "<td>Neil Giuntoli</td>\n",
       "</tr>\n",
       "<tr>\n",
       "<td>The Shawshank Redemption</td>\n",
       "<td>12</td>\n",
       "<td>Brian Libby</td>\n",
       "</tr>\n",
       "<tr>\n",
       "<td>The Shawshank Redemption</td>\n",
       "<td>13</td>\n",
       "<td>David Proval</td>\n",
       "</tr>\n",
       "<tr>\n",
       "<td>The Shawshank Redemption</td>\n",
       "<td>14</td>\n",
       "<td>Joseph Ragno</td>\n",
       "</tr>\n",
       "<tr>\n",
       "<td>The Shawshank Redemption</td>\n",
       "<td>15</td>\n",
       "<td>Jude Ciccolella</td>\n",
       "</tr>\n",
       "</table>\n",
       "15 rows in set (0.00 sec)"
      ],
      "text/plain": [
       "+--------------------------+-----+-------------------+\n",
       "| title                    | ord | name              |\n",
       "+--------------------------+-----+-------------------+\n",
       "| The Shawshank Redemption | 1   | Tim Robbins       |\n",
       "+--------------------------+-----+-------------------+\n",
       "| The Shawshank Redemption | 2   | Morgan Freeman    |\n",
       "+--------------------------+-----+-------------------+\n",
       "| The Shawshank Redemption | 3   | Bob Gunton        |\n",
       "+--------------------------+-----+-------------------+\n",
       "| The Shawshank Redemption | 4   | William Sadler    |\n",
       "+--------------------------+-----+-------------------+\n",
       "| The Shawshank Redemption | 5   | Clancy Brown      |\n",
       "+--------------------------+-----+-------------------+\n",
       "| The Shawshank Redemption | 6   | Gil Bellows       |\n",
       "+--------------------------+-----+-------------------+\n",
       "| The Shawshank Redemption | 7   | Mark Rolston      |\n",
       "+--------------------------+-----+-------------------+\n",
       "| The Shawshank Redemption | 8   | James Whitmore    |\n",
       "+--------------------------+-----+-------------------+\n",
       "| The Shawshank Redemption | 9   | Jeffrey DeMunn    |\n",
       "+--------------------------+-----+-------------------+\n",
       "| The Shawshank Redemption | 10  | Larry Brandenburg |\n",
       "+--------------------------+-----+-------------------+\n",
       "| The Shawshank Redemption | 11  | Neil Giuntoli     |\n",
       "+--------------------------+-----+-------------------+\n",
       "| The Shawshank Redemption | 12  | Brian Libby       |\n",
       "+--------------------------+-----+-------------------+\n",
       "| The Shawshank Redemption | 13  | David Proval      |\n",
       "+--------------------------+-----+-------------------+\n",
       "| The Shawshank Redemption | 14  | Joseph Ragno      |\n",
       "+--------------------------+-----+-------------------+\n",
       "| The Shawshank Redemption | 15  | Jude Ciccolella   |\n",
       "+--------------------------+-----+-------------------+\n",
       "15 rows in set (0.00 sec)"
      ]
     },
     "execution_count": 9,
     "metadata": {},
     "output_type": "execute_result"
    }
   ],
   "source": [
    "SELECT movies.title,\n",
    "       casting.ord,\n",
    "       actors.name\n",
    "  FROM movies   -- 左表格\n",
    "  JOIN casting  -- 右一表格\n",
    "    ON movies.id = casting.movie_id\n",
    "  JOIN actors   -- 右二表格\n",
    "    ON casting.actor_id = actors.id\n",
    " WHERE movies.title = 'The Shawshank Redemption';"
   ]
  },
  {
   "cell_type": "markdown",
   "id": "balanced-wound",
   "metadata": {
    "slideshow": {
     "slide_type": "subslide"
    }
   },
   "source": [
    "## 使用 `JOIN` 水平合併資料表時的注意事項\n",
    "\n",
    "- 養成為水平合併的資料表取別名並在欄位名稱前註明清楚的好習慣。\n",
    "- 除了實體資料表亦可使用子查詢生成的結果作為合併來源。\n",
    "- 預設保留左表格與右表格**交集**的觀測值。"
   ]
  },
  {
   "cell_type": "markdown",
   "id": "auburn-accused",
   "metadata": {
    "slideshow": {
     "slide_type": "subslide"
    }
   },
   "source": [
    "## 養成為水平合併的資料表取別名並在欄位名稱前註明清楚的好習慣\n",
    "\n",
    "舉例來說，在 `movies` 與 `actors` 兩個資料表中都有 `id` 欄位。\n",
    "\n",
    "- `movies.id` 指的是電影編號。\n",
    "- `actors.id` 指的是演員編號。"
   ]
  },
  {
   "cell_type": "markdown",
   "id": "center-block",
   "metadata": {
    "slideshow": {
     "slide_type": "subslide"
    }
   },
   "source": [
    "## 如果沒有註明 id 來自哪個資料表會產生錯誤\n",
    "\n",
    "```sql\n",
    "SELECT title,\n",
    "       ord,\n",
    "       name\n",
    "  FROM movies\n",
    "  JOIN casting\n",
    "    ON id = movie_id\n",
    "  JOIN actors\n",
    "    ON actor_id = id\n",
    " WHERE title = 'The Shawshank Redemption';\n",
    "```"
   ]
  },
  {
   "cell_type": "code",
   "execution_count": null,
   "id": "numerical-probe",
   "metadata": {
    "slideshow": {
     "slide_type": "subslide"
    }
   },
   "outputs": [],
   "source": []
  },
  {
   "cell_type": "markdown",
   "id": "solved-graduation",
   "metadata": {
    "slideshow": {
     "slide_type": "subslide"
    }
   },
   "source": [
    "## 除了實體資料表亦可使用子查詢生成的結果作為合併來源"
   ]
  },
  {
   "cell_type": "code",
   "execution_count": 10,
   "id": "average-shopper",
   "metadata": {
    "slideshow": {
     "slide_type": "subslide"
    }
   },
   "outputs": [
    {
     "data": {
      "text/html": [
       "<table>\n",
       "<tr>\n",
       "<th>title</th>\n",
       "<th>ord</th>\n",
       "<th>name</th>\n",
       "</tr>\n",
       "<tr>\n",
       "<td>The Shawshank Redemption</td>\n",
       "<td>1</td>\n",
       "<td>Tim Robbins</td>\n",
       "</tr>\n",
       "<tr>\n",
       "<td>Forrest Gump</td>\n",
       "<td>1</td>\n",
       "<td>Tom Hanks</td>\n",
       "</tr>\n",
       "<tr>\n",
       "<td>The Shawshank Redemption</td>\n",
       "<td>2</td>\n",
       "<td>Morgan Freeman</td>\n",
       "</tr>\n",
       "<tr>\n",
       "<td>Forrest Gump</td>\n",
       "<td>2</td>\n",
       "<td>Rebecca Williams</td>\n",
       "</tr>\n",
       "<tr>\n",
       "<td>The Shawshank Redemption</td>\n",
       "<td>3</td>\n",
       "<td>Bob Gunton</td>\n",
       "</tr>\n",
       "<tr>\n",
       "<td>Forrest Gump</td>\n",
       "<td>3</td>\n",
       "<td>Sally Field</td>\n",
       "</tr>\n",
       "<tr>\n",
       "<td>The Shawshank Redemption</td>\n",
       "<td>4</td>\n",
       "<td>William Sadler</td>\n",
       "</tr>\n",
       "<tr>\n",
       "<td>Forrest Gump</td>\n",
       "<td>4</td>\n",
       "<td>Michael Conner Humphreys</td>\n",
       "</tr>\n",
       "<tr>\n",
       "<td>The Shawshank Redemption</td>\n",
       "<td>5</td>\n",
       "<td>Clancy Brown</td>\n",
       "</tr>\n",
       "<tr>\n",
       "<td>Forrest Gump</td>\n",
       "<td>5</td>\n",
       "<td>Harold G. Herthum</td>\n",
       "</tr>\n",
       "<tr>\n",
       "<td>The Shawshank Redemption</td>\n",
       "<td>6</td>\n",
       "<td>Gil Bellows</td>\n",
       "</tr>\n",
       "<tr>\n",
       "<td>Forrest Gump</td>\n",
       "<td>6</td>\n",
       "<td>George Kelly</td>\n",
       "</tr>\n",
       "<tr>\n",
       "<td>The Shawshank Redemption</td>\n",
       "<td>7</td>\n",
       "<td>Mark Rolston</td>\n",
       "</tr>\n",
       "<tr>\n",
       "<td>Forrest Gump</td>\n",
       "<td>7</td>\n",
       "<td>Bob Penny</td>\n",
       "</tr>\n",
       "<tr>\n",
       "<td>The Shawshank Redemption</td>\n",
       "<td>8</td>\n",
       "<td>James Whitmore</td>\n",
       "</tr>\n",
       "<tr>\n",
       "<td>Forrest Gump</td>\n",
       "<td>8</td>\n",
       "<td>John Randall</td>\n",
       "</tr>\n",
       "<tr>\n",
       "<td>The Shawshank Redemption</td>\n",
       "<td>9</td>\n",
       "<td>Jeffrey DeMunn</td>\n",
       "</tr>\n",
       "<tr>\n",
       "<td>Forrest Gump</td>\n",
       "<td>9</td>\n",
       "<td>Sam Anderson</td>\n",
       "</tr>\n",
       "<tr>\n",
       "<td>The Shawshank Redemption</td>\n",
       "<td>10</td>\n",
       "<td>Larry Brandenburg</td>\n",
       "</tr>\n",
       "<tr>\n",
       "<td>Forrest Gump</td>\n",
       "<td>10</td>\n",
       "<td>Margo Moorer</td>\n",
       "</tr>\n",
       "<tr>\n",
       "<td>The Shawshank Redemption</td>\n",
       "<td>11</td>\n",
       "<td>Neil Giuntoli</td>\n",
       "</tr>\n",
       "<tr>\n",
       "<td>Forrest Gump</td>\n",
       "<td>11</td>\n",
       "<td>Ione M. Telech</td>\n",
       "</tr>\n",
       "<tr>\n",
       "<td>The Shawshank Redemption</td>\n",
       "<td>12</td>\n",
       "<td>Brian Libby</td>\n",
       "</tr>\n",
       "<tr>\n",
       "<td>Forrest Gump</td>\n",
       "<td>12</td>\n",
       "<td>Christine Seabrook</td>\n",
       "</tr>\n",
       "<tr>\n",
       "<td>The Shawshank Redemption</td>\n",
       "<td>13</td>\n",
       "<td>David Proval</td>\n",
       "</tr>\n",
       "<tr>\n",
       "<td>Forrest Gump</td>\n",
       "<td>13</td>\n",
       "<td>John Worsham</td>\n",
       "</tr>\n",
       "<tr>\n",
       "<td>The Shawshank Redemption</td>\n",
       "<td>14</td>\n",
       "<td>Joseph Ragno</td>\n",
       "</tr>\n",
       "<tr>\n",
       "<td>Forrest Gump</td>\n",
       "<td>14</td>\n",
       "<td>Peter Dobson</td>\n",
       "</tr>\n",
       "<tr>\n",
       "<td>The Shawshank Redemption</td>\n",
       "<td>15</td>\n",
       "<td>Jude Ciccolella</td>\n",
       "</tr>\n",
       "<tr>\n",
       "<td>Forrest Gump</td>\n",
       "<td>15</td>\n",
       "<td>Siobhan Fallon Hogan</td>\n",
       "</tr>\n",
       "</table>\n",
       "30 rows in set (0.00 sec)"
      ],
      "text/plain": [
       "+--------------------------+-----+--------------------------+\n",
       "| title                    | ord | name                     |\n",
       "+--------------------------+-----+--------------------------+\n",
       "| The Shawshank Redemption | 1   | Tim Robbins              |\n",
       "+--------------------------+-----+--------------------------+\n",
       "| Forrest Gump             | 1   | Tom Hanks                |\n",
       "+--------------------------+-----+--------------------------+\n",
       "| The Shawshank Redemption | 2   | Morgan Freeman           |\n",
       "+--------------------------+-----+--------------------------+\n",
       "| Forrest Gump             | 2   | Rebecca Williams         |\n",
       "+--------------------------+-----+--------------------------+\n",
       "| The Shawshank Redemption | 3   | Bob Gunton               |\n",
       "+--------------------------+-----+--------------------------+\n",
       "| Forrest Gump             | 3   | Sally Field              |\n",
       "+--------------------------+-----+--------------------------+\n",
       "| The Shawshank Redemption | 4   | William Sadler           |\n",
       "+--------------------------+-----+--------------------------+\n",
       "| Forrest Gump             | 4   | Michael Conner Humphreys |\n",
       "+--------------------------+-----+--------------------------+\n",
       "| The Shawshank Redemption | 5   | Clancy Brown             |\n",
       "+--------------------------+-----+--------------------------+\n",
       "| Forrest Gump             | 5   | Harold G. Herthum        |\n",
       "+--------------------------+-----+--------------------------+\n",
       "| The Shawshank Redemption | 6   | Gil Bellows              |\n",
       "+--------------------------+-----+--------------------------+\n",
       "| Forrest Gump             | 6   | George Kelly             |\n",
       "+--------------------------+-----+--------------------------+\n",
       "| The Shawshank Redemption | 7   | Mark Rolston             |\n",
       "+--------------------------+-----+--------------------------+\n",
       "| Forrest Gump             | 7   | Bob Penny                |\n",
       "+--------------------------+-----+--------------------------+\n",
       "| The Shawshank Redemption | 8   | James Whitmore           |\n",
       "+--------------------------+-----+--------------------------+\n",
       "| Forrest Gump             | 8   | John Randall             |\n",
       "+--------------------------+-----+--------------------------+\n",
       "| The Shawshank Redemption | 9   | Jeffrey DeMunn           |\n",
       "+--------------------------+-----+--------------------------+\n",
       "| Forrest Gump             | 9   | Sam Anderson             |\n",
       "+--------------------------+-----+--------------------------+\n",
       "| The Shawshank Redemption | 10  | Larry Brandenburg        |\n",
       "+--------------------------+-----+--------------------------+\n",
       "| Forrest Gump             | 10  | Margo Moorer             |\n",
       "+--------------------------+-----+--------------------------+\n",
       "| The Shawshank Redemption | 11  | Neil Giuntoli            |\n",
       "+--------------------------+-----+--------------------------+\n",
       "| Forrest Gump             | 11  | Ione M. Telech           |\n",
       "+--------------------------+-----+--------------------------+\n",
       "| The Shawshank Redemption | 12  | Brian Libby              |\n",
       "+--------------------------+-----+--------------------------+\n",
       "| Forrest Gump             | 12  | Christine Seabrook       |\n",
       "+--------------------------+-----+--------------------------+\n",
       "| The Shawshank Redemption | 13  | David Proval             |\n",
       "+--------------------------+-----+--------------------------+\n",
       "| Forrest Gump             | 13  | John Worsham             |\n",
       "+--------------------------+-----+--------------------------+\n",
       "| The Shawshank Redemption | 14  | Joseph Ragno             |\n",
       "+--------------------------+-----+--------------------------+\n",
       "| Forrest Gump             | 14  | Peter Dobson             |\n",
       "+--------------------------+-----+--------------------------+\n",
       "| The Shawshank Redemption | 15  | Jude Ciccolella          |\n",
       "+--------------------------+-----+--------------------------+\n",
       "| Forrest Gump             | 15  | Siobhan Fallon Hogan     |\n",
       "+--------------------------+-----+--------------------------+\n",
       "30 rows in set (0.00 sec)"
      ]
     },
     "execution_count": 10,
     "metadata": {},
     "output_type": "execute_result"
    }
   ],
   "source": [
    "SELECT subquery_movies.title,\n",
    "       casting.ord,\n",
    "       actors.name\n",
    "  FROM (SELECT id,\n",
    "               title,\n",
    "               director\n",
    "          FROM movies\n",
    "         WHERE title IN ('The Shawshank Redemption', 'Forrest Gump')) AS subquery_movies -- 左表格\n",
    "  JOIN casting  -- 右一表格\n",
    "    ON subquery_movies.id = casting.movie_id\n",
    "  JOIN actors   -- 右二表格\n",
    "    ON casting.actor_id = actors.id\n",
    " ORDER BY ord;"
   ]
  },
  {
   "cell_type": "markdown",
   "id": "tracked-pregnancy",
   "metadata": {
    "slideshow": {
     "slide_type": "subslide"
    }
   },
   "source": [
    "## 預設保留左表格與右表格交集的觀測值"
   ]
  },
  {
   "cell_type": "code",
   "execution_count": 11,
   "id": "leading-fever",
   "metadata": {
    "slideshow": {
     "slide_type": "-"
    }
   },
   "outputs": [
    {
     "data": {
      "text/html": [
       "<table>\n",
       "<tr>\n",
       "<th>title</th>\n",
       "<th>actor_id</th>\n",
       "</tr>\n",
       "<tr>\n",
       "<td>The Shawshank Redemption</td>\n",
       "<td>2853</td>\n",
       "</tr>\n",
       "<tr>\n",
       "<td>The Shawshank Redemption</td>\n",
       "<td>2097</td>\n",
       "</tr>\n",
       "<tr>\n",
       "<td>The Shawshank Redemption</td>\n",
       "<td>333</td>\n",
       "</tr>\n",
       "<tr>\n",
       "<td>The Shawshank Redemption</td>\n",
       "<td>3029</td>\n",
       "</tr>\n",
       "<tr>\n",
       "<td>The Shawshank Redemption</td>\n",
       "<td>533</td>\n",
       "</tr>\n",
       "<tr>\n",
       "<td>The Shawshank Redemption</td>\n",
       "<td>1042</td>\n",
       "</tr>\n",
       "<tr>\n",
       "<td>The Shawshank Redemption</td>\n",
       "<td>1923</td>\n",
       "</tr>\n",
       "<tr>\n",
       "<td>The Shawshank Redemption</td>\n",
       "<td>1319</td>\n",
       "</tr>\n",
       "<tr>\n",
       "<td>The Shawshank Redemption</td>\n",
       "<td>1370</td>\n",
       "</tr>\n",
       "<tr>\n",
       "<td>The Shawshank Redemption</td>\n",
       "<td>1724</td>\n",
       "</tr>\n",
       "<tr>\n",
       "<td>The Shawshank Redemption</td>\n",
       "<td>2151</td>\n",
       "</tr>\n",
       "<tr>\n",
       "<td>The Shawshank Redemption</td>\n",
       "<td>363</td>\n",
       "</tr>\n",
       "<tr>\n",
       "<td>The Shawshank Redemption</td>\n",
       "<td>659</td>\n",
       "</tr>\n",
       "<tr>\n",
       "<td>The Shawshank Redemption</td>\n",
       "<td>1530</td>\n",
       "</tr>\n",
       "<tr>\n",
       "<td>The Shawshank Redemption</td>\n",
       "<td>1553</td>\n",
       "</tr>\n",
       "</table>\n",
       "15 rows in set (0.00 sec)"
      ],
      "text/plain": [
       "+--------------------------+----------+\n",
       "| title                    | actor_id |\n",
       "+--------------------------+----------+\n",
       "| The Shawshank Redemption | 2853     |\n",
       "+--------------------------+----------+\n",
       "| The Shawshank Redemption | 2097     |\n",
       "+--------------------------+----------+\n",
       "| The Shawshank Redemption | 333      |\n",
       "+--------------------------+----------+\n",
       "| The Shawshank Redemption | 3029     |\n",
       "+--------------------------+----------+\n",
       "| The Shawshank Redemption | 533      |\n",
       "+--------------------------+----------+\n",
       "| The Shawshank Redemption | 1042     |\n",
       "+--------------------------+----------+\n",
       "| The Shawshank Redemption | 1923     |\n",
       "+--------------------------+----------+\n",
       "| The Shawshank Redemption | 1319     |\n",
       "+--------------------------+----------+\n",
       "| The Shawshank Redemption | 1370     |\n",
       "+--------------------------+----------+\n",
       "| The Shawshank Redemption | 1724     |\n",
       "+--------------------------+----------+\n",
       "| The Shawshank Redemption | 2151     |\n",
       "+--------------------------+----------+\n",
       "| The Shawshank Redemption | 363      |\n",
       "+--------------------------+----------+\n",
       "| The Shawshank Redemption | 659      |\n",
       "+--------------------------+----------+\n",
       "| The Shawshank Redemption | 1530     |\n",
       "+--------------------------+----------+\n",
       "| The Shawshank Redemption | 1553     |\n",
       "+--------------------------+----------+\n",
       "15 rows in set (0.00 sec)"
      ]
     },
     "execution_count": 11,
     "metadata": {},
     "output_type": "execute_result"
    }
   ],
   "source": [
    "SELECT two_movies.title,\n",
    "       two_castings.actor_id\n",
    "  -- 左表格是刺激1995與阿甘正傳的電影資料\n",
    "  FROM (SELECT *\n",
    "          FROM movies\n",
    "         WHERE title IN ('The Shawshank Redemption', 'Forrest Gump')) AS two_movies\n",
    "  -- 右表格是刺激1995與黑暗騎士的演員名單資料\n",
    "  JOIN (SELECT *\n",
    "          FROM casting\n",
    "         WHERE movie_id IN (1, 4)) AS two_castings\n",
    "    ON two_movies.id = two_castings.movie_id\n",
    " ORDER BY two_movies.title;"
   ]
  },
  {
   "cell_type": "markdown",
   "id": "characteristic-telescope",
   "metadata": {
    "slideshow": {
     "slide_type": "subslide"
    }
   },
   "source": [
    "## 若希望保留以左表格為主的觀測值，改使用 `LEFT JOIN`\n",
    "\n",
    "```sql\n",
    "SELECT left_table.column_names,\n",
    "       right_table.column_names\n",
    "  FROM table_name AS left_table\n",
    "  LEFT JOIN table_name AS right_table\n",
    "    ON left_table.join_key = right_table.join_key;\n",
    "```"
   ]
  },
  {
   "cell_type": "code",
   "execution_count": 12,
   "id": "confidential-airline",
   "metadata": {
    "slideshow": {
     "slide_type": "subslide"
    }
   },
   "outputs": [
    {
     "data": {
      "text/html": [
       "<table>\n",
       "<tr>\n",
       "<th>title</th>\n",
       "<th>actor_id</th>\n",
       "</tr>\n",
       "<tr>\n",
       "<td>Forrest Gump</td>\n",
       "<td>NULL</td>\n",
       "</tr>\n",
       "<tr>\n",
       "<td>The Shawshank Redemption</td>\n",
       "<td>333</td>\n",
       "</tr>\n",
       "<tr>\n",
       "<td>The Shawshank Redemption</td>\n",
       "<td>363</td>\n",
       "</tr>\n",
       "<tr>\n",
       "<td>The Shawshank Redemption</td>\n",
       "<td>533</td>\n",
       "</tr>\n",
       "<tr>\n",
       "<td>The Shawshank Redemption</td>\n",
       "<td>659</td>\n",
       "</tr>\n",
       "<tr>\n",
       "<td>The Shawshank Redemption</td>\n",
       "<td>1042</td>\n",
       "</tr>\n",
       "<tr>\n",
       "<td>The Shawshank Redemption</td>\n",
       "<td>1319</td>\n",
       "</tr>\n",
       "<tr>\n",
       "<td>The Shawshank Redemption</td>\n",
       "<td>1370</td>\n",
       "</tr>\n",
       "<tr>\n",
       "<td>The Shawshank Redemption</td>\n",
       "<td>1530</td>\n",
       "</tr>\n",
       "<tr>\n",
       "<td>The Shawshank Redemption</td>\n",
       "<td>1553</td>\n",
       "</tr>\n",
       "<tr>\n",
       "<td>The Shawshank Redemption</td>\n",
       "<td>1724</td>\n",
       "</tr>\n",
       "<tr>\n",
       "<td>The Shawshank Redemption</td>\n",
       "<td>1923</td>\n",
       "</tr>\n",
       "<tr>\n",
       "<td>The Shawshank Redemption</td>\n",
       "<td>2097</td>\n",
       "</tr>\n",
       "<tr>\n",
       "<td>The Shawshank Redemption</td>\n",
       "<td>2151</td>\n",
       "</tr>\n",
       "<tr>\n",
       "<td>The Shawshank Redemption</td>\n",
       "<td>2853</td>\n",
       "</tr>\n",
       "<tr>\n",
       "<td>The Shawshank Redemption</td>\n",
       "<td>3029</td>\n",
       "</tr>\n",
       "</table>\n",
       "16 rows in set (0.01 sec)"
      ],
      "text/plain": [
       "+--------------------------+----------+\n",
       "| title                    | actor_id |\n",
       "+--------------------------+----------+\n",
       "| Forrest Gump             | NULL     |\n",
       "+--------------------------+----------+\n",
       "| The Shawshank Redemption | 333      |\n",
       "+--------------------------+----------+\n",
       "| The Shawshank Redemption | 363      |\n",
       "+--------------------------+----------+\n",
       "| The Shawshank Redemption | 533      |\n",
       "+--------------------------+----------+\n",
       "| The Shawshank Redemption | 659      |\n",
       "+--------------------------+----------+\n",
       "| The Shawshank Redemption | 1042     |\n",
       "+--------------------------+----------+\n",
       "| The Shawshank Redemption | 1319     |\n",
       "+--------------------------+----------+\n",
       "| The Shawshank Redemption | 1370     |\n",
       "+--------------------------+----------+\n",
       "| The Shawshank Redemption | 1530     |\n",
       "+--------------------------+----------+\n",
       "| The Shawshank Redemption | 1553     |\n",
       "+--------------------------+----------+\n",
       "| The Shawshank Redemption | 1724     |\n",
       "+--------------------------+----------+\n",
       "| The Shawshank Redemption | 1923     |\n",
       "+--------------------------+----------+\n",
       "| The Shawshank Redemption | 2097     |\n",
       "+--------------------------+----------+\n",
       "| The Shawshank Redemption | 2151     |\n",
       "+--------------------------+----------+\n",
       "| The Shawshank Redemption | 2853     |\n",
       "+--------------------------+----------+\n",
       "| The Shawshank Redemption | 3029     |\n",
       "+--------------------------+----------+\n",
       "16 rows in set (0.01 sec)"
      ]
     },
     "execution_count": 12,
     "metadata": {},
     "output_type": "execute_result"
    }
   ],
   "source": [
    "SELECT two_movies.title,\n",
    "       two_castings.actor_id\n",
    "  -- 左表格是刺激1995與阿甘正傳的電影資料\n",
    "  FROM (SELECT *\n",
    "          FROM movies\n",
    "         WHERE title IN ('The Shawshank Redemption', 'Forrest Gump')) AS two_movies\n",
    "  -- 右表格是刺激1995與黑暗騎士的名單資料\n",
    "  LEFT JOIN (SELECT *\n",
    "               FROM casting\n",
    "              WHERE movie_id IN (1, 4)) AS two_castings\n",
    "    ON two_movies.id = two_castings.movie_id\n",
    " ORDER BY two_movies.title;"
   ]
  },
  {
   "cell_type": "markdown",
   "id": "understanding-sudan",
   "metadata": {
    "slideshow": {
     "slide_type": "slide"
    }
   },
   "source": [
    "## 重點統整\n",
    "\n",
    "- 我們的查詢範圍開始由「單個」資料表擴展至「多個」資料表。\n",
    "- 資料表能夠用兩個方向關聯：\n",
    "    - 垂直合併\n",
    "    - 水平合併"
   ]
  },
  {
   "cell_type": "markdown",
   "id": "accepting-witch",
   "metadata": {
    "slideshow": {
     "slide_type": "subslide"
    }
   },
   "source": [
    "## 重點統整（續）\n",
    "\n",
    "- 使用 `UNION` 垂直合併的注意事項\n",
    "    - 垂直合併的欄位數要相同。\n",
    "    - 垂直合併的 SQL 若有使用到 `ORDER BY` 只能放在 `UNION` 之後。\n",
    "    - 垂直合併的重複觀測值會被省略。\n",
    "    - 若希望保留重複觀測值，改使用 `UNION ALL`。"
   ]
  },
  {
   "cell_type": "markdown",
   "id": "closing-insider",
   "metadata": {
    "slideshow": {
     "slide_type": "subslide"
    }
   },
   "source": [
    "## 重點統整（續）\n",
    "\n",
    "- 使用 `JOIN` 水平合併的注意事項\n",
    "    - 養成為水平合併的資料表取別名並在欄位名稱前註明清楚的好習慣。\n",
    "    - 除了實體資料表亦可使用子查詢生成的結果作為合併來源。\n",
    "    - 預設保留左表格與右表格交集的觀測值。\n",
    "    - 若希望保留以左表格為主的觀測值，改使用 `LEFT JOIN`。"
   ]
  },
  {
   "cell_type": "code",
   "execution_count": null,
   "id": "pacific-currency",
   "metadata": {
    "slideshow": {
     "slide_type": "subslide"
    }
   },
   "outputs": [],
   "source": [
    "/*截至目前學起來的 SQL 有哪些？\n",
    "SQL 寫作順序必須遵從標準 SQL 的規定。*/\n",
    "SELECT column_names     -- 選擇哪些欄位\n",
    "  FROM left_table       -- 從哪個資料庫的資料表\n",
    "  JOIN right_table      -- 與哪個資料表水平合併\n",
    "    ON left_table.join_key = right_table.join_key\n",
    " WHERE conditions       -- 篩選哪些觀測值\n",
    " GROUP BY column_names  -- 指定依照哪個變數分組\n",
    "HAVING conditions       -- 篩選哪些分組聚合的結果\n",
    " UNION SELECT statement -- 與哪段 SQL 垂直合併\n",
    " ORDER BY column_names  -- 指定依照哪個變數排序\n",
    " LIMIT m;               -- 查詢結果顯示前 m 列就好"
   ]
  }
 ],
 "metadata": {
  "celltoolbar": "Slideshow",
  "kernelspec": {
   "display_name": "xsql",
   "language": "sqlite",
   "name": "xsql"
  },
  "language_info": {
   "codemirror_mode": "sql",
   "file_extension": "",
   "mimetype": "",
   "name": "mysql",
   "version": "0.0.8"
  }
 },
 "nbformat": 4,
 "nbformat_minor": 5
}
