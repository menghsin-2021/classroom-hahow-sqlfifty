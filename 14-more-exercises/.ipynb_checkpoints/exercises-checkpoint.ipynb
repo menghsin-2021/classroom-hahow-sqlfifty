{
 "cells": [
  {
   "cell_type": "markdown",
   "metadata": {
    "deletable": false,
    "editable": false
   },
   "source": [
    "# SQL 的五十道練習\n",
    "\n",
    "> 綜合練習題\n",
    "\n",
    "[數據交點](https://www.datainpoint.com) | 郭耀仁 <yaojenkuo@datainpoint.com>"
   ]
  },
  {
   "cell_type": "markdown",
   "metadata": {
    "deletable": false,
    "editable": false
   },
   "source": [
    "## 練習題指引\n",
    "\n",
    "- 在每份練習題的開始，都會先將四個學習資料庫載入環境。\n",
    "- 因此 SQL 可以指定四個學習資料庫中的資料表，不需要額外指定資料庫。\n",
    "- 在 SQL 語法起點與 SQL 語法終點這兩個單行註解之間撰寫能夠得到預期結果的 SQL。\n",
    "- 可以先在自己電腦的 SQLiteStudio 或者 DBeaver 寫出跟預期結果相同的 SQL 後再複製貼上到練習題。\n",
    "- 執行測試的方式為點選上方選單的 Kernel -> Restart & Run All -> Restart and Run All Cells。\n",
    "- 可以每寫一題就執行測試，也可以全部寫完再執行測試。\n",
    "- 練習題閒置超過 10 分鐘會自動斷線，這時只要重新點選練習題連結即可重新啟動。"
   ]
  },
  {
   "cell_type": "code",
   "execution_count": 1,
   "metadata": {
    "deletable": false,
    "editable": false
   },
   "outputs": [
    {
     "data": {
      "text/plain": [
       "<sqlite3.Cursor at 0x189d5b6e420>"
      ]
     },
     "execution_count": 1,
     "metadata": {},
     "output_type": "execute_result"
    }
   ],
   "source": [
    "import sqlite3\n",
    "import unittest\n",
    "import json\n",
    "import os\n",
    "import numpy as np\n",
    "import pandas as pd\n",
    "conn = sqlite3.connect('../databases/nba.db')\n",
    "conn.execute(\"\"\"ATTACH '../databases/covid19.db' AS covid19\"\"\")\n",
    "conn.execute(\"\"\"ATTACH '../databases/twElection2020.db' AS twElection2020\"\"\")\n",
    "conn.execute(\"\"\"ATTACH '../databases/imdb.db' AS imdb\"\"\")"
   ]
  },
  {
   "cell_type": "markdown",
   "metadata": {},
   "source": [
    "## 46. 從 `covid19` 資料庫查詢兩艘郵輪（Grand Princess 與 Diamond Princess）的資訊，參考下列的預期查詢結果。\n",
    "\n",
    "- 預期輸入：SQL 查詢語法。\n",
    "- 預期輸出：(4, 4) 的查詢結果。\n",
    "\n",
    "```\n",
    "  iso2 Country_Region    Province_State  Confirmed\n",
    "0   CA         Canada  Diamond Princess          0\n",
    "1   CA         Canada    Grand Princess         13\n",
    "2   US             US  Diamond Princess         49\n",
    "3   US             US    Grand Princess        103\n",
    "```"
   ]
  },
  {
   "cell_type": "code",
   "execution_count": 2,
   "metadata": {},
   "outputs": [],
   "source": [
    "find_cruise_ships_from_covid19 =\\\n",
    "\"\"\"\n",
    "-- SQL 查詢語法起點\n",
    "\n",
    "-- SQL 查詢語法終點\n",
    "\"\"\""
   ]
  },
  {
   "cell_type": "markdown",
   "metadata": {},
   "source": [
    "## 47. 從 `covid19` 資料庫查詢截至 2021-03-31 所有國家確診與死亡人數的資訊，參考下列的預期查詢結果。\n",
    "\n",
    "- 預期輸入：SQL 查詢語法。\n",
    "- 預期輸出：(192, 3) 的查詢結果。\n",
    "\n",
    "```\n",
    "         Country_Region  Confirmed  Deaths\n",
    "0           Afghanistan      56454    2484\n",
    "1               Albania     125157    2235\n",
    "2               Algeria     117192    3093\n",
    "3               Andorra      12010     115\n",
    "4                Angola      22311     537\n",
    "..                  ...        ...     ...\n",
    "187             Vietnam       2603      35\n",
    "188  West Bank and Gaza     242353    2627\n",
    "189               Yemen       4357     888\n",
    "190              Zambia      88418    1208\n",
    "191            Zimbabwe      36882    1523\n",
    "\n",
    "[192 rows x 3 columns]\n",
    "```"
   ]
  },
  {
   "cell_type": "code",
   "execution_count": 3,
   "metadata": {},
   "outputs": [],
   "source": [
    "summarize_confirmed_deaths_by_country_from_covid19 =\\\n",
    "\"\"\"\n",
    "-- SQL 查詢語法起點\n",
    "\n",
    "-- SQL 查詢語法終點\n",
    "\"\"\""
   ]
  },
  {
   "cell_type": "markdown",
   "metadata": {},
   "source": [
    "## 48. 從 `imdb` 資料庫查詢「魔戒三部曲」與「蝙蝠俠三部曲」的電影資訊與演員名單，三部曲電影系列中演員重複出演的情況是正常的，這時顯示獨一值即可，參考下列的預期查詢結果。\n",
    "\n",
    "- 預期輸入：SQL 查詢語法。\n",
    "- 預期輸出：(66, 2) 的查詢結果。\n",
    "\n",
    "```\n",
    "                          trilogy                  name\n",
    "0                  Batman Trilogy         Aaron Eckhart\n",
    "1                  Batman Trilogy          Aidan Gillen\n",
    "2                  Batman Trilogy        Alon Aboutboul\n",
    "3                  Batman Trilogy         Anne Hathaway\n",
    "4                  Batman Trilogy  Anthony Michael Hall\n",
    "..                            ...                   ...\n",
    "61  The Lord of the Rings Trilogy         Sadwyn Brophy\n",
    "62  The Lord of the Rings Trilogy            Sala Baker\n",
    "63  The Lord of the Rings Trilogy            Sam Comery\n",
    "64  The Lord of the Rings Trilogy            Sean Astin\n",
    "65  The Lord of the Rings Trilogy             Sean Bean\n",
    "\n",
    "[66 rows x 2 columns]\n",
    "```"
   ]
  },
  {
   "cell_type": "code",
   "execution_count": 4,
   "metadata": {},
   "outputs": [],
   "source": [
    "find_two_trilogy_casting_list =\\\n",
    "\"\"\"\n",
    "-- SQL 查詢語法起點\n",
    "\n",
    "-- SQL 查詢語法終點\n",
    "\"\"\""
   ]
  },
  {
   "cell_type": "markdown",
   "metadata": {},
   "source": [
    "## 49. 從 `nba` 資料庫查詢截至 2021-03-31 的得分王（生涯場均得分 `ppg` 最高）、助攻王（生涯場均助攻 `apg` 最高）、籃板王（生涯場均籃板 `rpg` 最高）、抄截王（生涯場均抄截 `spg` 最高）以及阻攻王（生涯場均阻攻 `bpg` 最高），參考下列的預期查詢結果。\n",
    "\n",
    "- 預期輸入：SQL 查詢語法。\n",
    "- 預期輸出：(6, 4) 的查詢結果。\n",
    "\n",
    "```\n",
    "  firstName   lastName category  value\n",
    "0     Andre   Drummond      rpg   13.8\n",
    "1   Anthony      Davis      bpg    2.4\n",
    "2     Chris       Paul      apg    9.4\n",
    "3     Chris       Paul      spg    2.2\n",
    "4    Hassan  Whiteside      bpg    2.4\n",
    "5     Kevin     Durant      ppg   27.1\n",
    "```"
   ]
  },
  {
   "cell_type": "code",
   "execution_count": 5,
   "metadata": {},
   "outputs": [],
   "source": [
    "find_max_stats_per_game_from_nba =\\\n",
    "\"\"\"\n",
    "-- SQL 查詢語法起點\n",
    "\n",
    "-- SQL 查詢語法終點\n",
    "\"\"\""
   ]
  },
  {
   "cell_type": "markdown",
   "metadata": {},
   "source": [
    "## 50. 從 `twElection2020` 資料庫查詢三組總統候選人在各縣市的得票數，參考下列的預期查詢結果。\n",
    "\n",
    "- 預期輸入：SQL 查詢語法。\n",
    "- 預期輸出：(22, 4) 的查詢結果。\n",
    "\n",
    "```\n",
    "   county  soong_yu_votes  han_chang_votes  tsai_lai_votes\n",
    "0     南投縣           13315           133791          152046\n",
    "1     嘉義市            6204            56269           99265\n",
    "2     嘉義縣           11138            98810          197342\n",
    "3     基隆市           11878            99360          114966\n",
    "4     宜蘭縣           10739            90010          173657\n",
    "5     屏東縣           14021           179353          317676\n",
    "6     彰化縣           35060           291835          436336\n",
    "7     新北市          112620           959631         1393936\n",
    "8     新竹市           14103           102725          144274\n",
    "9     新竹縣           18435           154224          152380\n",
    "10    桃園市           63132           529749          718260\n",
    "11    澎湖縣            2583            20911           27410\n",
    "12    臺中市           84800           646366          967304\n",
    "13    臺北市           70769           685830          875854\n",
    "14    臺南市           41075           339702          786471\n",
    "15    臺東縣            4163            67413           44092\n",
    "16    花蓮縣            6869           111834           66509\n",
    "17    苗栗縣           15222           164345          147034\n",
    "18    連江縣             188             4776            1226\n",
    "19    金門縣            1636            35948           10456\n",
    "20    雲林縣           15331           138341          246116\n",
    "21    高雄市           55309           610896         1097621\n",
    "```"
   ]
  },
  {
   "cell_type": "code",
   "execution_count": 6,
   "metadata": {},
   "outputs": [],
   "source": [
    "summarize_presidential_votes_from_twelection2020 =\\\n",
    "\"\"\"\n",
    "-- SQL 查詢語法起點\n",
    "\n",
    "-- SQL 查詢語法終點\n",
    "\"\"\""
   ]
  },
  {
   "cell_type": "markdown",
   "metadata": {
    "deletable": false,
    "editable": false
   },
   "source": [
    "## 執行測試！\n",
    "\n",
    "Kernel -> Restart & Run All -> Restart and Run All Cells."
   ]
  },
  {
   "cell_type": "code",
   "execution_count": 7,
   "metadata": {
    "deletable": false,
    "editable": false
   },
   "outputs": [
    {
     "name": "stderr",
     "output_type": "stream",
     "text": [
      "test_46_find_cruise_ships_from_covid19 (__main__.TestMoreExercises) ... ERROR\n",
      "test_47_summarize_confirmed_deaths_by_country_from_covid19 (__main__.TestMoreExercises) ... ERROR\n",
      "test_48_find_two_trilogy_casting_list (__main__.TestMoreExercises) ... ERROR\n",
      "test_49_find_max_stats_per_game_from_nba (__main__.TestMoreExercises) ... ERROR\n",
      "test_50_summarize_presidential_votes_from_twelection2020 (__main__.TestMoreExercises) ... ERROR\n",
      "\n",
      "======================================================================\n",
      "ERROR: test_46_find_cruise_ships_from_covid19 (__main__.TestMoreExercises)\n",
      "----------------------------------------------------------------------\n",
      "Traceback (most recent call last):\n",
      "  File \"<ipython-input-7-71a6e79e8c62>\", line 3, in test_46_find_cruise_ships_from_covid19\n",
      "    cruise_ships_from_covid19 = pd.read_sql(find_cruise_ships_from_covid19, conn)\n",
      "  File \"/Users/kuoyaojen/pyda/lib/python3.6/site-packages/pandas/io/sql.py\", line 489, in read_sql\n",
      "    chunksize=chunksize,\n",
      "  File \"/Users/kuoyaojen/pyda/lib/python3.6/site-packages/pandas/io/sql.py\", line 1728, in read_query\n",
      "    columns = [col_desc[0] for col_desc in cursor.description]\n",
      "TypeError: 'NoneType' object is not iterable\n",
      "\n",
      "======================================================================\n",
      "ERROR: test_47_summarize_confirmed_deaths_by_country_from_covid19 (__main__.TestMoreExercises)\n",
      "----------------------------------------------------------------------\n",
      "Traceback (most recent call last):\n",
      "  File \"<ipython-input-7-71a6e79e8c62>\", line 12, in test_47_summarize_confirmed_deaths_by_country_from_covid19\n",
      "    confirmed_deaths_by_country_from_covid19 = pd.read_sql(summarize_confirmed_deaths_by_country_from_covid19, conn)\n",
      "  File \"/Users/kuoyaojen/pyda/lib/python3.6/site-packages/pandas/io/sql.py\", line 489, in read_sql\n",
      "    chunksize=chunksize,\n",
      "  File \"/Users/kuoyaojen/pyda/lib/python3.6/site-packages/pandas/io/sql.py\", line 1728, in read_query\n",
      "    columns = [col_desc[0] for col_desc in cursor.description]\n",
      "TypeError: 'NoneType' object is not iterable\n",
      "\n",
      "======================================================================\n",
      "ERROR: test_48_find_two_trilogy_casting_list (__main__.TestMoreExercises)\n",
      "----------------------------------------------------------------------\n",
      "Traceback (most recent call last):\n",
      "  File \"<ipython-input-7-71a6e79e8c62>\", line 15, in test_48_find_two_trilogy_casting_list\n",
      "    two_trilogy_casting_list = pd.read_sql(find_two_trilogy_casting_list, conn)\n",
      "  File \"/Users/kuoyaojen/pyda/lib/python3.6/site-packages/pandas/io/sql.py\", line 489, in read_sql\n",
      "    chunksize=chunksize,\n",
      "  File \"/Users/kuoyaojen/pyda/lib/python3.6/site-packages/pandas/io/sql.py\", line 1728, in read_query\n",
      "    columns = [col_desc[0] for col_desc in cursor.description]\n",
      "TypeError: 'NoneType' object is not iterable\n",
      "\n",
      "======================================================================\n",
      "ERROR: test_49_find_max_stats_per_game_from_nba (__main__.TestMoreExercises)\n",
      "----------------------------------------------------------------------\n",
      "Traceback (most recent call last):\n",
      "  File \"<ipython-input-7-71a6e79e8c62>\", line 25, in test_49_find_max_stats_per_game_from_nba\n",
      "    max_stats_per_game_from_nba = pd.read_sql(find_max_stats_per_game_from_nba, conn)\n",
      "  File \"/Users/kuoyaojen/pyda/lib/python3.6/site-packages/pandas/io/sql.py\", line 489, in read_sql\n",
      "    chunksize=chunksize,\n",
      "  File \"/Users/kuoyaojen/pyda/lib/python3.6/site-packages/pandas/io/sql.py\", line 1728, in read_query\n",
      "    columns = [col_desc[0] for col_desc in cursor.description]\n",
      "TypeError: 'NoneType' object is not iterable\n",
      "\n",
      "======================================================================\n",
      "ERROR: test_50_summarize_presidential_votes_from_twelection2020 (__main__.TestMoreExercises)\n",
      "----------------------------------------------------------------------\n",
      "Traceback (most recent call last):\n",
      "  File \"<ipython-input-7-71a6e79e8c62>\", line 38, in test_50_summarize_presidential_votes_from_twelection2020\n",
      "    presidential_votes_from_twelection2020 = pd.read_sql(summarize_presidential_votes_from_twelection2020, conn)\n",
      "  File \"/Users/kuoyaojen/pyda/lib/python3.6/site-packages/pandas/io/sql.py\", line 489, in read_sql\n",
      "    chunksize=chunksize,\n",
      "  File \"/Users/kuoyaojen/pyda/lib/python3.6/site-packages/pandas/io/sql.py\", line 1728, in read_query\n",
      "    columns = [col_desc[0] for col_desc in cursor.description]\n",
      "TypeError: 'NoneType' object is not iterable\n",
      "\n",
      "----------------------------------------------------------------------\n",
      "Ran 5 tests in 0.133s\n",
      "\n",
      "FAILED (errors=5)\n"
     ]
    }
   ],
   "source": [
    "class TestMoreExercises(unittest.TestCase):\n",
    "    def test_46_find_cruise_ships_from_covid19(self):\n",
    "        cruise_ships_from_covid19 = pd.read_sql(find_cruise_ships_from_covid19, conn)\n",
    "        self.assertEqual(cruise_ships_from_covid19.shape, (4, 4))\n",
    "        column_values = set(cruise_ships_from_covid19.iloc[:, 1].values)\n",
    "        self.assertTrue('Canada' in column_values)\n",
    "        self.assertTrue('US' in column_values)\n",
    "        column_values = set(cruise_ships_from_covid19.iloc[:, 2].values)\n",
    "        self.assertTrue('Diamond Princess' in column_values)\n",
    "        self.assertTrue('Grand Princess' in column_values)\n",
    "    def test_47_summarize_confirmed_deaths_by_country_from_covid19(self):\n",
    "        confirmed_deaths_by_country_from_covid19 = pd.read_sql(summarize_confirmed_deaths_by_country_from_covid19, conn)\n",
    "        self.assertEqual(confirmed_deaths_by_country_from_covid19.shape, (192, 3))\n",
    "    def test_48_find_two_trilogy_casting_list(self):\n",
    "        two_trilogy_casting_list = pd.read_sql(find_two_trilogy_casting_list, conn)\n",
    "        self.assertEqual(two_trilogy_casting_list.shape, (66, 2))\n",
    "        column_values = set(two_trilogy_casting_list.iloc[:, 1].values)\n",
    "        self.assertTrue('Christian Bale' in column_values)\n",
    "        self.assertTrue('Heath Ledger' in column_values)\n",
    "        self.assertTrue('Anne Hathaway' in column_values)\n",
    "        self.assertTrue('Sean Astin' in column_values)\n",
    "        self.assertTrue('Cate Blanchett' in column_values)\n",
    "        self.assertTrue('Orlando Bloom' in column_values)\n",
    "    def test_49_find_max_stats_per_game_from_nba(self):\n",
    "        max_stats_per_game_from_nba = pd.read_sql(find_max_stats_per_game_from_nba, conn)\n",
    "        self.assertEqual(max_stats_per_game_from_nba.shape, (6, 4))\n",
    "        first_names = set(max_stats_per_game_from_nba.iloc[:, 0].values)\n",
    "        self.assertTrue('Chris' in first_names)\n",
    "        self.assertTrue('Anthony' in first_names)\n",
    "        self.assertTrue('Kevin' in first_names)\n",
    "        categories = set(max_stats_per_game_from_nba.iloc[:, 2].values)\n",
    "        self.assertTrue('apg' in categories)\n",
    "        self.assertTrue('ppg' in categories)\n",
    "        self.assertTrue('spg' in categories)\n",
    "        self.assertTrue('rpg' in categories)\n",
    "        self.assertTrue('rpg' in categories)\n",
    "    def test_50_summarize_presidential_votes_from_twelection2020(self):\n",
    "        presidential_votes_from_twelection2020 = pd.read_sql(summarize_presidential_votes_from_twelection2020, conn)\n",
    "        self.assertEqual(presidential_votes_from_twelection2020.shape, (22, 4))\n",
    "        counties = set(presidential_votes_from_twelection2020.iloc[:, 0].values)\n",
    "        self.assertTrue('臺北市' in counties)\n",
    "        self.assertTrue('新北市' in counties)\n",
    "        self.assertTrue('桃園市' in counties)\n",
    "        self.assertTrue('臺中市' in counties)\n",
    "        self.assertTrue('臺南市' in counties)\n",
    "        self.assertTrue('高雄市' in counties)\n",
    "        self.assertEqual(presidential_votes_from_twelection2020.iloc[:, 1].sum(), 608590)\n",
    "        self.assertEqual(presidential_votes_from_twelection2020.iloc[:, 2].sum(), 5522119)\n",
    "        self.assertEqual(presidential_votes_from_twelection2020.iloc[:, 3].sum(), 8170231)\n",
    "\n",
    "suite = unittest.TestLoader().loadTestsFromTestCase(TestMoreExercises)\n",
    "runner = unittest.TextTestRunner(verbosity=2)\n",
    "test_results = runner.run(suite)\n",
    "number_of_failures = len(test_results.failures)\n",
    "number_of_errors = len(test_results.errors)\n",
    "number_of_test_runs = test_results.testsRun\n",
    "number_of_successes = number_of_test_runs - (number_of_failures + number_of_errors)\n",
    "cwd = os.getcwd()\n",
    "folder_name = cwd.split(\"/\")[-1]\n",
    "with open(\"../exercise_index.json\", \"r\") as content:\n",
    "    exercise_index = json.load(content)\n",
    "chapter_name = exercise_index[folder_name]"
   ]
  },
  {
   "cell_type": "code",
   "execution_count": 8,
   "metadata": {
    "deletable": false,
    "editable": false
   },
   "outputs": [
    {
     "name": "stdout",
     "output_type": "stream",
     "text": [
      "您在「綜合練習題」章節中的 5 道 SQL 練習答對了 0 題。\n"
     ]
    }
   ],
   "source": [
    "print(\"您在「{}」章節中的 {} 道 SQL 練習答對了 {} 題。\".format(chapter_name, number_of_test_runs, number_of_successes))"
   ]
  }
 ],
 "metadata": {
  "kernelspec": {
   "display_name": "Python 3",
   "language": "python",
   "name": "python3"
  },
  "language_info": {
   "codemirror_mode": {
    "name": "ipython",
    "version": 3
   },
   "file_extension": ".py",
   "mimetype": "text/x-python",
   "name": "python",
   "nbconvert_exporter": "python",
   "pygments_lexer": "ipython3",
   "version": "3.8.5"
  }
 },
 "nbformat": 4,
 "nbformat_minor": 4
}
