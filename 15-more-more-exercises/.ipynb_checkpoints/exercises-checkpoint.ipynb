{
 "cells": [
  {
   "cell_type": "markdown",
   "metadata": {
    "deletable": false,
    "editable": false
   },
   "source": [
    "# SQL 的五十道練習\n",
    "\n",
    "> 更多綜合練習題\n",
    "\n",
    "[數據交點](https://www.datainpoint.com) | 郭耀仁 <yaojenkuo@datainpoint.com>"
   ]
  },
  {
   "cell_type": "markdown",
   "metadata": {
    "deletable": false,
    "editable": false
   },
   "source": [
    "## 練習題指引\n",
    "\n",
    "- 在每份練習題的開始，都會先將四個學習資料庫載入環境。\n",
    "- 因此 SQL 可以指定四個學習資料庫中的資料表，不需要額外指定資料庫。\n",
    "- 在 SQL 語法起點與 SQL 語法終點這兩個單行註解之間撰寫能夠得到預期結果的 SQL。\n",
    "- 可以先在自己電腦的 SQLiteStudio 或者 DBeaver 寫出跟預期結果相同的 SQL 後再複製貼上到練習題。\n",
    "- 執行測試的方式為點選上方選單的 Kernel -> Restart & Run All -> Restart and Run All Cells。\n",
    "- 可以每寫一題就執行測試，也可以全部寫完再執行測試。\n",
    "- 練習題閒置超過 10 分鐘會自動斷線，這時只要重新點選練習題連結即可重新啟動。"
   ]
  },
  {
   "cell_type": "code",
   "execution_count": 1,
   "metadata": {
    "deletable": false,
    "editable": false
   },
   "outputs": [
    {
     "data": {
      "text/plain": [
       "<sqlite3.Cursor at 0x7ff3fd37c810>"
      ]
     },
     "execution_count": 1,
     "metadata": {},
     "output_type": "execute_result"
    }
   ],
   "source": [
    "import sqlite3\n",
    "import unittest\n",
    "import json\n",
    "import os\n",
    "import numpy as np\n",
    "import pandas as pd\n",
    "conn = sqlite3.connect('../databases/nba.db')\n",
    "conn.execute(\"\"\"ATTACH '../databases/covid19.db' AS covid19\"\"\")\n",
    "conn.execute(\"\"\"ATTACH '../databases/twElection2020.db' AS twElection2020\"\"\")\n",
    "conn.execute(\"\"\"ATTACH '../databases/imdb.db' AS imdb\"\"\")"
   ]
  },
  {
   "cell_type": "markdown",
   "metadata": {},
   "source": [
    "## 51. 從 `covid19` 資料庫查詢截至 2021-03-31 美國前十大確診人數的州別，參考下列的預期查詢結果。\n",
    "\n",
    "- 預期輸入：SQL 查詢語法。\n",
    "- 預期輸出：(10, 2) 的查詢結果。\n",
    "\n",
    "```\n",
    "   Province_State  Confirmed\n",
    "0      California    3668277\n",
    "1           Texas    2791910\n",
    "2         Florida    2057735\n",
    "3        New York    1873138\n",
    "4        Illinois    1244499\n",
    "5         Georgia    1059548\n",
    "6    Pennsylvania    1027678\n",
    "7            Ohio    1017566\n",
    "8  North Carolina     914132\n",
    "9      New Jersey     908816\n",
    "```"
   ]
  },
  {
   "cell_type": "code",
   "execution_count": 2,
   "metadata": {},
   "outputs": [],
   "source": [
    "summarize_confirmed_by_us_states_from_covid19 =\\\n",
    "\"\"\"\n",
    "-- SQL 查詢語法起點\n",
    "\n",
    "-- SQL 查詢語法終點\n",
    "\"\"\""
   ]
  },
  {
   "cell_type": "markdown",
   "metadata": {},
   "source": [
    "## 52. 從 `covid19` 資料庫查詢截至 2021-03-31 台灣、日本、中國、南韓與新加坡五個國家的確診與死亡人數的資訊，參考下列的預期查詢結果。\n",
    "\n",
    "- 預期輸入：SQL 查詢語法。\n",
    "- 預期輸出：(5, 3) 的查詢結果。\n",
    "\n",
    "```\n",
    "  Country_Region  Confirmed  Deaths\n",
    "0          China     101732    4841\n",
    "1          Japan     474641    9155\n",
    "2   Korea, South     103639    1735\n",
    "3      Singapore      60381      30\n",
    "4         Taiwan       1030      10\n",
    "```"
   ]
  },
  {
   "cell_type": "code",
   "execution_count": 3,
   "metadata": {},
   "outputs": [],
   "source": [
    "summarize_confirmed_deaths_of_east_asia_from_covid19 =\\\n",
    "\"\"\"\n",
    "-- SQL 查詢語法起點\n",
    "\n",
    "-- SQL 查詢語法終點\n",
    "\"\"\""
   ]
  },
  {
   "cell_type": "markdown",
   "metadata": {},
   "source": [
    "## 53. 從 `imdb` 資料庫查詢出現最多次的導演為誰，參考下列的預期查詢結果。\n",
    "\n",
    "- 預期輸入：SQL 查詢語法。\n",
    "- 預期輸出：(3, 2) 的查詢結果。\n",
    "\n",
    "```\n",
    "            director  counts\n",
    "0  Christopher Nolan       7\n",
    "1    Martin Scorsese       7\n",
    "2    Stanley Kubrick       7\n",
    "```"
   ]
  },
  {
   "cell_type": "code",
   "execution_count": 4,
   "metadata": {},
   "outputs": [],
   "source": [
    "find_most_frequent_directors_from_imdb =\\\n",
    "\"\"\"\n",
    "-- SQL 查詢語法起點\n",
    "\n",
    "-- SQL 查詢語法終點\n",
    "\"\"\""
   ]
  },
  {
   "cell_type": "markdown",
   "metadata": {},
   "source": [
    "## 54. 從 `imdb` 資料庫查詢出現最多次的演員為誰，參考下列的預期查詢結果。\n",
    "\n",
    "- 預期輸入：SQL 查詢語法。\n",
    "- 預期輸出：(3, 2) 的查詢結果。\n",
    "\n",
    "```\n",
    "   actor_id            name  counts\n",
    "0      2472  Robert De Niro       9\n",
    "```"
   ]
  },
  {
   "cell_type": "code",
   "execution_count": 5,
   "metadata": {},
   "outputs": [],
   "source": [
    "find_most_frequent_actors_from_imdb =\\\n",
    "\"\"\"\n",
    "-- SQL 查詢語法起點\n",
    "\n",
    "-- SQL 查詢語法終點\n",
    "\"\"\""
   ]
  },
  {
   "cell_type": "markdown",
   "metadata": {},
   "source": [
    "## 55. 從 `imdb` 資料庫查詢評等大於等於 8.8（`rating >= 8.8`）電影的導演以及第一主角（`ord = 1`），參考下列的預期查詢結果。\n",
    "\n",
    "- 預期輸入：SQL 查詢語法。\n",
    "- 預期輸出：(13, 3) 的查詢結果。\n",
    "\n",
    "```\n",
    "                                                title              director  \\\n",
    "0                            The Shawshank Redemption        Frank Darabont   \n",
    "1                                       The Godfather  Francis Ford Coppola   \n",
    "2                              The Godfather: Part II  Francis Ford Coppola   \n",
    "3                                     The Dark Knight     Christopher Nolan   \n",
    "4                                        12 Angry Men          Sidney Lumet   \n",
    "5                                    Schindler's List      Steven Spielberg   \n",
    "6       The Lord of the Rings: The Return of the King         Peter Jackson   \n",
    "7                                        Pulp Fiction     Quentin Tarantino   \n",
    "8                      The Good, the Bad and the Ugly          Sergio Leone   \n",
    "9   The Lord of the Rings: The Fellowship of the Ring         Peter Jackson   \n",
    "10                                         Fight Club         David Fincher   \n",
    "11                                       Forrest Gump       Robert Zemeckis   \n",
    "12                                          Inception     Christopher Nolan   \n",
    "\n",
    "           lead_actor  \n",
    "0         Tim Robbins  \n",
    "1       Marlon Brando  \n",
    "2           Al Pacino  \n",
    "3      Christian Bale  \n",
    "4       Martin Balsam  \n",
    "5         Liam Neeson  \n",
    "6        Noel Appleby  \n",
    "7            Tim Roth  \n",
    "8         Eli Wallach  \n",
    "9         Alan Howard  \n",
    "10      Edward Norton  \n",
    "11          Tom Hanks  \n",
    "12  Leonardo DiCaprio  \n",
    "```"
   ]
  },
  {
   "cell_type": "code",
   "execution_count": 6,
   "metadata": {},
   "outputs": [],
   "source": [
    "find_lead_actors_from_imdb =\\\n",
    "\"\"\"\n",
    "-- SQL 查詢語法起點\n",
    "\n",
    "-- SQL 查詢語法終點\n",
    "\"\"\""
   ]
  },
  {
   "cell_type": "markdown",
   "metadata": {},
   "source": [
    "## 56. 從 `nba` 資料庫查詢截至 2021-03-31 的得分王（生涯總得分 `points` 最高）、助攻王（生涯總助攻 `assists` 最高）、籃板王（生涯總籃板 `totReb` 最高）、抄截王（生涯總抄截 `steals` 最高）以及阻攻王（生涯總阻攻 `blocks` 最高），參考下列的預期查詢結果。\n",
    "\n",
    "- 預期輸入：SQL 查詢語法。\n",
    "- 預期輸出：(5, 4) 的查詢結果。\n",
    "\n",
    "```\n",
    "  firstName lastName category  value\n",
    "0     Chris     Paul  assists  10051\n",
    "1     Chris     Paul   steals   2296\n",
    "2    Dwight   Howard   blocks   2173\n",
    "3    Dwight   Howard   totReb  14071\n",
    "4    LeBron    James   points  35283\n",
    "```"
   ]
  },
  {
   "cell_type": "code",
   "execution_count": 7,
   "metadata": {},
   "outputs": [],
   "source": [
    "find_max_stats_total_from_nba =\\\n",
    "\"\"\"\n",
    "-- SQL 查詢語法起點\n",
    "\n",
    "-- SQL 查詢語法終點\n",
    "\"\"\""
   ]
  },
  {
   "cell_type": "markdown",
   "metadata": {},
   "source": [
    "## 57. 從 `nba` 資料庫查詢截至 2021-03-31 各球隊陣中場均得分大於等於 20 分（`ppg >= 20`）的球員人數，參考下列的預期查詢結果。\n",
    "\n",
    "- 預期輸入：SQL 查詢語法。\n",
    "- 預期輸出：(30, 2) 的查詢結果。\n",
    "\n",
    "```\n",
    "                 team_name  number_of_players\n",
    "0            Brooklyn Nets                  4\n",
    "1       Los Angeles Lakers                  2\n",
    "2   Portland Trail Blazers                  2\n",
    "3       Washington Wizards                  2\n",
    "4            Atlanta Hawks                  1\n",
    "5         Dallas Mavericks                  1\n",
    "6    Golden State Warriors                  1\n",
    "7              LA Clippers                  1\n",
    "8          Milwaukee Bucks                  1\n",
    "9   Minnesota Timberwolves                  1\n",
    "10    New Orleans Pelicans                  1\n",
    "11      Philadelphia 76ers                  1\n",
    "12            Phoenix Suns                  1\n",
    "13       San Antonio Spurs                  1\n",
    "14               Utah Jazz                  1\n",
    "15          Boston Celtics                  0\n",
    "16       Charlotte Hornets                  0\n",
    "17           Chicago Bulls                  0\n",
    "18     Cleveland Cavaliers                  0\n",
    "19          Denver Nuggets                  0\n",
    "20         Detroit Pistons                  0\n",
    "21         Houston Rockets                  0\n",
    "22          Indiana Pacers                  0\n",
    "23       Memphis Grizzlies                  0\n",
    "24              Miami Heat                  0\n",
    "25         New York Knicks                  0\n",
    "26   Oklahoma City Thunder                  0\n",
    "27           Orlando Magic                  0\n",
    "28        Sacramento Kings                  0\n",
    "29         Toronto Raptors                  0\n",
    "```"
   ]
  },
  {
   "cell_type": "code",
   "execution_count": 8,
   "metadata": {},
   "outputs": [],
   "source": [
    "find_number_of_top_scorers_by_teams_from_nba =\\\n",
    "\"\"\"\n",
    "-- SQL 查詢語法起點\n",
    "\n",
    "-- SQL 查詢語法終點\n",
    "\"\"\""
   ]
  },
  {
   "cell_type": "markdown",
   "metadata": {},
   "source": [
    "## 58. 從 `twElection2020` 資料庫查詢中國國民黨與民主進步黨在 2020 年選舉的得票率，包含總統副總統、不分區立委與區域立委，參考下列的預期查詢結果。\n",
    "\n",
    "PS 不分區立委的投票資料記錄於資料表 `legislative_at_large`，區域立委的投票資料記錄於資料表 `legislative_regional`。\n",
    "\n",
    "- 預期輸入：SQL 查詢語法。\n",
    "- 預期輸出：(2, 4) 的查詢結果。\n",
    "\n",
    "```\n",
    "   party presidential legislative_regional legislative_at_large\n",
    "0  中國國民黨       38.61%               40.71%               33.36%\n",
    "1  民主進步黨       57.13%               45.11%               33.98%\n",
    "```"
   ]
  },
  {
   "cell_type": "code",
   "execution_count": 9,
   "metadata": {},
   "outputs": [],
   "source": [
    "summarize_kmt_dpp_votes_from_twelection2020 =\\\n",
    "\"\"\"\n",
    "-- SQL 查詢語法起點\n",
    "\n",
    "-- SQL 查詢語法終點\n",
    "\"\"\""
   ]
  },
  {
   "cell_type": "markdown",
   "metadata": {},
   "source": [
    "## 59. 從 `twElection2020` 資料庫查詢代表中國國民黨參選總統副總統的韓國瑜/張善政組合，在台灣 7,737 個選舉區（以村鄰里為一個選舉區）贏得的選舉區（得票數大於 `>` 蔡英文/賴清德組合）以及淨贏得票數，參考下列的預期查詢結果。\n",
    "\n",
    "- 預期輸入：SQL 查詢語法。\n",
    "- 預期輸出：(1332, 4) 的查詢結果。\n",
    "\n",
    "```\n",
    "     county town village  net_winning_votes\n",
    "0       金門縣  金城鎮     西門里               2190\n",
    "1       高雄市  左營區     海勝里               2096\n",
    "2       臺北市  松山區     自強里               1802\n",
    "3       桃園市  中壢區     自立里               1763\n",
    "4       桃園市  龜山區     陸光里               1560\n",
    "...     ...  ...     ...                ...\n",
    "1327    基隆市  中山區     居仁里                  1\n",
    "1328    彰化縣  田中鎮     碧峰里                  1\n",
    "1329    新竹縣  湖口鄉     仁勢村                  1\n",
    "1330    澎湖縣  馬公市     東衛里                  1\n",
    "1331    臺中市  太平區     勤益里                  1\n",
    "\n",
    "[1332 rows x 4 columns]\n",
    "```"
   ]
  },
  {
   "cell_type": "code",
   "execution_count": 10,
   "metadata": {},
   "outputs": [],
   "source": [
    "find_kmt_winning_villages_from_twelection2020 =\\\n",
    "\"\"\"\n",
    "-- SQL 查詢語法起點\n",
    "\n",
    "-- SQL 查詢語法終點\n",
    "\"\"\""
   ]
  },
  {
   "cell_type": "markdown",
   "metadata": {
    "deletable": false,
    "editable": false
   },
   "source": [
    "## 執行測試！\n",
    "\n",
    "Kernel -> Restart & Run All -> Restart and Run All Cells."
   ]
  },
  {
   "cell_type": "code",
   "execution_count": 11,
   "metadata": {
    "deletable": false,
    "editable": false
   },
   "outputs": [
    {
     "name": "stderr",
     "output_type": "stream",
     "text": [
      "test_51_summarize_confirmed_by_us_states_from_covid19 (__main__.TestMoreMoreExercises) ... ERROR\n",
      "test_52_summarize_confirmed_deaths_of_east_asia_from_covid19 (__main__.TestMoreMoreExercises) ... ERROR\n",
      "test_53_find_most_frequent_directors_from_imdb (__main__.TestMoreMoreExercises) ... ERROR\n",
      "test_54_find_most_frequent_actors_from_imdb (__main__.TestMoreMoreExercises) ... ERROR\n",
      "test_55_find_lead_actors_from_imdb (__main__.TestMoreMoreExercises) ... ERROR\n",
      "test_56_find_max_stats_total_from_nba (__main__.TestMoreMoreExercises) ... ERROR\n",
      "test_57_find_number_of_top_scorers_by_teams_from_nba (__main__.TestMoreMoreExercises) ... ERROR\n",
      "test_58_summarize_kmt_dpp_votes_from_twelection2020 (__main__.TestMoreMoreExercises) ... ERROR\n",
      "test_59_find_kmt_winning_villages_from_twelection2020 (__main__.TestMoreMoreExercises) ... ERROR\n",
      "\n",
      "======================================================================\n",
      "ERROR: test_51_summarize_confirmed_by_us_states_from_covid19 (__main__.TestMoreMoreExercises)\n",
      "----------------------------------------------------------------------\n",
      "Traceback (most recent call last):\n",
      "  File \"<ipython-input-11-dec5448c8513>\", line 3, in test_51_summarize_confirmed_by_us_states_from_covid19\n",
      "    confirmed_by_us_states_from_covid19 = pd.read_sql(summarize_confirmed_by_us_states_from_covid19, conn)\n",
      "  File \"/Users/kuoyaojen/pyda/lib/python3.6/site-packages/pandas/io/sql.py\", line 489, in read_sql\n",
      "    chunksize=chunksize,\n",
      "  File \"/Users/kuoyaojen/pyda/lib/python3.6/site-packages/pandas/io/sql.py\", line 1728, in read_query\n",
      "    columns = [col_desc[0] for col_desc in cursor.description]\n",
      "TypeError: 'NoneType' object is not iterable\n",
      "\n",
      "======================================================================\n",
      "ERROR: test_52_summarize_confirmed_deaths_of_east_asia_from_covid19 (__main__.TestMoreMoreExercises)\n",
      "----------------------------------------------------------------------\n",
      "Traceback (most recent call last):\n",
      "  File \"<ipython-input-11-dec5448c8513>\", line 12, in test_52_summarize_confirmed_deaths_of_east_asia_from_covid19\n",
      "    confirmed_deaths_of_east_asia_from_covid19 = pd.read_sql(summarize_confirmed_deaths_of_east_asia_from_covid19, conn)\n",
      "  File \"/Users/kuoyaojen/pyda/lib/python3.6/site-packages/pandas/io/sql.py\", line 489, in read_sql\n",
      "    chunksize=chunksize,\n",
      "  File \"/Users/kuoyaojen/pyda/lib/python3.6/site-packages/pandas/io/sql.py\", line 1728, in read_query\n",
      "    columns = [col_desc[0] for col_desc in cursor.description]\n",
      "TypeError: 'NoneType' object is not iterable\n",
      "\n",
      "======================================================================\n",
      "ERROR: test_53_find_most_frequent_directors_from_imdb (__main__.TestMoreMoreExercises)\n",
      "----------------------------------------------------------------------\n",
      "Traceback (most recent call last):\n",
      "  File \"<ipython-input-11-dec5448c8513>\", line 21, in test_53_find_most_frequent_directors_from_imdb\n",
      "    most_frequent_directors_from_imdb = pd.read_sql(find_most_frequent_directors_from_imdb, conn)\n",
      "  File \"/Users/kuoyaojen/pyda/lib/python3.6/site-packages/pandas/io/sql.py\", line 489, in read_sql\n",
      "    chunksize=chunksize,\n",
      "  File \"/Users/kuoyaojen/pyda/lib/python3.6/site-packages/pandas/io/sql.py\", line 1728, in read_query\n",
      "    columns = [col_desc[0] for col_desc in cursor.description]\n",
      "TypeError: 'NoneType' object is not iterable\n",
      "\n",
      "======================================================================\n",
      "ERROR: test_54_find_most_frequent_actors_from_imdb (__main__.TestMoreMoreExercises)\n",
      "----------------------------------------------------------------------\n",
      "Traceback (most recent call last):\n",
      "  File \"<ipython-input-11-dec5448c8513>\", line 30, in test_54_find_most_frequent_actors_from_imdb\n",
      "    most_frequent_actors_from_imdb = pd.read_sql(find_most_frequent_actors_from_imdb, conn)\n",
      "  File \"/Users/kuoyaojen/pyda/lib/python3.6/site-packages/pandas/io/sql.py\", line 489, in read_sql\n",
      "    chunksize=chunksize,\n",
      "  File \"/Users/kuoyaojen/pyda/lib/python3.6/site-packages/pandas/io/sql.py\", line 1728, in read_query\n",
      "    columns = [col_desc[0] for col_desc in cursor.description]\n",
      "TypeError: 'NoneType' object is not iterable\n",
      "\n",
      "======================================================================\n",
      "ERROR: test_55_find_lead_actors_from_imdb (__main__.TestMoreMoreExercises)\n",
      "----------------------------------------------------------------------\n",
      "Traceback (most recent call last):\n",
      "  File \"<ipython-input-11-dec5448c8513>\", line 37, in test_55_find_lead_actors_from_imdb\n",
      "    lead_actors_from_imdb = pd.read_sql(find_lead_actors_from_imdb, conn)\n",
      "  File \"/Users/kuoyaojen/pyda/lib/python3.6/site-packages/pandas/io/sql.py\", line 489, in read_sql\n",
      "    chunksize=chunksize,\n",
      "  File \"/Users/kuoyaojen/pyda/lib/python3.6/site-packages/pandas/io/sql.py\", line 1728, in read_query\n",
      "    columns = [col_desc[0] for col_desc in cursor.description]\n",
      "TypeError: 'NoneType' object is not iterable\n",
      "\n",
      "======================================================================\n",
      "ERROR: test_56_find_max_stats_total_from_nba (__main__.TestMoreMoreExercises)\n",
      "----------------------------------------------------------------------\n",
      "Traceback (most recent call last):\n",
      "  File \"<ipython-input-11-dec5448c8513>\", line 50, in test_56_find_max_stats_total_from_nba\n",
      "    max_stats_total_from_nba = pd.read_sql(find_max_stats_total_from_nba, conn)\n",
      "  File \"/Users/kuoyaojen/pyda/lib/python3.6/site-packages/pandas/io/sql.py\", line 489, in read_sql\n",
      "    chunksize=chunksize,\n",
      "  File \"/Users/kuoyaojen/pyda/lib/python3.6/site-packages/pandas/io/sql.py\", line 1728, in read_query\n",
      "    columns = [col_desc[0] for col_desc in cursor.description]\n",
      "TypeError: 'NoneType' object is not iterable\n",
      "\n",
      "======================================================================\n",
      "ERROR: test_57_find_number_of_top_scorers_by_teams_from_nba (__main__.TestMoreMoreExercises)\n",
      "----------------------------------------------------------------------\n",
      "Traceback (most recent call last):\n",
      "  File \"<ipython-input-11-dec5448c8513>\", line 57, in test_57_find_number_of_top_scorers_by_teams_from_nba\n",
      "    number_of_top_scorers_by_teams_from_nba = pd.read_sql(find_number_of_top_scorers_by_teams_from_nba, conn)\n",
      "  File \"/Users/kuoyaojen/pyda/lib/python3.6/site-packages/pandas/io/sql.py\", line 489, in read_sql\n",
      "    chunksize=chunksize,\n",
      "  File \"/Users/kuoyaojen/pyda/lib/python3.6/site-packages/pandas/io/sql.py\", line 1728, in read_query\n",
      "    columns = [col_desc[0] for col_desc in cursor.description]\n",
      "TypeError: 'NoneType' object is not iterable\n",
      "\n",
      "======================================================================\n",
      "ERROR: test_58_summarize_kmt_dpp_votes_from_twelection2020 (__main__.TestMoreMoreExercises)\n",
      "----------------------------------------------------------------------\n",
      "Traceback (most recent call last):\n",
      "  File \"<ipython-input-11-dec5448c8513>\", line 63, in test_58_summarize_kmt_dpp_votes_from_twelection2020\n",
      "    kmt_dpp_votes_from_twelection2020 = pd.read_sql(summarize_kmt_dpp_votes_from_twelection2020, conn)\n",
      "  File \"/Users/kuoyaojen/pyda/lib/python3.6/site-packages/pandas/io/sql.py\", line 489, in read_sql\n",
      "    chunksize=chunksize,\n",
      "  File \"/Users/kuoyaojen/pyda/lib/python3.6/site-packages/pandas/io/sql.py\", line 1728, in read_query\n",
      "    columns = [col_desc[0] for col_desc in cursor.description]\n",
      "TypeError: 'NoneType' object is not iterable\n",
      "\n",
      "======================================================================\n",
      "ERROR: test_59_find_kmt_winning_villages_from_twelection2020 (__main__.TestMoreMoreExercises)\n",
      "----------------------------------------------------------------------\n",
      "Traceback (most recent call last):\n",
      "  File \"<ipython-input-11-dec5448c8513>\", line 69, in test_59_find_kmt_winning_villages_from_twelection2020\n",
      "    kmt_winning_villages_from_twelection2020 = pd.read_sql(find_kmt_winning_villages_from_twelection2020, conn)\n",
      "  File \"/Users/kuoyaojen/pyda/lib/python3.6/site-packages/pandas/io/sql.py\", line 489, in read_sql\n",
      "    chunksize=chunksize,\n",
      "  File \"/Users/kuoyaojen/pyda/lib/python3.6/site-packages/pandas/io/sql.py\", line 1728, in read_query\n",
      "    columns = [col_desc[0] for col_desc in cursor.description]\n",
      "TypeError: 'NoneType' object is not iterable\n",
      "\n",
      "----------------------------------------------------------------------\n",
      "Ran 9 tests in 0.149s\n",
      "\n",
      "FAILED (errors=9)\n"
     ]
    }
   ],
   "source": [
    "class TestMoreMoreExercises(unittest.TestCase):\n",
    "    def test_51_summarize_confirmed_by_us_states_from_covid19(self):\n",
    "        confirmed_by_us_states_from_covid19 = pd.read_sql(summarize_confirmed_by_us_states_from_covid19, conn)\n",
    "        self.assertEqual(confirmed_by_us_states_from_covid19.shape, (10, 2))\n",
    "        column_values = set(confirmed_by_us_states_from_covid19.iloc[:, 0].values)\n",
    "        self.assertTrue('California' in column_values)\n",
    "        self.assertTrue('Texas' in column_values)\n",
    "        self.assertTrue('Florida' in column_values)\n",
    "        self.assertTrue('New York' in column_values)\n",
    "        self.assertTrue('Illinois' in column_values)    \n",
    "    def test_52_summarize_confirmed_deaths_of_east_asia_from_covid19(self):\n",
    "        confirmed_deaths_of_east_asia_from_covid19 = pd.read_sql(summarize_confirmed_deaths_of_east_asia_from_covid19, conn)\n",
    "        self.assertEqual(confirmed_deaths_of_east_asia_from_covid19.shape, (5, 3))\n",
    "        column_values = set(confirmed_deaths_of_east_asia_from_covid19.iloc[:, 0].values)\n",
    "        self.assertTrue('China' in column_values)\n",
    "        self.assertTrue('Japan' in column_values)\n",
    "        self.assertTrue('Korea, South' in column_values)\n",
    "        self.assertTrue('Singapore' in column_values)\n",
    "        self.assertTrue('Taiwan' in column_values) \n",
    "    def test_53_find_most_frequent_directors_from_imdb(self):\n",
    "        most_frequent_directors_from_imdb = pd.read_sql(find_most_frequent_directors_from_imdb, conn)\n",
    "        self.assertEqual(most_frequent_directors_from_imdb.shape, (3, 2))\n",
    "        column_values = set(most_frequent_directors_from_imdb.iloc[:, 0].values)\n",
    "        self.assertTrue('Christopher Nolan' in column_values)\n",
    "        self.assertTrue('Martin Scorsese' in column_values)\n",
    "        self.assertTrue('Stanley Kubrick' in column_values)\n",
    "        column_values = set(most_frequent_directors_from_imdb.iloc[:, 1].values)\n",
    "        self.assertTrue(7 in column_values)\n",
    "    def test_54_find_most_frequent_actors_from_imdb(self):\n",
    "        most_frequent_actors_from_imdb = pd.read_sql(find_most_frequent_actors_from_imdb, conn)\n",
    "        self.assertEqual(most_frequent_actors_from_imdb.shape, (1, 3))\n",
    "        column_values = set(most_frequent_actors_from_imdb.iloc[:, 1].values)\n",
    "        self.assertTrue('Robert De Niro' in column_values)\n",
    "        column_values = set(most_frequent_actors_from_imdb.iloc[:, 2].values)\n",
    "        self.assertTrue(9 in column_values)\n",
    "    def test_55_find_lead_actors_from_imdb(self):\n",
    "        lead_actors_from_imdb = pd.read_sql(find_lead_actors_from_imdb, conn)\n",
    "        self.assertEqual(lead_actors_from_imdb.shape, (13, 3))\n",
    "        titles = set(lead_actors_from_imdb.iloc[:, 0].values)\n",
    "        self.assertTrue('The Shawshank Redemption' in titles)\n",
    "        self.assertTrue('The Godfather' in titles)\n",
    "        self.assertTrue('Fight Club' in titles)\n",
    "        self.assertTrue('Forrest Gump' in titles)\n",
    "        self.assertTrue('Inception' in titles)\n",
    "        lead_actors = set(lead_actors_from_imdb.iloc[:, 2].values)\n",
    "        self.assertTrue('Tim Robbins' in lead_actors)\n",
    "        self.assertTrue('Marlon Brando' in lead_actors)\n",
    "        self.assertTrue('Leonardo DiCaprio' in lead_actors)\n",
    "    def test_56_find_max_stats_total_from_nba(self):\n",
    "        max_stats_total_from_nba = pd.read_sql(find_max_stats_total_from_nba, conn)\n",
    "        self.assertEqual(max_stats_total_from_nba.shape, (5, 4))\n",
    "        first_names = set(max_stats_total_from_nba.iloc[:, 0].values)\n",
    "        self.assertTrue('Chris' in first_names)\n",
    "        self.assertTrue('Dwight' in first_names)\n",
    "        self.assertTrue('LeBron' in first_names)\n",
    "    def test_57_find_number_of_top_scorers_by_teams_from_nba(self):\n",
    "        number_of_top_scorers_by_teams_from_nba = pd.read_sql(find_number_of_top_scorers_by_teams_from_nba, conn)\n",
    "        self.assertEqual(number_of_top_scorers_by_teams_from_nba.shape, (30, 2))\n",
    "        column_values = number_of_top_scorers_by_teams_from_nba.iloc[:, 1].values\n",
    "        self.assertEqual(np.max(column_values), 4)\n",
    "        self.assertEqual(np.min(column_values), 0)\n",
    "    def test_58_summarize_kmt_dpp_votes_from_twelection2020(self):\n",
    "        kmt_dpp_votes_from_twelection2020 = pd.read_sql(summarize_kmt_dpp_votes_from_twelection2020, conn)\n",
    "        self.assertEqual(kmt_dpp_votes_from_twelection2020.shape, (2, 4))\n",
    "        column_values = set(kmt_dpp_votes_from_twelection2020.iloc[:, 0].values)\n",
    "        self.assertTrue('中國國民黨' in column_values)\n",
    "        self.assertTrue('民主進步黨' in column_values)\n",
    "    def test_59_find_kmt_winning_villages_from_twelection2020(self):\n",
    "        kmt_winning_villages_from_twelection2020 = pd.read_sql(find_kmt_winning_villages_from_twelection2020, conn)\n",
    "        self.assertEqual(kmt_winning_villages_from_twelection2020.shape, (1332, 4))\n",
    "        \n",
    "suite = unittest.TestLoader().loadTestsFromTestCase(TestMoreMoreExercises)\n",
    "runner = unittest.TextTestRunner(verbosity=2)\n",
    "test_results = runner.run(suite)\n",
    "number_of_failures = len(test_results.failures)\n",
    "number_of_errors = len(test_results.errors)\n",
    "number_of_test_runs = test_results.testsRun\n",
    "number_of_successes = number_of_test_runs - (number_of_failures + number_of_errors)\n",
    "cwd = os.getcwd()\n",
    "folder_name = cwd.split(\"/\")[-1]\n",
    "with open(\"../exercise_index.json\", \"r\") as content:\n",
    "    exercise_index = json.load(content)\n",
    "chapter_name = exercise_index[folder_name]"
   ]
  },
  {
   "cell_type": "code",
   "execution_count": 12,
   "metadata": {
    "deletable": false,
    "editable": false
   },
   "outputs": [
    {
     "name": "stdout",
     "output_type": "stream",
     "text": [
      "您在「更多綜合練習題」章節中的 9 道 SQL 練習答對了 0 題。\n"
     ]
    }
   ],
   "source": [
    "print(\"您在「{}」章節中的 {} 道 SQL 練習答對了 {} 題。\".format(chapter_name, number_of_test_runs, number_of_successes))"
   ]
  }
 ],
 "metadata": {
  "kernelspec": {
   "display_name": "Python 3",
   "language": "python",
   "name": "python3"
  },
  "language_info": {
   "codemirror_mode": {
    "name": "ipython",
    "version": 3
   },
   "file_extension": ".py",
   "mimetype": "text/x-python",
   "name": "python",
   "nbconvert_exporter": "python",
   "pygments_lexer": "ipython3",
   "version": "3.8.5"
  }
 },
 "nbformat": 4,
 "nbformat_minor": 4
}
