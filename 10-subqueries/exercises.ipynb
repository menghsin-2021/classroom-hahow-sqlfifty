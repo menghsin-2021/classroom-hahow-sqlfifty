{
 "cells": [
  {
   "cell_type": "markdown",
   "metadata": {
    "deletable": false,
    "editable": false
   },
   "source": [
    "# SQL 的五十道練習\n",
    "\n",
    "> 子查詢\n",
    "\n",
    "[數據交點](https://www.datainpoint.com) | 郭耀仁 <yaojenkuo@datainpoint.com>"
   ]
  },
  {
   "cell_type": "markdown",
   "metadata": {
    "deletable": false,
    "editable": false
   },
   "source": [
    "## 練習題指引\n",
    "\n",
    "- 在每份練習題的開始，都會先將四個學習資料庫載入環境。\n",
    "- 因此 SQL 可以指定四個學習資料庫中的資料表，不需要額外指定資料庫。\n",
    "- 在 SQL 語法起點與 SQL 語法終點這兩個單行註解之間撰寫能夠得到預期結果的 SQL。\n",
    "- 可以先在自己電腦的 SQLiteStudio 或者 DBeaver 寫出跟預期結果相同的 SQL 後再複製貼上到練習題。\n",
    "- 執行測試的方式為點選上方選單的 Kernel -> Restart & Run All -> Restart and Run All Cells。\n",
    "- 可以每寫一題就執行測試，也可以全部寫完再執行測試。\n",
    "- 練習題閒置超過 10 分鐘會自動斷線，這時只要重新點選練習題連結即可重新啟動。"
   ]
  },
  {
   "cell_type": "code",
   "execution_count": 1,
   "metadata": {
    "deletable": false,
    "editable": false
   },
   "outputs": [
    {
     "data": {
      "text/plain": [
       "<sqlite3.Cursor at 0x7fb888b7c810>"
      ]
     },
     "execution_count": 1,
     "metadata": {},
     "output_type": "execute_result"
    }
   ],
   "source": [
    "import sqlite3\n",
    "import unittest\n",
    "import json\n",
    "import os\n",
    "import numpy as np\n",
    "import pandas as pd\n",
    "conn = sqlite3.connect('../databases/nba.db')\n",
    "conn.execute(\"\"\"ATTACH '../databases/covid19.db' AS covid19\"\"\")\n",
    "conn.execute(\"\"\"ATTACH '../databases/twElection2020.db' AS twElection2020\"\"\")\n",
    "conn.execute(\"\"\"ATTACH '../databases/imdb.db' AS imdb\"\"\")"
   ]
  },
  {
   "cell_type": "markdown",
   "metadata": {},
   "source": [
    "## 30. 從 `nba` 資料庫的 `players` 資料表運用子查詢找出 NBA 中身高最高與最矮的球員是誰，參考下列的預期查詢結果。\n",
    "\n",
    "- 預期輸入：SQL 查詢語法。\n",
    "- 預期輸出：(5, 3) 的查詢結果。\n",
    "\n",
    "```\n",
    "  firstName  lastName  heightMeters\n",
    "0     Tacko      Fall          2.26\n",
    "1     Jared    Harper          1.78\n",
    "2   Tremont    Waters          1.78\n",
    "3    Markus    Howard          1.78\n",
    "4   Facundo  Campazzo          1.78\n",
    "```"
   ]
  },
  {
   "cell_type": "code",
   "execution_count": 2,
   "metadata": {},
   "outputs": [],
   "source": [
    "find_tallest_shortest_from_players =\\\n",
    "\"\"\"\n",
    "-- SQL 查詢語法起點\n",
    "\n",
    "-- SQL 查詢語法終點\n",
    "\"\"\""
   ]
  },
  {
   "cell_type": "markdown",
   "metadata": {},
   "source": [
    "## 31. 從 `nba` 資料庫的 `players` 資料表運用子查詢計算球員的國籍佔比，參考下列的預期查詢結果。\n",
    "\n",
    "- 預期輸入：SQL 查詢語法。\n",
    "- 預期輸出：(43, 2) 的查詢結果。\n",
    "\n",
    "```\n",
    "                   country  player_percentage\n",
    "0                      USA           0.764463\n",
    "1                   Canada           0.035124\n",
    "2                   France           0.022727\n",
    "3                Australia           0.018595\n",
    "4                  Germany           0.012397\n",
    "5                   Serbia           0.012397\n",
    "6                  Croatia           0.008264\n",
    "7                    Spain           0.008264\n",
    "8                   Turkey           0.008264\n",
    "9                   Greece           0.006198\n",
    "10                   Italy           0.006198\n",
    "11                  Latvia           0.006198\n",
    "12               Lithuania           0.006198\n",
    "13                 Nigeria           0.006198\n",
    "14                 Senegal           0.006198\n",
    "15                Slovenia           0.006198\n",
    "16                 Bahamas           0.004132\n",
    "17                  Brazil           0.004132\n",
    "18                Cameroon           0.004132\n",
    "19                   Japan           0.004132\n",
    "20                 Ukraine           0.004132\n",
    "21                  Angola           0.002066\n",
    "22               Argentina           0.002066\n",
    "23                 Austria           0.002066\n",
    "24  Bosnia and Herzegovina           0.002066\n",
    "25          Czech Republic           0.002066\n",
    "26                     DRC           0.002066\n",
    "27      Dominican Republic           0.002066\n",
    "28                   Egypt           0.002066\n",
    "29                 Finland           0.002066\n",
    "30                   Gabon           0.002066\n",
    "31                 Georgia           0.002066\n",
    "32                  Guinea           0.002066\n",
    "33                  Israel           0.002066\n",
    "34                 Jamaica           0.002066\n",
    "35              Montenegro           0.002066\n",
    "36             New Zealand           0.002066\n",
    "37   Republic of the Congo           0.002066\n",
    "38             Saint Lucia           0.002066\n",
    "39             South Sudan           0.002066\n",
    "40                   Sudan           0.002066\n",
    "41             Switzerland           0.002066\n",
    "42          United Kingdom           0.002066\n",
    "```"
   ]
  },
  {
   "cell_type": "code",
   "execution_count": 3,
   "metadata": {},
   "outputs": [],
   "source": [
    "calculate_player_percentage_from_players =\\\n",
    "\"\"\"\n",
    "-- SQL 查詢語法起點\n",
    "\n",
    "-- SQL 查詢語法終點\n",
    "\"\"\""
   ]
  },
  {
   "cell_type": "markdown",
   "metadata": {},
   "source": [
    "## 32. 從 `nba` 資料庫運用子查詢找出 NBA 的場均得分王（`ppg`），參考下列的預期查詢結果。\n",
    "\n",
    "- 預期輸入：SQL 查詢語法。\n",
    "- 預期輸出：(1, 2) 的查詢結果。\n",
    "\n",
    "```\n",
    "  firstName lastName\n",
    "0     Kevin   Durant\n",
    "```"
   ]
  },
  {
   "cell_type": "code",
   "execution_count": 4,
   "metadata": {},
   "outputs": [],
   "source": [
    "find_highest_ppg_player_from_nba =\\\n",
    "\"\"\"\n",
    "-- SQL 查詢語法起點\n",
    "\n",
    "-- SQL 查詢語法終點\n",
    "\"\"\""
   ]
  },
  {
   "cell_type": "markdown",
   "metadata": {},
   "source": [
    "## 33. 從 `nba` 資料庫運用子查詢找出目前布魯克林籃網隊（Brooklyn Nets）的球員名單，參考下列的預期查詢結果。\n",
    "\n",
    "- 預期輸入：SQL 查詢語法。\n",
    "- 預期輸出：(17, 2) 的查詢結果。\n",
    "\n",
    "```\n",
    "   firstName         lastName\n",
    "0   LaMarcus         Aldridge\n",
    "1      Kevin           Durant\n",
    "2       Jeff            Green\n",
    "3    DeAndre           Jordan\n",
    "4      Blake          Griffin\n",
    "5      James           Harden\n",
    "6      Kyrie           Irving\n",
    "7    Spencer        Dinwiddie\n",
    "8        Joe           Harris\n",
    "9      Tyler          Johnson\n",
    "10   Timothe  Luwawu-Cabarrot\n",
    "11     Bruce            Brown\n",
    "12     Alize          Johnson\n",
    "13    Landry           Shamet\n",
    "14     Chris          Chiozza\n",
    "15    Reggie            Perry\n",
    "16   Nicolas          Claxton\n",
    "```"
   ]
  },
  {
   "cell_type": "code",
   "execution_count": 5,
   "metadata": {},
   "outputs": [],
   "source": [
    "find_brooklyn_nets_roster_from_nba =\\\n",
    "\"\"\"\n",
    "-- SQL 查詢語法起點\n",
    "\n",
    "-- SQL 查詢語法終點\n",
    "\"\"\""
   ]
  },
  {
   "cell_type": "markdown",
   "metadata": {},
   "source": [
    "## 34. 從 `twElection2020` 資料庫的 `presidential` 資料表計算各組候選人的得票率，參考下列的預期查詢結果。\n",
    "\n",
    "- 預期輸入：SQL 查詢語法。\n",
    "- 預期輸出：(3, 2) 的查詢結果。\n",
    "\n",
    "```\n",
    "   candidate_id votes_percentage\n",
    "0             1            4.26%\n",
    "1             2           38.61%\n",
    "2             3           57.13%\n",
    "```"
   ]
  },
  {
   "cell_type": "code",
   "execution_count": 6,
   "metadata": {},
   "outputs": [],
   "source": [
    "calculate_president_votes_percentage_from_twelection2020 =\\\n",
    "\"\"\"\n",
    "-- SQL 查詢語法起點\n",
    "\n",
    "-- SQL 查詢語法終點\n",
    "\"\"\""
   ]
  },
  {
   "cell_type": "markdown",
   "metadata": {
    "deletable": false,
    "editable": false
   },
   "source": [
    "## 執行測試！\n",
    "\n",
    "Kernel -> Restart & Run All -> Restart and Run All Cells."
   ]
  },
  {
   "cell_type": "code",
   "execution_count": 7,
   "metadata": {
    "deletable": false,
    "editable": false
   },
   "outputs": [
    {
     "name": "stderr",
     "output_type": "stream",
     "text": [
      "test_30_find_tallest_shortest_from_players (__main__.TestSubQuery) ... ERROR\n",
      "test_31_calculate_player_percentage_from_players (__main__.TestSubQuery) ... ERROR\n",
      "test_32_find_highest_ppg_player_from_nba (__main__.TestSubQuery) ... ERROR\n",
      "test_33_find_brooklyn_nets_roster_from_nba (__main__.TestSubQuery) ... ERROR\n",
      "test_34_calculate_president_votes_percentage_from_twelection2020 (__main__.TestSubQuery) ... ERROR\n",
      "\n",
      "======================================================================\n",
      "ERROR: test_30_find_tallest_shortest_from_players (__main__.TestSubQuery)\n",
      "----------------------------------------------------------------------\n",
      "Traceback (most recent call last):\n",
      "  File \"<ipython-input-7-6b5c8ee5be6f>\", line 3, in test_30_find_tallest_shortest_from_players\n",
      "    tallest_shortest_from_players = pd.read_sql(find_tallest_shortest_from_players, conn)\n",
      "  File \"/Users/kuoyaojen/pyda/lib/python3.6/site-packages/pandas/io/sql.py\", line 489, in read_sql\n",
      "    chunksize=chunksize,\n",
      "  File \"/Users/kuoyaojen/pyda/lib/python3.6/site-packages/pandas/io/sql.py\", line 1728, in read_query\n",
      "    columns = [col_desc[0] for col_desc in cursor.description]\n",
      "TypeError: 'NoneType' object is not iterable\n",
      "\n",
      "======================================================================\n",
      "ERROR: test_31_calculate_player_percentage_from_players (__main__.TestSubQuery)\n",
      "----------------------------------------------------------------------\n",
      "Traceback (most recent call last):\n",
      "  File \"<ipython-input-7-6b5c8ee5be6f>\", line 9, in test_31_calculate_player_percentage_from_players\n",
      "    player_percentage_from_players = pd.read_sql(calculate_player_percentage_from_players, conn)\n",
      "  File \"/Users/kuoyaojen/pyda/lib/python3.6/site-packages/pandas/io/sql.py\", line 489, in read_sql\n",
      "    chunksize=chunksize,\n",
      "  File \"/Users/kuoyaojen/pyda/lib/python3.6/site-packages/pandas/io/sql.py\", line 1728, in read_query\n",
      "    columns = [col_desc[0] for col_desc in cursor.description]\n",
      "TypeError: 'NoneType' object is not iterable\n",
      "\n",
      "======================================================================\n",
      "ERROR: test_32_find_highest_ppg_player_from_nba (__main__.TestSubQuery)\n",
      "----------------------------------------------------------------------\n",
      "Traceback (most recent call last):\n",
      "  File \"<ipython-input-7-6b5c8ee5be6f>\", line 16, in test_32_find_highest_ppg_player_from_nba\n",
      "    highest_ppg_player_from_nba = pd.read_sql(find_highest_ppg_player_from_nba, conn)\n",
      "  File \"/Users/kuoyaojen/pyda/lib/python3.6/site-packages/pandas/io/sql.py\", line 489, in read_sql\n",
      "    chunksize=chunksize,\n",
      "  File \"/Users/kuoyaojen/pyda/lib/python3.6/site-packages/pandas/io/sql.py\", line 1728, in read_query\n",
      "    columns = [col_desc[0] for col_desc in cursor.description]\n",
      "TypeError: 'NoneType' object is not iterable\n",
      "\n",
      "======================================================================\n",
      "ERROR: test_33_find_brooklyn_nets_roster_from_nba (__main__.TestSubQuery)\n",
      "----------------------------------------------------------------------\n",
      "Traceback (most recent call last):\n",
      "  File \"<ipython-input-7-6b5c8ee5be6f>\", line 22, in test_33_find_brooklyn_nets_roster_from_nba\n",
      "    brooklyn_nets_roster_from_nba = pd.read_sql(find_brooklyn_nets_roster_from_nba, conn)\n",
      "  File \"/Users/kuoyaojen/pyda/lib/python3.6/site-packages/pandas/io/sql.py\", line 489, in read_sql\n",
      "    chunksize=chunksize,\n",
      "  File \"/Users/kuoyaojen/pyda/lib/python3.6/site-packages/pandas/io/sql.py\", line 1728, in read_query\n",
      "    columns = [col_desc[0] for col_desc in cursor.description]\n",
      "TypeError: 'NoneType' object is not iterable\n",
      "\n",
      "======================================================================\n",
      "ERROR: test_34_calculate_president_votes_percentage_from_twelection2020 (__main__.TestSubQuery)\n",
      "----------------------------------------------------------------------\n",
      "Traceback (most recent call last):\n",
      "  File \"<ipython-input-7-6b5c8ee5be6f>\", line 37, in test_34_calculate_president_votes_percentage_from_twelection2020\n",
      "    president_votes_percentage_from_twelection2020 = pd.read_sql(calculate_president_votes_percentage_from_twelection2020, conn)\n",
      "  File \"/Users/kuoyaojen/pyda/lib/python3.6/site-packages/pandas/io/sql.py\", line 489, in read_sql\n",
      "    chunksize=chunksize,\n",
      "  File \"/Users/kuoyaojen/pyda/lib/python3.6/site-packages/pandas/io/sql.py\", line 1728, in read_query\n",
      "    columns = [col_desc[0] for col_desc in cursor.description]\n",
      "TypeError: 'NoneType' object is not iterable\n",
      "\n",
      "----------------------------------------------------------------------\n",
      "Ran 5 tests in 0.156s\n",
      "\n",
      "FAILED (errors=5)\n"
     ]
    }
   ],
   "source": [
    "class TestSubQuery(unittest.TestCase):\n",
    "    def test_30_find_tallest_shortest_from_players(self):\n",
    "        tallest_shortest_from_players = pd.read_sql(find_tallest_shortest_from_players, conn)\n",
    "        self.assertEqual(tallest_shortest_from_players.shape, (5, 3))\n",
    "        column_values = set(tallest_shortest_from_players.iloc[:, 2].values)\n",
    "        self.assertTrue(2.26 in column_values)\n",
    "        self.assertTrue(1.78 in column_values)\n",
    "    def test_31_calculate_player_percentage_from_players(self):\n",
    "        player_percentage_from_players = pd.read_sql(calculate_player_percentage_from_players, conn)\n",
    "        self.assertEqual(player_percentage_from_players.shape, (43, 2))\n",
    "        column_values = set(player_percentage_from_players.iloc[:, 0].values)\n",
    "        self.assertTrue('USA' in column_values)\n",
    "        self.assertTrue('Canada' in column_values)\n",
    "        self.assertTrue('France' in column_values)\n",
    "    def test_32_find_highest_ppg_player_from_nba(self):\n",
    "        highest_ppg_player_from_nba = pd.read_sql(find_highest_ppg_player_from_nba, conn)\n",
    "        self.assertEqual(highest_ppg_player_from_nba.shape, (1, 2))\n",
    "        row_values = set(highest_ppg_player_from_nba.iloc[0, :].values)\n",
    "        self.assertTrue('Kevin' in row_values)\n",
    "        self.assertTrue('Durant' in row_values)\n",
    "    def test_33_find_brooklyn_nets_roster_from_nba(self):\n",
    "        brooklyn_nets_roster_from_nba = pd.read_sql(find_brooklyn_nets_roster_from_nba, conn)\n",
    "        self.assertEqual(brooklyn_nets_roster_from_nba.shape, (17, 2))\n",
    "        first_names = set(brooklyn_nets_roster_from_nba.iloc[:, 0].values)\n",
    "        last_names = set(brooklyn_nets_roster_from_nba.iloc[:, 1].values)\n",
    "        self.assertTrue('Kevin' in first_names)\n",
    "        self.assertTrue('James' in first_names)\n",
    "        self.assertTrue('Kyrie' in first_names)\n",
    "        self.assertTrue('Blake' in first_names)\n",
    "        self.assertTrue('LaMarcus' in first_names)\n",
    "        self.assertTrue('Durant' in last_names)\n",
    "        self.assertTrue('Harden' in last_names)\n",
    "        self.assertTrue('Irving' in last_names)\n",
    "        self.assertTrue('Griffin' in last_names)\n",
    "        self.assertTrue('Aldridge' in last_names)\n",
    "    def test_34_calculate_president_votes_percentage_from_twelection2020(self):\n",
    "        president_votes_percentage_from_twelection2020 = pd.read_sql(calculate_president_votes_percentage_from_twelection2020, conn)\n",
    "        self.assertEqual(president_votes_percentage_from_twelection2020.shape, (3, 2))\n",
    "        np.testing.assert_equal(president_votes_percentage_from_twelection2020.iloc[:, 1].values, \n",
    "                               np.array(['4.26%', '38.61%', '57.13%']))\n",
    "        \n",
    "suite = unittest.TestLoader().loadTestsFromTestCase(TestSubQuery)\n",
    "runner = unittest.TextTestRunner(verbosity=2)\n",
    "test_results = runner.run(suite)\n",
    "number_of_failures = len(test_results.failures)\n",
    "number_of_errors = len(test_results.errors)\n",
    "number_of_test_runs = test_results.testsRun\n",
    "number_of_successes = number_of_test_runs - (number_of_failures + number_of_errors)\n",
    "cwd = os.getcwd()\n",
    "folder_name = cwd.split(\"/\")[-1]\n",
    "with open(\"../exercise_index.json\", \"r\") as content:\n",
    "    exercise_index = json.load(content)\n",
    "chapter_name = exercise_index[folder_name]"
   ]
  },
  {
   "cell_type": "code",
   "execution_count": 8,
   "metadata": {
    "deletable": false,
    "editable": false
   },
   "outputs": [
    {
     "name": "stdout",
     "output_type": "stream",
     "text": [
      "您在「子查詢」章節中的 5 道 SQL 練習答對了 0 題。\n"
     ]
    }
   ],
   "source": [
    "print(\"您在「{}」章節中的 {} 道 SQL 練習答對了 {} 題。\".format(chapter_name, number_of_test_runs, number_of_successes))"
   ]
  }
 ],
 "metadata": {
  "kernelspec": {
   "display_name": "Python Data Analysis",
   "language": "python",
   "name": "pyda"
  },
  "language_info": {
   "codemirror_mode": {
    "name": "ipython",
    "version": 3
   },
   "file_extension": ".py",
   "mimetype": "text/x-python",
   "name": "python",
   "nbconvert_exporter": "python",
   "pygments_lexer": "ipython3",
   "version": "3.6.8"
  }
 },
 "nbformat": 4,
 "nbformat_minor": 4
}
