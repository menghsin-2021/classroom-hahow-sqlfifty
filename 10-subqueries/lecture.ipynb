{
 "cells": [
  {
   "cell_type": "markdown",
   "id": "lightweight-fruit",
   "metadata": {
    "slideshow": {
     "slide_type": "slide"
    }
   },
   "source": [
    "# SQL 的五十道練習\n",
    "\n",
    "> 子查詢\n",
    "\n",
    "[數據交點](https://www.datainpoint.com/) | 郭耀仁 <yaojenkuo@datainpoint.com>"
   ]
  },
  {
   "cell_type": "code",
   "execution_count": 1,
   "id": "matched-spyware",
   "metadata": {
    "slideshow": {
     "slide_type": "skip"
    }
   },
   "outputs": [],
   "source": [
    "%LOAD sqlite3 db=../databases/imdb.db timeout=2 shared_cache=true"
   ]
  },
  {
   "cell_type": "code",
   "execution_count": 2,
   "id": "desperate-contest",
   "metadata": {
    "slideshow": {
     "slide_type": "skip"
    }
   },
   "outputs": [],
   "source": [
    "ATTACH \"../databases/nba.db\" AS nba;"
   ]
  },
  {
   "cell_type": "code",
   "execution_count": 3,
   "id": "located-society",
   "metadata": {
    "slideshow": {
     "slide_type": "skip"
    }
   },
   "outputs": [],
   "source": [
    "ATTACH \"../databases/twElection2020.db\" AS twElection2020;"
   ]
  },
  {
   "cell_type": "code",
   "execution_count": 4,
   "id": "positive-conservative",
   "metadata": {
    "slideshow": {
     "slide_type": "skip"
    }
   },
   "outputs": [],
   "source": [
    "ATTACH \"../databases/covid19.db\" AS covid19;"
   ]
  },
  {
   "cell_type": "markdown",
   "id": "supposed-spread",
   "metadata": {
    "slideshow": {
     "slide_type": "slide"
    }
   },
   "source": [
    "## 什麼是子查詢"
   ]
  },
  {
   "cell_type": "markdown",
   "id": "endless-sodium",
   "metadata": {
    "slideshow": {
     "slide_type": "subslide"
    }
   },
   "source": [
    "## 在「函數」的章節中，我們看過函數包含著其他函數的使用方法\n",
    "\n",
    "前一個函數的輸出，成為下一個函數的輸入。"
   ]
  },
  {
   "cell_type": "code",
   "execution_count": 5,
   "id": "superb-principle",
   "metadata": {
    "slideshow": {
     "slide_type": "-"
    }
   },
   "outputs": [
    {
     "data": {
      "text/html": [
       "<table>\n",
       "<tr>\n",
       "<th>avg_rating</th>\n",
       "</tr>\n",
       "<tr>\n",
       "<td>8.0</td>\n",
       "</tr>\n",
       "</table>\n",
       "1 row in set (0.00 sec)"
      ],
      "text/plain": [
       "+------------+\n",
       "| avg_rating |\n",
       "+------------+\n",
       "| 8.0        |\n",
       "+------------+\n",
       "1 row in set (0.00 sec)"
      ]
     },
     "execution_count": 5,
     "metadata": {},
     "output_type": "execute_result"
    }
   ],
   "source": [
    "SELECT ROUND(AVG(rating)) AS avg_rating \n",
    "  FROM movies;"
   ]
  },
  {
   "cell_type": "markdown",
   "id": "cordless-relay",
   "metadata": {
    "slideshow": {
     "slide_type": "subslide"
    }
   },
   "source": [
    "## 如果一段 SQL 中包含著另外一段的 SQL，這樣的 SQL 結構就被稱為子查詢（Subquery）"
   ]
  },
  {
   "cell_type": "markdown",
   "id": "structural-november",
   "metadata": {
    "slideshow": {
     "slide_type": "slide"
    }
   },
   "source": [
    "## 常見的子查詢應用情境"
   ]
  },
  {
   "cell_type": "markdown",
   "id": "impressive-rochester",
   "metadata": {
    "slideshow": {
     "slide_type": "subslide"
    }
   },
   "source": [
    "## 在什麼樣的情境下我們會想使用子查詢呢？\n",
    "\n",
    "1. 查詢的篩選條件必須要先做一個查詢才能得知。\n",
    "2. 查詢的計算內容必須要先做一個查詢才能得知。\n",
    "3. 查詢所需要的資料來自不同資料表。"
   ]
  },
  {
   "cell_type": "markdown",
   "id": "posted-acrylic",
   "metadata": {
    "slideshow": {
     "slide_type": "subslide"
    }
   },
   "source": [
    "## 情境一：查詢的篩選條件必須要先做一個查詢才能得知\n",
    "\n",
    "我們想知道 `imdb` 資料庫的 `movies` 資料表中片長最短的電影是哪一部。\n",
    "\n",
    "```sql\n",
    "SELECT *\n",
    "  FROM movies\n",
    " WHERE runtime = MIN(runtime); -- 這個查詢會得到錯誤，因為聚合函數不能夠寫在 WHERE 後\n",
    "```"
   ]
  },
  {
   "cell_type": "markdown",
   "id": "continuous-nerve",
   "metadata": {
    "slideshow": {
     "slide_type": "subslide"
    }
   },
   "source": [
    "## 我們要分兩次查詢來完成\n",
    "\n",
    "- 先查詢「最短」的片長是幾分鐘。\n",
    "- 再依據前一個查詢結果作為篩選條件。"
   ]
  },
  {
   "cell_type": "code",
   "execution_count": 6,
   "id": "provincial-smith",
   "metadata": {
    "slideshow": {
     "slide_type": "subslide"
    }
   },
   "outputs": [
    {
     "data": {
      "text/html": [
       "<table>\n",
       "<tr>\n",
       "<th>minimum_runtime</th>\n",
       "</tr>\n",
       "<tr>\n",
       "<td>45</td>\n",
       "</tr>\n",
       "</table>\n",
       "1 row in set (0.00 sec)"
      ],
      "text/plain": [
       "+-----------------+\n",
       "| minimum_runtime |\n",
       "+-----------------+\n",
       "| 45              |\n",
       "+-----------------+\n",
       "1 row in set (0.00 sec)"
      ]
     },
     "execution_count": 6,
     "metadata": {},
     "output_type": "execute_result"
    }
   ],
   "source": [
    "SELECT MIN(runtime) AS minimum_runtime  -- 先查詢「最短」的片長是幾分鐘。\n",
    "  FROM movies;"
   ]
  },
  {
   "cell_type": "code",
   "execution_count": 7,
   "id": "alternative-march",
   "metadata": {
    "slideshow": {
     "slide_type": "subslide"
    }
   },
   "outputs": [
    {
     "data": {
      "text/html": [
       "<table>\n",
       "<tr>\n",
       "<th>id</th>\n",
       "<th>title</th>\n",
       "<th>release_year</th>\n",
       "<th>rating</th>\n",
       "<th>director</th>\n",
       "<th>runtime</th>\n",
       "</tr>\n",
       "<tr>\n",
       "<td>195</td>\n",
       "<td>Sherlock Jr.</td>\n",
       "<td>1924</td>\n",
       "<td>8.2</td>\n",
       "<td>Buster Keaton</td>\n",
       "<td>45</td>\n",
       "</tr>\n",
       "</table>\n",
       "1 row in set (0.00 sec)"
      ],
      "text/plain": [
       "+-----+--------------+--------------+--------+---------------+---------+\n",
       "| id  | title        | release_year | rating | director      | runtime |\n",
       "+-----+--------------+--------------+--------+---------------+---------+\n",
       "| 195 | Sherlock Jr. | 1924         | 8.2    | Buster Keaton | 45      |\n",
       "+-----+--------------+--------------+--------+---------------+---------+\n",
       "1 row in set (0.00 sec)"
      ]
     },
     "execution_count": 7,
     "metadata": {},
     "output_type": "execute_result"
    }
   ],
   "source": [
    "SELECT *\n",
    "  FROM movies\n",
    " WHERE runtime = 45;  -- 再依據前一個查詢結果作為篩選條件。"
   ]
  },
  {
   "cell_type": "markdown",
   "id": "induced-cherry",
   "metadata": {
    "slideshow": {
     "slide_type": "subslide"
    }
   },
   "source": [
    "## 面對情境一，我們可以應用子查詢將一段 SQL 查詢結果作為條件\n",
    "\n",
    "```sql\n",
    "SELECT column_names\n",
    "  FROM table_name\n",
    " WHERE conditions (Another SELECT statement);\n",
    "```"
   ]
  },
  {
   "cell_type": "code",
   "execution_count": 8,
   "id": "mighty-helena",
   "metadata": {
    "slideshow": {
     "slide_type": "subslide"
    }
   },
   "outputs": [
    {
     "data": {
      "text/html": [
       "<table>\n",
       "<tr>\n",
       "<th>minimum_runtime</th>\n",
       "</tr>\n",
       "<tr>\n",
       "<td>45</td>\n",
       "</tr>\n",
       "</table>\n",
       "1 row in set (0.00 sec)"
      ],
      "text/plain": [
       "+-----------------+\n",
       "| minimum_runtime |\n",
       "+-----------------+\n",
       "| 45              |\n",
       "+-----------------+\n",
       "1 row in set (0.00 sec)"
      ]
     },
     "execution_count": 8,
     "metadata": {},
     "output_type": "execute_result"
    }
   ],
   "source": [
    "SELECT MIN(runtime) AS minimum_runtime  -- 先查詢「最短」的片長是幾分鐘。\n",
    "  FROM movies;\n",
    "\n",
    "SELECT *\n",
    "  FROM movies\n",
    " WHERE runtime = 45;  -- 再依據前一個查詢結果作為篩選條件。"
   ]
  },
  {
   "cell_type": "markdown",
   "id": "agricultural-presentation",
   "metadata": {
    "slideshow": {
     "slide_type": "subslide"
    }
   },
   "source": [
    "## 情境二：查詢的計算內容必須要先做一個查詢才能得知\n",
    "\n",
    "我們想知道 `imdb` 資料庫的 `movies` 資料表中，在千禧年之後上映的電影佔比為多少？"
   ]
  },
  {
   "cell_type": "markdown",
   "id": "complimentary-polyester",
   "metadata": {
    "slideshow": {
     "slide_type": "subslide"
    }
   },
   "source": [
    "## 我們要分兩次查詢來完成\n",
    "\n",
    "- 先查詢在千禧年之後上映的電影有幾部。\n",
    "- 再依據前一個查詢結果作為計算內容。"
   ]
  },
  {
   "cell_type": "code",
   "execution_count": 9,
   "id": "changing-queen",
   "metadata": {
    "slideshow": {
     "slide_type": "subslide"
    }
   },
   "outputs": [
    {
     "data": {
      "text/html": [
       "<table>\n",
       "<tr>\n",
       "<th>number_of_movies</th>\n",
       "</tr>\n",
       "<tr>\n",
       "<td>101</td>\n",
       "</tr>\n",
       "</table>\n",
       "1 row in set (0.00 sec)"
      ],
      "text/plain": [
       "+------------------+\n",
       "| number_of_movies |\n",
       "+------------------+\n",
       "| 101              |\n",
       "+------------------+\n",
       "1 row in set (0.00 sec)"
      ]
     },
     "execution_count": 9,
     "metadata": {},
     "output_type": "execute_result"
    }
   ],
   "source": [
    "SELECT COUNT(*) AS number_of_movies\n",
    "  FROM movies\n",
    " WHERE release_year >= 2000;  -- 先查詢在千禧年之後上映的電影有幾部。"
   ]
  },
  {
   "cell_type": "code",
   "execution_count": 10,
   "id": "isolated-madrid",
   "metadata": {
    "slideshow": {
     "slide_type": "subslide"
    }
   },
   "outputs": [
    {
     "data": {
      "text/html": [
       "<table>\n",
       "<tr>\n",
       "<th>millennium_percentage</th>\n",
       "</tr>\n",
       "<tr>\n",
       "<td>0.404</td>\n",
       "</tr>\n",
       "</table>\n",
       "1 row in set (0.00 sec)"
      ],
      "text/plain": [
       "+-----------------------+\n",
       "| millennium_percentage |\n",
       "+-----------------------+\n",
       "| 0.404                 |\n",
       "+-----------------------+\n",
       "1 row in set (0.00 sec)"
      ]
     },
     "execution_count": 10,
     "metadata": {},
     "output_type": "execute_result"
    }
   ],
   "source": [
    "SELECT 101 / CAST(COUNT(*) AS REAL) AS millennium_percentage  -- 再依據前一個查詢結果作為計算內容。\n",
    "  FROM movies;"
   ]
  },
  {
   "cell_type": "markdown",
   "id": "warming-place",
   "metadata": {
    "slideshow": {
     "slide_type": "subslide"
    }
   },
   "source": [
    "## 面對情境二，我們可以應用子查詢將一段 SQL 查詢結果作為計算內容\n",
    "\n",
    "```sql\n",
    "SELECT (Another SELECT statement) AS alias\n",
    "  FROM table_name;\n",
    "```"
   ]
  },
  {
   "cell_type": "code",
   "execution_count": 11,
   "id": "renewable-lithuania",
   "metadata": {
    "slideshow": {
     "slide_type": "subslide"
    }
   },
   "outputs": [
    {
     "data": {
      "text/html": [
       "<table>\n",
       "<tr>\n",
       "<th>number_of_movies</th>\n",
       "</tr>\n",
       "<tr>\n",
       "<td>101</td>\n",
       "</tr>\n",
       "</table>\n",
       "1 row in set (0.00 sec)"
      ],
      "text/plain": [
       "+------------------+\n",
       "| number_of_movies |\n",
       "+------------------+\n",
       "| 101              |\n",
       "+------------------+\n",
       "1 row in set (0.00 sec)"
      ]
     },
     "execution_count": 11,
     "metadata": {},
     "output_type": "execute_result"
    }
   ],
   "source": [
    "SELECT COUNT(*) AS number_of_movies\n",
    "  FROM movies\n",
    " WHERE release_year >= 2000;  -- 先查詢在千禧年之後上映的電影有幾部。\n",
    "\n",
    "SELECT 101 / CAST(COUNT(*) AS REAL) AS millennium_percentage  -- 再依據前一個查詢結果作為計算內容。\n",
    "  FROM movies;"
   ]
  },
  {
   "cell_type": "markdown",
   "id": "fancy-kazakhstan",
   "metadata": {
    "slideshow": {
     "slide_type": "subslide"
    }
   },
   "source": [
    "## 情境三：查詢所需要的資料來自不同的資料表\n",
    "\n",
    "我們想知道在 `imdb` 資料庫中，哪幾部電影 Tom Hanks 有演出？"
   ]
  },
  {
   "cell_type": "markdown",
   "id": "governing-roberts",
   "metadata": {
    "slideshow": {
     "slide_type": "subslide"
    }
   },
   "source": [
    "## 我們要分三次查詢來完成\n",
    "\n",
    "- 先從 `actors` 資料表查詢 Tom Hanks 的演員編號是多少。\n",
    "- 再依據前一個查詢結果去 `casting` 資料表查詢。\n",
    "- 再依據前一個查詢結果去 `movies` 資料表查詢。"
   ]
  },
  {
   "cell_type": "code",
   "execution_count": 12,
   "id": "continuing-potter",
   "metadata": {
    "slideshow": {
     "slide_type": "subslide"
    }
   },
   "outputs": [
    {
     "data": {
      "text/html": [
       "<table>\n",
       "<tr>\n",
       "<th>id</th>\n",
       "</tr>\n",
       "<tr>\n",
       "<td>2865</td>\n",
       "</tr>\n",
       "</table>\n",
       "1 row in set (0.00 sec)"
      ],
      "text/plain": [
       "+------+\n",
       "| id   |\n",
       "+------+\n",
       "| 2865 |\n",
       "+------+\n",
       "1 row in set (0.00 sec)"
      ]
     },
     "execution_count": 12,
     "metadata": {},
     "output_type": "execute_result"
    }
   ],
   "source": [
    "SELECT id\n",
    "  FROM actors\n",
    " WHERE name = 'Tom Hanks';  -- 先從 actors 資料表查詢 Tom Hanks 的演員編號是多少。"
   ]
  },
  {
   "cell_type": "code",
   "execution_count": 13,
   "id": "asian-vector",
   "metadata": {
    "slideshow": {
     "slide_type": "subslide"
    }
   },
   "outputs": [
    {
     "data": {
      "text/html": [
       "<table>\n",
       "<tr>\n",
       "<th>movie_id</th>\n",
       "</tr>\n",
       "<tr>\n",
       "<td>12</td>\n",
       "</tr>\n",
       "<tr>\n",
       "<td>26</td>\n",
       "</tr>\n",
       "<tr>\n",
       "<td>27</td>\n",
       "</tr>\n",
       "<tr>\n",
       "<td>82</td>\n",
       "</tr>\n",
       "<tr>\n",
       "<td>112</td>\n",
       "</tr>\n",
       "<tr>\n",
       "<td>189</td>\n",
       "</tr>\n",
       "</table>\n",
       "6 rows in set (0.00 sec)"
      ],
      "text/plain": [
       "+----------+\n",
       "| movie_id |\n",
       "+----------+\n",
       "| 12       |\n",
       "+----------+\n",
       "| 26       |\n",
       "+----------+\n",
       "| 27       |\n",
       "+----------+\n",
       "| 82       |\n",
       "+----------+\n",
       "| 112      |\n",
       "+----------+\n",
       "| 189      |\n",
       "+----------+\n",
       "6 rows in set (0.00 sec)"
      ]
     },
     "execution_count": 13,
     "metadata": {},
     "output_type": "execute_result"
    }
   ],
   "source": [
    "SELECT movie_id\n",
    "  FROM casting\n",
    " WHERE actor_id = 2865;  -- 再依據前一個查詢結果去 casting 資料表查詢。"
   ]
  },
  {
   "cell_type": "code",
   "execution_count": 14,
   "id": "cordless-polls",
   "metadata": {
    "slideshow": {
     "slide_type": "subslide"
    }
   },
   "outputs": [
    {
     "data": {
      "text/html": [
       "<table>\n",
       "<tr>\n",
       "<th>id</th>\n",
       "<th>title</th>\n",
       "<th>release_year</th>\n",
       "<th>rating</th>\n",
       "<th>director</th>\n",
       "<th>runtime</th>\n",
       "</tr>\n",
       "<tr>\n",
       "<td>12</td>\n",
       "<td>Forrest Gump</td>\n",
       "<td>1994</td>\n",
       "<td>8.8</td>\n",
       "<td>Robert Zemeckis</td>\n",
       "<td>142</td>\n",
       "</tr>\n",
       "<tr>\n",
       "<td>26</td>\n",
       "<td>Saving Private Ryan</td>\n",
       "<td>1998</td>\n",
       "<td>8.6</td>\n",
       "<td>Steven Spielberg</td>\n",
       "<td>169</td>\n",
       "</tr>\n",
       "<tr>\n",
       "<td>27</td>\n",
       "<td>The Green Mile</td>\n",
       "<td>1999</td>\n",
       "<td>8.6</td>\n",
       "<td>Frank Darabont</td>\n",
       "<td>189</td>\n",
       "</tr>\n",
       "<tr>\n",
       "<td>82</td>\n",
       "<td>Toy Story</td>\n",
       "<td>1995</td>\n",
       "<td>8.3</td>\n",
       "<td>John Lasseter</td>\n",
       "<td>81</td>\n",
       "</tr>\n",
       "<tr>\n",
       "<td>112</td>\n",
       "<td>Toy Story 3</td>\n",
       "<td>2010</td>\n",
       "<td>8.2</td>\n",
       "<td>Lee Unkrich</td>\n",
       "<td>103</td>\n",
       "</tr>\n",
       "<tr>\n",
       "<td>189</td>\n",
       "<td>Catch Me If You Can</td>\n",
       "<td>2002</td>\n",
       "<td>8.1</td>\n",
       "<td>Steven Spielberg</td>\n",
       "<td>141</td>\n",
       "</tr>\n",
       "</table>\n",
       "6 rows in set (0.00 sec)"
      ],
      "text/plain": [
       "+-----+---------------------+--------------+--------+------------------+---------+\n",
       "| id  | title               | release_year | rating | director         | runtime |\n",
       "+-----+---------------------+--------------+--------+------------------+---------+\n",
       "| 12  | Forrest Gump        | 1994         | 8.8    | Robert Zemeckis  | 142     |\n",
       "+-----+---------------------+--------------+--------+------------------+---------+\n",
       "| 26  | Saving Private Ryan | 1998         | 8.6    | Steven Spielberg | 169     |\n",
       "+-----+---------------------+--------------+--------+------------------+---------+\n",
       "| 27  | The Green Mile      | 1999         | 8.6    | Frank Darabont   | 189     |\n",
       "+-----+---------------------+--------------+--------+------------------+---------+\n",
       "| 82  | Toy Story           | 1995         | 8.3    | John Lasseter    | 81      |\n",
       "+-----+---------------------+--------------+--------+------------------+---------+\n",
       "| 112 | Toy Story 3         | 2010         | 8.2    | Lee Unkrich      | 103     |\n",
       "+-----+---------------------+--------------+--------+------------------+---------+\n",
       "| 189 | Catch Me If You Can | 2002         | 8.1    | Steven Spielberg | 141     |\n",
       "+-----+---------------------+--------------+--------+------------------+---------+\n",
       "6 rows in set (0.00 sec)"
      ]
     },
     "execution_count": 14,
     "metadata": {},
     "output_type": "execute_result"
    }
   ],
   "source": [
    "SELECT *\n",
    "  FROM movies\n",
    " WHERE id IN (12, 26, 27, 82, 112, 189);  -- 再依據前一個查詢結果去 movies 資料表查詢。"
   ]
  },
  {
   "cell_type": "markdown",
   "id": "educated-calcium",
   "metadata": {
    "slideshow": {
     "slide_type": "subslide"
    }
   },
   "source": [
    "## 面對情境三，我們可以應用子查詢將一段 SQL 查詢結果作為條件\n",
    "\n",
    "```sql\n",
    "SELECT column_names\n",
    "  FROM table_name\n",
    " WHERE conditions (Another SELECT statement);\n",
    "```"
   ]
  },
  {
   "cell_type": "code",
   "execution_count": 15,
   "id": "sharp-drinking",
   "metadata": {
    "slideshow": {
     "slide_type": "subslide"
    }
   },
   "outputs": [
    {
     "data": {
      "text/html": [
       "<table>\n",
       "<tr>\n",
       "<th>id</th>\n",
       "</tr>\n",
       "<tr>\n",
       "<td>2865</td>\n",
       "</tr>\n",
       "</table>\n",
       "1 row in set (0.00 sec)"
      ],
      "text/plain": [
       "+------+\n",
       "| id   |\n",
       "+------+\n",
       "| 2865 |\n",
       "+------+\n",
       "1 row in set (0.00 sec)"
      ]
     },
     "execution_count": 15,
     "metadata": {},
     "output_type": "execute_result"
    }
   ],
   "source": [
    "SELECT id\n",
    "  FROM actors\n",
    " WHERE name = 'Tom Hanks';  -- 先從 actors 資料表查詢 Tom Hanks 的演員編號是多少。\n",
    " \n",
    "SELECT movie_id\n",
    "  FROM casting\n",
    " WHERE actor_id = 2865;  -- 再依據前一個查詢結果去 casting 資料表查詢。\n",
    " \n",
    "SELECT *\n",
    "  FROM movies\n",
    " WHERE id IN (12, 26, 27, 82, 112, 189);  -- 再依據前一個查詢結果去 movies 資料表查詢。"
   ]
  },
  {
   "cell_type": "markdown",
   "id": "auburn-accused",
   "metadata": {
    "slideshow": {
     "slide_type": "subslide"
    }
   },
   "source": [
    "## 也可以應用子查詢將一段 SQL 查詢結果作為資料表\n",
    "\n",
    "```sql\n",
    "SELECT column_names\n",
    "  FROM (SELECT column_names FROM table_name) AS alias;\n",
    "```"
   ]
  },
  {
   "cell_type": "code",
   "execution_count": 18,
   "id": "hazardous-mattress",
   "metadata": {
    "slideshow": {
     "slide_type": "subslide"
    }
   },
   "outputs": [
    {
     "data": {
      "text/html": [
       "<table>\n",
       "<tr>\n",
       "<th>release_year</th>\n",
       "<th>max_rating</th>\n",
       "</tr>\n",
       "<tr>\n",
       "<td>2021</td>\n",
       "<td>8.3</td>\n",
       "</tr>\n",
       "<tr>\n",
       "<td>2020</td>\n",
       "<td>8.5</td>\n",
       "</tr>\n",
       "<tr>\n",
       "<td>2019</td>\n",
       "<td>8.6</td>\n",
       "</tr>\n",
       "<tr>\n",
       "<td>2018</td>\n",
       "<td>8.5</td>\n",
       "</tr>\n",
       "<tr>\n",
       "<td>2017</td>\n",
       "<td>8.4</td>\n",
       "</tr>\n",
       "<tr>\n",
       "<td>2016</td>\n",
       "<td>8.4</td>\n",
       "</tr>\n",
       "<tr>\n",
       "<td>2015</td>\n",
       "<td>8.2</td>\n",
       "</tr>\n",
       "<tr>\n",
       "<td>2014</td>\n",
       "<td>8.6</td>\n",
       "</tr>\n",
       "<tr>\n",
       "<td>2013</td>\n",
       "<td>8.4</td>\n",
       "</tr>\n",
       "<tr>\n",
       "<td>2012</td>\n",
       "<td>8.4</td>\n",
       "</tr>\n",
       "</table>\n",
       "10 rows in set (0.00 sec)"
      ],
      "text/plain": [
       "+--------------+------------+\n",
       "| release_year | max_rating |\n",
       "+--------------+------------+\n",
       "| 2021         | 8.3        |\n",
       "+--------------+------------+\n",
       "| 2020         | 8.5        |\n",
       "+--------------+------------+\n",
       "| 2019         | 8.6        |\n",
       "+--------------+------------+\n",
       "| 2018         | 8.5        |\n",
       "+--------------+------------+\n",
       "| 2017         | 8.4        |\n",
       "+--------------+------------+\n",
       "| 2016         | 8.4        |\n",
       "+--------------+------------+\n",
       "| 2015         | 8.2        |\n",
       "+--------------+------------+\n",
       "| 2014         | 8.6        |\n",
       "+--------------+------------+\n",
       "| 2013         | 8.4        |\n",
       "+--------------+------------+\n",
       "| 2012         | 8.4        |\n",
       "+--------------+------------+\n",
       "10 rows in set (0.00 sec)"
      ]
     },
     "execution_count": 18,
     "metadata": {},
     "output_type": "execute_result"
    }
   ],
   "source": [
    "SELECT *\n",
    "  FROM (SELECT release_year,\n",
    "               MAX(rating) AS max_rating\n",
    "          FROM movies\n",
    "         GROUP BY release_year) AS max_rating_each_year\n",
    " ORDER BY release_year DESC\n",
    " LIMIT 10;"
   ]
  },
  {
   "cell_type": "markdown",
   "id": "handled-occasions",
   "metadata": {
    "slideshow": {
     "slide_type": "slide"
    }
   },
   "source": [
    "## 重點統整\n",
    "\n",
    "- 在一段 SQL 中包含著另外一段 SQL 的結構稱為子查詢（Subquery）。\n",
    "- 子查詢常見的應用情境有：\n",
    "    - 查詢的篩選條件必須要先做一個查詢才能得知。\n",
    "    - 查詢的計算內容必須要先做一個查詢才能得知。\n",
    "    - 查詢所需要的資料來自不同資料表。"
   ]
  },
  {
   "cell_type": "markdown",
   "id": "understanding-sudan",
   "metadata": {
    "slideshow": {
     "slide_type": "subslide"
    }
   },
   "source": [
    "## 重點統整（續）\n",
    "\n",
    "- 面對不同情境的子查詢型態有：\n",
    "    - 應用子查詢將一段 SQL 查詢結果作為**條件**。\n",
    "    - 應用子查詢將一段 SQL 查詢結果作為**計算內容**。\n",
    "    - 應用子查詢將一段 SQL 查詢結果作為**資料表**。"
   ]
  },
  {
   "cell_type": "markdown",
   "id": "employed-thousand",
   "metadata": {
    "slideshow": {
     "slide_type": "subslide"
    }
   },
   "source": [
    "```sql\n",
    "/*截至目前學起來的 SQL 有哪些？\n",
    "SQL 寫作順序必須遵從標準 SQL 的規定。*/\n",
    "SELECT column_names     -- 選擇哪些欄位\n",
    "  FROM table_name       -- 從哪個資料庫的資料表\n",
    " WHERE conditions       -- 篩選哪些觀測值\n",
    " GROUP BY column_names  -- 指定依照哪個變數分組\n",
    "HAVING conditions       -- 篩選哪些分組聚合的結果\n",
    " ORDER BY column_names  -- 指定依照哪個變數排序\n",
    " LIMIT m;               -- 查詢結果顯示前 m 列就好\n",
    "```"
   ]
  }
 ],
 "metadata": {
  "celltoolbar": "Slideshow",
  "kernelspec": {
   "display_name": "xsql",
   "language": "sqlite",
   "name": "xsql"
  },
  "language_info": {
   "codemirror_mode": "sql",
   "file_extension": "",
   "mimetype": "",
   "name": "mysql",
   "version": "0.0.8"
  }
 },
 "nbformat": 4,
 "nbformat_minor": 5
}
