{
 "cells": [
  {
   "cell_type": "markdown",
   "id": "lightweight-fruit",
   "metadata": {
    "slideshow": {
     "slide_type": "slide"
    }
   },
   "source": [
    "# SQL 的五十道練習\n",
    "\n",
    "> 虛擬資料表\n",
    "\n",
    "[數據交點](https://www.datainpoint.com/) | 郭耀仁 <yaojenkuo@datainpoint.com>"
   ]
  },
  {
   "cell_type": "markdown",
   "id": "associate-buffalo",
   "metadata": {
    "slideshow": {
     "slide_type": "subslide"
    }
   },
   "source": [
    "## 這個章節要學起來的 SQL 保留字\n",
    "\n",
    "- `CREATE VIEW`\n",
    "- `DROP VIEW`"
   ]
  },
  {
   "cell_type": "code",
   "execution_count": 1,
   "id": "matched-spyware",
   "metadata": {
    "slideshow": {
     "slide_type": "skip"
    }
   },
   "outputs": [],
   "source": [
    "%LOAD sqlite3 db=../databases/imdb.db timeout=2 shared_cache=true"
   ]
  },
  {
   "cell_type": "code",
   "execution_count": 2,
   "id": "desperate-contest",
   "metadata": {
    "slideshow": {
     "slide_type": "skip"
    }
   },
   "outputs": [],
   "source": [
    "ATTACH \"../databases/nba.db\" AS nba;"
   ]
  },
  {
   "cell_type": "code",
   "execution_count": 3,
   "id": "located-society",
   "metadata": {
    "slideshow": {
     "slide_type": "skip"
    }
   },
   "outputs": [],
   "source": [
    "ATTACH \"../databases/twElection2020.db\" AS twElection2020;"
   ]
  },
  {
   "cell_type": "code",
   "execution_count": 4,
   "id": "positive-conservative",
   "metadata": {
    "slideshow": {
     "slide_type": "skip"
    }
   },
   "outputs": [],
   "source": [
    "ATTACH \"../databases/covid19.db\" AS covid19;"
   ]
  },
  {
   "cell_type": "markdown",
   "id": "forward-passage",
   "metadata": {
    "slideshow": {
     "slide_type": "slide"
    }
   },
   "source": [
    "## 什麼是虛擬資料表"
   ]
  },
  {
   "cell_type": "markdown",
   "id": "guided-credit",
   "metadata": {
    "slideshow": {
     "slide_type": "subslide"
    }
   },
   "source": [
    "## 關聯式資料庫與 SQL 滿足了資料分析的應用情境\n",
    "\n",
    "- 設計資料表彼此之間的「關聯」特性，降低彼此之間的重複性。\n",
    "- 查詢所需要的資料可以源自**不同資料表**。"
   ]
  },
  {
   "cell_type": "markdown",
   "id": "decimal-newsletter",
   "metadata": {
    "slideshow": {
     "slide_type": "subslide"
    }
   },
   "source": [
    "## 資料表的豐富度愈高，SQL 的查詢結果也愈進階\n",
    "\n",
    "- 透過子查詢將一段 SQL 查詢結果作為資料表。\n",
    "- 從學習資料庫的實體關係圖（Entity Relationship Diagram，簡稱 ER Diagram）垂直與水平合併資料表。"
   ]
  },
  {
   "cell_type": "markdown",
   "id": "architectural-insured",
   "metadata": {
    "slideshow": {
     "slide_type": "subslide"
    }
   },
   "source": [
    "## 虛擬資料表（Views），也被稱為檢視表或者視圖\n",
    "\n",
    "- 相較於使用過後即被捨棄的子查詢，虛擬資料表會被保存在資料庫中。\n",
    "- 對純粹向資料庫查詢的人而言，虛擬資料表就等同於資料表的存在。\n",
    "- 實際上虛擬資料表中儲存的並不是資料，而是一段 `SELECT` 敘述。\n",
    "- 對虛擬資料表查詢時，才會執行被儲存的 `SELECT` 敘述生成。"
   ]
  },
  {
   "cell_type": "markdown",
   "id": "smaller-transaction",
   "metadata": {
    "slideshow": {
     "slide_type": "subslide"
    }
   },
   "source": [
    "## 簡單來說，虛擬資料表是一種介於「子查詢」與「建立資料表」之間的功能\n",
    "\n",
    "- 子查詢與虛擬資料表就像是資料表版本的「衍生計算欄位」。\n",
    "- 多數「非資料庫管理員」的分析師不具備建立資料表的權限。\n",
    "- 透過子查詢與虛擬資料表可以滿足新增資料表的需求。"
   ]
  },
  {
   "cell_type": "markdown",
   "id": "supposed-spread",
   "metadata": {
    "slideshow": {
     "slide_type": "slide"
    }
   },
   "source": [
    "## 建立虛擬資料表"
   ]
  },
  {
   "cell_type": "markdown",
   "id": "impaired-section",
   "metadata": {
    "slideshow": {
     "slide_type": "subslide"
    }
   },
   "source": [
    "## 以 `CREATE VIEW` 建立虛擬資料表\n",
    "\n",
    "```sql\n",
    "CREATE VIEW database_name.view_name (column_names)\n",
    "    AS\n",
    "SELECT Statement;\n",
    "```"
   ]
  },
  {
   "cell_type": "code",
   "execution_count": 5,
   "id": "clinical-arcade",
   "metadata": {
    "slideshow": {
     "slide_type": "subslide"
    }
   },
   "outputs": [],
   "source": [
    "CREATE VIEW imdb.highest_rating_by_year (release_year, max_rating)\n",
    "    AS\n",
    "SELECT release_year, \n",
    "       MAX(rating) AS max_rating\n",
    "  FROM movies\n",
    " GROUP BY release_year;"
   ]
  },
  {
   "cell_type": "code",
   "execution_count": 6,
   "id": "demonstrated-workshop",
   "metadata": {
    "slideshow": {
     "slide_type": "subslide"
    }
   },
   "outputs": [
    {
     "data": {
      "text/html": [
       "<table>\n",
       "<tr>\n",
       "<th>release_year</th>\n",
       "<th>max_rating</th>\n",
       "</tr>\n",
       "<tr>\n",
       "<td>1921</td>\n",
       "<td>8.3</td>\n",
       "</tr>\n",
       "<tr>\n",
       "<td>1924</td>\n",
       "<td>8.2</td>\n",
       "</tr>\n",
       "<tr>\n",
       "<td>1925</td>\n",
       "<td>8.2</td>\n",
       "</tr>\n",
       "<tr>\n",
       "<td>1926</td>\n",
       "<td>8.1</td>\n",
       "</tr>\n",
       "<tr>\n",
       "<td>1927</td>\n",
       "<td>8.3</td>\n",
       "</tr>\n",
       "</table>\n",
       "5 rows in set (0.00 sec)"
      ],
      "text/plain": [
       "+--------------+------------+\n",
       "| release_year | max_rating |\n",
       "+--------------+------------+\n",
       "| 1921         | 8.3        |\n",
       "+--------------+------------+\n",
       "| 1924         | 8.2        |\n",
       "+--------------+------------+\n",
       "| 1925         | 8.2        |\n",
       "+--------------+------------+\n",
       "| 1926         | 8.1        |\n",
       "+--------------+------------+\n",
       "| 1927         | 8.3        |\n",
       "+--------------+------------+\n",
       "5 rows in set (0.00 sec)"
      ]
     },
     "execution_count": 6,
     "metadata": {},
     "output_type": "execute_result"
    }
   ],
   "source": [
    "SELECT *\n",
    "  FROM highest_rating_by_year\n",
    " LIMIT 5;"
   ]
  },
  {
   "cell_type": "markdown",
   "id": "understanding-sudan",
   "metadata": {
    "slideshow": {
     "slide_type": "slide"
    }
   },
   "source": [
    "## 刪除虛擬資料表"
   ]
  },
  {
   "cell_type": "markdown",
   "id": "significant-zoning",
   "metadata": {
    "slideshow": {
     "slide_type": "subslide"
    }
   },
   "source": [
    "## 以 `DROP VIEW` 刪除虛擬資料表\n",
    "\n",
    "```sql\n",
    "DROP VIEW database_name.view_name;\n",
    "```"
   ]
  },
  {
   "cell_type": "code",
   "execution_count": 7,
   "id": "indoor-think",
   "metadata": {},
   "outputs": [],
   "source": [
    "DROP VIEW imdb.highest_rating_by_year;"
   ]
  },
  {
   "cell_type": "markdown",
   "id": "annoying-graduate",
   "metadata": {
    "slideshow": {
     "slide_type": "subslide"
    }
   },
   "source": [
    "## 刪除虛擬資料表之後便無法對它查詢"
   ]
  },
  {
   "cell_type": "code",
   "execution_count": null,
   "id": "median-findings",
   "metadata": {
    "slideshow": {
     "slide_type": "-"
    }
   },
   "outputs": [],
   "source": [
    "SELECT *\n",
    "  FROM highest_rating_by_year\n",
    " LIMIT 5;"
   ]
  },
  {
   "cell_type": "markdown",
   "id": "abandoned-passion",
   "metadata": {
    "slideshow": {
     "slide_type": "slide"
    }
   },
   "source": [
    "## 重點統整\n",
    "\n",
    "- 虛擬資料表（Views），也被稱為檢視表或者視圖。\n",
    "- 虛擬資料表是一種介於「子查詢」與「建立資料表」之間的功能。\n",
    "- 相較於使用過後即被捨棄的子查詢，虛擬資料表會被保存在資料庫中。"
   ]
  },
  {
   "cell_type": "markdown",
   "id": "accepting-witch",
   "metadata": {
    "slideshow": {
     "slide_type": "subslide"
    }
   },
   "source": [
    "## 重點統整（續）\n",
    "\n",
    "- 子查詢與虛擬資料表就像是資料表版本的「衍生計算欄位」。\n",
    "- 虛擬資料表中儲存的並不是資料，而是一段 `SELECT` 敘述。"
   ]
  },
  {
   "cell_type": "code",
   "execution_count": null,
   "id": "pacific-currency",
   "metadata": {
    "slideshow": {
     "slide_type": "subslide"
    }
   },
   "outputs": [],
   "source": [
    "/*截至目前學起來的 SQL 有哪些？\n",
    "SQL 寫作順序必須遵從標準 SQL 的規定。*/\n",
    "SELECT column_names     -- 選擇哪些欄位\n",
    "  FROM left_table       -- 從哪個資料庫的資料表\n",
    "  JOIN right_table      -- 與哪個資料表水平合併\n",
    "    ON left_table.join_key = right_table.join_key\n",
    " WHERE conditions       -- 篩選哪些觀測值\n",
    " GROUP BY column_names  -- 指定依照哪個變數分組\n",
    "HAVING conditions       -- 篩選哪些分組聚合的結果\n",
    " UNION SELECT statement -- 與哪段 SQL 垂直合併\n",
    " ORDER BY column_names  -- 指定依照哪個變數排序\n",
    " LIMIT m;               -- 查詢結果顯示前 m 列就好"
   ]
  },
  {
   "cell_type": "code",
   "execution_count": null,
   "id": "joined-acoustic",
   "metadata": {
    "slideshow": {
     "slide_type": "subslide"
    }
   },
   "outputs": [],
   "source": [
    "/*截至目前學起來的 SQL 有哪些？\n",
    "SQL 寫作順序必須遵從標準 SQL 的規定。*/\n",
    "CREATE VIEW database_name.view_name (column_names)\n",
    "    AS\n",
    "SELECT Statement;  -- 建立虛擬資料表\n",
    "DROP VIEW database_name.view_name;  -- 刪除虛擬資料表"
   ]
  }
 ],
 "metadata": {
  "celltoolbar": "Slideshow",
  "kernelspec": {
   "display_name": "xsql",
   "language": "sqlite",
   "name": "xsql"
  },
  "language_info": {
   "codemirror_mode": "sql",
   "file_extension": "",
   "mimetype": "",
   "name": "mysql",
   "version": "0.0.8"
  }
 },
 "nbformat": 4,
 "nbformat_minor": 5
}
