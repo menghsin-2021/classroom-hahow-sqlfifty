{
 "cells": [
  {
   "cell_type": "markdown",
   "metadata": {
    "deletable": false,
    "editable": false
   },
   "source": [
    "# SQL 的五十道練習\n",
    "\n",
    "> 虛擬資料表\n",
    "\n",
    "[數據交點](https://www.datainpoint.com) | 郭耀仁 <yaojenkuo@datainpoint.com>"
   ]
  },
  {
   "cell_type": "markdown",
   "metadata": {
    "deletable": false,
    "editable": false
   },
   "source": [
    "## 練習題指引\n",
    "\n",
    "- 在每份練習題的開始，都會先將四個學習資料庫載入環境。\n",
    "- 因此 SQL 可以指定四個學習資料庫中的資料表，不需要額外指定資料庫。\n",
    "- 在 SQL 語法起點與 SQL 語法終點這兩個單行註解之間撰寫能夠得到預期結果的 SQL。\n",
    "- 可以先在自己電腦的 SQLiteStudio 或者 DBeaver 寫出跟預期結果相同的 SQL 後再複製貼上到練習題。\n",
    "- 執行測試的方式為點選上方選單的 Kernel -> Restart & Run All -> Restart and Run All Cells。\n",
    "- 可以每寫一題就執行測試，也可以全部寫完再執行測試。\n",
    "- 練習題閒置超過 10 分鐘會自動斷線，這時只要重新點選練習題連結即可重新啟動。"
   ]
  },
  {
   "cell_type": "code",
   "execution_count": 1,
   "metadata": {
    "deletable": false,
    "editable": false
   },
   "outputs": [
    {
     "data": {
      "text/plain": [
       "<sqlite3.Cursor at 0x213200b21f0>"
      ]
     },
     "execution_count": 1,
     "metadata": {},
     "output_type": "execute_result"
    }
   ],
   "source": [
    "import sqlite3\n",
    "import unittest\n",
    "import json\n",
    "import os\n",
    "import numpy as np\n",
    "import pandas as pd\n",
    "conn = sqlite3.connect('../databases/imdb.db')\n",
    "conn.execute(\"\"\"ATTACH '../databases/nba.db' AS nba\"\"\")\n",
    "conn.execute(\"\"\"ATTACH '../databases/covid19.db' AS covid19\"\"\")\n",
    "conn.execute(\"\"\"ATTACH '../databases/twElection2020.db' AS twElection2020\"\"\")"
   ]
  },
  {
   "cell_type": "markdown",
   "metadata": {},
   "source": [
    "## 40. 從 `covid19` 資料庫建立一個虛擬資料表名為 `total_confirmed_by_country_region` 記錄截至 2021-03-31 全球各國的確診人數，參考下列的預期輸出。\n",
    "\n",
    "- 預期輸入：SQL 語法。\n",
    "- 預期輸出：(192, 2) 的虛擬資料表 `total_confirmed_by_country_region`。\n",
    "\n",
    "```sql\n",
    "SELECT *\n",
    "  FROM total_confirmed_by_country_region;\n",
    "```\n",
    "\n",
    "```\n",
    "         Country_Region  total_confirmed\n",
    "0           Afghanistan            56454\n",
    "1               Albania           125157\n",
    "2               Algeria           117192\n",
    "3               Andorra            12010\n",
    "4                Angola            22311\n",
    "..                  ...              ...\n",
    "187             Vietnam             2603\n",
    "188  West Bank and Gaza           242353\n",
    "189               Yemen             4357\n",
    "190              Zambia            88418\n",
    "191            Zimbabwe            36882\n",
    "\n",
    "[192 rows x 2 columns]\n",
    "```"
   ]
  },
  {
   "cell_type": "code",
   "execution_count": 6,
   "metadata": {},
   "outputs": [],
   "source": [
    "create_view_total_confirmed_by_country_region_from_covid19 =\\\n",
    "\"\"\"\n",
    "-- SQL 語法起點\n",
    "CREATE VIEW covid19.total_confirmed_by_country_region (Country_Region, total_confirmed)\n",
    "    AS\n",
    "SELECT lookup_table.Country_Region AS Country_Region, \n",
    "       SUM(daily_report.Confirmed) AS total_confirmed\n",
    "  FROM lookup_table\n",
    "  JOIN daily_report\n",
    "    ON daily_report.Combined_Key = lookup_table.Combined_Key\n",
    "GROUP BY Country_Region\n",
    "\n",
    "-- SQL 語法終點\n",
    "\"\"\""
   ]
  },
  {
   "cell_type": "markdown",
   "metadata": {},
   "source": [
    "## 41. 從 `twElection2020` 資料庫建立一個虛擬資料表名為 `presidential_total_votes` 記錄三組候選人的總得票數，參考下列的預期輸出。\n",
    "\n",
    "- 預期輸入：SQL 語法。\n",
    "- 預期輸出：(3, 3) 的虛擬資料表 `presidential_total_votes`。\n",
    "\n",
    "```sql\n",
    "SELECT * \n",
    "  FROM presidential_total_votes;\n",
    "```\n",
    "\n",
    "```\n",
    "  number candidate  total_votes\n",
    "0      1    宋楚瑜/余湘       608590\n",
    "1      2   韓國瑜/張善政      5522119\n",
    "2      3   蔡英文/賴清德      8170231\n",
    "```"
   ]
  },
  {
   "cell_type": "code",
   "execution_count": 8,
   "metadata": {},
   "outputs": [],
   "source": [
    "create_view_presidential_total_votes_from_twelection2020 =\\\n",
    "\"\"\"\n",
    "-- SQL 語法起點\n",
    "CREATE VIEW twElection2020.presidential_total_votes (number, candidate, total_votes)\n",
    "    AS\n",
    "SELECT candidates.id AS number,\n",
    "       candidates.candidate AS candidate,\n",
    "       SUM(presidential.votes) AS total_votes\n",
    "  FROM candidates\n",
    "  JOIN presidential\n",
    "    ON candidates.id = presidential.candidate_id\n",
    "GROUP BY number\n",
    "-- SQL 語法終點\n",
    "\"\"\""
   ]
  },
  {
   "cell_type": "markdown",
   "metadata": {},
   "source": [
    "## 42. 從 `nba` 資料庫建立一個虛擬資料表名為 `ppg_leader_by_teams`  紀錄各個球隊的得分王（生涯場均得分 `ppg` 全隊最高）是誰，參考下列的預期輸出。\n",
    "\n",
    "- 預期輸入：SQL 語法。\n",
    "- 預期輸出：(30, 4) 的虛擬資料表 `ppg_leader_by_teams`。\n",
    "\n",
    "```sql\n",
    "SELECT *\n",
    "  FROM ppg_leader_by_teams;\n",
    "```\n",
    "\n",
    "```\n",
    "                      team     firstName            lastName   ppg\n",
    "0            Atlanta Hawks          Trae               Young  24.0\n",
    "1           Boston Celtics         Kemba              Walker  19.8\n",
    "2            Brooklyn Nets         Kevin              Durant  27.1\n",
    "3        Charlotte Hornets        LaMelo                Ball  15.9\n",
    "4            Chicago Bulls          Zach              LaVine  18.8\n",
    "5      Cleveland Cavaliers        Collin              Sexton  19.7\n",
    "6         Dallas Mavericks          Luka              Doncic  25.6\n",
    "7           Denver Nuggets        Nikola               Jokic  18.0\n",
    "8          Detroit Pistons          Josh             Jackson  12.0\n",
    "9    Golden State Warriors       Stephen               Curry  23.8\n",
    "10         Houston Rockets          John                Wall  19.0\n",
    "11          Indiana Pacers          T.J.              Warren  15.5\n",
    "12             LA Clippers          Paul              George  20.1\n",
    "13      Los Angeles Lakers        LeBron               James  27.0\n",
    "14       Memphis Grizzlies            Ja              Morant  18.4\n",
    "15              Miami Heat        Victor             Oladipo  17.6\n",
    "16         Milwaukee Bucks       Giannis       Antetokounmpo  20.7\n",
    "17  Minnesota Timberwolves  Karl-Anthony               Towns  22.8\n",
    "18    New Orleans Pelicans          Zion          Williamson  25.0\n",
    "19         New York Knicks       Derrick                Rose  18.5\n",
    "20   Oklahoma City Thunder          Shai  Gilgeous-Alexander  16.3\n",
    "21           Orlando Magic          Gary              Harris  12.0\n",
    "22      Philadelphia 76ers          Joel              Embiid  24.7\n",
    "23            Phoenix Suns         Devin              Booker  22.8\n",
    "24  Portland Trail Blazers        Damian             Lillard  24.6\n",
    "25        Sacramento Kings      De'Aaron                 Fox  17.8\n",
    "26       San Antonio Spurs         DeMar             DeRozan  20.1\n",
    "27         Toronto Raptors          Kyle               Lowry  14.8\n",
    "28               Utah Jazz       Donovan            Mitchell  23.2\n",
    "29      Washington Wizards       Russell           Westbrook  23.2\n",
    "```"
   ]
  },
  {
   "cell_type": "code",
   "execution_count": 10,
   "metadata": {},
   "outputs": [],
   "source": [
    "create_view_ppg_leader_by_teams_from_nba =\\\n",
    "\"\"\"\n",
    "-- SQL 語法起點\n",
    "CREATE VIEW nba.ppg_leader_by_teams (team, firstName, lastName, ppg)\n",
    "    AS\n",
    "SELECT teams.fullName AS team,\n",
    "       players.firstName AS firstName,\n",
    "       players.lastName AS lastName,\n",
    "       MAX(career_summaries.ppg) AS ppg\n",
    "  FROM teams\n",
    "  JOIN players\n",
    "    ON teams.teamId = players.teamId\n",
    "  JOIN career_summaries\n",
    "    ON players.personId = career_summaries.personId\n",
    "GROUP BY team\n",
    "ORDER BY team\n",
    "-- SQL 語法終點\n",
    "\"\"\""
   ]
  },
  {
   "cell_type": "markdown",
   "metadata": {
    "deletable": false,
    "editable": false
   },
   "source": [
    "## 執行測試！\n",
    "\n",
    "Kernel -> Restart & Run All -> Restart and Run All Cells."
   ]
  },
  {
   "cell_type": "code",
   "execution_count": 11,
   "metadata": {
    "deletable": false,
    "editable": false
   },
   "outputs": [
    {
     "name": "stderr",
     "output_type": "stream",
     "text": [
      "test_40_create_view_total_confirmed_by_country_region_from_covid19 (__main__.TestViews) ... ok\n",
      "test_41_create_view_presidential_total_votes_from_twelection2020 (__main__.TestViews) ... ok\n",
      "test_42_create_view_ppg_leader_by_teams_from_nba (__main__.TestViews) ... ok\n",
      "\n",
      "----------------------------------------------------------------------\n",
      "Ran 3 tests in 0.928s\n",
      "\n",
      "OK\n"
     ]
    },
    {
     "ename": "UnicodeDecodeError",
     "evalue": "'cp950' codec can't decode byte 0x9e in position 27: illegal multibyte sequence",
     "output_type": "error",
     "traceback": [
      "\u001b[1;31m---------------------------------------------------------------------------\u001b[0m",
      "\u001b[1;31mUnicodeDecodeError\u001b[0m                        Traceback (most recent call last)",
      "\u001b[1;32m<ipython-input-11-890817cff637>\u001b[0m in \u001b[0;36m<module>\u001b[1;34m\u001b[0m\n\u001b[0;32m     35\u001b[0m \u001b[0mfolder_name\u001b[0m \u001b[1;33m=\u001b[0m \u001b[0mcwd\u001b[0m\u001b[1;33m.\u001b[0m\u001b[0msplit\u001b[0m\u001b[1;33m(\u001b[0m\u001b[1;34m\"/\"\u001b[0m\u001b[1;33m)\u001b[0m\u001b[1;33m[\u001b[0m\u001b[1;33m-\u001b[0m\u001b[1;36m1\u001b[0m\u001b[1;33m]\u001b[0m\u001b[1;33m\u001b[0m\u001b[1;33m\u001b[0m\u001b[0m\n\u001b[0;32m     36\u001b[0m \u001b[1;32mwith\u001b[0m \u001b[0mopen\u001b[0m\u001b[1;33m(\u001b[0m\u001b[1;34m\"../exercise_index.json\"\u001b[0m\u001b[1;33m,\u001b[0m \u001b[1;34m\"r\"\u001b[0m\u001b[1;33m)\u001b[0m \u001b[1;32mas\u001b[0m \u001b[0mcontent\u001b[0m\u001b[1;33m:\u001b[0m\u001b[1;33m\u001b[0m\u001b[1;33m\u001b[0m\u001b[0m\n\u001b[1;32m---> 37\u001b[1;33m     \u001b[0mexercise_index\u001b[0m \u001b[1;33m=\u001b[0m \u001b[0mjson\u001b[0m\u001b[1;33m.\u001b[0m\u001b[0mload\u001b[0m\u001b[1;33m(\u001b[0m\u001b[0mcontent\u001b[0m\u001b[1;33m)\u001b[0m\u001b[1;33m\u001b[0m\u001b[1;33m\u001b[0m\u001b[0m\n\u001b[0m\u001b[0;32m     38\u001b[0m \u001b[0mchapter_name\u001b[0m \u001b[1;33m=\u001b[0m \u001b[0mexercise_index\u001b[0m\u001b[1;33m[\u001b[0m\u001b[0mfolder_name\u001b[0m\u001b[1;33m]\u001b[0m\u001b[1;33m\u001b[0m\u001b[1;33m\u001b[0m\u001b[0m\n",
      "\u001b[1;32mD:\\Users\\Meng-Hsin\\anaconda3\\lib\\json\\__init__.py\u001b[0m in \u001b[0;36mload\u001b[1;34m(fp, cls, object_hook, parse_float, parse_int, parse_constant, object_pairs_hook, **kw)\u001b[0m\n\u001b[0;32m    291\u001b[0m     \u001b[0mkwarg\u001b[0m\u001b[1;33m;\u001b[0m \u001b[0motherwise\u001b[0m\u001b[0;31m \u001b[0m\u001b[0;31m`\u001b[0m\u001b[0;31m`\u001b[0m\u001b[0mJSONDecoder\u001b[0m\u001b[0;31m`\u001b[0m\u001b[0;31m`\u001b[0m \u001b[1;32mis\u001b[0m \u001b[0mused\u001b[0m\u001b[1;33m.\u001b[0m\u001b[1;33m\u001b[0m\u001b[1;33m\u001b[0m\u001b[0m\n\u001b[0;32m    292\u001b[0m     \"\"\"\n\u001b[1;32m--> 293\u001b[1;33m     return loads(fp.read(),\n\u001b[0m\u001b[0;32m    294\u001b[0m         \u001b[0mcls\u001b[0m\u001b[1;33m=\u001b[0m\u001b[0mcls\u001b[0m\u001b[1;33m,\u001b[0m \u001b[0mobject_hook\u001b[0m\u001b[1;33m=\u001b[0m\u001b[0mobject_hook\u001b[0m\u001b[1;33m,\u001b[0m\u001b[1;33m\u001b[0m\u001b[1;33m\u001b[0m\u001b[0m\n\u001b[0;32m    295\u001b[0m         \u001b[0mparse_float\u001b[0m\u001b[1;33m=\u001b[0m\u001b[0mparse_float\u001b[0m\u001b[1;33m,\u001b[0m \u001b[0mparse_int\u001b[0m\u001b[1;33m=\u001b[0m\u001b[0mparse_int\u001b[0m\u001b[1;33m,\u001b[0m\u001b[1;33m\u001b[0m\u001b[1;33m\u001b[0m\u001b[0m\n",
      "\u001b[1;31mUnicodeDecodeError\u001b[0m: 'cp950' codec can't decode byte 0x9e in position 27: illegal multibyte sequence"
     ]
    }
   ],
   "source": [
    "class TestViews(unittest.TestCase):\n",
    "    def test_40_create_view_total_confirmed_by_country_region_from_covid19(self):\n",
    "        view_name = \"total_confirmed_by_country_region\"\n",
    "        drop_view_if_exists = \"\"\"DROP VIEW IF EXISTS {}\"\"\".format(view_name)\n",
    "        conn.execute(drop_view_if_exists)\n",
    "        conn.execute(create_view_total_confirmed_by_country_region_from_covid19)\n",
    "        select_all_query = \"\"\"SELECT * FROM {};\"\"\".format(view_name)\n",
    "        view_select_all = pd.read_sql(select_all_query, conn)\n",
    "        self.assertEqual(view_select_all.shape, (192, 2))\n",
    "    def test_41_create_view_presidential_total_votes_from_twelection2020(self):\n",
    "        view_name = \"presidential_total_votes\"\n",
    "        drop_view_if_exists = \"\"\"DROP VIEW IF EXISTS {}\"\"\".format(view_name)\n",
    "        conn.execute(drop_view_if_exists)\n",
    "        conn.execute(create_view_presidential_total_votes_from_twelection2020)\n",
    "        select_all_query = \"\"\"SELECT * FROM {};\"\"\".format(view_name)\n",
    "        view_select_all = pd.read_sql(select_all_query, conn)\n",
    "        self.assertEqual(view_select_all.shape, (3, 3))\n",
    "    def test_42_create_view_ppg_leader_by_teams_from_nba(self):\n",
    "        view_name = \"ppg_leader_by_teams\"\n",
    "        drop_view_if_exists = \"\"\"DROP VIEW IF EXISTS {}\"\"\".format(view_name)\n",
    "        conn.execute(drop_view_if_exists)\n",
    "        conn.execute(create_view_ppg_leader_by_teams_from_nba)\n",
    "        select_all_query = \"\"\"SELECT * FROM {};\"\"\".format(view_name)\n",
    "        view_select_all = pd.read_sql(select_all_query, conn)\n",
    "        self.assertEqual(view_select_all.shape, (30, 4))\n",
    "\n",
    "suite = unittest.TestLoader().loadTestsFromTestCase(TestViews)\n",
    "runner = unittest.TextTestRunner(verbosity=2)\n",
    "test_results = runner.run(suite)\n",
    "number_of_failures = len(test_results.failures)\n",
    "number_of_errors = len(test_results.errors)\n",
    "number_of_test_runs = test_results.testsRun\n",
    "number_of_successes = number_of_test_runs - (number_of_failures + number_of_errors)\n",
    "cwd = os.getcwd()\n",
    "folder_name = cwd.split(\"/\")[-1]\n",
    "with open(\"../exercise_index.json\", \"r\") as content:\n",
    "    exercise_index = json.load(content)\n",
    "chapter_name = exercise_index[folder_name]"
   ]
  },
  {
   "cell_type": "code",
   "execution_count": 6,
   "metadata": {
    "deletable": false,
    "editable": false
   },
   "outputs": [
    {
     "name": "stdout",
     "output_type": "stream",
     "text": [
      "您在「虛擬資料表」章節中的 3 道 SQL 練習答對了 0 題。\n"
     ]
    }
   ],
   "source": [
    "print(\"您在「{}」章節中的 {} 道 SQL 練習答對了 {} 題。\".format(chapter_name, number_of_test_runs, number_of_successes))"
   ]
  }
 ],
 "metadata": {
  "kernelspec": {
   "display_name": "Python 3",
   "language": "python",
   "name": "python3"
  },
  "language_info": {
   "codemirror_mode": {
    "name": "ipython",
    "version": 3
   },
   "file_extension": ".py",
   "mimetype": "text/x-python",
   "name": "python",
   "nbconvert_exporter": "python",
   "pygments_lexer": "ipython3",
   "version": "3.8.5"
  }
 },
 "nbformat": 4,
 "nbformat_minor": 4
}
