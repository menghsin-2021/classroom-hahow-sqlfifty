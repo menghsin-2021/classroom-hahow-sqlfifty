{
 "cells": [
  {
   "cell_type": "markdown",
   "metadata": {
    "deletable": false,
    "editable": false
   },
   "source": [
    "# SQL 的五十道練習\n",
    "\n",
    "> 建立更新與刪除資料表\n",
    "\n",
    "[數據交點](https://www.datainpoint.com) | 郭耀仁 <yaojenkuo@datainpoint.com>"
   ]
  },
  {
   "cell_type": "markdown",
   "metadata": {
    "deletable": false,
    "editable": false
   },
   "source": [
    "## 練習題指引\n",
    "\n",
    "- 在每份練習題的開始，都會先將四個學習資料庫載入環境。\n",
    "- 因此 SQL 可以指定四個學習資料庫中的資料表，不需要額外指定資料庫。\n",
    "- 在 SQL 語法起點與 SQL 語法終點這兩個單行註解之間撰寫能夠得到預期結果的 SQL。\n",
    "- 可以先在自己電腦的 SQLiteStudio 或者 DBeaver 寫出跟預期結果相同的 SQL 後再複製貼上到練習題。\n",
    "- 執行測試的方式為點選上方選單的 Kernel -> Restart & Run All -> Restart and Run All Cells。\n",
    "- 可以每寫一題就執行測試，也可以全部寫完再執行測試。\n",
    "- 練習題閒置超過 10 分鐘會自動斷線，這時只要重新點選練習題連結即可重新啟動。"
   ]
  },
  {
   "cell_type": "code",
   "execution_count": 20,
   "metadata": {
    "deletable": false,
    "editable": false
   },
   "outputs": [],
   "source": [
    "import sqlite3\n",
    "import unittest\n",
    "import json\n",
    "import os\n",
    "import numpy as np\n",
    "import pandas as pd\n",
    "conn = sqlite3.connect('../databases/test.db')"
   ]
  },
  {
   "cell_type": "markdown",
   "metadata": {},
   "source": [
    "## 43. 在已經建立且連線好的 `test` 資料庫新增一個資料表名為 `favorite_players`，具有三個欄位 `name`、`years_pro`、`ppg`，資料類型分別是文字（`TEXT`）、整數（`INTEGER`）與浮點數（`REAL`），參考下列的預期輸出。\n",
    "\n",
    "- 預期輸入：SQL 語法。\n",
    "- 預期輸出：(0, 3) 的資料表 `favorite_players`。\n",
    "\n",
    "```sql\n",
    "SELECT *\n",
    "  FROM favorite_players;\n",
    "```\n",
    "\n",
    "```\n",
    "name\tyears_pro\tppg\n",
    "```"
   ]
  },
  {
   "cell_type": "code",
   "execution_count": 24,
   "metadata": {},
   "outputs": [],
   "source": [
    "create_table_favorite_players_in_test =\\\n",
    "\"\"\"\n",
    "-- SQL 語法起點\n",
    "CREATE TABLE favorite_players(\n",
    "        name TEXT,\n",
    "        years_pro INTEGER,\n",
    "        ppg REAL\n",
    ")\n",
    "-- SQL 語法終點\n",
    "\"\"\""
   ]
  },
  {
   "cell_type": "markdown",
   "metadata": {},
   "source": [
    "## 44. 承接上題，在 `test` 資料庫的 `favorite_players` 資料表中新增五筆觀測值，參考下列的預期輸出。\n",
    "\n",
    "- 預期輸入：SQL 語法。\n",
    "- 預期輸出：(5, 3) 的資料表 `favorite_players`。\n",
    "\n",
    "```sql\n",
    "SELECT * \n",
    "  FROM favorite_players;\n",
    "```\n",
    "\n",
    "```\n",
    "              name  years_pro   ppg\n",
    "0       Steve Nash         19  14.3\n",
    "1   Michael Jordan         14  30.1\n",
    "2      Paul Pierce         19  19.7\n",
    "3    Kevin Garnett         21  17.8\n",
    "4  Hakeem Olajuwon         18  21.8\n",
    "```"
   ]
  },
  {
   "cell_type": "code",
   "execution_count": 26,
   "metadata": {},
   "outputs": [],
   "source": [
    "insert_table_favorite_players_in_test =\\\n",
    "\"\"\"\n",
    "-- SQL 語法起點\n",
    "INSERT INTO favorite_players\n",
    "VALUES ('Steve Nash', 19, 14.3),\n",
    "       ('Michael Jordan', 14, 30.1),\n",
    "       ('Paul Pierce', 19, 19.7),\n",
    "       ('Kevin Garnett', 21, 17.8),\n",
    "       ('Hakeem Olajuwon', 18, 21.8)\n",
    "-- SQL 語法終點\n",
    "\"\"\""
   ]
  },
  {
   "cell_type": "markdown",
   "metadata": {},
   "source": [
    "## 45. 承接上題，在 `test` 資料庫的 `favorite_players` 資料表將第五位球員 Hakeem Olajuwon 替換成 Tim Duncan，參考下列的預期輸出。\n",
    "\n",
    "- 預期輸入：SQL 語法。\n",
    "- 預期輸出：(5, 3) 的虛擬資料表 `favorite_players`。\n",
    "\n",
    "```sql\n",
    "SELECT *\n",
    "  FROM favorite_players;\n",
    "```\n",
    "\n",
    "```\n",
    "             name  years_pro   ppg\n",
    "0      Steve Nash         19  14.3\n",
    "1  Michael Jordan         14  30.1\n",
    "2     Paul Pierce         19  19.7\n",
    "3   Kevin Garnett         21  17.8\n",
    "4      Tim Duncan         19  19.0\n",
    "```"
   ]
  },
  {
   "cell_type": "code",
   "execution_count": 4,
   "metadata": {},
   "outputs": [],
   "source": [
    "update_table_favorite_players_in_test =\\\n",
    "\"\"\"\n",
    "-- SQL 語法起點\n",
    "\n",
    "-- SQL 語法終點\n",
    "\"\"\""
   ]
  },
  {
   "cell_type": "markdown",
   "metadata": {
    "deletable": false,
    "editable": false
   },
   "source": [
    "## 執行測試！\n",
    "\n",
    "Kernel -> Restart & Run All -> Restart and Run All Cells."
   ]
  },
  {
   "cell_type": "code",
   "execution_count": 27,
   "metadata": {
    "deletable": false,
    "editable": false
   },
   "outputs": [
    {
     "name": "stderr",
     "output_type": "stream",
     "text": [
      "test_43_create_table_favorite_players_in_test (__main__.TestCUD) ... ok\n",
      "test_44_insert_table_favorite_players_in_test (__main__.TestCUD) ... ok\n",
      "test_45_update_table_favorite_players_in_test (__main__.TestCUD) ... ERROR\n",
      "\n",
      "======================================================================\n",
      "ERROR: test_45_update_table_favorite_players_in_test (__main__.TestCUD)\n",
      "----------------------------------------------------------------------\n",
      "Traceback (most recent call last):\n",
      "  File \"<ipython-input-27-34cf380c801e>\", line 25, in test_45_update_table_favorite_players_in_test\n",
      "    conn.execute(update_table_favorite_players_in_test)\n",
      "NameError: name 'update_table_favorite_players_in_test' is not defined\n",
      "\n",
      "----------------------------------------------------------------------\n",
      "Ran 3 tests in 1.179s\n",
      "\n",
      "FAILED (errors=1)\n"
     ]
    },
    {
     "ename": "UnicodeDecodeError",
     "evalue": "'cp950' codec can't decode byte 0x9e in position 27: illegal multibyte sequence",
     "output_type": "error",
     "traceback": [
      "\u001b[1;31m---------------------------------------------------------------------------\u001b[0m",
      "\u001b[1;31mUnicodeDecodeError\u001b[0m                        Traceback (most recent call last)",
      "\u001b[1;32m<ipython-input-27-34cf380c801e>\u001b[0m in \u001b[0;36m<module>\u001b[1;34m\u001b[0m\n\u001b[0;32m     40\u001b[0m \u001b[0mfolder_name\u001b[0m \u001b[1;33m=\u001b[0m \u001b[0mcwd\u001b[0m\u001b[1;33m.\u001b[0m\u001b[0msplit\u001b[0m\u001b[1;33m(\u001b[0m\u001b[1;34m\"/\"\u001b[0m\u001b[1;33m)\u001b[0m\u001b[1;33m[\u001b[0m\u001b[1;33m-\u001b[0m\u001b[1;36m1\u001b[0m\u001b[1;33m]\u001b[0m\u001b[1;33m\u001b[0m\u001b[1;33m\u001b[0m\u001b[0m\n\u001b[0;32m     41\u001b[0m \u001b[1;32mwith\u001b[0m \u001b[0mopen\u001b[0m\u001b[1;33m(\u001b[0m\u001b[1;34m\"../exercise_index.json\"\u001b[0m\u001b[1;33m,\u001b[0m \u001b[1;34m\"r\"\u001b[0m\u001b[1;33m)\u001b[0m \u001b[1;32mas\u001b[0m \u001b[0mcontent\u001b[0m\u001b[1;33m:\u001b[0m\u001b[1;33m\u001b[0m\u001b[1;33m\u001b[0m\u001b[0m\n\u001b[1;32m---> 42\u001b[1;33m     \u001b[0mexercise_index\u001b[0m \u001b[1;33m=\u001b[0m \u001b[0mjson\u001b[0m\u001b[1;33m.\u001b[0m\u001b[0mload\u001b[0m\u001b[1;33m(\u001b[0m\u001b[0mcontent\u001b[0m\u001b[1;33m)\u001b[0m\u001b[1;33m\u001b[0m\u001b[1;33m\u001b[0m\u001b[0m\n\u001b[0m\u001b[0;32m     43\u001b[0m \u001b[0mchapter_name\u001b[0m \u001b[1;33m=\u001b[0m \u001b[0mexercise_index\u001b[0m\u001b[1;33m[\u001b[0m\u001b[0mfolder_name\u001b[0m\u001b[1;33m]\u001b[0m\u001b[1;33m\u001b[0m\u001b[1;33m\u001b[0m\u001b[0m\n",
      "\u001b[1;32mD:\\Users\\Meng-Hsin\\anaconda3\\lib\\json\\__init__.py\u001b[0m in \u001b[0;36mload\u001b[1;34m(fp, cls, object_hook, parse_float, parse_int, parse_constant, object_pairs_hook, **kw)\u001b[0m\n\u001b[0;32m    291\u001b[0m     \u001b[0mkwarg\u001b[0m\u001b[1;33m;\u001b[0m \u001b[0motherwise\u001b[0m\u001b[0;31m \u001b[0m\u001b[0;31m`\u001b[0m\u001b[0;31m`\u001b[0m\u001b[0mJSONDecoder\u001b[0m\u001b[0;31m`\u001b[0m\u001b[0;31m`\u001b[0m \u001b[1;32mis\u001b[0m \u001b[0mused\u001b[0m\u001b[1;33m.\u001b[0m\u001b[1;33m\u001b[0m\u001b[1;33m\u001b[0m\u001b[0m\n\u001b[0;32m    292\u001b[0m     \"\"\"\n\u001b[1;32m--> 293\u001b[1;33m     return loads(fp.read(),\n\u001b[0m\u001b[0;32m    294\u001b[0m         \u001b[0mcls\u001b[0m\u001b[1;33m=\u001b[0m\u001b[0mcls\u001b[0m\u001b[1;33m,\u001b[0m \u001b[0mobject_hook\u001b[0m\u001b[1;33m=\u001b[0m\u001b[0mobject_hook\u001b[0m\u001b[1;33m,\u001b[0m\u001b[1;33m\u001b[0m\u001b[1;33m\u001b[0m\u001b[0m\n\u001b[0;32m    295\u001b[0m         \u001b[0mparse_float\u001b[0m\u001b[1;33m=\u001b[0m\u001b[0mparse_float\u001b[0m\u001b[1;33m,\u001b[0m \u001b[0mparse_int\u001b[0m\u001b[1;33m=\u001b[0m\u001b[0mparse_int\u001b[0m\u001b[1;33m,\u001b[0m\u001b[1;33m\u001b[0m\u001b[1;33m\u001b[0m\u001b[0m\n",
      "\u001b[1;31mUnicodeDecodeError\u001b[0m: 'cp950' codec can't decode byte 0x9e in position 27: illegal multibyte sequence"
     ]
    }
   ],
   "source": [
    "class TestCUD(unittest.TestCase):\n",
    "    def test_43_create_table_favorite_players_in_test(self):\n",
    "        table_name = \"favorite_players\"\n",
    "        drop_table_if_exists = \"\"\"DROP TABLE IF EXISTS {}\"\"\".format(table_name)\n",
    "        conn.execute(drop_table_if_exists)\n",
    "        conn.execute(create_table_favorite_players_in_test)\n",
    "        select_all_query = \"\"\"SELECT * FROM {};\"\"\".format(table_name)\n",
    "        table_select_all = pd.read_sql(select_all_query, conn)\n",
    "        self.assertEqual(table_select_all.shape, (0, 3))\n",
    "    def test_44_insert_table_favorite_players_in_test(self):\n",
    "        table_name = \"favorite_players\"\n",
    "        drop_table_if_exists = \"\"\"DROP TABLE IF EXISTS {}\"\"\".format(table_name)\n",
    "        conn.execute(drop_table_if_exists)\n",
    "        conn.execute(create_table_favorite_players_in_test)\n",
    "        conn.execute(insert_table_favorite_players_in_test)\n",
    "        select_all_query = \"\"\"SELECT * FROM {};\"\"\".format(table_name)\n",
    "        table_select_all = pd.read_sql(select_all_query, conn)\n",
    "        self.assertEqual(table_select_all.shape, (5, 3))\n",
    "    def test_45_update_table_favorite_players_in_test(self):\n",
    "        table_name = \"favorite_players\"\n",
    "        drop_table_if_exists = \"\"\"DROP TABLE IF EXISTS {}\"\"\".format(table_name)\n",
    "        conn.execute(drop_table_if_exists)\n",
    "        conn.execute(create_table_favorite_players_in_test)\n",
    "        conn.execute(insert_table_favorite_players_in_test)\n",
    "        conn.execute(update_table_favorite_players_in_test)\n",
    "        select_all_query = \"\"\"SELECT * FROM {};\"\"\".format(table_name)\n",
    "        table_select_all = pd.read_sql(select_all_query, conn)\n",
    "        players = set(table_select_all.iloc[:, 0].values)\n",
    "        self.assertEqual(table_select_all.shape, (5, 3))\n",
    "        self.assertTrue('Tim Duncan' in players)\n",
    "\n",
    "suite = unittest.TestLoader().loadTestsFromTestCase(TestCUD)\n",
    "runner = unittest.TextTestRunner(verbosity=2)\n",
    "test_results = runner.run(suite)\n",
    "number_of_failures = len(test_results.failures)\n",
    "number_of_errors = len(test_results.errors)\n",
    "number_of_test_runs = test_results.testsRun\n",
    "number_of_successes = number_of_test_runs - (number_of_failures + number_of_errors)\n",
    "cwd = os.getcwd()\n",
    "folder_name = cwd.split(\"/\")[-1]\n",
    "with open(\"../exercise_index.json\", \"r\") as content:\n",
    "    exercise_index = json.load(content)\n",
    "chapter_name = exercise_index[folder_name]"
   ]
  },
  {
   "cell_type": "code",
   "execution_count": 6,
   "metadata": {
    "deletable": false,
    "editable": false
   },
   "outputs": [
    {
     "name": "stdout",
     "output_type": "stream",
     "text": [
      "您在「建立更新與刪除資料表」章節中的 3 道 SQL 練習答對了 0 題。\n"
     ]
    }
   ],
   "source": [
    "print(\"您在「{}」章節中的 {} 道 SQL 練習答對了 {} 題。\".format(chapter_name, number_of_test_runs, number_of_successes))"
   ]
  }
 ],
 "metadata": {
  "kernelspec": {
   "display_name": "Python 3",
   "language": "python",
   "name": "python3"
  },
  "language_info": {
   "codemirror_mode": {
    "name": "ipython",
    "version": 3
   },
   "file_extension": ".py",
   "mimetype": "text/x-python",
   "name": "python",
   "nbconvert_exporter": "python",
   "pygments_lexer": "ipython3",
   "version": "3.8.5"
  }
 },
 "nbformat": 4,
 "nbformat_minor": 4
}
