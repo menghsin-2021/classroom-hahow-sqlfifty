{
 "cells": [
  {
   "cell_type": "markdown",
   "id": "lightweight-fruit",
   "metadata": {
    "slideshow": {
     "slide_type": "slide"
    }
   },
   "source": [
    "# SQL 的五十道練習\n",
    "\n",
    "> 建立更新與刪除資料表\n",
    "\n",
    "[數據交點](https://www.datainpoint.com/) | 郭耀仁 <yaojenkuo@datainpoint.com>"
   ]
  },
  {
   "cell_type": "markdown",
   "id": "associate-buffalo",
   "metadata": {
    "slideshow": {
     "slide_type": "subslide"
    }
   },
   "source": [
    "## 這個章節要學起來的 SQL 保留字\n",
    "\n",
    "- `CREATE TABLE`\n",
    "- `INSERT INTO`\n",
    "- `VALUES`\n",
    "- `UPDATE`\n",
    "- `SET`\n",
    "- `DELETE FROM`\n",
    "- `DROP TABLE`"
   ]
  },
  {
   "cell_type": "code",
   "execution_count": 1,
   "id": "matched-spyware",
   "metadata": {
    "slideshow": {
     "slide_type": "skip"
    }
   },
   "outputs": [],
   "source": [
    "%LOAD sqlite3 db=../databases/imdb.db timeout=2 shared_cache=true"
   ]
  },
  {
   "cell_type": "code",
   "execution_count": 2,
   "id": "desperate-contest",
   "metadata": {
    "slideshow": {
     "slide_type": "skip"
    }
   },
   "outputs": [],
   "source": [
    "ATTACH \"../databases/nba.db\" AS nba;"
   ]
  },
  {
   "cell_type": "code",
   "execution_count": 3,
   "id": "located-society",
   "metadata": {
    "slideshow": {
     "slide_type": "skip"
    }
   },
   "outputs": [],
   "source": [
    "ATTACH \"../databases/twElection2020.db\" AS twElection2020;"
   ]
  },
  {
   "cell_type": "code",
   "execution_count": 4,
   "id": "positive-conservative",
   "metadata": {
    "slideshow": {
     "slide_type": "skip"
    }
   },
   "outputs": [],
   "source": [
    "ATTACH \"../databases/covid19.db\" AS covid19;"
   ]
  },
  {
   "cell_type": "code",
   "execution_count": 5,
   "id": "injured-marshall",
   "metadata": {
    "slideshow": {
     "slide_type": "skip"
    }
   },
   "outputs": [],
   "source": [
    "ATTACH \"../databases/test.db\" AS test;"
   ]
  },
  {
   "cell_type": "markdown",
   "id": "forward-passage",
   "metadata": {
    "slideshow": {
     "slide_type": "slide"
    }
   },
   "source": [
    "## 資料操作"
   ]
  },
  {
   "cell_type": "markdown",
   "id": "guided-credit",
   "metadata": {
    "slideshow": {
     "slide_type": "subslide"
    }
   },
   "source": [
    "## SQL（發音為 ess-que-ell 或 sequel）全名為 Structured Query Language，是一個能夠針對資料庫進行「資料操作」的語言。"
   ]
  },
  {
   "cell_type": "markdown",
   "id": "temporal-circulation",
   "metadata": {
    "slideshow": {
     "slide_type": "subslide"
    }
   },
   "source": [
    "## 「資料操作」涵蓋了 CRUD 這四個動詞：\n",
    "\n",
    "- 創造 **C**reate\n",
    "- 查詢 **R**ead\n",
    "- 更新 **U**pdate\n",
    "- 刪除 **D**elete"
   ]
  },
  {
   "cell_type": "markdown",
   "id": "decimal-newsletter",
   "metadata": {
    "slideshow": {
     "slide_type": "subslide"
    }
   },
   "source": [
    "## 對於「非資料庫管理員」的分析師，SQL 最重要的任務就是進行查詢\n",
    "\n",
    "但是 SQL 能夠對資料庫進行的操作不僅止於查詢 Read。 "
   ]
  },
  {
   "cell_type": "markdown",
   "id": "architectural-insured",
   "metadata": {
    "slideshow": {
     "slide_type": "subslide"
    }
   },
   "source": [
    "## SQL  的組成可以分為四大部分\n",
    "\n",
    "1. **資料操作語言（Data Manipulation Language, DML）**\n",
    "2. **資料定義語言（Data Definition Language, DDL）**\n",
    "3. 資料控制語言（Data Control Language, DCL）\n",
    "4. 交易控制語言（Transaction Control Language, TCL）"
   ]
  },
  {
   "cell_type": "markdown",
   "id": "choice-serum",
   "metadata": {
    "slideshow": {
     "slide_type": "subslide"
    }
   },
   "source": [
    "## CRUD 與 SQL 的關係\n",
    "\n",
    "- 與觀測值相關的 CRUD 屬於**資料操作語言（Data Manipulation Language, DML）**的範疇\n",
    "- 與資料表相關的 CRUD 屬於**資料定義語言（Data Definition Language, DDL）**的範疇"
   ]
  },
  {
   "cell_type": "markdown",
   "id": "supposed-spread",
   "metadata": {
    "slideshow": {
     "slide_type": "slide"
    }
   },
   "source": [
    "## 建立資料表"
   ]
  },
  {
   "cell_type": "markdown",
   "id": "smaller-transaction",
   "metadata": {
    "slideshow": {
     "slide_type": "subslide"
    }
   },
   "source": [
    "## 在熟悉的路徑建立一個 `test` 資料庫練習 CUD\n",
    "\n",
    "![create_database](create_database.png)"
   ]
  },
  {
   "cell_type": "markdown",
   "id": "impaired-section",
   "metadata": {
    "slideshow": {
     "slide_type": "subslide"
    }
   },
   "source": [
    "## 以 `CREATE TABLE` 建立資料表\n",
    "\n",
    "```sql\n",
    "CREATE TABLE database_name.table_name (\n",
    "    column_names COLUMN_TYPES\n",
    ");\n",
    "```"
   ]
  },
  {
   "cell_type": "code",
   "execution_count": 6,
   "id": "sharing-rugby",
   "metadata": {
    "slideshow": {
     "slide_type": "skip"
    }
   },
   "outputs": [],
   "source": [
    "DROP TABLE IF EXISTS test.favorite_movies;"
   ]
  },
  {
   "cell_type": "code",
   "execution_count": 7,
   "id": "clinical-arcade",
   "metadata": {
    "slideshow": {
     "slide_type": "subslide"
    }
   },
   "outputs": [],
   "source": [
    "CREATE TABLE test.favorite_movies (\n",
    "    title TEXT,\n",
    "    release_year INTEGER,\n",
    "    imdb_rating REAL\n",
    ");"
   ]
  },
  {
   "cell_type": "code",
   "execution_count": 8,
   "id": "demonstrated-workshop",
   "metadata": {
    "slideshow": {
     "slide_type": "subslide"
    }
   },
   "outputs": [
    {
     "data": {
      "text/html": [
       "</table>\n",
       "Empty set (0.00 sec)"
      ],
      "text/plain": [
       "\n",
       "Empty set (0.00 sec)"
      ]
     },
     "execution_count": 8,
     "metadata": {},
     "output_type": "execute_result"
    }
   ],
   "source": [
    "SELECT *\n",
    "  FROM favorite_movies;"
   ]
  },
  {
   "cell_type": "markdown",
   "id": "understanding-sudan",
   "metadata": {
    "slideshow": {
     "slide_type": "subslide"
    }
   },
   "source": [
    "## 以 `INSERT INTO` 建立觀測值\n",
    "\n",
    "```sql\n",
    "INSERT INTO database.table_name (column_names)\n",
    "VALUES \n",
    "       (observations);\n",
    "```"
   ]
  },
  {
   "cell_type": "code",
   "execution_count": 9,
   "id": "accredited-appeal",
   "metadata": {
    "slideshow": {
     "slide_type": "subslide"
    }
   },
   "outputs": [],
   "source": [
    "INSERT INTO test.favorite_movies (title, release_year, imdb_rating)\n",
    "VALUES \n",
    "       ('The Shawshank Redemption', 1995, 9.2),\n",
    "       ('The Godfather', 1972, 9.1),\n",
    "       ('The Dark Knight', 2008, 9.0),\n",
    "       ('Forrest Gump', 1994, 8.8);"
   ]
  },
  {
   "cell_type": "code",
   "execution_count": 10,
   "id": "proof-popularity",
   "metadata": {
    "slideshow": {
     "slide_type": "subslide"
    }
   },
   "outputs": [
    {
     "data": {
      "text/html": [
       "<table>\n",
       "<tr>\n",
       "<th>title</th>\n",
       "<th>release_year</th>\n",
       "<th>imdb_rating</th>\n",
       "</tr>\n",
       "<tr>\n",
       "<td>The Shawshank Redemption</td>\n",
       "<td>1995</td>\n",
       "<td>9.2</td>\n",
       "</tr>\n",
       "<tr>\n",
       "<td>The Godfather</td>\n",
       "<td>1972</td>\n",
       "<td>9.1</td>\n",
       "</tr>\n",
       "<tr>\n",
       "<td>The Dark Knight</td>\n",
       "<td>2008</td>\n",
       "<td>9</td>\n",
       "</tr>\n",
       "<tr>\n",
       "<td>Forrest Gump</td>\n",
       "<td>1994</td>\n",
       "<td>8.8</td>\n",
       "</tr>\n",
       "</table>\n",
       "4 rows in set (0.00 sec)"
      ],
      "text/plain": [
       "+--------------------------+--------------+-------------+\n",
       "| title                    | release_year | imdb_rating |\n",
       "+--------------------------+--------------+-------------+\n",
       "| The Shawshank Redemption | 1995         | 9.2         |\n",
       "+--------------------------+--------------+-------------+\n",
       "| The Godfather            | 1972         | 9.1         |\n",
       "+--------------------------+--------------+-------------+\n",
       "| The Dark Knight          | 2008         | 9           |\n",
       "+--------------------------+--------------+-------------+\n",
       "| Forrest Gump             | 1994         | 8.8         |\n",
       "+--------------------------+--------------+-------------+\n",
       "4 rows in set (0.00 sec)"
      ]
     },
     "execution_count": 10,
     "metadata": {},
     "output_type": "execute_result"
    }
   ],
   "source": [
    "SELECT *\n",
    "  FROM favorite_movies;"
   ]
  },
  {
   "cell_type": "markdown",
   "id": "atmospheric-bradford",
   "metadata": {
    "slideshow": {
     "slide_type": "subslide"
    }
   },
   "source": [
    "## 匯入 CSV 檔案建立資料表\n",
    "\n",
    "使用 SQLiteStudio 或者 DBeaver 的資料匯入（Import）功能。\n",
    "\n",
    "[movies.csv](https://hahow-sqlfifty.s3-ap-northeast-1.amazonaws.com/movies.csv)"
   ]
  },
  {
   "cell_type": "markdown",
   "id": "spatial-yesterday",
   "metadata": {
    "slideshow": {
     "slide_type": "slide"
    }
   },
   "source": [
    "## 更新觀測值"
   ]
  },
  {
   "cell_type": "markdown",
   "id": "significant-zoning",
   "metadata": {
    "slideshow": {
     "slide_type": "subslide"
    }
   },
   "source": [
    "## 以 `UPDATE SET WHERE` 更新觀測值\n",
    "\n",
    "```sql\n",
    "UPDATE database_name.table_name\n",
    "   SET update_columns = update_values\n",
    " WHERE conditions;\n",
    "```"
   ]
  },
  {
   "cell_type": "markdown",
   "id": "intense-cisco",
   "metadata": {
    "slideshow": {
     "slide_type": "subslide"
    }
   },
   "source": [
    "## 刺激1995？\n",
    "\n",
    "The Shawshank Redemption 於 1994-10-14 在美國上映, 於 1995-03-10 在台灣上映，中文片名為「刺激1995」。"
   ]
  },
  {
   "cell_type": "code",
   "execution_count": 11,
   "id": "original-struggle",
   "metadata": {
    "slideshow": {
     "slide_type": "-"
    }
   },
   "outputs": [],
   "source": [
    "UPDATE test.favorite_movies\n",
    "   SET release_year = 1994\n",
    " WHERE title = 'The Shawshank Redemption';"
   ]
  },
  {
   "cell_type": "code",
   "execution_count": 12,
   "id": "bacterial-divorce",
   "metadata": {
    "slideshow": {
     "slide_type": "subslide"
    }
   },
   "outputs": [
    {
     "data": {
      "text/html": [
       "<table>\n",
       "<tr>\n",
       "<th>title</th>\n",
       "<th>release_year</th>\n",
       "<th>imdb_rating</th>\n",
       "</tr>\n",
       "<tr>\n",
       "<td>The Shawshank Redemption</td>\n",
       "<td>1994</td>\n",
       "<td>9.2</td>\n",
       "</tr>\n",
       "<tr>\n",
       "<td>The Godfather</td>\n",
       "<td>1972</td>\n",
       "<td>9.1</td>\n",
       "</tr>\n",
       "<tr>\n",
       "<td>The Dark Knight</td>\n",
       "<td>2008</td>\n",
       "<td>9</td>\n",
       "</tr>\n",
       "<tr>\n",
       "<td>Forrest Gump</td>\n",
       "<td>1994</td>\n",
       "<td>8.8</td>\n",
       "</tr>\n",
       "</table>\n",
       "4 rows in set (0.00 sec)"
      ],
      "text/plain": [
       "+--------------------------+--------------+-------------+\n",
       "| title                    | release_year | imdb_rating |\n",
       "+--------------------------+--------------+-------------+\n",
       "| The Shawshank Redemption | 1994         | 9.2         |\n",
       "+--------------------------+--------------+-------------+\n",
       "| The Godfather            | 1972         | 9.1         |\n",
       "+--------------------------+--------------+-------------+\n",
       "| The Dark Knight          | 2008         | 9           |\n",
       "+--------------------------+--------------+-------------+\n",
       "| Forrest Gump             | 1994         | 8.8         |\n",
       "+--------------------------+--------------+-------------+\n",
       "4 rows in set (0.00 sec)"
      ]
     },
     "execution_count": 12,
     "metadata": {},
     "output_type": "execute_result"
    }
   ],
   "source": [
    "SELECT *\n",
    "  FROM favorite_movies;"
   ]
  },
  {
   "cell_type": "markdown",
   "id": "working-oracle",
   "metadata": {
    "slideshow": {
     "slide_type": "subslide"
    }
   },
   "source": [
    "## 以 `DELETE FROM` 刪除觀測值\n",
    "\n",
    "```sql\n",
    "DELETE FROM database_name.table_name\n",
    " WHERE conditions;\n",
    "```"
   ]
  },
  {
   "cell_type": "markdown",
   "id": "painted-demand",
   "metadata": {
    "slideshow": {
     "slide_type": "subslide"
    }
   },
   "source": [
    "## 教父對同學可能太過於古老\n",
    "\n",
    "The Godfather 於 1972-03-24 在美國上映。"
   ]
  },
  {
   "cell_type": "code",
   "execution_count": 13,
   "id": "macro-expression",
   "metadata": {},
   "outputs": [],
   "source": [
    "DELETE FROM test.favorite_movies\n",
    " WHERE release_year = 1972;"
   ]
  },
  {
   "cell_type": "code",
   "execution_count": 14,
   "id": "global-revolution",
   "metadata": {
    "slideshow": {
     "slide_type": "subslide"
    }
   },
   "outputs": [
    {
     "data": {
      "text/html": [
       "<table>\n",
       "<tr>\n",
       "<th>title</th>\n",
       "<th>release_year</th>\n",
       "<th>imdb_rating</th>\n",
       "</tr>\n",
       "<tr>\n",
       "<td>The Shawshank Redemption</td>\n",
       "<td>1994</td>\n",
       "<td>9.2</td>\n",
       "</tr>\n",
       "<tr>\n",
       "<td>The Dark Knight</td>\n",
       "<td>2008</td>\n",
       "<td>9</td>\n",
       "</tr>\n",
       "<tr>\n",
       "<td>Forrest Gump</td>\n",
       "<td>1994</td>\n",
       "<td>8.8</td>\n",
       "</tr>\n",
       "</table>\n",
       "3 rows in set (0.00 sec)"
      ],
      "text/plain": [
       "+--------------------------+--------------+-------------+\n",
       "| title                    | release_year | imdb_rating |\n",
       "+--------------------------+--------------+-------------+\n",
       "| The Shawshank Redemption | 1994         | 9.2         |\n",
       "+--------------------------+--------------+-------------+\n",
       "| The Dark Knight          | 2008         | 9           |\n",
       "+--------------------------+--------------+-------------+\n",
       "| Forrest Gump             | 1994         | 8.8         |\n",
       "+--------------------------+--------------+-------------+\n",
       "3 rows in set (0.00 sec)"
      ]
     },
     "execution_count": 14,
     "metadata": {},
     "output_type": "execute_result"
    }
   ],
   "source": [
    "SELECT *\n",
    "  FROM favorite_movies;"
   ]
  },
  {
   "cell_type": "markdown",
   "id": "first-filter",
   "metadata": {
    "slideshow": {
     "slide_type": "subslide"
    }
   },
   "source": [
    "## 刪除資料表的「所有」觀測值\n",
    "\n",
    "```sql\n",
    "DELETE FROM database_name.table_name;\n",
    "```"
   ]
  },
  {
   "cell_type": "code",
   "execution_count": 15,
   "id": "conventional-practice",
   "metadata": {},
   "outputs": [],
   "source": [
    "DELETE FROM test.favorite_movies;"
   ]
  },
  {
   "cell_type": "code",
   "execution_count": 16,
   "id": "younger-closure",
   "metadata": {
    "slideshow": {
     "slide_type": "subslide"
    }
   },
   "outputs": [
    {
     "data": {
      "text/html": [
       "</table>\n",
       "Empty set (0.00 sec)"
      ],
      "text/plain": [
       "\n",
       "Empty set (0.00 sec)"
      ]
     },
     "execution_count": 16,
     "metadata": {},
     "output_type": "execute_result"
    }
   ],
   "source": [
    "SELECT *\n",
    "  FROM favorite_movies;"
   ]
  },
  {
   "cell_type": "markdown",
   "id": "annoying-graduate",
   "metadata": {
    "slideshow": {
     "slide_type": "slide"
    }
   },
   "source": [
    "## 刪除資料表"
   ]
  },
  {
   "cell_type": "markdown",
   "id": "promotional-hierarchy",
   "metadata": {
    "slideshow": {
     "slide_type": "subslide"
    }
   },
   "source": [
    "## 以 `DROP TABLE` 刪除資料表\n",
    "\n",
    "```sql\n",
    "DROP TABLE database_name.table_name;\n",
    "```"
   ]
  },
  {
   "cell_type": "code",
   "execution_count": 17,
   "id": "median-findings",
   "metadata": {
    "slideshow": {
     "slide_type": "-"
    }
   },
   "outputs": [],
   "source": [
    "DROP TABLE test.favorite_movies;"
   ]
  },
  {
   "cell_type": "code",
   "execution_count": 18,
   "id": "funky-scanner",
   "metadata": {
    "slideshow": {
     "slide_type": "subslide"
    }
   },
   "outputs": [
    {
     "ename": "Error",
     "evalue": "sqlite3_statement_backend::prepare: no such table: favorite_movies while preparing \"SELECT *\n  FROM favorite_movies;\".",
     "output_type": "error",
     "traceback": [
      "Error: sqlite3_statement_backend::prepare: no such table: favorite_movies while preparing \"SELECT *\n  FROM favorite_movies;\"."
     ]
    }
   ],
   "source": [
    "SELECT *\n",
    "  FROM favorite_movies;"
   ]
  },
  {
   "cell_type": "markdown",
   "id": "general-textbook",
   "metadata": {
    "slideshow": {
     "slide_type": "subslide"
    }
   },
   "source": [
    "## 刪除資料庫\n",
    "\n",
    "- 中斷資料庫連線。\n",
    "- 從資料庫清單移除。\n",
    "- 從電腦中移除。"
   ]
  },
  {
   "cell_type": "markdown",
   "id": "abandoned-passion",
   "metadata": {
    "slideshow": {
     "slide_type": "slide"
    }
   },
   "source": [
    "## 重點統整\n",
    "\n",
    "- SQL 能夠對資料庫進行的操作不僅止於查詢 Read。\n",
    "- SQL 的組成可以分為四大部分\n",
    "    - **資料操作語言（Data Manipulation Language, DML）**\n",
    "    - **資料定義語言（Data Definition Language, DDL）**\n",
    "    - 資料控制語言（Data Control Language, DCL）\n",
    "    - 交易控制語言（Transaction Control Language, TCL）"
   ]
  },
  {
   "cell_type": "markdown",
   "id": "accepting-witch",
   "metadata": {
    "slideshow": {
     "slide_type": "subslide"
    }
   },
   "source": [
    "## 重點統整（續）\n",
    "\n",
    "- 與觀測值相關的 CRUD 屬於資料操作語言（Data Manipulation Language, DML）的範疇\n",
    "- 與資料表相關的 CRUD 屬於資料定義語言（Data Definition Language, DDL）的範疇"
   ]
  },
  {
   "cell_type": "code",
   "execution_count": null,
   "id": "pacific-currency",
   "metadata": {
    "slideshow": {
     "slide_type": "subslide"
    }
   },
   "outputs": [],
   "source": [
    "/*截至目前學起來的 SQL 有哪些？\n",
    "SQL 寫作順序必須遵從標準 SQL 的規定。*/\n",
    "SELECT column_names     -- 選擇哪些欄位\n",
    "  FROM left_table       -- 從哪個資料庫的資料表\n",
    "  JOIN right_table      -- 與哪個資料表水平合併\n",
    "    ON left_table.join_key = right_table.join_key\n",
    " WHERE conditions       -- 篩選哪些觀測值\n",
    " GROUP BY column_names  -- 指定依照哪個變數分組\n",
    "HAVING conditions       -- 篩選哪些分組聚合的結果\n",
    " UNION SELECT statement -- 與哪段 SQL 垂直合併\n",
    " ORDER BY column_names  -- 指定依照哪個變數排序\n",
    " LIMIT m;               -- 查詢結果顯示前 m 列就好"
   ]
  },
  {
   "cell_type": "code",
   "execution_count": null,
   "id": "unavailable-invitation",
   "metadata": {
    "slideshow": {
     "slide_type": "subslide"
    }
   },
   "outputs": [],
   "source": [
    "/*截至目前學起來的 SQL 有哪些？\n",
    "SQL 寫作順序必須遵從標準 SQL 的規定。*/\n",
    "CREATE VIEW database_name.view_name (column_names)\n",
    "    AS\n",
    "SELECT Statement;  -- 建立虛擬資料表\n",
    "DROP VIEW database_name.view_name;  -- 刪除虛擬資料表"
   ]
  },
  {
   "cell_type": "code",
   "execution_count": null,
   "id": "registered-journalism",
   "metadata": {
    "slideshow": {
     "slide_type": "subslide"
    }
   },
   "outputs": [],
   "source": [
    "/*截至目前學起來的 SQL 有哪些？\n",
    "SQL 寫作順序必須遵從標準 SQL 的規定。*/\n",
    "CREATE TABLE database_name.table_name (\n",
    "    column_names COLUMN_TYPES\n",
    ");  -- 建立資料表\n",
    "INSERT INTO database.table_name (column_names)\n",
    "VALUES \n",
    "       (observations);  -- 建立觀測值\n",
    "UPDATE database_name.table_name\n",
    "   SET update_columns = update_values\n",
    " WHERE conditions;  -- 更新觀測值\n",
    "DELETE FROM database_name.table_name\n",
    " WHERE conditions;  -- 刪除觀測值\n",
    "DROP TABLE database_name.table_name;  -- 刪除資料表"
   ]
  }
 ],
 "metadata": {
  "celltoolbar": "Slideshow",
  "kernelspec": {
   "display_name": "xsql",
   "language": "sqlite",
   "name": "xsql"
  },
  "language_info": {
   "codemirror_mode": "sql",
   "file_extension": "",
   "mimetype": "",
   "name": "mysql",
   "version": "0.0.8"
  }
 },
 "nbformat": 4,
 "nbformat_minor": 5
}
