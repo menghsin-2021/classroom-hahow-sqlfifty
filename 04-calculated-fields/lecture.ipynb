{
 "cells": [
  {
   "cell_type": "markdown",
   "id": "lightweight-fruit",
   "metadata": {
    "slideshow": {
     "slide_type": "slide"
    }
   },
   "source": [
    "# SQL 的五十道練習\n",
    "\n",
    "> 衍生計算欄位\n",
    "\n",
    "[數據交點](https://www.datainpoint.com/) | 郭耀仁 <yaojenkuo@datainpoint.com>"
   ]
  },
  {
   "cell_type": "code",
   "execution_count": 1,
   "id": "matched-spyware",
   "metadata": {
    "slideshow": {
     "slide_type": "skip"
    }
   },
   "outputs": [],
   "source": [
    "%LOAD sqlite3 db=../databases/imdb.db timeout=2 shared_cache=true"
   ]
  },
  {
   "cell_type": "code",
   "execution_count": 2,
   "id": "retired-match",
   "metadata": {
    "slideshow": {
     "slide_type": "skip"
    }
   },
   "outputs": [],
   "source": [
    "ATTACH \"../databases/nba.db\" AS nba;"
   ]
  },
  {
   "cell_type": "code",
   "execution_count": 3,
   "id": "smooth-piece",
   "metadata": {
    "slideshow": {
     "slide_type": "skip"
    }
   },
   "outputs": [],
   "source": [
    "ATTACH \"../databases/twElection2020.db\" AS twElection2020;"
   ]
  },
  {
   "cell_type": "code",
   "execution_count": 4,
   "id": "positive-conservative",
   "metadata": {
    "slideshow": {
     "slide_type": "skip"
    }
   },
   "outputs": [],
   "source": [
    "ATTACH \"../databases/covid19.db\" AS covid19;"
   ]
  },
  {
   "cell_type": "markdown",
   "id": "supposed-spread",
   "metadata": {
    "slideshow": {
     "slide_type": "slide"
    }
   },
   "source": [
    "## 單獨存在的 `SELECT`"
   ]
  },
  {
   "cell_type": "markdown",
   "id": "threaded-police",
   "metadata": {
    "slideshow": {
     "slide_type": "subslide"
    }
   },
   "source": [
    "## 在沒有 `FROM` 的情況下，`SELECT` 也能夠單獨存在於一段 SQL 之中"
   ]
  },
  {
   "cell_type": "code",
   "execution_count": 5,
   "id": "hawaiian-chick",
   "metadata": {},
   "outputs": [
    {
     "data": {
      "text/html": [
       "<table>\n",
       "<tr>\n",
       "<th>hello_sql</th>\n",
       "</tr>\n",
       "<tr>\n",
       "<td>Hello, SQL!</td>\n",
       "</tr>\n",
       "</table>\n",
       "1 row in set (0.00 sec)"
      ],
      "text/plain": [
       "+-------------+\n",
       "| hello_sql   |\n",
       "+-------------+\n",
       "| Hello, SQL! |\n",
       "+-------------+\n",
       "1 row in set (0.00 sec)"
      ]
     },
     "execution_count": 5,
     "metadata": {},
     "output_type": "execute_result"
    }
   ],
   "source": [
    "SELECT 'Hello, SQL!' AS hello_sql; -- 單獨存在的 SELECT"
   ]
  },
  {
   "cell_type": "markdown",
   "id": "shaped-reconstruction",
   "metadata": {
    "slideshow": {
     "slide_type": "subslide"
    }
   },
   "source": [
    "## 在 `SELECT` 後面除了指定資料表的欄位，也能夠擺放常數，常見的常數類型有：\n",
    "\n",
    "- 整數（INTEGER）。\n",
    "- 帶小數點的浮點數（REAL）。\n",
    "- 用單引號或雙引號標記的文字（TEXT）。\n",
    "- 空值、遺漏值（NULL）。"
   ]
  },
  {
   "cell_type": "markdown",
   "id": "opposite-efficiency",
   "metadata": {
    "slideshow": {
     "slide_type": "subslide"
    }
   },
   "source": [
    "## 我們使用單獨存在的 `SELECT` 將常見的常數類型顯示出來"
   ]
  },
  {
   "cell_type": "code",
   "execution_count": 6,
   "id": "excess-solid",
   "metadata": {
    "slideshow": {
     "slide_type": "-"
    }
   },
   "outputs": [
    {
     "data": {
      "text/html": [
       "<table>\n",
       "<tr>\n",
       "<th>an_integer</th>\n",
       "<th>a_real</th>\n",
       "<th>a_text</th>\n",
       "<th>a_null</th>\n",
       "</tr>\n",
       "<tr>\n",
       "<td>5566</td>\n",
       "<td>5566.0</td>\n",
       "<td>Hello, SQL!</td>\n",
       "<td>NULL</td>\n",
       "</tr>\n",
       "</table>\n",
       "1 row in set (0.00 sec)"
      ],
      "text/plain": [
       "+------------+--------+-------------+--------+\n",
       "| an_integer | a_real | a_text      | a_null |\n",
       "+------------+--------+-------------+--------+\n",
       "| 5566       | 5566.0 | Hello, SQL! | NULL   |\n",
       "+------------+--------+-------------+--------+\n",
       "1 row in set (0.00 sec)"
      ]
     },
     "execution_count": 6,
     "metadata": {},
     "output_type": "execute_result"
    }
   ],
   "source": [
    "SELECT 5566 AS an_integer,\n",
    "       5566.0 AS a_real,\n",
    "       'Hello, SQL!' AS a_text,\n",
    "       NULL AS a_null;"
   ]
  },
  {
   "cell_type": "markdown",
   "id": "dense-florida",
   "metadata": {
    "slideshow": {
     "slide_type": "subslide"
    }
   },
   "source": [
    "## 這表示即便在資料表中沒有儲存常數，依然能在 SQL 中加入這些常數"
   ]
  },
  {
   "cell_type": "code",
   "execution_count": 7,
   "id": "residential-liver",
   "metadata": {},
   "outputs": [
    {
     "data": {
      "text/html": [
       "<table>\n",
       "<tr>\n",
       "<th>heightFeet</th>\n",
       "<th>foot_to_cm</th>\n",
       "<th>heightInches</th>\n",
       "<th>inch_to_cm</th>\n",
       "</tr>\n",
       "<tr>\n",
       "<td>6</td>\n",
       "<td>30.48</td>\n",
       "<td>9</td>\n",
       "<td>2.54</td>\n",
       "</tr>\n",
       "<tr>\n",
       "<td>6</td>\n",
       "<td>30.48</td>\n",
       "<td>7</td>\n",
       "<td>2.54</td>\n",
       "</tr>\n",
       "<tr>\n",
       "<td>6</td>\n",
       "<td>30.48</td>\n",
       "<td>8</td>\n",
       "<td>2.54</td>\n",
       "</tr>\n",
       "<tr>\n",
       "<td>6</td>\n",
       "<td>30.48</td>\n",
       "<td>10</td>\n",
       "<td>2.54</td>\n",
       "</tr>\n",
       "<tr>\n",
       "<td>6</td>\n",
       "<td>30.48</td>\n",
       "<td>6</td>\n",
       "<td>2.54</td>\n",
       "</tr>\n",
       "</table>\n",
       "5 rows in set (0.00 sec)"
      ],
      "text/plain": [
       "+------------+------------+--------------+------------+\n",
       "| heightFeet | foot_to_cm | heightInches | inch_to_cm |\n",
       "+------------+------------+--------------+------------+\n",
       "| 6          | 30.48      | 9            | 2.54       |\n",
       "+------------+------------+--------------+------------+\n",
       "| 6          | 30.48      | 7            | 2.54       |\n",
       "+------------+------------+--------------+------------+\n",
       "| 6          | 30.48      | 8            | 2.54       |\n",
       "+------------+------------+--------------+------------+\n",
       "| 6          | 30.48      | 10           | 2.54       |\n",
       "+------------+------------+--------------+------------+\n",
       "| 6          | 30.48      | 6            | 2.54       |\n",
       "+------------+------------+--------------+------------+\n",
       "5 rows in set (0.00 sec)"
      ]
     },
     "execution_count": 7,
     "metadata": {},
     "output_type": "execute_result"
    }
   ],
   "source": [
    "SELECT heightFeet,\n",
    "       30.48 AS foot_to_cm,\n",
    "       heightInches,\n",
    "       2.54 AS inch_to_cm\n",
    "  FROM players\n",
    " LIMIT 5;"
   ]
  },
  {
   "cell_type": "markdown",
   "id": "studied-preference",
   "metadata": {
    "slideshow": {
     "slide_type": "slide"
    }
   },
   "source": [
    "## 數值運算符"
   ]
  },
  {
   "cell_type": "markdown",
   "id": "cleared-chance",
   "metadata": {
    "slideshow": {
     "slide_type": "subslide"
    }
   },
   "source": [
    "## 針對整數（INTEGER）與帶小數點的浮點數（REAL）可以使用數值運算符衍生計算欄位\n",
    "\n",
    "![mutate](mutate.png)"
   ]
  },
  {
   "cell_type": "markdown",
   "id": "minus-calgary",
   "metadata": {
    "slideshow": {
     "slide_type": "subslide"
    }
   },
   "source": [
    "## 基礎數值運算符\n",
    "\n",
    "|數值運算符|作用描述|\n",
    "|--------|-------|\n",
    "|`+`|相加|\n",
    "|`-`|相減|\n",
    "|`*`|相乘|\n",
    "|`/`|相除|\n",
    "|`%`|回傳餘數|\n",
    "|`()`|優先運算|"
   ]
  },
  {
   "cell_type": "markdown",
   "id": "ordered-testing",
   "metadata": {
    "slideshow": {
     "slide_type": "subslide"
    }
   },
   "source": [
    "## 運用數值運算符衍生以公分為單位的球員身高"
   ]
  },
  {
   "cell_type": "code",
   "execution_count": 8,
   "id": "other-optimization",
   "metadata": {
    "slideshow": {
     "slide_type": "-"
    }
   },
   "outputs": [
    {
     "data": {
      "text/html": [
       "<table>\n",
       "<tr>\n",
       "<th>heightFeet</th>\n",
       "<th>heightInches</th>\n",
       "<th>heightCentimeters</th>\n",
       "</tr>\n",
       "<tr>\n",
       "<td>6</td>\n",
       "<td>9</td>\n",
       "<td>205.74</td>\n",
       "</tr>\n",
       "<tr>\n",
       "<td>6</td>\n",
       "<td>7</td>\n",
       "<td>200.66</td>\n",
       "</tr>\n",
       "<tr>\n",
       "<td>6</td>\n",
       "<td>8</td>\n",
       "<td>203.2</td>\n",
       "</tr>\n",
       "<tr>\n",
       "<td>6</td>\n",
       "<td>10</td>\n",
       "<td>208.28</td>\n",
       "</tr>\n",
       "<tr>\n",
       "<td>6</td>\n",
       "<td>6</td>\n",
       "<td>198.12</td>\n",
       "</tr>\n",
       "</table>\n",
       "5 rows in set (0.00 sec)"
      ],
      "text/plain": [
       "+------------+--------------+-------------------+\n",
       "| heightFeet | heightInches | heightCentimeters |\n",
       "+------------+--------------+-------------------+\n",
       "| 6          | 9            | 205.74            |\n",
       "+------------+--------------+-------------------+\n",
       "| 6          | 7            | 200.66            |\n",
       "+------------+--------------+-------------------+\n",
       "| 6          | 8            | 203.2             |\n",
       "+------------+--------------+-------------------+\n",
       "| 6          | 10           | 208.28            |\n",
       "+------------+--------------+-------------------+\n",
       "| 6          | 6            | 198.12            |\n",
       "+------------+--------------+-------------------+\n",
       "5 rows in set (0.00 sec)"
      ]
     },
     "execution_count": 8,
     "metadata": {},
     "output_type": "execute_result"
    }
   ],
   "source": [
    "SELECT heightFeet,\n",
    "       heightInches,\n",
    "       heightFeet * 30.48 + heightInches * 2.54 AS heightCentimeters\n",
    "  FROM players\n",
    " LIMIT 5;"
   ]
  },
  {
   "cell_type": "markdown",
   "id": "nuclear-driving",
   "metadata": {
    "slideshow": {
     "slide_type": "subslide"
    }
   },
   "source": [
    "## 數值運算時要特別注意優先順序，例如先乘除後加減\n",
    "\n",
    "\\begin{equation}\n",
    "Celsius_{(^{\\circ} C)} = (Fahrenheit_{(^{\\circ} F)} - 32) \\times \\frac{5}{9}\n",
    "\\end{equation}"
   ]
  },
  {
   "cell_type": "code",
   "execution_count": 9,
   "id": "incredible-combination",
   "metadata": {
    "slideshow": {
     "slide_type": "-"
    }
   },
   "outputs": [
    {
     "data": {
      "text/html": [
       "<table>\n",
       "<tr>\n",
       "<th>wrong_conversion</th>\n",
       "<th>correct_conversion</th>\n",
       "</tr>\n",
       "<tr>\n",
       "<td>195</td>\n",
       "<td>100</td>\n",
       "</tr>\n",
       "</table>\n",
       "1 row in set (0.00 sec)"
      ],
      "text/plain": [
       "+------------------+--------------------+\n",
       "| wrong_conversion | correct_conversion |\n",
       "+------------------+--------------------+\n",
       "| 195              | 100                |\n",
       "+------------------+--------------------+\n",
       "1 row in set (0.00 sec)"
      ]
     },
     "execution_count": 9,
     "metadata": {},
     "output_type": "execute_result"
    }
   ],
   "source": [
    "SELECT 212 - 32 * 5/9 AS wrong_conversion,      -- 錯誤的華氏轉攝氏\n",
    "       (212 - 32) * 5/9 AS correct_conversion;  -- 正確的華氏轉攝氏"
   ]
  },
  {
   "cell_type": "markdown",
   "id": "surprising-electronics",
   "metadata": {
    "slideshow": {
     "slide_type": "subslide"
    }
   },
   "source": [
    "## 在使用 `/` 相除兩個整數的時候要特別注意所衍生的欄位依然會以整數類型存在"
   ]
  },
  {
   "cell_type": "code",
   "execution_count": 10,
   "id": "electoral-borough",
   "metadata": {},
   "outputs": [
    {
     "data": {
      "text/html": [
       "<table>\n",
       "<tr>\n",
       "<th>an_integer</th>\n",
       "</tr>\n",
       "<tr>\n",
       "<td>0</td>\n",
       "</tr>\n",
       "</table>\n",
       "1 row in set (0.00 sec)"
      ],
      "text/plain": [
       "+------------+\n",
       "| an_integer |\n",
       "+------------+\n",
       "| 0          |\n",
       "+------------+\n",
       "1 row in set (0.00 sec)"
      ]
     },
     "execution_count": 10,
     "metadata": {},
     "output_type": "execute_result"
    }
   ],
   "source": [
    "SELECT 1 / 2 AS an_integer;"
   ]
  },
  {
   "cell_type": "markdown",
   "id": "anticipated-vehicle",
   "metadata": {
    "slideshow": {
     "slide_type": "subslide"
    }
   },
   "source": [
    "## 若希望衍生欄位是浮點數類型，要為分子或者分母加上小數點"
   ]
  },
  {
   "cell_type": "code",
   "execution_count": 11,
   "id": "sacred-designation",
   "metadata": {
    "slideshow": {
     "slide_type": "-"
    }
   },
   "outputs": [
    {
     "data": {
      "text/html": [
       "<table>\n",
       "<tr>\n",
       "<th>a_real</th>\n",
       "</tr>\n",
       "<tr>\n",
       "<td>0.5</td>\n",
       "</tr>\n",
       "</table>\n",
       "1 row in set (0.00 sec)"
      ],
      "text/plain": [
       "+--------+\n",
       "| a_real |\n",
       "+--------+\n",
       "| 0.5    |\n",
       "+--------+\n",
       "1 row in set (0.00 sec)"
      ]
     },
     "execution_count": 11,
     "metadata": {},
     "output_type": "execute_result"
    }
   ],
   "source": [
    "SELECT 1.0 / 2 AS a_real;"
   ]
  },
  {
   "cell_type": "markdown",
   "id": "bigger-berry",
   "metadata": {
    "slideshow": {
     "slide_type": "slide"
    }
   },
   "source": [
    "##  文字運算符"
   ]
  },
  {
   "cell_type": "markdown",
   "id": "balanced-minutes",
   "metadata": {
    "slideshow": {
     "slide_type": "subslide"
    }
   },
   "source": [
    "##  針對文字（TEXT）可以使用文字運算符衍生計算欄位\n",
    "\n",
    "![mutate](mutate.png)"
   ]
  },
  {
   "cell_type": "markdown",
   "id": "concrete-agenda",
   "metadata": {
    "slideshow": {
     "slide_type": "subslide"
    }
   },
   "source": [
    "## 基礎文字運算符\n",
    "\n",
    "`||`：兩個垂直線（可透過 `Shift + \\` 按出來）能夠連接文字。 "
   ]
  },
  {
   "cell_type": "code",
   "execution_count": 12,
   "id": "protective-complex",
   "metadata": {
    "slideshow": {
     "slide_type": "subslide"
    }
   },
   "outputs": [
    {
     "data": {
      "text/html": [
       "<table>\n",
       "<tr>\n",
       "<th>firstName</th>\n",
       "<th>lastName</th>\n",
       "<th>player_name</th>\n",
       "</tr>\n",
       "<tr>\n",
       "<td>LeBron</td>\n",
       "<td>James</td>\n",
       "<td>LeBron James</td>\n",
       "</tr>\n",
       "<tr>\n",
       "<td>Carmelo</td>\n",
       "<td>Anthony</td>\n",
       "<td>Carmelo Anthony</td>\n",
       "</tr>\n",
       "<tr>\n",
       "<td>Udonis</td>\n",
       "<td>Haslem</td>\n",
       "<td>Udonis Haslem</td>\n",
       "</tr>\n",
       "<tr>\n",
       "<td>Dwight</td>\n",
       "<td>Howard</td>\n",
       "<td>Dwight Howard</td>\n",
       "</tr>\n",
       "<tr>\n",
       "<td>Andre</td>\n",
       "<td>Iguodala</td>\n",
       "<td>Andre Iguodala</td>\n",
       "</tr>\n",
       "</table>\n",
       "5 rows in set (0.00 sec)"
      ],
      "text/plain": [
       "+-----------+----------+-----------------+\n",
       "| firstName | lastName | player_name     |\n",
       "+-----------+----------+-----------------+\n",
       "| LeBron    | James    | LeBron James    |\n",
       "+-----------+----------+-----------------+\n",
       "| Carmelo   | Anthony  | Carmelo Anthony |\n",
       "+-----------+----------+-----------------+\n",
       "| Udonis    | Haslem   | Udonis Haslem   |\n",
       "+-----------+----------+-----------------+\n",
       "| Dwight    | Howard   | Dwight Howard   |\n",
       "+-----------+----------+-----------------+\n",
       "| Andre     | Iguodala | Andre Iguodala  |\n",
       "+-----------+----------+-----------------+\n",
       "5 rows in set (0.00 sec)"
      ]
     },
     "execution_count": 12,
     "metadata": {},
     "output_type": "execute_result"
    }
   ],
   "source": [
    "SELECT firstName,\n",
    "       lastName,\n",
    "       firstName || ' ' || lastName AS player_name\n",
    "  FROM players\n",
    " LIMIT 5;"
   ]
  },
  {
   "cell_type": "markdown",
   "id": "computational-africa",
   "metadata": {
    "slideshow": {
     "slide_type": "slide"
    }
   },
   "source": [
    "## 重點統整\n",
    "\n",
    "- `SELECT` 能夠單獨存在於一段 SQL 之中。\n",
    "- 針對整數與帶小數點的浮點數可以使用**數值運算符**衍生計算欄位。\n",
    "- 針對文字可以使用**文字運算符**衍生計算欄位。"
   ]
  },
  {
   "cell_type": "markdown",
   "id": "employed-thousand",
   "metadata": {
    "slideshow": {
     "slide_type": "subslide"
    }
   },
   "source": [
    "```sql\n",
    "/*\n",
    "截至目前學起來的 SQL 有哪些？\n",
    "SQL 寫作順序必須遵從標準 SQL 的規定。\n",
    "*/\n",
    "SELECT column_names  -- 選擇哪些欄位\n",
    "  FROM table_name    -- 從哪個資料庫的資料表\n",
    " LIMIT m;            -- 查詢結果顯示前 m 列就好\n",
    "```"
   ]
  }
 ],
 "metadata": {
  "celltoolbar": "Slideshow",
  "kernelspec": {
   "display_name": "xsql",
   "language": "sqlite",
   "name": "xsql"
  },
  "language_info": {
   "codemirror_mode": "sql",
   "file_extension": "",
   "mimetype": "",
   "name": "mysql",
   "version": "0.0.8"
  }
 },
 "nbformat": 4,
 "nbformat_minor": 5
}
