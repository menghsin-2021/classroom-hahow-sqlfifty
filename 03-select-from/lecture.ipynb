{
 "cells": [
  {
   "cell_type": "markdown",
   "id": "lightweight-fruit",
   "metadata": {
    "slideshow": {
     "slide_type": "slide"
    }
   },
   "source": [
    "# SQL 的五十道練習\n",
    "\n",
    "> 從資料表選擇\n",
    "\n",
    "[數據交點](https://www.datainpoint.com/) | 郭耀仁 <yaojenkuo@datainpoint.com>"
   ]
  },
  {
   "cell_type": "markdown",
   "id": "increasing-attempt",
   "metadata": {
    "slideshow": {
     "slide_type": "subslide"
    }
   },
   "source": [
    "## 這個章節要學起來的 SQL 保留字\n",
    "\n",
    "- `SELECT`\n",
    "- `FROM`\n",
    "- `LIMIT`\n",
    "- `AS`\n",
    "- `DISTINCT`"
   ]
  },
  {
   "cell_type": "code",
   "execution_count": 1,
   "id": "matched-spyware",
   "metadata": {
    "slideshow": {
     "slide_type": "skip"
    }
   },
   "outputs": [],
   "source": [
    "%LOAD ../databases/imdb.db"
   ]
  },
  {
   "cell_type": "code",
   "execution_count": 2,
   "id": "organized-central",
   "metadata": {
    "slideshow": {
     "slide_type": "skip"
    }
   },
   "outputs": [],
   "source": [
    "ATTACH \"../databases/nba.db\" AS nba;"
   ]
  },
  {
   "cell_type": "code",
   "execution_count": 3,
   "id": "animated-situation",
   "metadata": {
    "slideshow": {
     "slide_type": "skip"
    }
   },
   "outputs": [],
   "source": [
    "ATTACH \"../databases/twElection2020.db\" AS twElection2020;"
   ]
  },
  {
   "cell_type": "code",
   "execution_count": 4,
   "id": "positive-conservative",
   "metadata": {
    "slideshow": {
     "slide_type": "skip"
    }
   },
   "outputs": [],
   "source": [
    "ATTACH \"../databases/covid19.db\" AS covid19;"
   ]
  },
  {
   "cell_type": "markdown",
   "id": "supposed-spread",
   "metadata": {
    "slideshow": {
     "slide_type": "slide"
    }
   },
   "source": [
    "## 以 `SELECT` 與 `FROM` 從資料表選擇"
   ]
  },
  {
   "cell_type": "markdown",
   "id": "threaded-police",
   "metadata": {
    "slideshow": {
     "slide_type": "subslide"
    }
   },
   "source": [
    "## 回憶一下「哈囉資料庫」SQL"
   ]
  },
  {
   "cell_type": "code",
   "execution_count": 5,
   "id": "wired-consciousness",
   "metadata": {},
   "outputs": [
    {
     "data": {
      "text/html": [
       "<table>\n",
       "<tr>\n",
       "<th>id</th>\n",
       "<th>title</th>\n",
       "<th>release_year</th>\n",
       "<th>rating</th>\n",
       "<th>director</th>\n",
       "<th>runtime</th>\n",
       "</tr>\n",
       "<tr>\n",
       "<td>1</td>\n",
       "<td>The Shawshank Redemption</td>\n",
       "<td>1994</td>\n",
       "<td>9.3</td>\n",
       "<td>Frank Darabont</td>\n",
       "<td>142</td>\n",
       "</tr>\n",
       "<tr>\n",
       "<td>2</td>\n",
       "<td>The Godfather</td>\n",
       "<td>1972</td>\n",
       "<td>9.2</td>\n",
       "<td>Francis Ford Coppola</td>\n",
       "<td>175</td>\n",
       "</tr>\n",
       "<tr>\n",
       "<td>3</td>\n",
       "<td>The Godfather: Part II</td>\n",
       "<td>1974</td>\n",
       "<td>9.0</td>\n",
       "<td>Francis Ford Coppola</td>\n",
       "<td>202</td>\n",
       "</tr>\n",
       "<tr>\n",
       "<td>4</td>\n",
       "<td>The Dark Knight</td>\n",
       "<td>2008</td>\n",
       "<td>9.0</td>\n",
       "<td>Christopher Nolan</td>\n",
       "<td>152</td>\n",
       "</tr>\n",
       "<tr>\n",
       "<td>5</td>\n",
       "<td>12 Angry Men</td>\n",
       "<td>1957</td>\n",
       "<td>9.0</td>\n",
       "<td>Sidney Lumet</td>\n",
       "<td>96</td>\n",
       "</tr>\n",
       "</table>"
      ],
      "text/plain": [
       "+----+--------------------------+--------------+--------+----------------------+---------+\n",
       "| id | title                    | release_year | rating | director             | runtime |\n",
       "+----+--------------------------+--------------+--------+----------------------+---------+\n",
       "| 1  | The Shawshank Redemption | 1994         | 9.3    | Frank Darabont       | 142     |\n",
       "+----+--------------------------+--------------+--------+----------------------+---------+\n",
       "| 2  | The Godfather            | 1972         | 9.2    | Francis Ford Coppola | 175     |\n",
       "+----+--------------------------+--------------+--------+----------------------+---------+\n",
       "| 3  | The Godfather: Part II   | 1974         | 9.0    | Francis Ford Coppola | 202     |\n",
       "+----+--------------------------+--------------+--------+----------------------+---------+\n",
       "| 4  | The Dark Knight          | 2008         | 9.0    | Christopher Nolan    | 152     |\n",
       "+----+--------------------------+--------------+--------+----------------------+---------+\n",
       "| 5  | 12 Angry Men             | 1957         | 9.0    | Sidney Lumet         | 96      |\n",
       "+----+--------------------------+--------------+--------+----------------------+---------+"
      ]
     },
     "execution_count": 5,
     "metadata": {},
     "output_type": "execute_result"
    }
   ],
   "source": [
    "SELECT *\n",
    "  FROM movies\n",
    " LIMIT 5;"
   ]
  },
  {
   "cell_type": "markdown",
   "id": "lasting-fantasy",
   "metadata": {
    "slideshow": {
     "slide_type": "subslide"
    }
   },
   "source": [
    "## `SELECT`、`FROM` 與 `LIMIT`\n",
    "\n",
    "- `SELECT` 是「選擇」欄位。\n",
    "- `FROM` 是指定「從」哪個資料表查詢資料。\n",
    "- `LIMIT` 是讓資料查詢結果顯示指定的前幾列。\n",
    "- `*` 表示「所有」。\n",
    "- `;` 表示一段 SQL 的結束。"
   ]
  },
  {
   "cell_type": "markdown",
   "id": "compound-combining",
   "metadata": {
    "slideshow": {
     "slide_type": "subslide"
    }
   },
   "source": [
    "## 儲存在資料庫中的資料表是有兩個維度的資料結構\n",
    "\n",
    "- 第一個維度稱為觀測值（Observations），有時亦稱為列（Rows）。\n",
    "- 第二個維度稱為變數（Variables），有時亦稱為欄（Columns）。"
   ]
  },
  {
   "cell_type": "markdown",
   "id": "compressed-experience",
   "metadata": {
    "slideshow": {
     "slide_type": "subslide"
    }
   },
   "source": [
    "## 如何描述一個資料表的外觀\n",
    "\n",
    "我們習慣以 `(m, n)` 或者 `m x n` 來描述一個具有 `m` 列觀測值、`n` 欄變數的資料表（或者資料查詢結果）。\n",
    "\n",
    "![tidy-data](tidy-data.png)\n",
    "\n",
    "Source: <https://www.rstudio.com/resources/cheatsheets>"
   ]
  },
  {
   "cell_type": "markdown",
   "id": "sophisticated-functionality",
   "metadata": {
    "slideshow": {
     "slide_type": "subslide"
    }
   },
   "source": [
    "## 「哈囉資料庫」SQL 資料查詢結果的外觀為 `(5, 6)` 或者 `5 x 6`"
   ]
  },
  {
   "cell_type": "code",
   "execution_count": 6,
   "id": "trying-playing",
   "metadata": {},
   "outputs": [
    {
     "data": {
      "text/html": [
       "<table>\n",
       "<tr>\n",
       "<th>id</th>\n",
       "<th>title</th>\n",
       "<th>release_year</th>\n",
       "<th>rating</th>\n",
       "<th>director</th>\n",
       "<th>runtime</th>\n",
       "</tr>\n",
       "<tr>\n",
       "<td>1</td>\n",
       "<td>The Shawshank Redemption</td>\n",
       "<td>1994</td>\n",
       "<td>9.3</td>\n",
       "<td>Frank Darabont</td>\n",
       "<td>142</td>\n",
       "</tr>\n",
       "<tr>\n",
       "<td>2</td>\n",
       "<td>The Godfather</td>\n",
       "<td>1972</td>\n",
       "<td>9.2</td>\n",
       "<td>Francis Ford Coppola</td>\n",
       "<td>175</td>\n",
       "</tr>\n",
       "<tr>\n",
       "<td>3</td>\n",
       "<td>The Godfather: Part II</td>\n",
       "<td>1974</td>\n",
       "<td>9.0</td>\n",
       "<td>Francis Ford Coppola</td>\n",
       "<td>202</td>\n",
       "</tr>\n",
       "<tr>\n",
       "<td>4</td>\n",
       "<td>The Dark Knight</td>\n",
       "<td>2008</td>\n",
       "<td>9.0</td>\n",
       "<td>Christopher Nolan</td>\n",
       "<td>152</td>\n",
       "</tr>\n",
       "<tr>\n",
       "<td>5</td>\n",
       "<td>12 Angry Men</td>\n",
       "<td>1957</td>\n",
       "<td>9.0</td>\n",
       "<td>Sidney Lumet</td>\n",
       "<td>96</td>\n",
       "</tr>\n",
       "</table>"
      ],
      "text/plain": [
       "+----+--------------------------+--------------+--------+----------------------+---------+\n",
       "| id | title                    | release_year | rating | director             | runtime |\n",
       "+----+--------------------------+--------------+--------+----------------------+---------+\n",
       "| 1  | The Shawshank Redemption | 1994         | 9.3    | Frank Darabont       | 142     |\n",
       "+----+--------------------------+--------------+--------+----------------------+---------+\n",
       "| 2  | The Godfather            | 1972         | 9.2    | Francis Ford Coppola | 175     |\n",
       "+----+--------------------------+--------------+--------+----------------------+---------+\n",
       "| 3  | The Godfather: Part II   | 1974         | 9.0    | Francis Ford Coppola | 202     |\n",
       "+----+--------------------------+--------------+--------+----------------------+---------+\n",
       "| 4  | The Dark Knight          | 2008         | 9.0    | Christopher Nolan    | 152     |\n",
       "+----+--------------------------+--------------+--------+----------------------+---------+\n",
       "| 5  | 12 Angry Men             | 1957         | 9.0    | Sidney Lumet         | 96      |\n",
       "+----+--------------------------+--------------+--------+----------------------+---------+"
      ]
     },
     "execution_count": 6,
     "metadata": {},
     "output_type": "execute_result"
    }
   ],
   "source": [
    "SELECT *\n",
    "  FROM movies\n",
    " LIMIT 5;"
   ]
  },
  {
   "cell_type": "markdown",
   "id": "engaging-sustainability",
   "metadata": {
    "slideshow": {
     "slide_type": "subslide"
    }
   },
   "source": [
    "## 在 `SELECT` 後加入欄位的名稱表示查詢結果只選擇指定欄位\n",
    "\n",
    "![select](select.png)"
   ]
  },
  {
   "cell_type": "code",
   "execution_count": 7,
   "id": "checked-student",
   "metadata": {
    "slideshow": {
     "slide_type": "subslide"
    }
   },
   "outputs": [
    {
     "data": {
      "text/html": [
       "<table>\n",
       "<tr>\n",
       "<th>title</th>\n",
       "</tr>\n",
       "<tr>\n",
       "<td>The Shawshank Redemption</td>\n",
       "</tr>\n",
       "<tr>\n",
       "<td>The Godfather</td>\n",
       "</tr>\n",
       "<tr>\n",
       "<td>The Godfather: Part II</td>\n",
       "</tr>\n",
       "<tr>\n",
       "<td>The Dark Knight</td>\n",
       "</tr>\n",
       "<tr>\n",
       "<td>12 Angry Men</td>\n",
       "</tr>\n",
       "</table>"
      ],
      "text/plain": [
       "+--------------------------+\n",
       "| title                    |\n",
       "+--------------------------+\n",
       "| The Shawshank Redemption |\n",
       "+--------------------------+\n",
       "| The Godfather            |\n",
       "+--------------------------+\n",
       "| The Godfather: Part II   |\n",
       "+--------------------------+\n",
       "| The Dark Knight          |\n",
       "+--------------------------+\n",
       "| 12 Angry Men             |\n",
       "+--------------------------+"
      ]
     },
     "execution_count": 7,
     "metadata": {},
     "output_type": "execute_result"
    }
   ],
   "source": [
    "SELECT title\n",
    "  FROM movies\n",
    " LIMIT 5;"
   ]
  },
  {
   "cell_type": "markdown",
   "id": "gross-parameter",
   "metadata": {
    "slideshow": {
     "slide_type": "subslide"
    }
   },
   "source": [
    "## 若想指定多個欄位，就用逗號 `,` 將多個欄位名稱隔開"
   ]
  },
  {
   "cell_type": "code",
   "execution_count": 8,
   "id": "southeast-prize",
   "metadata": {
    "slideshow": {
     "slide_type": "-"
    }
   },
   "outputs": [
    {
     "data": {
      "text/html": [
       "<table>\n",
       "<tr>\n",
       "<th>title</th>\n",
       "<th>release_year</th>\n",
       "<th>rating</th>\n",
       "</tr>\n",
       "<tr>\n",
       "<td>The Shawshank Redemption</td>\n",
       "<td>1994</td>\n",
       "<td>9.3</td>\n",
       "</tr>\n",
       "<tr>\n",
       "<td>The Godfather</td>\n",
       "<td>1972</td>\n",
       "<td>9.2</td>\n",
       "</tr>\n",
       "<tr>\n",
       "<td>The Godfather: Part II</td>\n",
       "<td>1974</td>\n",
       "<td>9.0</td>\n",
       "</tr>\n",
       "<tr>\n",
       "<td>The Dark Knight</td>\n",
       "<td>2008</td>\n",
       "<td>9.0</td>\n",
       "</tr>\n",
       "<tr>\n",
       "<td>12 Angry Men</td>\n",
       "<td>1957</td>\n",
       "<td>9.0</td>\n",
       "</tr>\n",
       "</table>"
      ],
      "text/plain": [
       "+--------------------------+--------------+--------+\n",
       "| title                    | release_year | rating |\n",
       "+--------------------------+--------------+--------+\n",
       "| The Shawshank Redemption | 1994         | 9.3    |\n",
       "+--------------------------+--------------+--------+\n",
       "| The Godfather            | 1972         | 9.2    |\n",
       "+--------------------------+--------------+--------+\n",
       "| The Godfather: Part II   | 1974         | 9.0    |\n",
       "+--------------------------+--------------+--------+\n",
       "| The Dark Knight          | 2008         | 9.0    |\n",
       "+--------------------------+--------------+--------+\n",
       "| 12 Angry Men             | 1957         | 9.0    |\n",
       "+--------------------------+--------------+--------+"
      ]
     },
     "execution_count": 8,
     "metadata": {},
     "output_type": "execute_result"
    }
   ],
   "source": [
    "SELECT title,\n",
    "       release_year,\n",
    "       rating\n",
    "  FROM movies\n",
    " LIMIT 5;"
   ]
  },
  {
   "cell_type": "markdown",
   "id": "extensive-engagement",
   "metadata": {
    "slideshow": {
     "slide_type": "subslide"
    }
   },
   "source": [
    "## 注意事項\n",
    "\n",
    "- 保留字大小寫不會影響執行結果的對錯。\n",
    "- 寫作一段 SQL 可以單行或者換行並搭配縮排。"
   ]
  },
  {
   "cell_type": "markdown",
   "id": "gentle-archive",
   "metadata": {
    "slideshow": {
     "slide_type": "subslide"
    }
   },
   "source": [
    "## SQL 中的保留字大小寫不會影響執行結果的對錯， 但是我推薦採用「全大寫」的風格"
   ]
  },
  {
   "cell_type": "code",
   "execution_count": 9,
   "id": "czech-arena",
   "metadata": {
    "slideshow": {
     "slide_type": "-"
    }
   },
   "outputs": [
    {
     "data": {
      "text/html": [
       "<table>\n",
       "<tr>\n",
       "<th>title</th>\n",
       "<th>release_year</th>\n",
       "<th>rating</th>\n",
       "</tr>\n",
       "<tr>\n",
       "<td>The Shawshank Redemption</td>\n",
       "<td>1994</td>\n",
       "<td>9.3</td>\n",
       "</tr>\n",
       "<tr>\n",
       "<td>The Godfather</td>\n",
       "<td>1972</td>\n",
       "<td>9.2</td>\n",
       "</tr>\n",
       "<tr>\n",
       "<td>The Godfather: Part II</td>\n",
       "<td>1974</td>\n",
       "<td>9.0</td>\n",
       "</tr>\n",
       "<tr>\n",
       "<td>The Dark Knight</td>\n",
       "<td>2008</td>\n",
       "<td>9.0</td>\n",
       "</tr>\n",
       "<tr>\n",
       "<td>12 Angry Men</td>\n",
       "<td>1957</td>\n",
       "<td>9.0</td>\n",
       "</tr>\n",
       "</table>"
      ],
      "text/plain": [
       "+--------------------------+--------------+--------+\n",
       "| title                    | release_year | rating |\n",
       "+--------------------------+--------------+--------+\n",
       "| The Shawshank Redemption | 1994         | 9.3    |\n",
       "+--------------------------+--------------+--------+\n",
       "| The Godfather            | 1972         | 9.2    |\n",
       "+--------------------------+--------------+--------+\n",
       "| The Godfather: Part II   | 1974         | 9.0    |\n",
       "+--------------------------+--------------+--------+\n",
       "| The Dark Knight          | 2008         | 9.0    |\n",
       "+--------------------------+--------------+--------+\n",
       "| 12 Angry Men             | 1957         | 9.0    |\n",
       "+--------------------------+--------------+--------+"
      ]
     },
     "execution_count": 9,
     "metadata": {},
     "output_type": "execute_result"
    }
   ],
   "source": [
    "SELECT title,\n",
    "       release_year,\n",
    "       rating\n",
    "  FROM movies\n",
    " LIMIT 5;"
   ]
  },
  {
   "cell_type": "markdown",
   "id": "manual-worse",
   "metadata": {
    "slideshow": {
     "slide_type": "subslide"
    }
   },
   "source": [
    "## 寫作一段 SQL 可以單行或者換行，但是我推薦採用「換行並靠右對齊縮排」的風格"
   ]
  },
  {
   "cell_type": "code",
   "execution_count": 10,
   "id": "wooden-baptist",
   "metadata": {},
   "outputs": [
    {
     "data": {
      "text/html": [
       "<table>\n",
       "<tr>\n",
       "<th>title</th>\n",
       "<th>release_year</th>\n",
       "<th>rating</th>\n",
       "</tr>\n",
       "<tr>\n",
       "<td>The Shawshank Redemption</td>\n",
       "<td>1994</td>\n",
       "<td>9.3</td>\n",
       "</tr>\n",
       "<tr>\n",
       "<td>The Godfather</td>\n",
       "<td>1972</td>\n",
       "<td>9.2</td>\n",
       "</tr>\n",
       "<tr>\n",
       "<td>The Godfather: Part II</td>\n",
       "<td>1974</td>\n",
       "<td>9.0</td>\n",
       "</tr>\n",
       "<tr>\n",
       "<td>The Dark Knight</td>\n",
       "<td>2008</td>\n",
       "<td>9.0</td>\n",
       "</tr>\n",
       "<tr>\n",
       "<td>12 Angry Men</td>\n",
       "<td>1957</td>\n",
       "<td>9.0</td>\n",
       "</tr>\n",
       "</table>"
      ],
      "text/plain": [
       "+--------------------------+--------------+--------+\n",
       "| title                    | release_year | rating |\n",
       "+--------------------------+--------------+--------+\n",
       "| The Shawshank Redemption | 1994         | 9.3    |\n",
       "+--------------------------+--------------+--------+\n",
       "| The Godfather            | 1972         | 9.2    |\n",
       "+--------------------------+--------------+--------+\n",
       "| The Godfather: Part II   | 1974         | 9.0    |\n",
       "+--------------------------+--------------+--------+\n",
       "| The Dark Knight          | 2008         | 9.0    |\n",
       "+--------------------------+--------------+--------+\n",
       "| 12 Angry Men             | 1957         | 9.0    |\n",
       "+--------------------------+--------------+--------+"
      ]
     },
     "execution_count": 10,
     "metadata": {},
     "output_type": "execute_result"
    }
   ],
   "source": [
    "SELECT title, \n",
    "       release_year,\n",
    "       rating\n",
    "  FROM movies\n",
    " LIMIT 5;"
   ]
  },
  {
   "cell_type": "markdown",
   "id": "covered-object",
   "metadata": {
    "slideshow": {
     "slide_type": "subslide"
    }
   },
   "source": [
    "## 之所以推薦特定的寫作風格，是因為我遵從了 Simon Holywell 所寫的 SQL 風格指南\n",
    "\n",
    "[SQL Style Guide by Simon Holywell](https://www.sqlstyle.guide/zh-tw/)"
   ]
  },
  {
   "cell_type": "markdown",
   "id": "allied-unemployment",
   "metadata": {
    "slideshow": {
     "slide_type": "subslide"
    }
   },
   "source": [
    "## 其他 SQL 風格指南\n",
    "\n",
    "- [SQL Style Guide by GitLab](https://about.gitlab.com/handbook/business-technology/data-team/platform/sql-style-guide/)\n",
    "- [SQL Style Guide by Mozilla](https://docs.telemetry.mozilla.org/concepts/sql_style.html)\n",
    "- ...etc."
   ]
  },
  {
   "cell_type": "markdown",
   "id": "thorough-reward",
   "metadata": {
    "slideshow": {
     "slide_type": "slide"
    }
   },
   "source": [
    "## 在 SQL 中添加註解"
   ]
  },
  {
   "cell_type": "markdown",
   "id": "nearby-slide",
   "metadata": {
    "slideshow": {
     "slide_type": "subslide"
    }
   },
   "source": [
    "## 寫作 SQL 時我們會在段落中添加註解，有兩種常用的註解形式\n",
    "\n",
    "1. 單行註解 \n",
    "\n",
    "```sql\n",
    "-- comments\n",
    "```\n",
    "\n",
    "2. 多行註解\n",
    "\n",
    "```sql\n",
    "/* \n",
    "...comments \n",
    "...comments\n",
    "...comments\n",
    "*/\n",
    "```"
   ]
  },
  {
   "cell_type": "markdown",
   "id": "female-runner",
   "metadata": {
    "slideshow": {
     "slide_type": "subslide"
    }
   },
   "source": [
    "## 使用兩個減號 `--` 添加單行註解"
   ]
  },
  {
   "cell_type": "code",
   "execution_count": 11,
   "id": "rough-weekly",
   "metadata": {},
   "outputs": [
    {
     "data": {
      "text/html": [
       "<table>\n",
       "<tr>\n",
       "<th>title</th>\n",
       "<th>release_year</th>\n",
       "<th>rating</th>\n",
       "</tr>\n",
       "<tr>\n",
       "<td>The Shawshank Redemption</td>\n",
       "<td>1994</td>\n",
       "<td>9.3</td>\n",
       "</tr>\n",
       "<tr>\n",
       "<td>The Godfather</td>\n",
       "<td>1972</td>\n",
       "<td>9.2</td>\n",
       "</tr>\n",
       "<tr>\n",
       "<td>The Godfather: Part II</td>\n",
       "<td>1974</td>\n",
       "<td>9.0</td>\n",
       "</tr>\n",
       "</table>"
      ],
      "text/plain": [
       "+--------------------------+--------------+--------+\n",
       "| title                    | release_year | rating |\n",
       "+--------------------------+--------------+--------+\n",
       "| The Shawshank Redemption | 1994         | 9.3    |\n",
       "+--------------------------+--------------+--------+\n",
       "| The Godfather            | 1972         | 9.2    |\n",
       "+--------------------------+--------------+--------+\n",
       "| The Godfather: Part II   | 1974         | 9.0    |\n",
       "+--------------------------+--------------+--------+"
      ]
     },
     "execution_count": 11,
     "metadata": {},
     "output_type": "execute_result"
    }
   ],
   "source": [
    "-- 如何添加單行註解\n",
    "SELECT title,         -- 用逗號將欄位名稱隔開\n",
    "       release_year,  -- 用逗號將欄位名稱隔開\n",
    "       rating         -- 最後一個欄位名稱後面不要逗號\n",
    "  FROM movies         -- 存於 imdb.db 中的 movies 資料表\n",
    " LIMIT 3;             -- 顯示前 3 列並且用分號;表示一段 SQL 的結束"
   ]
  },
  {
   "cell_type": "markdown",
   "id": "narrative-balance",
   "metadata": {
    "slideshow": {
     "slide_type": "subslide"
    }
   },
   "source": [
    "## 使用 `/*` 與 `*/` 添加多行註解"
   ]
  },
  {
   "cell_type": "code",
   "execution_count": 12,
   "id": "german-endorsement",
   "metadata": {},
   "outputs": [
    {
     "data": {
      "text/html": [
       "<table>\n",
       "<tr>\n",
       "<th>title</th>\n",
       "<th>release_year</th>\n",
       "<th>rating</th>\n",
       "</tr>\n",
       "<tr>\n",
       "<td>The Shawshank Redemption</td>\n",
       "<td>1994</td>\n",
       "<td>9.3</td>\n",
       "</tr>\n",
       "<tr>\n",
       "<td>The Godfather</td>\n",
       "<td>1972</td>\n",
       "<td>9.2</td>\n",
       "</tr>\n",
       "<tr>\n",
       "<td>The Godfather: Part II</td>\n",
       "<td>1974</td>\n",
       "<td>9.0</td>\n",
       "</tr>\n",
       "</table>"
      ],
      "text/plain": [
       "+--------------------------+--------------+--------+\n",
       "| title                    | release_year | rating |\n",
       "+--------------------------+--------------+--------+\n",
       "| The Shawshank Redemption | 1994         | 9.3    |\n",
       "+--------------------------+--------------+--------+\n",
       "| The Godfather            | 1972         | 9.2    |\n",
       "+--------------------------+--------------+--------+\n",
       "| The Godfather: Part II   | 1974         | 9.0    |\n",
       "+--------------------------+--------------+--------+"
      ]
     },
     "execution_count": 12,
     "metadata": {},
     "output_type": "execute_result"
    }
   ],
   "source": [
    "/* \n",
    "如何添加多行註解\n",
    "用逗號將欄位名稱隔開\n",
    "最後一個欄位名稱後面不要逗號\n",
    "存於 imdb.db 中的 movies 資料表\n",
    "顯示前 3 列並且用分號;表示一段 SQL 的結束\n",
    "*/\n",
    "SELECT title,\n",
    "       release_year,\n",
    "       rating\n",
    "  FROM movies\n",
    " LIMIT 3;"
   ]
  },
  {
   "cell_type": "markdown",
   "id": "joint-hearing",
   "metadata": {
    "slideshow": {
     "slide_type": "slide"
    }
   },
   "source": [
    "## 替查詢結果的欄位取別名"
   ]
  },
  {
   "cell_type": "markdown",
   "id": "third-capacity",
   "metadata": {
    "slideshow": {
     "slide_type": "subslide"
    }
   },
   "source": [
    "## 使用 `AS` 為查詢結果中的變數取別名"
   ]
  },
  {
   "cell_type": "code",
   "execution_count": 13,
   "id": "sapphire-platinum",
   "metadata": {
    "slideshow": {
     "slide_type": "-"
    }
   },
   "outputs": [
    {
     "data": {
      "text/html": [
       "<table>\n",
       "<tr>\n",
       "<th>movie_title</th>\n",
       "<th>movie_year</th>\n",
       "<th>imdb_rating</th>\n",
       "</tr>\n",
       "<tr>\n",
       "<td>The Shawshank Redemption</td>\n",
       "<td>1994</td>\n",
       "<td>9.3</td>\n",
       "</tr>\n",
       "<tr>\n",
       "<td>The Godfather</td>\n",
       "<td>1972</td>\n",
       "<td>9.2</td>\n",
       "</tr>\n",
       "<tr>\n",
       "<td>The Godfather: Part II</td>\n",
       "<td>1974</td>\n",
       "<td>9.0</td>\n",
       "</tr>\n",
       "<tr>\n",
       "<td>The Dark Knight</td>\n",
       "<td>2008</td>\n",
       "<td>9.0</td>\n",
       "</tr>\n",
       "<tr>\n",
       "<td>12 Angry Men</td>\n",
       "<td>1957</td>\n",
       "<td>9.0</td>\n",
       "</tr>\n",
       "</table>"
      ],
      "text/plain": [
       "+--------------------------+------------+-------------+\n",
       "| movie_title              | movie_year | imdb_rating |\n",
       "+--------------------------+------------+-------------+\n",
       "| The Shawshank Redemption | 1994       | 9.3         |\n",
       "+--------------------------+------------+-------------+\n",
       "| The Godfather            | 1972       | 9.2         |\n",
       "+--------------------------+------------+-------------+\n",
       "| The Godfather: Part II   | 1974       | 9.0         |\n",
       "+--------------------------+------------+-------------+\n",
       "| The Dark Knight          | 2008       | 9.0         |\n",
       "+--------------------------+------------+-------------+\n",
       "| 12 Angry Men             | 1957       | 9.0         |\n",
       "+--------------------------+------------+-------------+"
      ]
     },
     "execution_count": 13,
     "metadata": {},
     "output_type": "execute_result"
    }
   ],
   "source": [
    "SELECT title AS movie_title,\n",
    "       release_year AS movie_year,\n",
    "       rating AS imdb_rating\n",
    "  FROM movies\n",
    " LIMIT 5;"
   ]
  },
  {
   "cell_type": "markdown",
   "id": "controlling-marina",
   "metadata": {
    "slideshow": {
     "slide_type": "slide"
    }
   },
   "source": [
    "## 查詢結果僅顯示獨一值"
   ]
  },
  {
   "cell_type": "markdown",
   "id": "harmful-acting",
   "metadata": {
    "slideshow": {
     "slide_type": "subslide"
    }
   },
   "source": [
    "## 使用 `DISTINCT` 省略查詢結果中重複的資料"
   ]
  },
  {
   "cell_type": "code",
   "execution_count": 14,
   "id": "activated-norman",
   "metadata": {
    "slideshow": {
     "slide_type": "-"
    }
   },
   "outputs": [
    {
     "data": {
      "text/html": [
       "<table>\n",
       "<tr>\n",
       "<th>confName</th>\n",
       "</tr>\n",
       "<tr>\n",
       "<td>East</td>\n",
       "</tr>\n",
       "<tr>\n",
       "<td>East</td>\n",
       "</tr>\n",
       "<tr>\n",
       "<td>East</td>\n",
       "</tr>\n",
       "<tr>\n",
       "<td>West</td>\n",
       "</tr>\n",
       "<tr>\n",
       "<td>East</td>\n",
       "</tr>\n",
       "<tr>\n",
       "<td>West</td>\n",
       "</tr>\n",
       "<tr>\n",
       "<td>West</td>\n",
       "</tr>\n",
       "<tr>\n",
       "<td>West</td>\n",
       "</tr>\n",
       "<tr>\n",
       "<td>West</td>\n",
       "</tr>\n",
       "<tr>\n",
       "<td>West</td>\n",
       "</tr>\n",
       "<tr>\n",
       "<td>West</td>\n",
       "</tr>\n",
       "<tr>\n",
       "<td>East</td>\n",
       "</tr>\n",
       "<tr>\n",
       "<td>East</td>\n",
       "</tr>\n",
       "<tr>\n",
       "<td>West</td>\n",
       "</tr>\n",
       "<tr>\n",
       "<td>East</td>\n",
       "</tr>\n",
       "<tr>\n",
       "<td>East</td>\n",
       "</tr>\n",
       "<tr>\n",
       "<td>East</td>\n",
       "</tr>\n",
       "<tr>\n",
       "<td>East</td>\n",
       "</tr>\n",
       "<tr>\n",
       "<td>East</td>\n",
       "</tr>\n",
       "<tr>\n",
       "<td>West</td>\n",
       "</tr>\n",
       "<tr>\n",
       "<td>West</td>\n",
       "</tr>\n",
       "<tr>\n",
       "<td>West</td>\n",
       "</tr>\n",
       "<tr>\n",
       "<td>West</td>\n",
       "</tr>\n",
       "<tr>\n",
       "<td>West</td>\n",
       "</tr>\n",
       "<tr>\n",
       "<td>East</td>\n",
       "</tr>\n",
       "<tr>\n",
       "<td>West</td>\n",
       "</tr>\n",
       "<tr>\n",
       "<td>West</td>\n",
       "</tr>\n",
       "<tr>\n",
       "<td>East</td>\n",
       "</tr>\n",
       "<tr>\n",
       "<td>East</td>\n",
       "</tr>\n",
       "<tr>\n",
       "<td>East</td>\n",
       "</tr>\n",
       "</table>"
      ],
      "text/plain": [
       "+----------+\n",
       "| confName |\n",
       "+----------+\n",
       "| East     |\n",
       "+----------+\n",
       "| East     |\n",
       "+----------+\n",
       "| East     |\n",
       "+----------+\n",
       "| West     |\n",
       "+----------+\n",
       "| East     |\n",
       "+----------+\n",
       "| West     |\n",
       "+----------+\n",
       "| West     |\n",
       "+----------+\n",
       "| West     |\n",
       "+----------+\n",
       "| West     |\n",
       "+----------+\n",
       "| West     |\n",
       "+----------+\n",
       "| West     |\n",
       "+----------+\n",
       "| East     |\n",
       "+----------+\n",
       "| East     |\n",
       "+----------+\n",
       "| West     |\n",
       "+----------+\n",
       "| East     |\n",
       "+----------+\n",
       "| East     |\n",
       "+----------+\n",
       "| East     |\n",
       "+----------+\n",
       "| East     |\n",
       "+----------+\n",
       "| East     |\n",
       "+----------+\n",
       "| West     |\n",
       "+----------+\n",
       "| West     |\n",
       "+----------+\n",
       "| West     |\n",
       "+----------+\n",
       "| West     |\n",
       "+----------+\n",
       "| West     |\n",
       "+----------+\n",
       "| East     |\n",
       "+----------+\n",
       "| West     |\n",
       "+----------+\n",
       "| West     |\n",
       "+----------+\n",
       "| East     |\n",
       "+----------+\n",
       "| East     |\n",
       "+----------+\n",
       "| East     |\n",
       "+----------+"
      ]
     },
     "execution_count": 14,
     "metadata": {},
     "output_type": "execute_result"
    }
   ],
   "source": [
    "SELECT confName\n",
    "  FROM teams;  -- 存於 nba.db 中的 teams 資料表"
   ]
  },
  {
   "cell_type": "code",
   "execution_count": 15,
   "id": "favorite-minnesota",
   "metadata": {
    "slideshow": {
     "slide_type": "subslide"
    }
   },
   "outputs": [
    {
     "data": {
      "text/html": [
       "<table>\n",
       "<tr>\n",
       "<th>distinct_conf_name</th>\n",
       "</tr>\n",
       "<tr>\n",
       "<td>East</td>\n",
       "</tr>\n",
       "<tr>\n",
       "<td>West</td>\n",
       "</tr>\n",
       "</table>"
      ],
      "text/plain": [
       "+--------------------+\n",
       "| distinct_conf_name |\n",
       "+--------------------+\n",
       "| East               |\n",
       "+--------------------+\n",
       "| West               |\n",
       "+--------------------+"
      ]
     },
     "execution_count": 15,
     "metadata": {},
     "output_type": "execute_result"
    }
   ],
   "source": [
    "SELECT DISTINCT confName AS distinct_conf_name\n",
    "  FROM teams;  -- 存於 nba.db 中的 teams 資料表"
   ]
  },
  {
   "cell_type": "markdown",
   "id": "regulated-familiar",
   "metadata": {
    "slideshow": {
     "slide_type": "slide"
    }
   },
   "source": [
    "## 重點統整\n",
    "\n",
    "- `SELECT` 與 `FROM` 是從資料表選擇變數的保留字。\n",
    "- `LIMIT` 是讓資料查詢結果顯示指定前幾列的保留字。\n",
    "- 寫作 SQL 時應該遵從指定的風格指南。"
   ]
  },
  {
   "cell_type": "markdown",
   "id": "computational-africa",
   "metadata": {
    "slideshow": {
     "slide_type": "subslide"
    }
   },
   "source": [
    "## 重點統整（續）\n",
    "\n",
    "- 寫作 SQL 時會添加單行註解或者多行註解。\n",
    "- 使用 `AS` 為查詢結果的變數取別名。\n",
    "- 使用 `DISTINCT` 省略查詢結果中重複的資料。"
   ]
  },
  {
   "cell_type": "markdown",
   "id": "employed-thousand",
   "metadata": {
    "slideshow": {
     "slide_type": "subslide"
    }
   },
   "source": [
    "```sql\n",
    "/*\n",
    "截至目前學起來的 SQL 有哪些？\n",
    "SQL 寫作順序必須遵從標準 SQL 的規定。\n",
    "*/\n",
    "SELECT column_names  -- 選擇哪些欄位\n",
    "  FROM table_name    -- 從哪個資料庫的資料表\n",
    " LIMIT m;            -- 查詢結果顯示前 m 列就好\n",
    "```"
   ]
  }
 ],
 "metadata": {
  "celltoolbar": "Slideshow",
  "kernelspec": {
   "display_name": "xsqlite",
   "language": "sqlite",
   "name": "xsqlite"
  },
  "language_info": {
   "codemirror_mode": "sql",
   "file_extension": "",
   "mimetype": "",
   "name": "sqlite3",
   "version": "3.33.0"
  }
 },
 "nbformat": 4,
 "nbformat_minor": 5
}
