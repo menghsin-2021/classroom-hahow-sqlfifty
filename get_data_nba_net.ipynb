{
 "cells": [
  {
   "cell_type": "code",
   "execution_count": 1,
   "metadata": {},
   "outputs": [],
   "source": [
    "import requests\n",
    "import numpy as np\n",
    "import pandas as pd\n",
    "from tqdm import tqdm\n",
    "import sqlite3"
   ]
  },
  {
   "cell_type": "code",
   "execution_count": 2,
   "metadata": {},
   "outputs": [],
   "source": [
    "response = requests.get(\"https://data.nba.net/10s/prod/v3/today.json\")\n",
    "today_json = response.json()\n",
    "nba_data_links = today_json['links']"
   ]
  },
  {
   "cell_type": "code",
   "execution_count": 3,
   "metadata": {},
   "outputs": [
    {
     "name": "stdout",
     "output_type": "stream",
     "text": [
      "https://data.nba.net/prod/v1/multi/calendar.json\n",
      "https://data.nba.net/prod/v2/20210331/scoreboard.json\n",
      "https://data.nba.net/prod/v2/20210331/scoreboard.json\n",
      "https://data.nba.net/prod/v2/2020/teams.json\n",
      "https://data.nba.net/prod/v2/{{gameDate}}/scoreboard.json\n",
      "https://data.nba.net/prod/v1/2020/players.json\n",
      "https://data.nba.net/prod/v1/allstar/2018/AS_roster.json\n",
      "https://data.nba.net/prod/v1/2020/coaches.json\n",
      "https://data.nba.net/prod/v1/multi/schedule.json\n",
      "https://data.nba.net/prod/v1/current/standings_conference.json\n",
      "https://data.nba.net/prod/v1/current/standings_division.json\n",
      "https://data.nba.net/prod/v1/current/standings_all.json\n",
      "https://data.nba.net/prod/v1/current/standings_all_no_sort_keys.json\n",
      "https://data.nba.net/prod/v1/2020/team_stats_rankings.json\n",
      "https://data.nba.net/prod/v1/2020/team_stats_last_five_games.json\n",
      "https://data.nba.net/prod/v1/{{gameDate}}/{{gameId}}_preview_article.json\n",
      "https://data.nba.net/prod/v1/{{gameDate}}/{{gameId}}_recap_article.json\n",
      "https://data.nba.net/prod/v1/{{gameDate}}/{{gameId}}_Book.pdf\n",
      "https://data.nba.net/prod/v1/{{gameDate}}/{{gameId}}_boxscore.json\n",
      "https://data.nba.net/prod/v1/{{gameDate}}/{{gameId}}_mini_boxscore.json\n",
      "https://data.nba.net/prod/v1/{{gameDate}}/{{gameId}}_pbp_{{periodNum}}.json\n",
      "https://data.nba.net/prod/v1/{{gameDate}}/{{gameId}}_lead_tracker_{{periodNum}}.json\n",
      "https://data.nba.net/prod/v1/2020/players/{{personId}}_gamelog.json\n",
      "https://data.nba.net/prod/v1/2020/players/{{personId}}_profile.json\n",
      "https://data.nba.net/prod/v1/2020/players/{{personId}}_uber_stats.json\n",
      "https://data.nba.net/prod/v1/2020/teams/{{teamUrlCode}}/schedule.json\n",
      "https://data.nba.net/prod/2020/teams_config.json\n",
      "https://data.nba.net/prod/v1/2020/teams/{{teamUrlCode}}/roster.json\n",
      "https://data.nba.net/prod/{{seasonScheduleYear}}/teams_config.json\n",
      "https://data.nba.net/prod/v1/{{seasonScheduleYear}}/teams/{{teamUrlCode}}/schedule.json\n",
      "https://data.nba.net/prod/v1/2020/teams/{{teamUrlCode}}/leaders.json\n",
      "https://data.nba.net/prod/v1/{{seasonScheduleYear}}/teams/{{teamId}}/schedule.json\n",
      "https://data.nba.net/prod/v1/2020/teams/{{teamId}}/leaders.json\n",
      "https://data.nba.net/prod/teams/schedules/2020/{{teamUrlCode}}_home_schedule.ics\n",
      "https://data.nba.net/prod/teams/schedules/2020/{{teamUrlCode}}_schedule.ics\n",
      "https://data.nba.net/prod/v1/2019/playoffsBracket.json\n",
      "https://data.nba.net/prod/v1/2019/playoffs_{{seriesId}}_leaders.json\n"
     ]
    }
   ],
   "source": [
    "link_values = list(nba_data_links.values())\n",
    "for link in link_values[2:-2]:\n",
    "    print(\"https://data.nba.net{}\".format(link))"
   ]
  },
  {
   "cell_type": "code",
   "execution_count": 4,
   "metadata": {},
   "outputs": [],
   "source": [
    "class DataNBANet:\n",
    "    def __init__(self, year):\n",
    "        self._year = year\n",
    "    def get_teams(self):\n",
    "        request_url = \"https://data.nba.net/prod/v2/{}/teams.json\".format(self._year)\n",
    "        response = requests.get(request_url)\n",
    "        teams_json = response.json()\n",
    "        teams = [t for t in teams_json['league']['standard'] if t['isNBAFranchise']]\n",
    "        teams_df = pd.DataFrame(teams)\n",
    "        return teams_df\n",
    "    def get_players(self):\n",
    "        teams = self.get_teams()\n",
    "        team_ids = teams['teamId'].values\n",
    "        request_url = \"https://data.nba.net/prod/v1/{}/players.json\".format(self._year)\n",
    "        response = requests.get(request_url)\n",
    "        players_json = response.json()\n",
    "        players_list = players_json['league']['standard']\n",
    "        players_list_dict = []\n",
    "        for p in tqdm(players_list):\n",
    "            if p['teamId'] in team_ids:\n",
    "                player_dict = {}\n",
    "                for k, v in p.items():\n",
    "                    if isinstance(v, str):\n",
    "                        player_dict[k] = v\n",
    "                players_list_dict.append(player_dict)\n",
    "        players_df = pd.DataFrame(players_list_dict)\n",
    "        return players_df\n",
    "    def get_career_summaries(self):\n",
    "        players = self.get_players()\n",
    "        person_ids = players['personId']\n",
    "        career_summaries = []\n",
    "        for pid in tqdm(person_ids):\n",
    "            request_url = \"https://data.nba.net/prod/v1/{}/players/{}_profile.json\".format(self._year, pid)\n",
    "            response = requests.get(request_url)\n",
    "            profile_json = response.json()\n",
    "            career_summary = profile_json['league']['standard']['stats']['careerSummary']\n",
    "            career_summaries.append(career_summary)\n",
    "        career_summaries_df = pd.DataFrame(career_summaries)\n",
    "        career_summaries_df.insert(0, 'personId', person_ids)\n",
    "        career_summaries_df = career_summaries_df.replace('', np.nan)\n",
    "        return career_summaries_df"
   ]
  },
  {
   "cell_type": "code",
   "execution_count": 5,
   "metadata": {},
   "outputs": [
    {
     "name": "stderr",
     "output_type": "stream",
     "text": [
      "100%|██████████| 555/555 [00:00<00:00, 51304.49it/s]\n",
      "100%|██████████| 555/555 [00:00<00:00, 53732.17it/s]\n",
      "100%|██████████| 484/484 [07:05<00:00,  1.14it/s]\n"
     ]
    }
   ],
   "source": [
    "dnn = DataNBANet(2020)\n",
    "teams = dnn.get_teams()\n",
    "players = dnn.get_players()\n",
    "career_summaries = dnn.get_career_summaries()"
   ]
  },
  {
   "cell_type": "code",
   "execution_count": 6,
   "metadata": {},
   "outputs": [],
   "source": [
    "conn = sqlite3.connect('nba.db')\n",
    "teams.to_sql('teams', conn, if_exists='replace', index=False)\n",
    "players.to_sql('players', conn, if_exists='replace', index=False)\n",
    "career_summaries.to_sql('career_summaries', conn, if_exists='replace', index=False)"
   ]
  }
 ],
 "metadata": {
  "kernelspec": {
   "display_name": "Python Data Analysis",
   "language": "python",
   "name": "pyda"
  },
  "language_info": {
   "codemirror_mode": {
    "name": "ipython",
    "version": 3
   },
   "file_extension": ".py",
   "mimetype": "text/x-python",
   "name": "python",
   "nbconvert_exporter": "python",
   "pygments_lexer": "ipython3",
   "version": "3.6.8"
  }
 },
 "nbformat": 4,
 "nbformat_minor": 4
}
