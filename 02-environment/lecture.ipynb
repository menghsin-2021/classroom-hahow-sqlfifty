{
 "cells": [
  {
   "cell_type": "markdown",
   "id": "lightweight-fruit",
   "metadata": {
    "slideshow": {
     "slide_type": "slide"
    }
   },
   "source": [
    "# SQL 的五十道練習\n",
    "\n",
    "> 建立學習環境\n",
    "\n",
    "[數據交點](https://www.datainpoint.com/) | 郭耀仁 <yaojenkuo@datainpoint.com>"
   ]
  },
  {
   "cell_type": "code",
   "execution_count": 1,
   "id": "matched-spyware",
   "metadata": {
    "slideshow": {
     "slide_type": "skip"
    }
   },
   "outputs": [],
   "source": [
    "%LOAD sqlite3 db=../databases/imdb.db timeout=2 shared_cache=true"
   ]
  },
  {
   "cell_type": "markdown",
   "id": "supposed-spread",
   "metadata": {
    "slideshow": {
     "slide_type": "slide"
    }
   },
   "source": [
    "## 下載學習資料庫"
   ]
  },
  {
   "cell_type": "markdown",
   "id": "promotional-spanking",
   "metadata": {
    "slideshow": {
     "slide_type": "subslide"
    }
   },
   "source": [
    "## 四個學習資料庫\n",
    "\n",
    "1. [covid19.db](https://hahow-sqlfifty.s3-ap-northeast-1.amazonaws.com/covid19.db)\n",
    "2. [imdb.db](https://hahow-sqlfifty.s3-ap-northeast-1.amazonaws.com/imdb.db)\n",
    "3. [nba.db](https://hahow-sqlfifty.s3-ap-northeast-1.amazonaws.com/nba.db)\n",
    "4. [twElection2020.db](https://hahow-sqlfifty.s3-ap-northeast-1.amazonaws.com/twElection2020.db)"
   ]
  },
  {
   "cell_type": "markdown",
   "id": "friendly-tsunami",
   "metadata": {
    "slideshow": {
     "slide_type": "slide"
    }
   },
   "source": [
    "## 下載與安裝 SQLiteStudio 與 DBeaver"
   ]
  },
  {
   "cell_type": "markdown",
   "id": "fatal-bishop",
   "metadata": {
    "slideshow": {
     "slide_type": "subslide"
    }
   },
   "source": [
    "## SQLiteStudio 與 DBeaver 是兩個能夠連結學習資料庫與撰寫 SQL 的圖形化介面軟體\n",
    "\n",
    "- SQLiteStudio-3.2.1\n",
    "- dbeaver-ce-21.0.1"
   ]
  },
  {
   "cell_type": "markdown",
   "id": "subsequent-essence",
   "metadata": {
    "slideshow": {
     "slide_type": "subslide"
    }
   },
   "source": [
    "## 在 Windows 作業系統安裝 SQLiteStudio 與 DBeaver\n",
    "\n",
    "- [InstallSQLiteStudio-3.2.1.exe](https://hahow-sqlfifty.s3-ap-northeast-1.amazonaws.com/InstallSQLiteStudio-3.2.1.exe)\n",
    "- [dbeaver-ce-21.0.1-x86_64-setup.exe](https://hahow-sqlfifty.s3-ap-northeast-1.amazonaws.com/dbeaver-ce-21.0.1-x86_64-setup.exe) "
   ]
  },
  {
   "cell_type": "markdown",
   "id": "imposed-experiment",
   "metadata": {
    "slideshow": {
     "slide_type": "subslide"
    }
   },
   "source": [
    "## 在 macOS 作業系統安裝 SQLiteStudio 與 DBeaver\n",
    "\n",
    "- [InstallSQLiteStudio-3.2.1.dmg](https://hahow-sqlfifty.s3-ap-northeast-1.amazonaws.com/InstallSQLiteStudio-3.2.1.dmg)\n",
    "- [dbeaver-ce-21.0.1-macos.dmg](https://hahow-sqlfifty.s3-ap-northeast-1.amazonaws.com/dbeaver-ce-21.0.1-macos.dmg) "
   ]
  },
  {
   "cell_type": "markdown",
   "id": "irish-effort",
   "metadata": {
    "slideshow": {
     "slide_type": "slide"
    }
   },
   "source": [
    "## 確認學習環境能妥善運行"
   ]
  },
  {
   "cell_type": "markdown",
   "id": "hollow-immune",
   "metadata": {
    "slideshow": {
     "slide_type": "subslide"
    }
   },
   "source": [
    "## 「哈囉資料庫」SQL\n",
    "\n",
    "```sql\n",
    "-- 「哈囉資料庫」 SQL\n",
    "SELECT *\n",
    "  FROM table_name\n",
    " LIMIT 5;\n",
    "```"
   ]
  },
  {
   "cell_type": "code",
   "execution_count": 2,
   "id": "utility-honolulu",
   "metadata": {
    "slideshow": {
     "slide_type": "subslide"
    }
   },
   "outputs": [
    {
     "data": {
      "text/html": [
       "<table>\n",
       "<tr>\n",
       "<th>id</th>\n",
       "<th>title</th>\n",
       "<th>release_year</th>\n",
       "<th>rating</th>\n",
       "<th>director</th>\n",
       "<th>runtime</th>\n",
       "</tr>\n",
       "<tr>\n",
       "<td>1</td>\n",
       "<td>The Shawshank Redemption</td>\n",
       "<td>1994</td>\n",
       "<td>9.3</td>\n",
       "<td>Frank Darabont</td>\n",
       "<td>142</td>\n",
       "</tr>\n",
       "<tr>\n",
       "<td>2</td>\n",
       "<td>The Godfather</td>\n",
       "<td>1972</td>\n",
       "<td>9.2</td>\n",
       "<td>Francis Ford Coppola</td>\n",
       "<td>175</td>\n",
       "</tr>\n",
       "<tr>\n",
       "<td>3</td>\n",
       "<td>The Godfather: Part II</td>\n",
       "<td>1974</td>\n",
       "<td>9</td>\n",
       "<td>Francis Ford Coppola</td>\n",
       "<td>202</td>\n",
       "</tr>\n",
       "<tr>\n",
       "<td>4</td>\n",
       "<td>The Dark Knight</td>\n",
       "<td>2008</td>\n",
       "<td>9</td>\n",
       "<td>Christopher Nolan</td>\n",
       "<td>152</td>\n",
       "</tr>\n",
       "<tr>\n",
       "<td>5</td>\n",
       "<td>12 Angry Men</td>\n",
       "<td>1957</td>\n",
       "<td>9</td>\n",
       "<td>Sidney Lumet</td>\n",
       "<td>96</td>\n",
       "</tr>\n",
       "</table>\n",
       "5 rows in set (0.00 sec)"
      ],
      "text/plain": [
       "+----+--------------------------+--------------+--------+----------------------+---------+\n",
       "| id | title                    | release_year | rating | director             | runtime |\n",
       "+----+--------------------------+--------------+--------+----------------------+---------+\n",
       "| 1  | The Shawshank Redemption | 1994         | 9.3    | Frank Darabont       | 142     |\n",
       "+----+--------------------------+--------------+--------+----------------------+---------+\n",
       "| 2  | The Godfather            | 1972         | 9.2    | Francis Ford Coppola | 175     |\n",
       "+----+--------------------------+--------------+--------+----------------------+---------+\n",
       "| 3  | The Godfather: Part II   | 1974         | 9      | Francis Ford Coppola | 202     |\n",
       "+----+--------------------------+--------------+--------+----------------------+---------+\n",
       "| 4  | The Dark Knight          | 2008         | 9      | Christopher Nolan    | 152     |\n",
       "+----+--------------------------+--------------+--------+----------------------+---------+\n",
       "| 5  | 12 Angry Men             | 1957         | 9      | Sidney Lumet         | 96      |\n",
       "+----+--------------------------+--------------+--------+----------------------+---------+\n",
       "5 rows in set (0.00 sec)"
      ]
     },
     "execution_count": 2,
     "metadata": {},
     "output_type": "execute_result"
    }
   ],
   "source": [
    "SELECT *\n",
    "  FROM movies\n",
    " LIMIT 5;"
   ]
  },
  {
   "cell_type": "markdown",
   "id": "conscious-glance",
   "metadata": {
    "slideshow": {
     "slide_type": "slide"
    }
   },
   "source": [
    "## 學習資料庫一覽"
   ]
  },
  {
   "cell_type": "markdown",
   "id": "suspected-enforcement",
   "metadata": {
    "slideshow": {
     "slide_type": "subslide"
    }
   },
   "source": [
    "## 四個學習資料庫的資料來源\n",
    "\n",
    "1. [covid19.db](https://hahow-sqlfifty.s3-ap-northeast-1.amazonaws.com/covid19.db) 源自 Johns Hopkins 的全球疫情儀表板專案 <https://github.com/CSSEGISandData/COVID-19>\n",
    "2. [imdb.db](https://hahow-sqlfifty.s3-ap-northeast-1.amazonaws.com/twElection2020.db) 源自 [IMDb.com](https://www.imdb.com) 最高評等的 250 部電影 <https://www.imdb.com/chart/top>\n",
    "3. [nba.db](https://hahow-sqlfifty.s3-ap-northeast-1.amazonaws.com/nba.db) 源自 NBA 官方 API <https://data.nba.net/prod/v1/today.json>\n",
    "4. [twElection2020.db](https://hahow-sqlfifty.s3-ap-northeast-1.amazonaws.com/twElection2020.db) 源自中選會選舉資料庫網站 <https://db.cec.gov.tw>"
   ]
  },
  {
   "cell_type": "markdown",
   "id": "swedish-amazon",
   "metadata": {
    "slideshow": {
     "slide_type": "subslide"
    }
   },
   "source": [
    "## 學習資料庫的數據有效期間\n",
    "\n",
    "除了 twElection2020 資料庫的數據沒有效期之外，其餘三個資料庫的數據截至 2021-03-31。"
   ]
  },
  {
   "cell_type": "markdown",
   "id": "unusual-portfolio",
   "metadata": {
    "slideshow": {
     "slide_type": "slide"
    }
   },
   "source": [
    "## 重點統整\n",
    "\n",
    "- 四個學習資料庫的下載連結在該單元的「教材下載」，下載後保存在自己熟悉的資料夾路徑。\n",
    "- SQLiteStudio 與 DBeaver 的安裝檔下載連結在該單元的「教材下載」。\n",
    "    - 使用 Windows 作業系統的同學要記得下載副檔名為 .exe 的安裝檔；\n",
    "    - 使用 macOS 作業系統的同學要記得下載副檔名為 .dmg 的安裝檔。"
   ]
  },
  {
   "cell_type": "markdown",
   "id": "computational-africa",
   "metadata": {
    "slideshow": {
     "slide_type": "subslide"
    }
   },
   "source": [
    "## 重點統整（續）\n",
    "\n",
    "- 在 SQLiteStudio 與 DBeaver 中能同時連結多個資料庫，要注意 `FROM` 保留字後的資料表是否存在於目前所指定的資料庫之中。\n",
    "- 為同學準備的四個學習資料庫，除了 twElection2020 資料庫的數據沒有效期之外，其他三個資料庫的數據截至 2021-03-31。"
   ]
  }
 ],
 "metadata": {
  "celltoolbar": "Slideshow",
  "kernelspec": {
   "display_name": "xsql",
   "language": "sqlite",
   "name": "xsql"
  },
  "language_info": {
   "codemirror_mode": "sql",
   "file_extension": "",
   "mimetype": "",
   "name": "mysql",
   "version": "0.0.8"
  }
 },
 "nbformat": 4,
 "nbformat_minor": 5
}
