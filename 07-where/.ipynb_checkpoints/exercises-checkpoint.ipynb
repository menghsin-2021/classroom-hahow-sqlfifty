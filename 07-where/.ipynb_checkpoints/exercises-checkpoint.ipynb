{
 "cells": [
  {
   "cell_type": "markdown",
   "metadata": {
    "deletable": false,
    "editable": false
   },
   "source": [
    "# SQL 的五十道練習\n",
    "\n",
    "> 篩選資料\n",
    "\n",
    "[數據交點](https://www.datainpoint.com) | 郭耀仁 <yaojenkuo@datainpoint.com>"
   ]
  },
  {
   "cell_type": "markdown",
   "metadata": {
    "deletable": false,
    "editable": false
   },
   "source": [
    "## 練習題指引\n",
    "\n",
    "- 在每份練習題的開始，都會先將四個學習資料庫載入環境。\n",
    "- 因此 SQL 可以指定四個學習資料庫中的資料表，不需要額外指定資料庫。\n",
    "- 在 SQL 語法起點與 SQL 語法終點這兩個單行註解之間撰寫能夠得到預期結果的 SQL。\n",
    "- 可以先在自己電腦的 SQLiteStudio 或者 DBeaver 寫出跟預期結果相同的 SQL 後再複製貼上到練習題。\n",
    "- 執行測試的方式為點選上方選單的 Kernel -> Restart & Run All -> Restart and Run All Cells。\n",
    "- 可以每寫一題就執行測試，也可以全部寫完再執行測試。\n",
    "- 練習題閒置超過 10 分鐘會自動斷線，這時只要重新點選練習題連結即可重新啟動。"
   ]
  },
  {
   "cell_type": "code",
   "execution_count": 8,
   "metadata": {
    "deletable": false,
    "editable": false
   },
   "outputs": [
    {
     "data": {
      "text/plain": [
       "<sqlite3.Cursor at 0x177522d6b20>"
      ]
     },
     "execution_count": 8,
     "metadata": {},
     "output_type": "execute_result"
    }
   ],
   "source": [
    "import sqlite3\n",
    "import unittest\n",
    "import json\n",
    "import os\n",
    "import numpy as np\n",
    "import pandas as pd\n",
    "conn = sqlite3.connect('../databases/nba.db')\n",
    "conn.execute(\"\"\"ATTACH '../databases/covid19.db' AS covid19\"\"\")\n",
    "conn.execute(\"\"\"ATTACH '../databases/twElection2020.db' AS twElection2020\"\"\")\n",
    "conn.execute(\"\"\"ATTACH '../databases/imdb.db' AS imdb\"\"\")"
   ]
  },
  {
   "cell_type": "markdown",
   "metadata": {},
   "source": [
    "## 17. 從 `covid19` 資料庫的 `time_series` 資料表將台灣的觀測值篩選出來，參考下列的預期查詢結果。\n",
    "\n",
    "- 預期輸入：SQL 查詢語法。\n",
    "- 預期輸出：(435, 4) 的查詢結果。\n",
    "\n",
    "```\n",
    "    Country_Region        Date  Confirmed  Daily_Cases\n",
    "0           Taiwan  2020-01-22          1            1\n",
    "1           Taiwan  2020-01-23          1            0\n",
    "2           Taiwan  2020-01-24          3            2\n",
    "3           Taiwan  2020-01-25          3            0\n",
    "4           Taiwan  2020-01-26          4            1\n",
    "..             ...         ...        ...          ...\n",
    "430         Taiwan  2021-03-27       1020            7\n",
    "431         Taiwan  2021-03-28       1022            2\n",
    "432         Taiwan  2021-03-29       1023            1\n",
    "433         Taiwan  2021-03-30       1024            1\n",
    "434         Taiwan  2021-03-31       1030            6\n",
    "\n",
    "[435 rows x 4 columns]\n",
    "```"
   ]
  },
  {
   "cell_type": "code",
   "execution_count": 10,
   "metadata": {},
   "outputs": [],
   "source": [
    "filter_tw_from_time_series =\\\n",
    "\"\"\"\n",
    "-- SQL 查詢語法起點\n",
    "\n",
    "SELECT Country_Region, Date, Confirmed, Daily_Cases\n",
    "FROM time_series\n",
    "WHERE Country_Region = \"Taiwan\"\n",
    "\n",
    "-- SQL 查詢語法終點\n",
    "\"\"\""
   ]
  },
  {
   "cell_type": "markdown",
   "metadata": {},
   "source": [
    "## 18. 從 `imdb` 資料庫的 `movies` 資料表將上映年份為 1994 的電影篩選出來，參考下列的預期查詢結果。\n",
    "\n",
    "- 預期輸入：SQL 查詢語法。\n",
    "- 預期輸出：(5, 4) 的查詢結果。\n",
    "\n",
    "```\n",
    "                      title  rating           director  runtime\n",
    "0  The Shawshank Redemption     9.3     Frank Darabont      142\n",
    "1              Pulp Fiction     8.9  Quentin Tarantino      154\n",
    "2              Forrest Gump     8.8    Robert Zemeckis      142\n",
    "3    Léon: The Professional     8.5         Luc Besson      110\n",
    "4             The Lion King     8.5       Roger Allers       88\n",
    "```"
   ]
  },
  {
   "cell_type": "code",
   "execution_count": 3,
   "metadata": {},
   "outputs": [],
   "source": [
    "filter_year_1994_from_movies =\\\n",
    "\"\"\"\n",
    "-- SQL 查詢語法起點\n",
    "SELECT title, rating, director, runtime\n",
    "FROM movies\n",
    "WHERE release_year = 1994;\n",
    "-- SQL 查詢語法終點\n",
    "\"\"\""
   ]
  },
  {
   "cell_type": "markdown",
   "metadata": {},
   "source": [
    "## 19. 從 `imdb` 資料庫的 `actors` 資料表將 Tom Hanks、Christian Bale、Leonardo DiCaprio 篩選出來，參考下列的預期查詢結果。\n",
    "\n",
    "PS Tom Hanks 是一位著名的美國男演員及電視製片人，以演技精湛而著稱。他是歷史上第2位連續兩屆獲得奧斯卡金像獎最佳男主角獎的演員，亦是最年輕獲得美國電影學會終身成就獎的演員。Christian Bale 是一名英國男演員和電影製片人，在蝙蝠俠三部曲中飾演 Bruce Wayne 獲得了廣泛讚揚及商業認可。Leonardo DiCaprio 是一位美國著名男演員、電影製片人兼環保概念的推動者，出演了由史詩愛情片鐵達尼號知名度大開。\n",
    "Source: Wikipedia\n",
    "\n",
    "- 預期輸入：SQL 查詢語法。\n",
    "- 預期輸出：(3, 2) 的查詢結果。\n",
    "\n",
    "```\n",
    "     id               name\n",
    "0   502     Christian Bale\n",
    "1  1773  Leonardo DiCaprio\n",
    "2  2865          Tom Hanks\n",
    "```"
   ]
  },
  {
   "cell_type": "code",
   "execution_count": 4,
   "metadata": {},
   "outputs": [],
   "source": [
    "filter_three_male_actors_from_actors =\\\n",
    "\"\"\"\n",
    "-- SQL 查詢語法起點\n",
    "SELECT id, name\n",
    "FROM actors\n",
    "WHERE name IN (\"Tom Hanks\", \"Christian Bale\", \"Leonardo DiCaprio\");\n",
    "-- SQL 查詢語法終點\n",
    "\"\"\""
   ]
  },
  {
   "cell_type": "markdown",
   "metadata": {},
   "source": [
    "## 20. 從 `imdb` 資料庫的 `movies` 資料表篩選出由 Christopher Nolan 或 Peter Jackson 所導演的電影，參考下列的預期查詢結果。\n",
    "\n",
    "PS Christopher Nolan 是一名英國導演、編劇及監製，他的十部電影在全球獲得超過 47 億美元的票房，執導著名電影包含「黑暗騎士三部曲」、全面啟動、星際效應及敦克爾克大行動；Peter Jackson 是一名紐西蘭導演、編劇及監製，執導最出名的作品是「魔戒電影三部曲」與「哈比人電影系列」。\n",
    "Source: Wikipedia\n",
    "\n",
    "- 預期輸入：SQL 查詢語法。\n",
    "- 預期輸出：(10, 2) 的查詢結果。\n",
    "\n",
    "```\n",
    "                                               title           director\n",
    "0                                    The Dark Knight  Christopher Nolan\n",
    "1                                          Inception  Christopher Nolan\n",
    "2                                       Interstellar  Christopher Nolan\n",
    "3                                       The Prestige  Christopher Nolan\n",
    "4                                            Memento  Christopher Nolan\n",
    "5                              The Dark Knight Rises  Christopher Nolan\n",
    "6                                      Batman Begins  Christopher Nolan\n",
    "7      The Lord of the Rings: The Return of the King      Peter Jackson\n",
    "8  The Lord of the Rings: The Fellowship of the Ring      Peter Jackson\n",
    "9              The Lord of the Rings: The Two Towers      Peter Jackson\n",
    "```"
   ]
  },
  {
   "cell_type": "code",
   "execution_count": 5,
   "metadata": {},
   "outputs": [],
   "source": [
    "filter_directed_by_two_directors_from_movies =\\\n",
    "\"\"\"\n",
    "-- SQL 查詢語法起點\n",
    "SELECT title, director\n",
    "FROM movies\n",
    "WHERE director IN (\"Christopher Nolan\", \"Peter Jackson\")\n",
    "ORDER BY director;\n",
    "-- SQL 查詢語法終點\n",
    "\"\"\""
   ]
  },
  {
   "cell_type": "markdown",
   "metadata": {},
   "source": [
    "## 21. 從 `covid19` 資料庫的 `lookup_table` 資料表篩選出 `Country_Region` 名稱有 land 的國家，參考下列的預期查詢結果。\n",
    "\n",
    "- 預期輸入：SQL 查詢語法。\n",
    "- 預期輸出：(10, 1) 的查詢結果。\n",
    "\n",
    "```\n",
    "     Country_Region\n",
    "0           Finland\n",
    "1           Iceland\n",
    "2           Ireland\n",
    "3  Marshall Islands\n",
    "4       Netherlands\n",
    "5       New Zealand\n",
    "6            Poland\n",
    "7   Solomon Islands\n",
    "8       Switzerland\n",
    "9          Thailand\n",
    "```"
   ]
  },
  {
   "cell_type": "code",
   "execution_count": 6,
   "metadata": {},
   "outputs": [],
   "source": [
    "match_country_name_pattern_from_lookup_table =\\\n",
    "\"\"\"\n",
    "-- SQL 查詢語法起點\n",
    "SELECT DISTINCT Country_Region\n",
    "FROM lookup_table\n",
    "WHERE Country_Region LIKE \"%Land%\"\n",
    "ORDER BY Country_Region\n",
    "LIMIT 10;\n",
    "-- SQL 查詢語法終點\n",
    "\"\"\""
   ]
  },
  {
   "cell_type": "markdown",
   "metadata": {
    "deletable": false
   },
   "source": [
    "## 執行測試！\n",
    "\n",
    "Kernel -> Restart & Run All -> Restart and Run All Cells."
   ]
  },
  {
   "cell_type": "code",
   "execution_count": 11,
   "metadata": {
    "deletable": false,
    "editable": false
   },
   "outputs": [
    {
     "name": "stderr",
     "output_type": "stream",
     "text": [
      "test_17_filter_tw_from_time_series (__main__.TestWhere) ... ok\n",
      "test_18_filter_year_1994_from_movies (__main__.TestWhere) ... ok\n",
      "test_19_filter_three_male_actors_from_actors (__main__.TestWhere) ... ok\n",
      "test_20_filter_directed_by_two_directors_from_movies (__main__.TestWhere) ... ok\n",
      "test_21_match_country_name_pattern_from_lookup_table (__main__.TestWhere) ... ok\n",
      "\n",
      "----------------------------------------------------------------------\n",
      "Ran 5 tests in 3.211s\n",
      "\n",
      "OK\n"
     ]
    },
    {
     "ename": "UnicodeDecodeError",
     "evalue": "'cp950' codec can't decode byte 0x9e in position 27: illegal multibyte sequence",
     "output_type": "error",
     "traceback": [
      "\u001b[1;31m---------------------------------------------------------------------------\u001b[0m",
      "\u001b[1;31mUnicodeDecodeError\u001b[0m                        Traceback (most recent call last)",
      "\u001b[1;32m<ipython-input-11-e0290171d247>\u001b[0m in \u001b[0;36m<module>\u001b[1;34m\u001b[0m\n\u001b[0;32m     43\u001b[0m \u001b[0mfolder_name\u001b[0m \u001b[1;33m=\u001b[0m \u001b[0mcwd\u001b[0m\u001b[1;33m.\u001b[0m\u001b[0msplit\u001b[0m\u001b[1;33m(\u001b[0m\u001b[1;34m\"/\"\u001b[0m\u001b[1;33m)\u001b[0m\u001b[1;33m[\u001b[0m\u001b[1;33m-\u001b[0m\u001b[1;36m1\u001b[0m\u001b[1;33m]\u001b[0m\u001b[1;33m\u001b[0m\u001b[1;33m\u001b[0m\u001b[0m\n\u001b[0;32m     44\u001b[0m \u001b[1;32mwith\u001b[0m \u001b[0mopen\u001b[0m\u001b[1;33m(\u001b[0m\u001b[1;34m\"../exercise_index.json\"\u001b[0m\u001b[1;33m,\u001b[0m \u001b[1;34m\"r\"\u001b[0m\u001b[1;33m)\u001b[0m \u001b[1;32mas\u001b[0m \u001b[0mcontent\u001b[0m\u001b[1;33m:\u001b[0m\u001b[1;33m\u001b[0m\u001b[1;33m\u001b[0m\u001b[0m\n\u001b[1;32m---> 45\u001b[1;33m     \u001b[0mexercise_index\u001b[0m \u001b[1;33m=\u001b[0m \u001b[0mjson\u001b[0m\u001b[1;33m.\u001b[0m\u001b[0mload\u001b[0m\u001b[1;33m(\u001b[0m\u001b[0mcontent\u001b[0m\u001b[1;33m)\u001b[0m\u001b[1;33m\u001b[0m\u001b[1;33m\u001b[0m\u001b[0m\n\u001b[0m\u001b[0;32m     46\u001b[0m \u001b[0mchapter_name\u001b[0m \u001b[1;33m=\u001b[0m \u001b[0mexercise_index\u001b[0m\u001b[1;33m[\u001b[0m\u001b[0mfolder_name\u001b[0m\u001b[1;33m]\u001b[0m\u001b[1;33m\u001b[0m\u001b[1;33m\u001b[0m\u001b[0m\n",
      "\u001b[1;32mD:\\Users\\Meng-Hsin\\anaconda3\\lib\\json\\__init__.py\u001b[0m in \u001b[0;36mload\u001b[1;34m(fp, cls, object_hook, parse_float, parse_int, parse_constant, object_pairs_hook, **kw)\u001b[0m\n\u001b[0;32m    291\u001b[0m     \u001b[0mkwarg\u001b[0m\u001b[1;33m;\u001b[0m \u001b[0motherwise\u001b[0m\u001b[0;31m \u001b[0m\u001b[0;31m`\u001b[0m\u001b[0;31m`\u001b[0m\u001b[0mJSONDecoder\u001b[0m\u001b[0;31m`\u001b[0m\u001b[0;31m`\u001b[0m \u001b[1;32mis\u001b[0m \u001b[0mused\u001b[0m\u001b[1;33m.\u001b[0m\u001b[1;33m\u001b[0m\u001b[1;33m\u001b[0m\u001b[0m\n\u001b[0;32m    292\u001b[0m     \"\"\"\n\u001b[1;32m--> 293\u001b[1;33m     return loads(fp.read(),\n\u001b[0m\u001b[0;32m    294\u001b[0m         \u001b[0mcls\u001b[0m\u001b[1;33m=\u001b[0m\u001b[0mcls\u001b[0m\u001b[1;33m,\u001b[0m \u001b[0mobject_hook\u001b[0m\u001b[1;33m=\u001b[0m\u001b[0mobject_hook\u001b[0m\u001b[1;33m,\u001b[0m\u001b[1;33m\u001b[0m\u001b[1;33m\u001b[0m\u001b[0m\n\u001b[0;32m    295\u001b[0m         \u001b[0mparse_float\u001b[0m\u001b[1;33m=\u001b[0m\u001b[0mparse_float\u001b[0m\u001b[1;33m,\u001b[0m \u001b[0mparse_int\u001b[0m\u001b[1;33m=\u001b[0m\u001b[0mparse_int\u001b[0m\u001b[1;33m,\u001b[0m\u001b[1;33m\u001b[0m\u001b[1;33m\u001b[0m\u001b[0m\n",
      "\u001b[1;31mUnicodeDecodeError\u001b[0m: 'cp950' codec can't decode byte 0x9e in position 27: illegal multibyte sequence"
     ]
    }
   ],
   "source": [
    "class TestWhere(unittest.TestCase):\n",
    "    def test_17_filter_tw_from_time_series(self):\n",
    "        tw_from_time_series = pd.read_sql(filter_tw_from_time_series, conn)\n",
    "        self.assertEqual(tw_from_time_series.shape, ((435, 4)))\n",
    "        column_values = set(tw_from_time_series['Country_Region'].values)\n",
    "        self.assertTrue('Taiwan' in column_values)\n",
    "    def test_18_filter_year_1994_from_movies(self):\n",
    "        year_1994_from_movies = pd.read_sql(filter_year_1994_from_movies, conn)\n",
    "        self.assertEqual(year_1994_from_movies.shape, (5, 4))\n",
    "        column_values = set(year_1994_from_movies['title'].values)\n",
    "        self.assertTrue('The Shawshank Redemption' in column_values)\n",
    "        self.assertTrue('Forrest Gump' in column_values)\n",
    "    def test_19_filter_three_male_actors_from_actors(self):\n",
    "        three_male_actors_from_actors = pd.read_sql(filter_three_male_actors_from_actors, conn)\n",
    "        self.assertEqual(three_male_actors_from_actors.shape, (3, 2))\n",
    "        column_values = set(three_male_actors_from_actors['name'].values)\n",
    "        self.assertTrue('Christian Bale' in column_values)\n",
    "        self.assertTrue('Leonardo DiCaprio' in column_values)\n",
    "        self.assertTrue('Tom Hanks' in column_values)\n",
    "    def test_20_filter_directed_by_two_directors_from_movies(self):\n",
    "        directed_by_two_directors_from_movies = pd.read_sql(filter_directed_by_two_directors_from_movies, conn)\n",
    "        self.assertEqual(directed_by_two_directors_from_movies.shape, (10, 2))\n",
    "        column_values = set(directed_by_two_directors_from_movies['director'].values)\n",
    "        self.assertTrue('Christopher Nolan' in column_values)\n",
    "        self.assertTrue('Peter Jackson' in column_values)\n",
    "    def test_21_match_country_name_pattern_from_lookup_table(self):\n",
    "        country_name_pattern_from_lookup_table = pd.read_sql(match_country_name_pattern_from_lookup_table, conn)\n",
    "        self.assertEqual(country_name_pattern_from_lookup_table.shape, (10, 1))\n",
    "        column_values = country_name_pattern_from_lookup_table['Country_Region'].values\n",
    "        self.assertTrue('Finland' in column_values)\n",
    "        self.assertTrue('Iceland' in column_values)\n",
    "        self.assertTrue('Ireland' in column_values)\n",
    "        self.assertTrue('Netherlands' in column_values)\n",
    "\n",
    "suite = unittest.TestLoader().loadTestsFromTestCase(TestWhere)\n",
    "runner = unittest.TextTestRunner(verbosity=2)\n",
    "test_results = runner.run(suite)\n",
    "number_of_failures = len(test_results.failures)\n",
    "number_of_errors = len(test_results.errors)\n",
    "number_of_test_runs = test_results.testsRun\n",
    "number_of_successes = number_of_test_runs - (number_of_failures + number_of_errors)\n",
    "cwd = os.getcwd()\n",
    "folder_name = cwd.split(\"/\")[-1]\n",
    "with open(\"../exercise_index.json\", \"r\") as content:\n",
    "    exercise_index = json.load(content)\n",
    "chapter_name = exercise_index[folder_name]"
   ]
  },
  {
   "cell_type": "code",
   "execution_count": 8,
   "metadata": {
    "deletable": false,
    "editable": false
   },
   "outputs": [
    {
     "name": "stdout",
     "output_type": "stream",
     "text": [
      "您在「篩選資料」章節中的 5 道 SQL 練習答對了 0 題。\n"
     ]
    }
   ],
   "source": [
    "print(\"您在「{}」章節中的 {} 道 SQL 練習答對了 {} 題。\".format(chapter_name, number_of_test_runs, number_of_successes))"
   ]
  }
 ],
 "metadata": {
  "kernelspec": {
   "display_name": "Python 3",
   "language": "python",
   "name": "python3"
  },
  "language_info": {
   "codemirror_mode": {
    "name": "ipython",
    "version": 3
   },
   "file_extension": ".py",
   "mimetype": "text/x-python",
   "name": "python",
   "nbconvert_exporter": "python",
   "pygments_lexer": "ipython3",
   "version": "3.8.5"
  }
 },
 "nbformat": 4,
 "nbformat_minor": 4
}
