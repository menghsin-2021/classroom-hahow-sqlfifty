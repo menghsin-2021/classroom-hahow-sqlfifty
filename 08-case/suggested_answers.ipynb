{
 "cells": [
  {
   "cell_type": "markdown",
   "metadata": {
    "deletable": false,
    "editable": false
   },
   "source": [
    "# SQL 的五十道練習\n",
    "\n",
    "> 條件邏輯\n",
    "\n",
    "[數據交點](https://www.datainpoint.com) | 郭耀仁 <yaojenkuo@datainpoint.com>"
   ]
  },
  {
   "cell_type": "markdown",
   "metadata": {
    "deletable": false,
    "editable": false
   },
   "source": [
    "## 練習題指引\n",
    "\n",
    "- 在每份練習題的開始，都會先將四個學習資料庫載入環境。\n",
    "- 因此 SQL 可以指定四個學習資料庫中的資料表，不需要額外指定資料庫。\n",
    "- 在 SQL 語法起點與 SQL 語法終點這兩個單行註解之間撰寫能夠得到預期結果的 SQL。\n",
    "- 可以先在自己電腦的 SQLiteStudio 或者 DBeaver 寫出跟預期結果相同的 SQL 後再複製貼上到練習題。\n",
    "- 執行測試的方式為點選上方選單的 Kernel -> Restart & Run All -> Restart and Run All Cells。\n",
    "- 可以每寫一題就執行測試，也可以全部寫完再執行測試。\n",
    "- 練習題閒置超過 10 分鐘會自動斷線，這時只要重新點選練習題連結即可重新啟動。"
   ]
  },
  {
   "cell_type": "code",
   "execution_count": 1,
   "metadata": {
    "deletable": false,
    "editable": false
   },
   "outputs": [
    {
     "data": {
      "text/plain": [
       "<sqlite3.Cursor at 0x7fd4844af810>"
      ]
     },
     "execution_count": 1,
     "metadata": {},
     "output_type": "execute_result"
    }
   ],
   "source": [
    "import sqlite3\n",
    "import unittest\n",
    "import json\n",
    "import os\n",
    "import numpy as np\n",
    "import pandas as pd\n",
    "conn = sqlite3.connect('../databases/nba.db')\n",
    "conn.execute(\"\"\"ATTACH '../databases/covid19.db' AS covid19\"\"\")\n",
    "conn.execute(\"\"\"ATTACH '../databases/twElection2020.db' AS twElection2020\"\"\")\n",
    "conn.execute(\"\"\"ATTACH '../databases/imdb.db' AS imdb\"\"\")"
   ]
  },
  {
   "cell_type": "markdown",
   "metadata": {},
   "source": [
    "## 22. 從 `covid19` 資料庫的 `daily_report` 資料表將「美國」與「非美國」的觀測值用衍生計算欄位區分，美國的觀測值給予整數 1、非美國的觀測值給予整數 0，參考下列的預期查詢結果。\n",
    "\n",
    "- 預期輸入：SQL 查詢語法。\n",
    "- 預期輸出：(3981, 2) 的查詢結果。\n",
    "\n",
    "```\n",
    "                 Combined_Key  is_us\n",
    "0                 Afghanistan      0\n",
    "1                     Albania      0\n",
    "2                     Algeria      0\n",
    "3                     Andorra      0\n",
    "4                      Angola      0\n",
    "...                       ...    ...\n",
    "3976       Teton, Wyoming, US      1\n",
    "3977       Uinta, Wyoming, US      1\n",
    "3978  Unassigned, Wyoming, US      1\n",
    "3979    Washakie, Wyoming, US      1\n",
    "3980      Weston, Wyoming, US      1\n",
    "\n",
    "[3981 rows x 2 columns]\n",
    "```"
   ]
  },
  {
   "cell_type": "code",
   "execution_count": 2,
   "metadata": {},
   "outputs": [],
   "source": [
    "case_is_us_from_daily_report =\\\n",
    "\"\"\"\n",
    "-- SQL 查詢語法起點\n",
    "SELECT Combined_Key,\n",
    "       CASE WHEN Combined_Key LIKE '%, US' THEN 1\n",
    "            ELSE 0 END AS is_us\n",
    "  FROM daily_report\n",
    " ORDER BY is_us;\n",
    "-- SQL 查詢語法終點\n",
    "\"\"\""
   ]
  },
  {
   "cell_type": "markdown",
   "metadata": {},
   "source": [
    "## 23. 從 `imdb` 資料庫的 `movies` 資料表將評等超過 8.7（`>8.7`）的電影分類為 `'Awesome'`、將評等超過 8.4（`>8.4`）的電影分類為 `'Terrific'`，再將其餘的電影分類為 `'Great'`，參考下列的預期查詢結果。\n",
    "\n",
    "- 預期輸入：SQL 查詢語法。\n",
    "- 預期輸出：(250, 3) 的查詢結果。\n",
    "\n",
    "```\n",
    "                                              title  rating rating_category\n",
    "0                          The Shawshank Redemption     9.3         Awesome\n",
    "1                                     The Godfather     9.2         Awesome\n",
    "2                            The Godfather: Part II     9.0         Awesome\n",
    "3                                   The Dark Knight     9.0         Awesome\n",
    "4                                      12 Angry Men     9.0         Awesome\n",
    "..                                              ...     ...             ...\n",
    "245  Neon Genesis Evangelion: The End of Evangelion     8.1           Great\n",
    "246                              7 Kogustaki Mucize     8.2           Great\n",
    "247                                      Tangerines     8.2           Great\n",
    "248                                        Drishyam     8.2           Great\n",
    "249                                          Swades     8.2           Great\n",
    "\n",
    "[250 rows x 3 columns]\n",
    "```"
   ]
  },
  {
   "cell_type": "code",
   "execution_count": 3,
   "metadata": {},
   "outputs": [],
   "source": [
    "case_rating_category_from_movies =\\\n",
    "\"\"\"\n",
    "-- SQL 查詢語法起點\n",
    "SELECT title,\n",
    "       rating,\n",
    "       CASE WHEN rating > 8.7 THEN 'Awesome'\n",
    "            WHEN rating > 8.4 THEN 'Terrific'\n",
    "            ELSE 'Great' END AS rating_category\n",
    "  FROM movies;\n",
    "-- SQL 查詢語法終點\n",
    "\"\"\""
   ]
  },
  {
   "cell_type": "markdown",
   "metadata": {},
   "source": [
    "## 24. 從 `twElection2020` 資料庫的 `admin_regions` 資料表將 `county` 分類為 `'六都'`與`'非六都'`，參考下列的預期查詢結果。\n",
    "\n",
    "PS 六都為臺北市、新北市、桃園市、臺中市、臺南市與高雄市。\n",
    "\n",
    "- 預期輸入：SQL 查詢語法。\n",
    "- 預期輸出：(22, 2) 的查詢結果。\n",
    "\n",
    "```\n",
    "   county county_type\n",
    "0     新北市          六都\n",
    "1     桃園市          六都\n",
    "2     臺中市          六都\n",
    "3     臺北市          六都\n",
    "4     臺南市          六都\n",
    "5     高雄市          六都\n",
    "6     南投縣         非六都\n",
    "7     嘉義市         非六都\n",
    "8     嘉義縣         非六都\n",
    "9     基隆市         非六都\n",
    "10    宜蘭縣         非六都\n",
    "11    屏東縣         非六都\n",
    "12    彰化縣         非六都\n",
    "13    新竹市         非六都\n",
    "14    新竹縣         非六都\n",
    "15    澎湖縣         非六都\n",
    "16    臺東縣         非六都\n",
    "17    花蓮縣         非六都\n",
    "18    苗栗縣         非六都\n",
    "19    連江縣         非六都\n",
    "20    金門縣         非六都\n",
    "21    雲林縣         非六都\n",
    "```"
   ]
  },
  {
   "cell_type": "code",
   "execution_count": 4,
   "metadata": {},
   "outputs": [],
   "source": [
    "case_county_type_from_admin_regions =\\\n",
    "\"\"\"\n",
    "-- SQL 查詢語法起點\n",
    "SELECT DISTINCT county,\n",
    "       CASE WHEN county IN ('臺北市', '新北市', '桃園市', '臺中市', '臺南市', '高雄市') THEN '六都'\n",
    "            ELSE '非六都' END AS county_type\n",
    "  FROM admin_regions\n",
    " ORDER BY county_type,\n",
    "          county;\n",
    "-- SQL 查詢語法終點\n",
    "\"\"\""
   ]
  },
  {
   "cell_type": "markdown",
   "metadata": {
    "deletable": false,
    "editable": false
   },
   "source": [
    "## 執行測試！\n",
    "\n",
    "Kernel -> Restart & Run All -> Restart and Run All Cells."
   ]
  },
  {
   "cell_type": "code",
   "execution_count": 5,
   "metadata": {
    "deletable": false,
    "editable": false
   },
   "outputs": [
    {
     "name": "stderr",
     "output_type": "stream",
     "text": [
      "test_22_case_is_us_from_daily_report (__main__.TestCase) ... ok\n",
      "test_23_case_rating_category_from_movies (__main__.TestCase) ... ok\n",
      "test_24_case_county_type_from_admin_regions (__main__.TestCase) ... ok\n",
      "\n",
      "----------------------------------------------------------------------\n",
      "Ran 3 tests in 0.153s\n",
      "\n",
      "OK\n"
     ]
    }
   ],
   "source": [
    "class TestCase(unittest.TestCase):\n",
    "    def test_22_case_is_us_from_daily_report(self):\n",
    "        is_us_from_daily_report = pd.read_sql(case_is_us_from_daily_report, conn)\n",
    "        self.assertEqual(is_us_from_daily_report.shape, (3981, 2))\n",
    "        column_values = set(is_us_from_daily_report.iloc[:, 1].values)\n",
    "        self.assertTrue(0 in column_values)\n",
    "        self.assertTrue(1 in column_values)\n",
    "    def test_23_case_rating_category_from_movies(self):\n",
    "        rating_category_from_movies = pd.read_sql(case_rating_category_from_movies, conn)\n",
    "        self.assertEqual(rating_category_from_movies.shape, (250, 3))\n",
    "        column_values = set(rating_category_from_movies.iloc[:, 2].values)\n",
    "        self.assertTrue('Awesome' in column_values)\n",
    "        self.assertTrue('Terrific' in column_values)\n",
    "        self.assertTrue('Great' in column_values)\n",
    "    def test_24_case_county_type_from_admin_regions(self):\n",
    "        county_type_from_admin_regions = pd.read_sql(case_county_type_from_admin_regions, conn)\n",
    "        self.assertEqual(county_type_from_admin_regions.shape, (22, 2))\n",
    "        column_values = set(county_type_from_admin_regions.iloc[:, 1].values)\n",
    "        column_values_arr = county_type_from_admin_regions.iloc[:, 1].values\n",
    "        self.assertTrue('六都' in column_values)\n",
    "        self.assertTrue('非六都' in column_values)\n",
    "        self.assertEqual(column_values_arr[column_values_arr == '六都'].size, 6)\n",
    "        \n",
    "suite = unittest.TestLoader().loadTestsFromTestCase(TestCase)\n",
    "runner = unittest.TextTestRunner(verbosity=2)\n",
    "test_results = runner.run(suite)\n",
    "number_of_failures = len(test_results.failures)\n",
    "number_of_errors = len(test_results.errors)\n",
    "number_of_test_runs = test_results.testsRun\n",
    "number_of_successes = number_of_test_runs - (number_of_failures + number_of_errors)\n",
    "cwd = os.getcwd()\n",
    "folder_name = cwd.split(\"/\")[-1]\n",
    "with open(\"../exercise_index.json\", \"r\") as content:\n",
    "    exercise_index = json.load(content)\n",
    "chapter_name = exercise_index[folder_name]"
   ]
  },
  {
   "cell_type": "code",
   "execution_count": 6,
   "metadata": {
    "deletable": false,
    "editable": false
   },
   "outputs": [
    {
     "name": "stdout",
     "output_type": "stream",
     "text": [
      "您在「條件邏輯」章節中的 3 道 SQL 練習答對了 3 題。\n"
     ]
    }
   ],
   "source": [
    "print(\"您在「{}」章節中的 {} 道 SQL 練習答對了 {} 題。\".format(chapter_name, number_of_test_runs, number_of_successes))"
   ]
  }
 ],
 "metadata": {
  "kernelspec": {
   "display_name": "Python Data Analysis",
   "language": "python",
   "name": "pyda"
  },
  "language_info": {
   "codemirror_mode": {
    "name": "ipython",
    "version": 3
   },
   "file_extension": ".py",
   "mimetype": "text/x-python",
   "name": "python",
   "nbconvert_exporter": "python",
   "pygments_lexer": "ipython3",
   "version": "3.6.8"
  }
 },
 "nbformat": 4,
 "nbformat_minor": 4
}
