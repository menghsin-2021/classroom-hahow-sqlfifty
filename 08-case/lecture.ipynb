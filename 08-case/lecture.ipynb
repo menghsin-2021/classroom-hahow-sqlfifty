{
 "cells": [
  {
   "cell_type": "markdown",
   "id": "lightweight-fruit",
   "metadata": {
    "slideshow": {
     "slide_type": "slide"
    }
   },
   "source": [
    "# SQL 的五十道練習\n",
    "\n",
    "> 條件邏輯\n",
    "\n",
    "[數據交點](https://www.datainpoint.com/) | 郭耀仁 <yaojenkuo@datainpoint.com>"
   ]
  },
  {
   "cell_type": "markdown",
   "id": "documented-richmond",
   "metadata": {
    "slideshow": {
     "slide_type": "subslide"
    }
   },
   "source": [
    "## 這個章節要學起來的 SQL 保留字\n",
    "\n",
    "- `CASE`\n",
    "- `WHEN`\n",
    "- `THEN`\n",
    "- `ELSE`\n",
    "- `END`"
   ]
  },
  {
   "cell_type": "code",
   "execution_count": 1,
   "id": "matched-spyware",
   "metadata": {
    "slideshow": {
     "slide_type": "skip"
    }
   },
   "outputs": [],
   "source": [
    "%LOAD sqlite3 db=../databases/imdb.db timeout=2 shared_cache=true"
   ]
  },
  {
   "cell_type": "code",
   "execution_count": 2,
   "id": "desperate-contest",
   "metadata": {
    "slideshow": {
     "slide_type": "skip"
    }
   },
   "outputs": [],
   "source": [
    "ATTACH \"../databases/nba.db\" AS nba;"
   ]
  },
  {
   "cell_type": "code",
   "execution_count": 3,
   "id": "located-society",
   "metadata": {
    "slideshow": {
     "slide_type": "skip"
    }
   },
   "outputs": [],
   "source": [
    "ATTACH \"../databases/twElection2020.db\" AS twElection2020;"
   ]
  },
  {
   "cell_type": "code",
   "execution_count": 4,
   "id": "positive-conservative",
   "metadata": {
    "slideshow": {
     "slide_type": "skip"
    }
   },
   "outputs": [],
   "source": [
    "ATTACH \"../databases/covid19.db\" AS covid19;"
   ]
  },
  {
   "cell_type": "markdown",
   "id": "supposed-spread",
   "metadata": {
    "slideshow": {
     "slide_type": "slide"
    }
   },
   "source": [
    "## 以 `CASE` 衍生計算欄位"
   ]
  },
  {
   "cell_type": "markdown",
   "id": "olympic-advertiser",
   "metadata": {
    "slideshow": {
     "slide_type": "subslide"
    }
   },
   "source": [
    "## 條件除了能夠運用在 `WHERE` 篩選資料，另外一個常見的應用場景是使用 `CASE` 衍生計算欄位\n",
    "\n",
    "```sql\n",
    "SELECT CASE WHEN condition_1 THEN result_1\n",
    "            WHEN condition_2 THEN result_2\n",
    "            ...\n",
    "            ELSE result_else END AS alias;\n",
    "```"
   ]
  },
  {
   "cell_type": "markdown",
   "id": "thermal-money",
   "metadata": {
    "slideshow": {
     "slide_type": "subslide"
    }
   },
   "source": [
    "## 使用布林（Boolean）表示電影是否在千禧年之後上映"
   ]
  },
  {
   "cell_type": "code",
   "execution_count": 5,
   "id": "three-pressure",
   "metadata": {
    "slideshow": {
     "slide_type": "-"
    }
   },
   "outputs": [
    {
     "data": {
      "text/html": [
       "<table>\n",
       "<tr>\n",
       "<th>title</th>\n",
       "<th>release_year</th>\n",
       "<th>after_millennium</th>\n",
       "</tr>\n",
       "<tr>\n",
       "<td>The Shawshank Redemption</td>\n",
       "<td>1994</td>\n",
       "<td>0</td>\n",
       "</tr>\n",
       "<tr>\n",
       "<td>The Godfather</td>\n",
       "<td>1972</td>\n",
       "<td>0</td>\n",
       "</tr>\n",
       "<tr>\n",
       "<td>The Godfather: Part II</td>\n",
       "<td>1974</td>\n",
       "<td>0</td>\n",
       "</tr>\n",
       "<tr>\n",
       "<td>The Dark Knight</td>\n",
       "<td>2008</td>\n",
       "<td>1</td>\n",
       "</tr>\n",
       "<tr>\n",
       "<td>12 Angry Men</td>\n",
       "<td>1957</td>\n",
       "<td>0</td>\n",
       "</tr>\n",
       "</table>\n",
       "5 rows in set (0.00 sec)"
      ],
      "text/plain": [
       "+--------------------------+--------------+------------------+\n",
       "| title                    | release_year | after_millennium |\n",
       "+--------------------------+--------------+------------------+\n",
       "| The Shawshank Redemption | 1994         | 0                |\n",
       "+--------------------------+--------------+------------------+\n",
       "| The Godfather            | 1972         | 0                |\n",
       "+--------------------------+--------------+------------------+\n",
       "| The Godfather: Part II   | 1974         | 0                |\n",
       "+--------------------------+--------------+------------------+\n",
       "| The Dark Knight          | 2008         | 1                |\n",
       "+--------------------------+--------------+------------------+\n",
       "| 12 Angry Men             | 1957         | 0                |\n",
       "+--------------------------+--------------+------------------+\n",
       "5 rows in set (0.00 sec)"
      ]
     },
     "execution_count": 5,
     "metadata": {},
     "output_type": "execute_result"
    }
   ],
   "source": [
    "SELECT title,\n",
    "       release_year,\n",
    "       CASE WHEN release_year >= 2000 THEN 1\n",
    "            ELSE 0 END AS after_millennium\n",
    "  FROM movies\n",
    " LIMIT 5;"
   ]
  },
  {
   "cell_type": "markdown",
   "id": "expressed-learning",
   "metadata": {
    "slideshow": {
     "slide_type": "subslide"
    }
   },
   "source": [
    "## 在 `nba` 資料庫中球員鋒衛位置的原始分類比較多元"
   ]
  },
  {
   "cell_type": "code",
   "execution_count": 6,
   "id": "funded-stanley",
   "metadata": {},
   "outputs": [
    {
     "data": {
      "text/html": [
       "<table>\n",
       "<tr>\n",
       "<th>pos</th>\n",
       "</tr>\n",
       "<tr>\n",
       "<td>F</td>\n",
       "</tr>\n",
       "<tr>\n",
       "<td>C-F</td>\n",
       "</tr>\n",
       "<tr>\n",
       "<td>G-F</td>\n",
       "</tr>\n",
       "<tr>\n",
       "<td>G</td>\n",
       "</tr>\n",
       "<tr>\n",
       "<td>F-G</td>\n",
       "</tr>\n",
       "<tr>\n",
       "<td>C</td>\n",
       "</tr>\n",
       "<tr>\n",
       "<td>F-C</td>\n",
       "</tr>\n",
       "</table>\n",
       "7 rows in set (0.00 sec)"
      ],
      "text/plain": [
       "+-----+\n",
       "| pos |\n",
       "+-----+\n",
       "| F   |\n",
       "+-----+\n",
       "| C-F |\n",
       "+-----+\n",
       "| G-F |\n",
       "+-----+\n",
       "| G   |\n",
       "+-----+\n",
       "| F-G |\n",
       "+-----+\n",
       "| C   |\n",
       "+-----+\n",
       "| F-C |\n",
       "+-----+\n",
       "7 rows in set (0.00 sec)"
      ]
     },
     "execution_count": 6,
     "metadata": {},
     "output_type": "execute_result"
    }
   ],
   "source": [
    "SELECT DISTINCT pos\n",
    "  FROM players;"
   ]
  },
  {
   "cell_type": "markdown",
   "id": "vertical-gossip",
   "metadata": {
    "slideshow": {
     "slide_type": "subslide"
    }
   },
   "source": [
    "## 使用文字將球員的鋒衛種類分為三個位置"
   ]
  },
  {
   "cell_type": "code",
   "execution_count": 7,
   "id": "alleged-netherlands",
   "metadata": {
    "slideshow": {
     "slide_type": "-"
    }
   },
   "outputs": [
    {
     "data": {
      "text/html": [
       "<table>\n",
       "<tr>\n",
       "<th>pos_new</th>\n",
       "<th>pos</th>\n",
       "</tr>\n",
       "<tr>\n",
       "<td>Center</td>\n",
       "<td>C</td>\n",
       "</tr>\n",
       "<tr>\n",
       "<td>Center</td>\n",
       "<td>C-F</td>\n",
       "</tr>\n",
       "<tr>\n",
       "<td>Forward</td>\n",
       "<td>F</td>\n",
       "</tr>\n",
       "<tr>\n",
       "<td>Forward</td>\n",
       "<td>F-C</td>\n",
       "</tr>\n",
       "<tr>\n",
       "<td>Forward</td>\n",
       "<td>F-G</td>\n",
       "</tr>\n",
       "<tr>\n",
       "<td>Guard</td>\n",
       "<td>G</td>\n",
       "</tr>\n",
       "<tr>\n",
       "<td>Guard</td>\n",
       "<td>G-F</td>\n",
       "</tr>\n",
       "</table>\n",
       "7 rows in set (0.00 sec)"
      ],
      "text/plain": [
       "+---------+-----+\n",
       "| pos_new | pos |\n",
       "+---------+-----+\n",
       "| Center  | C   |\n",
       "+---------+-----+\n",
       "| Center  | C-F |\n",
       "+---------+-----+\n",
       "| Forward | F   |\n",
       "+---------+-----+\n",
       "| Forward | F-C |\n",
       "+---------+-----+\n",
       "| Forward | F-G |\n",
       "+---------+-----+\n",
       "| Guard   | G   |\n",
       "+---------+-----+\n",
       "| Guard   | G-F |\n",
       "+---------+-----+\n",
       "7 rows in set (0.00 sec)"
      ]
     },
     "execution_count": 7,
     "metadata": {},
     "output_type": "execute_result"
    }
   ],
   "source": [
    "SELECT DISTINCT CASE WHEN pos IN ('C', 'C-F') THEN 'Center'\n",
    "                     WHEN pos IN ('G', 'G-F') THEN 'Guard'\n",
    "                     ELSE 'Forward' END AS pos_new,\n",
    "       pos\n",
    "  FROM players\n",
    " ORDER BY pos;"
   ]
  },
  {
   "cell_type": "markdown",
   "id": "dying-intake",
   "metadata": {
    "slideshow": {
     "slide_type": "subslide"
    }
   },
   "source": [
    "## 如果在某個觀測值發生 `condition_1` 與 `condition_2` 都判斷為真的情況下，會以 `result_1` 表示\n",
    "\n",
    "```sql\n",
    "SELECT CASE WHEN condition_1 THEN result_1\n",
    "            WHEN condition_2 THEN result_2\n",
    "            ...\n",
    "            ELSE result_else END AS alias;\n",
    "```"
   ]
  },
  {
   "cell_type": "markdown",
   "id": "basic-cheese",
   "metadata": {
    "slideshow": {
     "slide_type": "subslide"
    }
   },
   "source": [
    "## 當條件沒有互斥的時候，撰寫 `CASE` 要特別注意順序\n",
    "\n",
    "`heightMeters > 1.90` 與 `heightMeters > 2.10` 這兩個條件交集。"
   ]
  },
  {
   "cell_type": "code",
   "execution_count": 8,
   "id": "signed-excess",
   "metadata": {},
   "outputs": [
    {
     "data": {
      "text/html": [
       "<table>\n",
       "<tr>\n",
       "<th>height_category</th>\n",
       "</tr>\n",
       "<tr>\n",
       "<td>Medium</td>\n",
       "</tr>\n",
       "<tr>\n",
       "<td>Short</td>\n",
       "</tr>\n",
       "<tr>\n",
       "<td>Tall</td>\n",
       "</tr>\n",
       "</table>\n",
       "3 rows in set (0.00 sec)"
      ],
      "text/plain": [
       "+-----------------+\n",
       "| height_category |\n",
       "+-----------------+\n",
       "| Medium          |\n",
       "+-----------------+\n",
       "| Short           |\n",
       "+-----------------+\n",
       "| Tall            |\n",
       "+-----------------+\n",
       "3 rows in set (0.00 sec)"
      ]
     },
     "execution_count": 8,
     "metadata": {},
     "output_type": "execute_result"
    }
   ],
   "source": [
    "SELECT DISTINCT CASE WHEN heightMeters > 2.10 THEN 'Tall' -- 先判斷 Tall 結果和預期相符\n",
    "                     WHEN heightMeters > 1.90 THEN 'Medium'\n",
    "                     ELSE 'Short' END AS height_category\n",
    "  FROM players;"
   ]
  },
  {
   "cell_type": "code",
   "execution_count": 9,
   "id": "adequate-acquisition",
   "metadata": {
    "slideshow": {
     "slide_type": "subslide"
    }
   },
   "outputs": [
    {
     "data": {
      "text/html": [
       "<table>\n",
       "<tr>\n",
       "<th>height_category</th>\n",
       "</tr>\n",
       "<tr>\n",
       "<td>Medium</td>\n",
       "</tr>\n",
       "<tr>\n",
       "<td>Short</td>\n",
       "</tr>\n",
       "</table>\n",
       "2 rows in set (0.00 sec)"
      ],
      "text/plain": [
       "+-----------------+\n",
       "| height_category |\n",
       "+-----------------+\n",
       "| Medium          |\n",
       "+-----------------+\n",
       "| Short           |\n",
       "+-----------------+\n",
       "2 rows in set (0.00 sec)"
      ]
     },
     "execution_count": 9,
     "metadata": {},
     "output_type": "execute_result"
    }
   ],
   "source": [
    "SELECT DISTINCT CASE WHEN heightMeters > 1.90 THEN 'Medium' -- 先判斷 Medium 結果不如預期\n",
    "                WHEN heightMeters > 2.10 THEN 'Tall'\n",
    "                ELSE 'Short' END AS height_category\n",
    "  FROM players;"
   ]
  },
  {
   "cell_type": "markdown",
   "id": "lovely-publisher",
   "metadata": {
    "slideshow": {
     "slide_type": "subslide"
    }
   },
   "source": [
    "##  如果不想特別注意順序，可以將條件設計為互斥"
   ]
  },
  {
   "cell_type": "code",
   "execution_count": 10,
   "id": "gorgeous-drinking",
   "metadata": {},
   "outputs": [
    {
     "data": {
      "text/html": [
       "<table>\n",
       "<tr>\n",
       "<th>height_category</th>\n",
       "</tr>\n",
       "<tr>\n",
       "<td>Medium</td>\n",
       "</tr>\n",
       "<tr>\n",
       "<td>Short</td>\n",
       "</tr>\n",
       "<tr>\n",
       "<td>Tall</td>\n",
       "</tr>\n",
       "</table>\n",
       "3 rows in set (0.00 sec)"
      ],
      "text/plain": [
       "+-----------------+\n",
       "| height_category |\n",
       "+-----------------+\n",
       "| Medium          |\n",
       "+-----------------+\n",
       "| Short           |\n",
       "+-----------------+\n",
       "| Tall            |\n",
       "+-----------------+\n",
       "3 rows in set (0.00 sec)"
      ]
     },
     "execution_count": 10,
     "metadata": {},
     "output_type": "execute_result"
    }
   ],
   "source": [
    "SELECT DISTINCT CASE WHEN heightMeters > 1.90 AND \n",
    "                          heightMeters <= 2.10 THEN 'Medium'\n",
    "                     WHEN heightMeters > 2.10 THEN 'Tall'\n",
    "                     ELSE 'Short' END AS height_category\n",
    "  FROM players;"
   ]
  },
  {
   "cell_type": "markdown",
   "id": "existing-integrity",
   "metadata": {
    "slideshow": {
     "slide_type": "slide"
    }
   },
   "source": [
    "## 以 `CASE` 衍生計算欄位排序"
   ]
  },
  {
   "cell_type": "markdown",
   "id": "graphic-collar",
   "metadata": {
    "slideshow": {
     "slide_type": "subslide"
    }
   },
   "source": [
    "## `CASE` 除了搭配 `SELECT` 使用，亦能夠搭配 `ORDER BY` 使用"
   ]
  },
  {
   "cell_type": "markdown",
   "id": "better-healthcare",
   "metadata": {
    "slideshow": {
     "slide_type": "-"
    }
   },
   "source": [
    "```sql\n",
    "SELECT CASE WHEN condition_1 THEN result_1\n",
    "            WHEN condition_2 THEN result_2\n",
    "            ...\n",
    "            ELSE result_else END AS alias\n",
    "  FROM table_name\n",
    " ORDER BY alias;\n",
    "```"
   ]
  },
  {
   "cell_type": "code",
   "execution_count": 11,
   "id": "skilled-burns",
   "metadata": {
    "slideshow": {
     "slide_type": "subslide"
    }
   },
   "outputs": [
    {
     "data": {
      "text/html": [
       "<table>\n",
       "<tr>\n",
       "<th>firstName</th>\n",
       "<th>lastName</th>\n",
       "<th>pos_new</th>\n",
       "</tr>\n",
       "<tr>\n",
       "<td>Dwight</td>\n",
       "<td>Howard</td>\n",
       "<td>Center</td>\n",
       "</tr>\n",
       "<tr>\n",
       "<td>LaMarcus</td>\n",
       "<td>Aldridge</td>\n",
       "<td>Center</td>\n",
       "</tr>\n",
       "<tr>\n",
       "<td>Al</td>\n",
       "<td>Horford</td>\n",
       "<td>Center</td>\n",
       "</tr>\n",
       "<tr>\n",
       "<td>Marc</td>\n",
       "<td>Gasol</td>\n",
       "<td>Center</td>\n",
       "</tr>\n",
       "<tr>\n",
       "<td>Brook</td>\n",
       "<td>Lopez</td>\n",
       "<td>Center</td>\n",
       "</tr>\n",
       "</table>\n",
       "5 rows in set (0.00 sec)"
      ],
      "text/plain": [
       "+-----------+----------+---------+\n",
       "| firstName | lastName | pos_new |\n",
       "+-----------+----------+---------+\n",
       "| Dwight    | Howard   | Center  |\n",
       "+-----------+----------+---------+\n",
       "| LaMarcus  | Aldridge | Center  |\n",
       "+-----------+----------+---------+\n",
       "| Al        | Horford  | Center  |\n",
       "+-----------+----------+---------+\n",
       "| Marc      | Gasol    | Center  |\n",
       "+-----------+----------+---------+\n",
       "| Brook     | Lopez    | Center  |\n",
       "+-----------+----------+---------+\n",
       "5 rows in set (0.00 sec)"
      ]
     },
     "execution_count": 11,
     "metadata": {},
     "output_type": "execute_result"
    }
   ],
   "source": [
    "SELECT firstName,\n",
    "       lastName,\n",
    "       CASE WHEN pos IN ('C', 'C-F') THEN 'Center'\n",
    "            WHEN pos IN ('G', 'G-F') THEN 'Guard'\n",
    "            ELSE 'Forward' END AS pos_new\n",
    "  FROM players\n",
    " ORDER BY pos_new\n",
    " LIMIT 5;"
   ]
  },
  {
   "cell_type": "markdown",
   "id": "great-hazard",
   "metadata": {
    "slideshow": {
     "slide_type": "subslide"
    }
   },
   "source": [
    "## 也能夠直接在 `ORDER BY` 加入 `CASE`\n",
    "\n",
    "```sql\n",
    "SELECT column_names\n",
    "  FROM table_name\n",
    " ORDER BY CASE WHEN condition_1 THEN result_1\n",
    "               WHEN condition_2 THEN result_2\n",
    "               ...\n",
    "               ELSE result_else END;\n",
    "```"
   ]
  },
  {
   "cell_type": "code",
   "execution_count": 12,
   "id": "protected-elevation",
   "metadata": {
    "slideshow": {
     "slide_type": "subslide"
    }
   },
   "outputs": [
    {
     "data": {
      "text/html": [
       "<table>\n",
       "<tr>\n",
       "<th>firstName</th>\n",
       "<th>lastName</th>\n",
       "</tr>\n",
       "<tr>\n",
       "<td>Dwight</td>\n",
       "<td>Howard</td>\n",
       "</tr>\n",
       "<tr>\n",
       "<td>LaMarcus</td>\n",
       "<td>Aldridge</td>\n",
       "</tr>\n",
       "<tr>\n",
       "<td>Al</td>\n",
       "<td>Horford</td>\n",
       "</tr>\n",
       "<tr>\n",
       "<td>Marc</td>\n",
       "<td>Gasol</td>\n",
       "</tr>\n",
       "<tr>\n",
       "<td>Brook</td>\n",
       "<td>Lopez</td>\n",
       "</tr>\n",
       "</table>\n",
       "5 rows in set (0.00 sec)"
      ],
      "text/plain": [
       "+-----------+----------+\n",
       "| firstName | lastName |\n",
       "+-----------+----------+\n",
       "| Dwight    | Howard   |\n",
       "+-----------+----------+\n",
       "| LaMarcus  | Aldridge |\n",
       "+-----------+----------+\n",
       "| Al        | Horford  |\n",
       "+-----------+----------+\n",
       "| Marc      | Gasol    |\n",
       "+-----------+----------+\n",
       "| Brook     | Lopez    |\n",
       "+-----------+----------+\n",
       "5 rows in set (0.00 sec)"
      ]
     },
     "execution_count": 12,
     "metadata": {},
     "output_type": "execute_result"
    }
   ],
   "source": [
    "SELECT firstName,\n",
    "       lastName\n",
    "  FROM players\n",
    " ORDER BY CASE WHEN pos IN ('C', 'C-F') THEN 'Center'\n",
    "               WHEN pos IN ('G', 'G-F') THEN 'Guard'\n",
    "               ELSE 'Forward' END\n",
    " LIMIT 5;"
   ]
  },
  {
   "cell_type": "markdown",
   "id": "adjacent-reference",
   "metadata": {
    "slideshow": {
     "slide_type": "slide"
    }
   },
   "source": [
    "## 以 `CASE` 衍生計算欄位篩選"
   ]
  },
  {
   "cell_type": "markdown",
   "id": "visible-dinner",
   "metadata": {
    "slideshow": {
     "slide_type": "subslide"
    }
   },
   "source": [
    "## `CASE` 除了搭配 `SELECT`、`ORDER BY` 使用，亦能夠搭配 `WHERE` 使用"
   ]
  },
  {
   "cell_type": "code",
   "execution_count": 13,
   "id": "corrected-trading",
   "metadata": {
    "slideshow": {
     "slide_type": "-"
    }
   },
   "outputs": [
    {
     "data": {
      "text/html": [
       "<table>\n",
       "<tr>\n",
       "<th>pos_new</th>\n",
       "<th>pos</th>\n",
       "</tr>\n",
       "<tr>\n",
       "<td>Center</td>\n",
       "<td>C-F</td>\n",
       "</tr>\n",
       "<tr>\n",
       "<td>Center</td>\n",
       "<td>C</td>\n",
       "</tr>\n",
       "</table>\n",
       "2 rows in set (0.00 sec)"
      ],
      "text/plain": [
       "+---------+-----+\n",
       "| pos_new | pos |\n",
       "+---------+-----+\n",
       "| Center  | C-F |\n",
       "+---------+-----+\n",
       "| Center  | C   |\n",
       "+---------+-----+\n",
       "2 rows in set (0.00 sec)"
      ]
     },
     "execution_count": 13,
     "metadata": {},
     "output_type": "execute_result"
    }
   ],
   "source": [
    "SELECT DISTINCT CASE WHEN pos IN ('C', 'C-F') THEN 'Center'\n",
    "                     WHEN pos IN ('G', 'G-F') THEN 'Guard'\n",
    "                     ELSE 'Forward' END AS pos_new,\n",
    "       pos\n",
    "  FROM players\n",
    " WHERE pos_new = 'Center';"
   ]
  },
  {
   "cell_type": "markdown",
   "id": "understanding-sudan",
   "metadata": {
    "slideshow": {
     "slide_type": "slide"
    }
   },
   "source": [
    "## 重點統整\n",
    "\n",
    "- 條件除了能夠運用在 `WHERE` 篩選資料，另一個常見的應用場景是使用 `CASE` 衍生計算欄位。\n",
    "- `CASE` 可以搭配 `SELECT`、`ORDER BY` 與 `WHERE` 使用，其中在搭配 `ORDER BY` 使用時可以直接加入。"
   ]
  },
  {
   "cell_type": "markdown",
   "id": "employed-thousand",
   "metadata": {
    "slideshow": {
     "slide_type": "subslide"
    }
   },
   "source": [
    "```sql\n",
    "/*\n",
    "截至目前學起來的 SQL 有哪些？\n",
    "SQL 寫作順序必須遵從標準 SQL 的規定。\n",
    "*/\n",
    "SELECT column_names     -- 選擇哪些欄位\n",
    "  FROM table_name       -- 從哪個資料庫的資料表\n",
    " WHERE conditions       -- 篩選哪些觀測值\n",
    " ORDER BY column_names  -- 指定依照哪個變數排序\n",
    " LIMIT m;               -- 查詢結果顯示前 m 列就好\n",
    "```"
   ]
  }
 ],
 "metadata": {
  "celltoolbar": "Slideshow",
  "kernelspec": {
   "display_name": "xsql",
   "language": "sqlite",
   "name": "xsql"
  },
  "language_info": {
   "codemirror_mode": "sql",
   "file_extension": "",
   "mimetype": "",
   "name": "mysql",
   "version": "0.0.8"
  }
 },
 "nbformat": 4,
 "nbformat_minor": 5
}
