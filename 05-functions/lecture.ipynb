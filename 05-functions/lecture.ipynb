{
 "cells": [
  {
   "cell_type": "markdown",
   "id": "lightweight-fruit",
   "metadata": {
    "slideshow": {
     "slide_type": "slide"
    }
   },
   "source": [
    "# SQL 的五十道練習\n",
    "\n",
    "> 函數\n",
    "\n",
    "[數據交點](https://www.datainpoint.com/) | 郭耀仁 <yaojenkuo@datainpoint.com>"
   ]
  },
  {
   "cell_type": "code",
   "execution_count": 1,
   "id": "matched-spyware",
   "metadata": {
    "slideshow": {
     "slide_type": "skip"
    }
   },
   "outputs": [],
   "source": [
    "%LOAD sqlite3 db=../databases/imdb.db timeout=2 shared_cache=true"
   ]
  },
  {
   "cell_type": "code",
   "execution_count": 2,
   "id": "desperate-contest",
   "metadata": {
    "slideshow": {
     "slide_type": "skip"
    }
   },
   "outputs": [],
   "source": [
    "ATTACH \"../databases/nba.db\" AS nba;"
   ]
  },
  {
   "cell_type": "code",
   "execution_count": 3,
   "id": "located-society",
   "metadata": {
    "slideshow": {
     "slide_type": "skip"
    }
   },
   "outputs": [],
   "source": [
    "ATTACH \"../databases/twElection2020.db\" AS twElection2020;"
   ]
  },
  {
   "cell_type": "code",
   "execution_count": 4,
   "id": "positive-conservative",
   "metadata": {
    "slideshow": {
     "slide_type": "skip"
    }
   },
   "outputs": [],
   "source": [
    "ATTACH \"../databases/covid19.db\" AS covid19;"
   ]
  },
  {
   "cell_type": "markdown",
   "id": "supposed-spread",
   "metadata": {
    "slideshow": {
     "slide_type": "slide"
    }
   },
   "source": [
    "## 什麼是函數"
   ]
  },
  {
   "cell_type": "markdown",
   "id": "threaded-police",
   "metadata": {
    "slideshow": {
     "slide_type": "subslide"
    }
   },
   "source": [
    "## Function，中文翻譯為函數或者函式，在資料分析和程式語言中都扮演舉足輕重的角色\n",
    "\n",
    "函數是預先被定義好的運算處理邏輯，透過它的作用，能夠將「輸入」對應為「輸出」，進而完成計算數值與操作文字等任務。"
   ]
  },
  {
   "cell_type": "markdown",
   "id": "right-confidence",
   "metadata": {
    "slideshow": {
     "slide_type": "subslide"
    }
   },
   "source": [
    "## 函數的運作有五個組成：\n",
    "\n",
    "1. 函數的名稱。\n",
    "2. 輸入。\n",
    "3. 參數。\n",
    "4. 運算處理邏輯。\n",
    "5. 輸出。"
   ]
  },
  {
   "cell_type": "markdown",
   "id": "configured-international",
   "metadata": {
    "slideshow": {
     "slide_type": "subslide"
    }
   },
   "source": [
    "## 以買珍珠奶茶為例\n",
    "\n",
    "![](pearl_milk_tea.jpg)\n",
    "\n",
    "Source: [Google Search](https://www.google.com/search?q=%E7%8F%8D%E7%8F%A0%E5%A5%B6%E8%8C%B6&sxsrf=ALeKk03IFHCE14mwz0z5yVStCaGHvED-8g:1617364912723&source=lnms&tbm=isch&sa=X&ved=2ahUKEwjZ9eDowd_vAhVgxosBHdTsC_MQ_AUoAXoECAEQAw&biw=1037&bih=1448&dpr=1)"
   ]
  },
  {
   "cell_type": "markdown",
   "id": "shaped-reconstruction",
   "metadata": {
    "slideshow": {
     "slide_type": "subslide"
    }
   },
   "source": [
    "## 以一個常用的文字操作函數 `SUBSTR` 為例"
   ]
  },
  {
   "cell_type": "code",
   "execution_count": 5,
   "id": "pursuant-passport",
   "metadata": {
    "slideshow": {
     "slide_type": "-"
    }
   },
   "outputs": [
    {
     "data": {
      "text/html": [
       "<table>\n",
       "<tr>\n",
       "<th>full_name</th>\n",
       "<th>first_name</th>\n",
       "<th>last_name</th>\n",
       "</tr>\n",
       "<tr>\n",
       "<td>Tony Stark</td>\n",
       "<td>Tony</td>\n",
       "<td>Stark</td>\n",
       "</tr>\n",
       "</table>\n",
       "1 row in set (0.00 sec)"
      ],
      "text/plain": [
       "+------------+------------+-----------+\n",
       "| full_name  | first_name | last_name |\n",
       "+------------+------------+-----------+\n",
       "| Tony Stark | Tony       | Stark     |\n",
       "+------------+------------+-----------+\n",
       "1 row in set (0.00 sec)"
      ]
     },
     "execution_count": 5,
     "metadata": {},
     "output_type": "execute_result"
    }
   ],
   "source": [
    "SELECT 'Tony Stark' AS full_name,\n",
    "       SUBSTR('Tony Stark', 1, 4) AS first_name,\n",
    "       SUBSTR('Tony Stark', 6, 10) AS last_name;"
   ]
  },
  {
   "cell_type": "markdown",
   "id": "lovely-documentation",
   "metadata": {
    "slideshow": {
     "slide_type": "subslide"
    }
   },
   "source": [
    "## 函數可依照功能分為兩大類：\n",
    "\n",
    "- 通用函數（Universal functions）\n",
    "    - 轉換資料類型。\n",
    "    - 計算數值。\n",
    "    - 操作文字。\n",
    "    - 操作日期時間。\n",
    "- 聚合函數（Aggregate functions）"
   ]
  },
  {
   "cell_type": "markdown",
   "id": "complete-breast",
   "metadata": {
    "slideshow": {
     "slide_type": "subslide"
    }
   },
   "source": [
    "## 通用函數與聚合函數的不同在於其所作用的維度\n",
    "\n",
    "- 通用函數作用在「水平」方向。\n",
    "- 聚合函數作用在「垂直」方向。"
   ]
  },
  {
   "cell_type": "markdown",
   "id": "twelve-affair",
   "metadata": {
    "slideshow": {
     "slide_type": "subslide"
    }
   },
   "source": [
    "## 作用在「水平」方向的通用函數\n",
    "\n",
    "效果類似「衍生計算欄位」，差別在於一個是以函數輸出衍生計算欄位，一個則是以運算符生成衍生計算欄位。\n",
    "\n",
    "![mutate](mutate.png)"
   ]
  },
  {
   "cell_type": "markdown",
   "id": "informal-marriage",
   "metadata": {
    "slideshow": {
     "slide_type": "subslide"
    }
   },
   "source": [
    "## 作用在「垂直」方向的聚合函數\n",
    "\n",
    "![aggregate](aggregate.png)"
   ]
  },
  {
   "cell_type": "markdown",
   "id": "announced-wells",
   "metadata": {
    "slideshow": {
     "slide_type": "subslide"
    }
   },
   "source": [
    "## 通用函數的特徵：每個觀測值對應一個輸出"
   ]
  },
  {
   "cell_type": "code",
   "execution_count": 6,
   "id": "written-helicopter",
   "metadata": {},
   "outputs": [
    {
     "data": {
      "text/html": [
       "<table>\n",
       "<tr>\n",
       "<th>heightMeters</th>\n",
       "<th>rounded_height</th>\n",
       "</tr>\n",
       "<tr>\n",
       "<td>2.06</td>\n",
       "<td>2.1</td>\n",
       "</tr>\n",
       "<tr>\n",
       "<td>2.01</td>\n",
       "<td>2.0</td>\n",
       "</tr>\n",
       "<tr>\n",
       "<td>2.03</td>\n",
       "<td>2.0</td>\n",
       "</tr>\n",
       "<tr>\n",
       "<td>2.08</td>\n",
       "<td>2.1</td>\n",
       "</tr>\n",
       "<tr>\n",
       "<td>1.98</td>\n",
       "<td>2.0</td>\n",
       "</tr>\n",
       "</table>\n",
       "5 rows in set (0.00 sec)"
      ],
      "text/plain": [
       "+--------------+----------------+\n",
       "| heightMeters | rounded_height |\n",
       "+--------------+----------------+\n",
       "| 2.06         | 2.1            |\n",
       "+--------------+----------------+\n",
       "| 2.01         | 2.0            |\n",
       "+--------------+----------------+\n",
       "| 2.03         | 2.0            |\n",
       "+--------------+----------------+\n",
       "| 2.08         | 2.1            |\n",
       "+--------------+----------------+\n",
       "| 1.98         | 2.0            |\n",
       "+--------------+----------------+\n",
       "5 rows in set (0.00 sec)"
      ]
     },
     "execution_count": 6,
     "metadata": {},
     "output_type": "execute_result"
    }
   ],
   "source": [
    "SELECT heightMeters,\n",
    "       ROUND(heightMeters, 1) AS rounded_height\n",
    "  FROM players\n",
    " LIMIT 5;"
   ]
  },
  {
   "cell_type": "markdown",
   "id": "naughty-garlic",
   "metadata": {
    "slideshow": {
     "slide_type": "subslide"
    }
   },
   "source": [
    "## 聚合函數的特徵：整欄變數對應一個輸出"
   ]
  },
  {
   "cell_type": "code",
   "execution_count": 7,
   "id": "superb-leone",
   "metadata": {},
   "outputs": [
    {
     "data": {
      "text/html": [
       "<table>\n",
       "<tr>\n",
       "<th>avg_height</th>\n",
       "</tr>\n",
       "<tr>\n",
       "<td>1.989173553719</td>\n",
       "</tr>\n",
       "</table>\n",
       "1 row in set (0.00 sec)"
      ],
      "text/plain": [
       "+----------------+\n",
       "| avg_height     |\n",
       "+----------------+\n",
       "| 1.989173553719 |\n",
       "+----------------+\n",
       "1 row in set (0.00 sec)"
      ]
     },
     "execution_count": 7,
     "metadata": {},
     "output_type": "execute_result"
    }
   ],
   "source": [
    "SELECT AVG(heightMeters) AS avg_height\n",
    "  FROM players;"
   ]
  },
  {
   "cell_type": "markdown",
   "id": "raising-earthquake",
   "metadata": {
    "slideshow": {
     "slide_type": "slide"
    }
   },
   "source": [
    "## 通用函數"
   ]
  },
  {
   "cell_type": "markdown",
   "id": "several-luxembourg",
   "metadata": {
    "slideshow": {
     "slide_type": "subslide"
    }
   },
   "source": [
    "## 常見的通用函數又可以細分為四種類型\n",
    "\n",
    "- 轉換資料類型。\n",
    "- 計算數值。\n",
    "- 操作文字。\n",
    "- 操作日期時間。"
   ]
  },
  {
   "cell_type": "markdown",
   "id": "underlying-contribution",
   "metadata": {
    "slideshow": {
     "slide_type": "subslide"
    }
   },
   "source": [
    "## 通用函數：轉換資料類型"
   ]
  },
  {
   "cell_type": "markdown",
   "id": "friendly-oliver",
   "metadata": {
    "slideshow": {
     "slide_type": "subslide"
    }
   },
   "source": [
    "## 使用 `CAST` 函數可以將查詢結果的資料類型轉換為指定資料類型\n",
    "\n",
    "```sql\n",
    "CAST(data AS data_type)\n",
    "```"
   ]
  },
  {
   "cell_type": "markdown",
   "id": "pregnant-simon",
   "metadata": {
    "slideshow": {
     "slide_type": "subslide"
    }
   },
   "source": [
    "## 面對兩個整數相除所衍生的欄位依然會以整數類型存在的情況\n",
    "\n",
    "舉例來說，計算球員的生涯場均得分要以 `points`、`gamesPlayed` 相除。"
   ]
  },
  {
   "cell_type": "code",
   "execution_count": 8,
   "id": "registered-michigan",
   "metadata": {},
   "outputs": [
    {
     "data": {
      "text/html": [
       "<table>\n",
       "<tr>\n",
       "<th>points_per_game</th>\n",
       "</tr>\n",
       "<tr>\n",
       "<td>27</td>\n",
       "</tr>\n",
       "<tr>\n",
       "<td>23</td>\n",
       "</tr>\n",
       "<tr>\n",
       "<td>7</td>\n",
       "</tr>\n",
       "<tr>\n",
       "<td>16</td>\n",
       "</tr>\n",
       "<tr>\n",
       "<td>11</td>\n",
       "</tr>\n",
       "</table>\n",
       "5 rows in set (0.00 sec)"
      ],
      "text/plain": [
       "+-----------------+\n",
       "| points_per_game |\n",
       "+-----------------+\n",
       "| 27              |\n",
       "+-----------------+\n",
       "| 23              |\n",
       "+-----------------+\n",
       "| 7               |\n",
       "+-----------------+\n",
       "| 16              |\n",
       "+-----------------+\n",
       "| 11              |\n",
       "+-----------------+\n",
       "5 rows in set (0.00 sec)"
      ]
     },
     "execution_count": 8,
     "metadata": {},
     "output_type": "execute_result"
    }
   ],
   "source": [
    "SELECT points / gamesPlayed AS points_per_game -- 可以應用 CAST 函數在分子或分母\n",
    "  FROM career_summaries\n",
    " LIMIT 5;"
   ]
  },
  {
   "cell_type": "markdown",
   "id": "collect-juvenile",
   "metadata": {
    "slideshow": {
     "slide_type": "subslide"
    }
   },
   "source": [
    "## 使用 `COALESCE` 函數可以將空值（或稱遺漏值）轉換為指定常數\n",
    "\n",
    "```sql\n",
    "COALESCE(NULL, replacement)\n",
    "```"
   ]
  },
  {
   "cell_type": "markdown",
   "id": "saved-chambers",
   "metadata": {
    "slideshow": {
     "slide_type": "subslide"
    }
   },
   "source": [
    "## 舉例來說，在 `covid19` 資料庫的 `lookup_table` 資料表中有許多國家沒有詳細到有州、省、縣、郡的資訊"
   ]
  },
  {
   "cell_type": "code",
   "execution_count": 9,
   "id": "brazilian-blake",
   "metadata": {
    "slideshow": {
     "slide_type": "-"
    }
   },
   "outputs": [
    {
     "data": {
      "text/html": [
       "<table>\n",
       "<tr>\n",
       "<th>UID</th>\n",
       "<th>Combined_Key</th>\n",
       "<th>iso2</th>\n",
       "<th>iso3</th>\n",
       "<th>Country_Region</th>\n",
       "<th>Province_State</th>\n",
       "<th>Admin2</th>\n",
       "<th>Lat</th>\n",
       "<th>Long_</th>\n",
       "<th>Population</th>\n",
       "</tr>\n",
       "<tr>\n",
       "<td>4</td>\n",
       "<td>Afghanistan</td>\n",
       "<td>AF</td>\n",
       "<td>AFG</td>\n",
       "<td>Afghanistan</td>\n",
       "<td>NULL</td>\n",
       "<td>NULL</td>\n",
       "<td>33.93911</td>\n",
       "<td>67.709953</td>\n",
       "<td>38928341</td>\n",
       "</tr>\n",
       "<tr>\n",
       "<td>8</td>\n",
       "<td>Albania</td>\n",
       "<td>AL</td>\n",
       "<td>ALB</td>\n",
       "<td>Albania</td>\n",
       "<td>NULL</td>\n",
       "<td>NULL</td>\n",
       "<td>41.1533</td>\n",
       "<td>20.1683</td>\n",
       "<td>2877800</td>\n",
       "</tr>\n",
       "<tr>\n",
       "<td>12</td>\n",
       "<td>Algeria</td>\n",
       "<td>DZ</td>\n",
       "<td>DZA</td>\n",
       "<td>Algeria</td>\n",
       "<td>NULL</td>\n",
       "<td>NULL</td>\n",
       "<td>28.0339</td>\n",
       "<td>1.6596</td>\n",
       "<td>43851043</td>\n",
       "</tr>\n",
       "<tr>\n",
       "<td>16</td>\n",
       "<td>American Samoa, US</td>\n",
       "<td>AS</td>\n",
       "<td>ASM</td>\n",
       "<td>US</td>\n",
       "<td>American Samoa</td>\n",
       "<td>NULL</td>\n",
       "<td>-14.271</td>\n",
       "<td>-170.132</td>\n",
       "<td>55641</td>\n",
       "</tr>\n",
       "<tr>\n",
       "<td>20</td>\n",
       "<td>Andorra</td>\n",
       "<td>AD</td>\n",
       "<td>AND</td>\n",
       "<td>Andorra</td>\n",
       "<td>NULL</td>\n",
       "<td>NULL</td>\n",
       "<td>42.5063</td>\n",
       "<td>1.5218</td>\n",
       "<td>77265</td>\n",
       "</tr>\n",
       "</table>\n",
       "5 rows in set (0.00 sec)"
      ],
      "text/plain": [
       "+-----+--------------------+------+------+----------------+----------------+--------+----------+-----------+------------+\n",
       "| UID | Combined_Key       | iso2 | iso3 | Country_Region | Province_State | Admin2 | Lat      | Long_     | Population |\n",
       "+-----+--------------------+------+------+----------------+----------------+--------+----------+-----------+------------+\n",
       "| 4   | Afghanistan        | AF   | AFG  | Afghanistan    | NULL           | NULL   | 33.93911 | 67.709953 | 38928341   |\n",
       "+-----+--------------------+------+------+----------------+----------------+--------+----------+-----------+------------+\n",
       "| 8   | Albania            | AL   | ALB  | Albania        | NULL           | NULL   | 41.1533  | 20.1683   | 2877800    |\n",
       "+-----+--------------------+------+------+----------------+----------------+--------+----------+-----------+------------+\n",
       "| 12  | Algeria            | DZ   | DZA  | Algeria        | NULL           | NULL   | 28.0339  | 1.6596    | 43851043   |\n",
       "+-----+--------------------+------+------+----------------+----------------+--------+----------+-----------+------------+\n",
       "| 16  | American Samoa, US | AS   | ASM  | US             | American Samoa | NULL   | -14.271  | -170.132  | 55641      |\n",
       "+-----+--------------------+------+------+----------------+----------------+--------+----------+-----------+------------+\n",
       "| 20  | Andorra            | AD   | AND  | Andorra        | NULL           | NULL   | 42.5063  | 1.5218    | 77265      |\n",
       "+-----+--------------------+------+------+----------------+----------------+--------+----------+-----------+------------+\n",
       "5 rows in set (0.00 sec)"
      ]
     },
     "execution_count": 9,
     "metadata": {},
     "output_type": "execute_result"
    }
   ],
   "source": [
    "SELECT * -- 可以應用 COALESCE 函數在 Province_State 或 Admin2\n",
    "  FROM lookup_table\n",
    " LIMIT 5;"
   ]
  },
  {
   "cell_type": "markdown",
   "id": "concrete-summary",
   "metadata": {
    "slideshow": {
     "slide_type": "subslide"
    }
   },
   "source": [
    "## 通用函數：計算數值"
   ]
  },
  {
   "cell_type": "markdown",
   "id": "threaded-trading",
   "metadata": {
    "slideshow": {
     "slide_type": "subslide"
    }
   },
   "source": [
    "## 使用 `ROUND` 函數可以調整查詢結果的小數點位數\n",
    "\n",
    "```sql\n",
    "ROUND(REAL, n_digits)\n",
    "```"
   ]
  },
  {
   "cell_type": "code",
   "execution_count": 10,
   "id": "opposite-westminster",
   "metadata": {
    "slideshow": {
     "slide_type": "-"
    }
   },
   "outputs": [
    {
     "data": {
      "text/html": [
       "<table>\n",
       "<tr>\n",
       "<th>points_per_game</th>\n",
       "</tr>\n",
       "<tr>\n",
       "<td>27.0160796324655</td>\n",
       "</tr>\n",
       "<tr>\n",
       "<td>23.1900684931507</td>\n",
       "</tr>\n",
       "<tr>\n",
       "<td>7.6025641025641</td>\n",
       "</tr>\n",
       "<tr>\n",
       "<td>16.3336206896552</td>\n",
       "</tr>\n",
       "<tr>\n",
       "<td>11.7212276214834</td>\n",
       "</tr>\n",
       "</table>\n",
       "5 rows in set (0.00 sec)"
      ],
      "text/plain": [
       "+------------------+\n",
       "| points_per_game  |\n",
       "+------------------+\n",
       "| 27.0160796324655 |\n",
       "+------------------+\n",
       "| 23.1900684931507 |\n",
       "+------------------+\n",
       "| 7.6025641025641  |\n",
       "+------------------+\n",
       "| 16.3336206896552 |\n",
       "+------------------+\n",
       "| 11.7212276214834 |\n",
       "+------------------+\n",
       "5 rows in set (0.00 sec)"
      ]
     },
     "execution_count": 10,
     "metadata": {},
     "output_type": "execute_result"
    }
   ],
   "source": [
    "SELECT CAST(points AS REAL) / gamesPlayed AS points_per_game -- 可以應用 ROUND 函數\n",
    "  FROM career_summaries\n",
    " LIMIT 5;"
   ]
  },
  {
   "cell_type": "markdown",
   "id": "perceived-rubber",
   "metadata": {
    "slideshow": {
     "slide_type": "subslide"
    }
   },
   "source": [
    "## 通用函數：操作文字"
   ]
  },
  {
   "cell_type": "markdown",
   "id": "sporting-algebra",
   "metadata": {
    "slideshow": {
     "slide_type": "subslide"
    }
   },
   "source": [
    "## 使用 `LENGTH` 函數可以計算文字中有幾個字元，包含空格、標點符號\n",
    "\n",
    "```sql\n",
    "LENGTH(TEXT)\n",
    "```"
   ]
  },
  {
   "cell_type": "code",
   "execution_count": 11,
   "id": "adverse-facing",
   "metadata": {
    "slideshow": {
     "slide_type": "-"
    }
   },
   "outputs": [
    {
     "data": {
      "text/html": [
       "<table>\n",
       "<tr>\n",
       "<th>length_of_first_name</th>\n",
       "<th>length_of_last_name</th>\n",
       "</tr>\n",
       "<tr>\n",
       "<td>LeBron</td>\n",
       "<td>James</td>\n",
       "</tr>\n",
       "<tr>\n",
       "<td>Carmelo</td>\n",
       "<td>Anthony</td>\n",
       "</tr>\n",
       "<tr>\n",
       "<td>Udonis</td>\n",
       "<td>Haslem</td>\n",
       "</tr>\n",
       "<tr>\n",
       "<td>Dwight</td>\n",
       "<td>Howard</td>\n",
       "</tr>\n",
       "<tr>\n",
       "<td>Andre</td>\n",
       "<td>Iguodala</td>\n",
       "</tr>\n",
       "</table>\n",
       "5 rows in set (0.00 sec)"
      ],
      "text/plain": [
       "+----------------------+---------------------+\n",
       "| length_of_first_name | length_of_last_name |\n",
       "+----------------------+---------------------+\n",
       "| LeBron               | James               |\n",
       "+----------------------+---------------------+\n",
       "| Carmelo              | Anthony             |\n",
       "+----------------------+---------------------+\n",
       "| Udonis               | Haslem              |\n",
       "+----------------------+---------------------+\n",
       "| Dwight               | Howard              |\n",
       "+----------------------+---------------------+\n",
       "| Andre                | Iguodala            |\n",
       "+----------------------+---------------------+\n",
       "5 rows in set (0.00 sec)"
      ]
     },
     "execution_count": 11,
     "metadata": {},
     "output_type": "execute_result"
    }
   ],
   "source": [
    "SELECT firstName AS length_of_first_name, -- 可以應用 LENGTH 函數\n",
    "       lastName AS length_of_last_name    -- 可以應用 LENGTH 函數\n",
    "  FROM players\n",
    " LIMIT 5;"
   ]
  },
  {
   "cell_type": "markdown",
   "id": "unnecessary-denmark",
   "metadata": {
    "slideshow": {
     "slide_type": "subslide"
    }
   },
   "source": [
    "## 使用 `SUBSTR` 函數可利用位置將文字中的指定段落擷取出來\n",
    "\n",
    "```sql\n",
    "SUBSTR(TEXT, start, stop)\n",
    "```"
   ]
  },
  {
   "cell_type": "code",
   "execution_count": 12,
   "id": "christian-polymer",
   "metadata": {
    "slideshow": {
     "slide_type": "-"
    }
   },
   "outputs": [
    {
     "data": {
      "text/html": [
       "<table>\n",
       "<tr>\n",
       "<th>city</th>\n",
       "</tr>\n",
       "<tr>\n",
       "<td>Atlanta</td>\n",
       "</tr>\n",
       "<tr>\n",
       "<td>Boston</td>\n",
       "</tr>\n",
       "<tr>\n",
       "<td>Cleveland</td>\n",
       "</tr>\n",
       "</table>\n",
       "3 rows in set (0.00 sec)"
      ],
      "text/plain": [
       "+-----------+\n",
       "| city      |\n",
       "+-----------+\n",
       "| Atlanta   |\n",
       "+-----------+\n",
       "| Boston    |\n",
       "+-----------+\n",
       "| Cleveland |\n",
       "+-----------+\n",
       "3 rows in set (0.00 sec)"
      ]
     },
     "execution_count": 12,
     "metadata": {},
     "output_type": "execute_result"
    }
   ],
   "source": [
    "SELECT city -- 可以應用 SUBSTR 函數\n",
    "  FROM teams\n",
    " LIMIT 3;"
   ]
  },
  {
   "cell_type": "markdown",
   "id": "hawaiian-facial",
   "metadata": {
    "slideshow": {
     "slide_type": "subslide"
    }
   },
   "source": [
    "## 使用 `LOWER` 與 `UPPER` 函數可以調整英文的大小寫\n",
    "\n",
    "```sql\n",
    "LOWER(TEXT)\n",
    "UPPER(TEXT)\n",
    "```"
   ]
  },
  {
   "cell_type": "code",
   "execution_count": 13,
   "id": "enhanced-quest",
   "metadata": {
    "slideshow": {
     "slide_type": "-"
    }
   },
   "outputs": [
    {
     "data": {
      "text/html": [
       "<table>\n",
       "<tr>\n",
       "<th>upper_tricode</th>\n",
       "<th>lower_tricode</th>\n",
       "</tr>\n",
       "<tr>\n",
       "<td>Atl</td>\n",
       "<td>Atl</td>\n",
       "</tr>\n",
       "<tr>\n",
       "<td>Bos</td>\n",
       "<td>Bos</td>\n",
       "</tr>\n",
       "<tr>\n",
       "<td>Cle</td>\n",
       "<td>Cle</td>\n",
       "</tr>\n",
       "</table>\n",
       "3 rows in set (0.00 sec)"
      ],
      "text/plain": [
       "+---------------+---------------+\n",
       "| upper_tricode | lower_tricode |\n",
       "+---------------+---------------+\n",
       "| Atl           | Atl           |\n",
       "+---------------+---------------+\n",
       "| Bos           | Bos           |\n",
       "+---------------+---------------+\n",
       "| Cle           | Cle           |\n",
       "+---------------+---------------+\n",
       "3 rows in set (0.00 sec)"
      ]
     },
     "execution_count": 13,
     "metadata": {},
     "output_type": "execute_result"
    }
   ],
   "source": [
    "SELECT SUBSTR(city, 1, 3) AS upper_tricode, -- 可以應用 UPPER 函數\n",
    "       SUBSTR(city, 1, 3) AS lower_tricode  -- 可以應用 LOWER 函數\n",
    "  FROM teams\n",
    " LIMIT 3;"
   ]
  },
  {
   "cell_type": "markdown",
   "id": "valued-season",
   "metadata": {
    "slideshow": {
     "slide_type": "subslide"
    }
   },
   "source": [
    "## 通用函數：操作日期時間"
   ]
  },
  {
   "cell_type": "markdown",
   "id": "biological-associate",
   "metadata": {
    "slideshow": {
     "slide_type": "subslide"
    }
   },
   "source": [
    "## 標準的日期、時間與日期時間格式\n",
    "\n",
    "- 以 ISO8601 格式為標準\n",
    "- 日期 `YYYY-MM-DD`\n",
    "- 時間 `HH:MM:SS`\n",
    "- 日期時間 `YYYY-MM-DD HH:MM:SS`"
   ]
  },
  {
   "cell_type": "markdown",
   "id": "norwegian-scenario",
   "metadata": {
    "slideshow": {
     "slide_type": "subslide"
    }
   },
   "source": [
    "## 使用 `STRFTIME` 函數調整日期、時間或日期時間的顯示格式\n",
    "\n",
    "```sql\n",
    "STRFTIME(format, DATE/TIME/DATETIME)\n",
    "```"
   ]
  },
  {
   "cell_type": "markdown",
   "id": "demanding-mandate",
   "metadata": {
    "slideshow": {
     "slide_type": "subslide"
    }
   },
   "source": [
    "## 常見的日期與日期時間格式參數\n",
    "\n",
    "- `%d`：二位數的日（01-31）\n",
    "- `%j`：一年中的第幾天（001-366）\n",
    "- `%m`：二位數的月（01-12）\n",
    "- `%w`：一星期中的第幾天（0-6）\n",
    "- `%W`：一年中的第幾週（00-53）\n",
    "- `%Y`：四位數的年（0000-9999）"
   ]
  },
  {
   "cell_type": "code",
   "execution_count": 14,
   "id": "planned-shade",
   "metadata": {
    "slideshow": {
     "slide_type": "subslide"
    }
   },
   "outputs": [
    {
     "data": {
      "text/html": [
       "<table>\n",
       "<tr>\n",
       "<th>Last_Update</th>\n",
       "<th>day_part</th>\n",
       "<th>year_day_format</th>\n",
       "<th>month_part</th>\n",
       "<th>weekday</th>\n",
       "<th>nth_week</th>\n",
       "<th>year_part</th>\n",
       "</tr>\n",
       "<tr>\n",
       "<td>2021-04-01 04:27:05</td>\n",
       "<td>01</td>\n",
       "<td>091</td>\n",
       "<td>04</td>\n",
       "<td>4</td>\n",
       "<td>13</td>\n",
       "<td>2021</td>\n",
       "</tr>\n",
       "</table>\n",
       "1 row in set (0.00 sec)"
      ],
      "text/plain": [
       "+---------------------+----------+-----------------+------------+---------+----------+-----------+\n",
       "| Last_Update         | day_part | year_day_format | month_part | weekday | nth_week | year_part |\n",
       "+---------------------+----------+-----------------+------------+---------+----------+-----------+\n",
       "| 2021-04-01 04:27:05 | 01       | 091             | 04         | 4       | 13       | 2021      |\n",
       "+---------------------+----------+-----------------+------------+---------+----------+-----------+\n",
       "1 row in set (0.00 sec)"
      ]
     },
     "execution_count": 14,
     "metadata": {},
     "output_type": "execute_result"
    }
   ],
   "source": [
    "SELECT Last_Update,\n",
    "       STRFTIME('%d', Last_Update) AS day_part,\n",
    "       STRFTIME('%j', Last_Update) AS year_day_format,\n",
    "       STRFTIME('%m', Last_Update) AS month_part,\n",
    "       STRFTIME('%w', Last_Update) AS weekday,\n",
    "       STRFTIME('%W', Last_Update) AS nth_week,\n",
    "       STRFTIME('%Y', Last_Update) AS year_part\n",
    "  FROM daily_report\n",
    " LIMIT 1;"
   ]
  },
  {
   "cell_type": "markdown",
   "id": "under-raleigh",
   "metadata": {
    "slideshow": {
     "slide_type": "subslide"
    }
   },
   "source": [
    "## SQLite 通用函數與操作日期時間函數的官方文件\n",
    "\n",
    "- [Built-In Scalar SQL Functions](https://www.sqlite.org/lang_corefunc.html)\n",
    "- [Date And Time Functions](https://www.sqlite.org/lang_datefunc.html)"
   ]
  },
  {
   "cell_type": "markdown",
   "id": "pleasant-dynamics",
   "metadata": {
    "slideshow": {
     "slide_type": "slide"
    }
   },
   "source": [
    "## 聚合函數"
   ]
  },
  {
   "cell_type": "markdown",
   "id": "welcome-wales",
   "metadata": {
    "slideshow": {
     "slide_type": "subslide"
    }
   },
   "source": [
    "## 常見的聚合函數\n",
    "\n",
    "- `AVG(column_name)`：計算變數的平均數\n",
    "- `COUNT(column_name)`：計算變數的「非」遺漏值數\n",
    "- `COUNT(*)`：計算資料表的觀測值數\n",
    "- `MAX(column_name)`：計算變數的最大值\n",
    "- `MIN(column_name)`：計算變數的最小值\n",
    "- `SUM(column_name)`：計算變數的加總"
   ]
  },
  {
   "cell_type": "code",
   "execution_count": 15,
   "id": "announced-masters",
   "metadata": {
    "slideshow": {
     "slide_type": "subslide"
    }
   },
   "outputs": [
    {
     "data": {
      "text/html": [
       "<table>\n",
       "<tr>\n",
       "<th>avg_confirmed</th>\n",
       "</tr>\n",
       "<tr>\n",
       "<td>32359.3908565687</td>\n",
       "</tr>\n",
       "</table>\n",
       "1 row in set (0.01 sec)"
      ],
      "text/plain": [
       "+------------------+\n",
       "| avg_confirmed    |\n",
       "+------------------+\n",
       "| 32359.3908565687 |\n",
       "+------------------+\n",
       "1 row in set (0.01 sec)"
      ]
     },
     "execution_count": 15,
     "metadata": {},
     "output_type": "execute_result"
    }
   ],
   "source": [
    "SELECT AVG(Confirmed) AS avg_confirmed\n",
    "  FROM daily_report;"
   ]
  },
  {
   "cell_type": "code",
   "execution_count": 16,
   "id": "exposed-paraguay",
   "metadata": {
    "slideshow": {
     "slide_type": "subslide"
    }
   },
   "outputs": [
    {
     "data": {
      "text/html": [
       "<table>\n",
       "<tr>\n",
       "<th>number_of_states</th>\n",
       "</tr>\n",
       "<tr>\n",
       "<td>3981</td>\n",
       "</tr>\n",
       "</table>\n",
       "1 row in set (0.01 sec)"
      ],
      "text/plain": [
       "+------------------+\n",
       "| number_of_states |\n",
       "+------------------+\n",
       "| 3981             |\n",
       "+------------------+\n",
       "1 row in set (0.01 sec)"
      ]
     },
     "execution_count": 16,
     "metadata": {},
     "output_type": "execute_result"
    }
   ],
   "source": [
    "SELECT COUNT(Province_State) AS number_of_states\n",
    "  FROM lookup_table;"
   ]
  },
  {
   "cell_type": "code",
   "execution_count": 17,
   "id": "becoming-mumbai",
   "metadata": {
    "slideshow": {
     "slide_type": "subslide"
    }
   },
   "outputs": [
    {
     "data": {
      "text/html": [
       "<table>\n",
       "<tr>\n",
       "<th>number_of_rows</th>\n",
       "</tr>\n",
       "<tr>\n",
       "<td>4175</td>\n",
       "</tr>\n",
       "</table>\n",
       "1 row in set (0.00 sec)"
      ],
      "text/plain": [
       "+----------------+\n",
       "| number_of_rows |\n",
       "+----------------+\n",
       "| 4175           |\n",
       "+----------------+\n",
       "1 row in set (0.00 sec)"
      ]
     },
     "execution_count": 17,
     "metadata": {},
     "output_type": "execute_result"
    }
   ],
   "source": [
    "SELECT COUNT(*) AS number_of_rows\n",
    "  FROM lookup_table;"
   ]
  },
  {
   "cell_type": "code",
   "execution_count": 18,
   "id": "correct-canadian",
   "metadata": {
    "slideshow": {
     "slide_type": "subslide"
    }
   },
   "outputs": [
    {
     "data": {
      "text/html": [
       "<table>\n",
       "<tr>\n",
       "<th>max_confirmed</th>\n",
       "</tr>\n",
       "<tr>\n",
       "<td>4611392</td>\n",
       "</tr>\n",
       "</table>\n",
       "1 row in set (0.00 sec)"
      ],
      "text/plain": [
       "+---------------+\n",
       "| max_confirmed |\n",
       "+---------------+\n",
       "| 4611392       |\n",
       "+---------------+\n",
       "1 row in set (0.00 sec)"
      ]
     },
     "execution_count": 18,
     "metadata": {},
     "output_type": "execute_result"
    }
   ],
   "source": [
    "SELECT MAX(Confirmed) AS max_confirmed\n",
    "  FROM daily_report;"
   ]
  },
  {
   "cell_type": "code",
   "execution_count": 19,
   "id": "heated-timeline",
   "metadata": {
    "slideshow": {
     "slide_type": "subslide"
    }
   },
   "outputs": [
    {
     "data": {
      "text/html": [
       "<table>\n",
       "<tr>\n",
       "<th>min_confirmed</th>\n",
       "</tr>\n",
       "<tr>\n",
       "<td>0</td>\n",
       "</tr>\n",
       "</table>\n",
       "1 row in set (0.00 sec)"
      ],
      "text/plain": [
       "+---------------+\n",
       "| min_confirmed |\n",
       "+---------------+\n",
       "| 0             |\n",
       "+---------------+\n",
       "1 row in set (0.00 sec)"
      ]
     },
     "execution_count": 19,
     "metadata": {},
     "output_type": "execute_result"
    }
   ],
   "source": [
    "SELECT MIN(Confirmed) AS min_confirmed\n",
    "  FROM daily_report;"
   ]
  },
  {
   "cell_type": "markdown",
   "id": "solid-conditioning",
   "metadata": {
    "slideshow": {
     "slide_type": "subslide"
    }
   },
   "source": [
    "## SQLite 聚合函數的官方文件\n",
    "\n",
    "[Built-in Aggregate Functions](https://www.sqlite.org/lang_aggfunc.html)"
   ]
  },
  {
   "cell_type": "markdown",
   "id": "understanding-sudan",
   "metadata": {
    "slideshow": {
     "slide_type": "slide"
    }
   },
   "source": [
    "## 重點統整\n",
    "\n",
    "- 函數是預先被定義好的運算處理邏輯，能夠將「輸入」對應為「輸出」。\n",
    "- 函數依照功能區分有兩大類，兩者的差別在於作用的維度不同。\n",
    "    - 通用函數作用在「水平」方向。\n",
    "    - 聚合函數則作用在「垂直」方向。"
   ]
  },
  {
   "cell_type": "markdown",
   "id": "strategic-poverty",
   "metadata": {
    "slideshow": {
     "slide_type": "subslide"
    }
   },
   "source": [
    "## 重點統整（續）\n",
    "\n",
    "- 通用函數（Universal functions）\n",
    "    - 轉換資料類型。\n",
    "    - 計算數值。\n",
    "    - 操作文字。\n",
    "    - 操作日期時間。\n",
    "- 聚合函數（Aggregate functions）"
   ]
  },
  {
   "cell_type": "markdown",
   "id": "structured-thomson",
   "metadata": {
    "slideshow": {
     "slide_type": "subslide"
    }
   },
   "source": [
    "```sql\n",
    "/*\n",
    "截至目前學起來的 SQL 有哪些？\n",
    "SQL 寫作順序必須遵從標準 SQL 的規定。\n",
    "*/\n",
    "SELECT column_names  -- 選擇哪些欄位\n",
    "  FROM table_name    -- 從哪個資料庫的資料表\n",
    " LIMIT m;            -- 查詢結果顯示前 m 列就好\n",
    "```"
   ]
  }
 ],
 "metadata": {
  "celltoolbar": "Slideshow",
  "kernelspec": {
   "display_name": "xsql",
   "language": "sqlite",
   "name": "xsql"
  },
  "language_info": {
   "codemirror_mode": "sql",
   "file_extension": "",
   "mimetype": "",
   "name": "mysql",
   "version": "0.0.8"
  }
 },
 "nbformat": 4,
 "nbformat_minor": 5
}
