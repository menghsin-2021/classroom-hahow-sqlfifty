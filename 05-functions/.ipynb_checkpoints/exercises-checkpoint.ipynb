{
 "cells": [
  {
   "cell_type": "markdown",
   "metadata": {
    "deletable": false,
    "editable": false
   },
   "source": [
    "# SQL 的五十道練習\n",
    "\n",
    "> 函數\n",
    "\n",
    "[數據交點](https://www.datainpoint.com) | 郭耀仁 <yaojenkuo@datainpoint.com>"
   ]
  },
  {
   "cell_type": "markdown",
   "metadata": {
    "deletable": false,
    "editable": false
   },
   "source": [
    "## 練習題指引\n",
    "\n",
    "- 在每份練習題的開始，都會先將四個學習資料庫載入環境。\n",
    "- 因此 SQL 可以指定四個學習資料庫中的資料表，不需要額外指定資料庫。\n",
    "- 在 SQL 語法起點與 SQL 語法終點這兩個單行註解之間撰寫能夠得到預期結果的 SQL。\n",
    "- 可以先在自己電腦的 SQLiteStudio 或者 DBeaver 寫出跟預期結果相同的 SQL 後再複製貼上到練習題。\n",
    "- 執行測試的方式為點選上方選單的 Kernel -> Restart & Run All -> Restart and Run All Cells。\n",
    "- 可以每寫一題就執行測試，也可以全部寫完再執行測試。\n",
    "- 練習題閒置超過 10 分鐘會自動斷線，這時只要重新點選練習題連結即可重新啟動。"
   ]
  },
  {
   "cell_type": "code",
   "execution_count": 2,
   "metadata": {
    "deletable": false,
    "editable": false
   },
   "outputs": [
    {
     "data": {
      "text/plain": [
       "<sqlite3.Cursor at 0x22924f47030>"
      ]
     },
     "execution_count": 2,
     "metadata": {},
     "output_type": "execute_result"
    }
   ],
   "source": [
    "import sqlite3\n",
    "import unittest\n",
    "import json\n",
    "import os\n",
    "import numpy as np\n",
    "import pandas as pd\n",
    "conn = sqlite3.connect('../databases/nba.db')\n",
    "conn.execute(\"\"\"ATTACH '../databases/covid19.db' AS covid19\"\"\")\n",
    "conn.execute(\"\"\"ATTACH '../databases/twElection2020.db' AS twElection2020\"\"\")\n",
    "conn.execute(\"\"\"ATTACH '../databases/imdb.db' AS imdb\"\"\")"
   ]
  },
  {
   "cell_type": "markdown",
   "metadata": {},
   "source": [
    "## 09. 從 `nba` 資料庫的 `players` 資料表依據 `heightMeters`、`weightKilograms` 以及下列公式衍生計算欄位 `bmi`，並使用 `ROUND` 函數將 `bmi` 的小數點位數調整為 2 位，參考下列的預期查詢結果。\n",
    "\n",
    "\\begin{equation}\n",
    "BMI = \\frac{weight_{kg}}{height_{m}^2}\n",
    "\\end{equation}\n",
    "\n",
    "- 預期輸入：SQL 查詢語法。\n",
    "- 預期輸出：(484, 3) 的查詢結果。\n",
    "\n",
    "```\n",
    "     heightMeters  weightKilograms    bmi\n",
    "0            2.06            113.4  26.72\n",
    "1            2.01            108.0  26.73\n",
    "2            2.03            106.6  25.87\n",
    "3            2.08            120.2  27.78\n",
    "4            1.98             97.5  24.87\n",
    "..            ...              ...    ...\n",
    "479          2.01            104.3  25.82\n",
    "480          2.08            106.1  24.52\n",
    "481          1.78             88.5  27.93\n",
    "482          1.98             90.7  23.14\n",
    "483          1.96             83.9  21.84\n",
    "\n",
    "[484 rows x 3 columns]\n",
    "```"
   ]
  },
  {
   "cell_type": "code",
   "execution_count": 3,
   "metadata": {},
   "outputs": [],
   "source": [
    "calculate_rounded_bmi_from_players =\\\n",
    "\"\"\"\n",
    "-- SQL 查詢語法起點\n",
    "SELECT heightMeters,\n",
    "       weightKilograms,\n",
    "       ROUND(weightKilograms / heightMeters / heightMeters, 2) AS bmi\n",
    "  FROM players\n",
    "-- SQL 查詢語法終點\n",
    "\"\"\""
   ]
  },
  {
   "cell_type": "markdown",
   "metadata": {},
   "source": [
    "## 10. 從 `nba` 資料庫的 `career_summaries` 資料表中依據 `assists`、`turnovers` 欄位以及下列公式衍生計算助攻失誤比，使用 `CAST` 函數讓衍生計算欄位的資料類型為浮點數 `REAL`，參考下列的預期查詢結果。\n",
    "\n",
    "\\begin{equation}\n",
    "\\text{Assists Turnover Ratio} = \\frac{Assists}{Turnovers}\n",
    "\\end{equation}\n",
    "\n",
    "PS 在練習題預期的查詢結果看到 `NaN` 或者 `None` 代表的就是遺漏值 `NULL`。\n",
    "\n",
    "- 預期輸入：SQL 查詢語法。\n",
    "- 預期輸出：(484, 3) 的查詢結果。\n",
    "\n",
    "```\n",
    "     assists  turnovers  assist_turnover_ratio\n",
    "0     9669.0     4576.0               2.112981\n",
    "1     3327.0     2981.0               1.116068\n",
    "2      729.0      804.0               0.906716\n",
    "3     1615.0     3225.0               0.500775\n",
    "4     4965.0     2180.0               2.277523\n",
    "..       ...        ...                    ...\n",
    "479      4.0        3.0               1.333333\n",
    "480      0.0        1.0               0.000000\n",
    "481    112.0       39.0               2.871795\n",
    "482      1.0        0.0                    NaN\n",
    "483     12.0        7.0               1.714286\n",
    "\n",
    "[484 rows x 3 columns]\n",
    "```"
   ]
  },
  {
   "cell_type": "code",
   "execution_count": 5,
   "metadata": {},
   "outputs": [],
   "source": [
    "calculate_ast_to_ratio_from_career_summaries =\\\n",
    "\"\"\"\n",
    "-- SQL 查詢語法起點\n",
    "SELECT assists,\n",
    "        turnovers,\n",
    "        CAST(assists AS REAL) / turnovers AS assist_turnover_ratio\n",
    "  FROM career_summaries\n",
    "-- SQL 查詢語法終點\n",
    "\"\"\""
   ]
  },
  {
   "cell_type": "markdown",
   "metadata": {},
   "source": [
    "## 11. 從 `covid19` 資料庫的 `time_series` 資料表依據 `Date` 變數，使用 `STRFTIME` 函數查詢時間序列資料有哪些不重複的月份，參考下列的預期查詢結果。\n",
    "\n",
    "- 預期輸入：SQL 查詢語法。\n",
    "- 預期輸出：(15, 1) 的查詢結果。\n",
    "\n",
    "```\n",
    "   distinct_year_month\n",
    "0              2020-01\n",
    "1              2020-02\n",
    "2              2020-03\n",
    "3              2020-04\n",
    "4              2020-05\n",
    "5              2020-06\n",
    "6              2020-07\n",
    "7              2020-08\n",
    "8              2020-09\n",
    "9              2020-10\n",
    "10             2020-11\n",
    "11             2020-12\n",
    "12             2021-01\n",
    "13             2021-02\n",
    "14             2021-03\n",
    "```"
   ]
  },
  {
   "cell_type": "code",
   "execution_count": 7,
   "metadata": {},
   "outputs": [],
   "source": [
    "find_distinct_year_month_from_time_series =\\\n",
    "\"\"\"\n",
    "-- SQL 查詢語法起點\n",
    "SELECT DISTINCT STRFTIME('%Y-%m', Date) AS distinct_yeat_month\n",
    "  FROM time_series\n",
    "-- SQL 查詢語法終點\n",
    "\"\"\""
   ]
  },
  {
   "cell_type": "markdown",
   "metadata": {},
   "source": [
    "## 12. 從 `twElection2020` 資料庫的 `presidential` 資料表利用聚合函數彙總有多少人參與了總統副總統的投票選舉，參考下列的預期查詢結果。\n",
    "\n",
    "- 預期輸入：SQL 查詢語法。\n",
    "- 預期輸出：(1, 1) 的查詢結果。\n",
    "\n",
    "```\n",
    "   total_presidential_votes\n",
    "0                  14300940\n",
    "```"
   ]
  },
  {
   "cell_type": "code",
   "execution_count": 9,
   "metadata": {},
   "outputs": [],
   "source": [
    "summarize_total_votes_from_presidential =\\\n",
    "\"\"\"\n",
    "-- SQL 查詢語法起點\n",
    "SELECT SUM(votes) AS total_presidential_votes\n",
    "  FROM presidential\n",
    "\n",
    "-- SQL 查詢語法終點\n",
    "\"\"\""
   ]
  },
  {
   "cell_type": "markdown",
   "metadata": {},
   "source": [
    "## 13. 從 `covid19` 資料庫的 `daily_report` 資料表利用聚合函數彙總截至 2021-03-31 全世界總確診數、總痊癒數以及總死亡數，參考下列的預期查詢結果。\n",
    "\n",
    "- 預期輸入：SQL 查詢語法。\n",
    "- 預期輸出：(1, 3) 的查詢結果。\n",
    "\n",
    "```\n",
    "   total_confirmed  total_recovered  total_deaths\n",
    "0        128822735         73070921       2815166\n",
    "```"
   ]
  },
  {
   "cell_type": "code",
   "execution_count": 11,
   "metadata": {},
   "outputs": [],
   "source": [
    "summarize_totals_from_daily_report =\\\n",
    "\"\"\"\n",
    "-- SQL 查詢語法起點\n",
    "SELECT SUM(Confirmed) AS total_confirmed,\n",
    "        SUM(Recovered) AS total_recovered,\n",
    "        SUM(Deaths) AS total_deaths\n",
    "  FROM daily_report\n",
    "\n",
    "-- SQL 查詢語法終點\n",
    "\"\"\""
   ]
  },
  {
   "cell_type": "markdown",
   "metadata": {
    "deletable": false,
    "editable": false
   },
   "source": [
    "## 執行測試！\n",
    "\n",
    "Kernel -> Restart & Run All -> Restart and Run All Cells."
   ]
  },
  {
   "cell_type": "code",
   "execution_count": 7,
   "metadata": {
    "deletable": false,
    "editable": false
   },
   "outputs": [
    {
     "name": "stderr",
     "output_type": "stream",
     "text": [
      "test_09_calculate_rounded_bmi_from_players (__main__.TestFunctions) ... ERROR\n",
      "test_10_calculate_ast_to_ratio_from_career_summaries (__main__.TestFunctions) ... ERROR\n",
      "test_11_find_distinct_year_month_from_time_series (__main__.TestFunctions) ... ERROR\n",
      "test_12_summarize_total_votes_from_presidential (__main__.TestFunctions) ... ERROR\n",
      "test_13_summarize_totals_from_daily_report (__main__.TestFunctions) ... ERROR\n",
      "\n",
      "======================================================================\n",
      "ERROR: test_09_calculate_rounded_bmi_from_players (__main__.TestFunctions)\n",
      "----------------------------------------------------------------------\n",
      "Traceback (most recent call last):\n",
      "  File \"<ipython-input-7-b8bfb7b6b6fb>\", line 3, in test_09_calculate_rounded_bmi_from_players\n",
      "    rounded_bmi_from_players = pd.read_sql(calculate_rounded_bmi_from_players, conn)\n",
      "  File \"/Users/kuoyaojen/pyda/lib/python3.6/site-packages/pandas/io/sql.py\", line 489, in read_sql\n",
      "    chunksize=chunksize,\n",
      "  File \"/Users/kuoyaojen/pyda/lib/python3.6/site-packages/pandas/io/sql.py\", line 1728, in read_query\n",
      "    columns = [col_desc[0] for col_desc in cursor.description]\n",
      "TypeError: 'NoneType' object is not iterable\n",
      "\n",
      "======================================================================\n",
      "ERROR: test_10_calculate_ast_to_ratio_from_career_summaries (__main__.TestFunctions)\n",
      "----------------------------------------------------------------------\n",
      "Traceback (most recent call last):\n",
      "  File \"<ipython-input-7-b8bfb7b6b6fb>\", line 9, in test_10_calculate_ast_to_ratio_from_career_summaries\n",
      "    ast_to_ratio_from_career_summaries = pd.read_sql(calculate_ast_to_ratio_from_career_summaries, conn)\n",
      "  File \"/Users/kuoyaojen/pyda/lib/python3.6/site-packages/pandas/io/sql.py\", line 489, in read_sql\n",
      "    chunksize=chunksize,\n",
      "  File \"/Users/kuoyaojen/pyda/lib/python3.6/site-packages/pandas/io/sql.py\", line 1728, in read_query\n",
      "    columns = [col_desc[0] for col_desc in cursor.description]\n",
      "TypeError: 'NoneType' object is not iterable\n",
      "\n",
      "======================================================================\n",
      "ERROR: test_11_find_distinct_year_month_from_time_series (__main__.TestFunctions)\n",
      "----------------------------------------------------------------------\n",
      "Traceback (most recent call last):\n",
      "  File \"<ipython-input-7-b8bfb7b6b6fb>\", line 14, in test_11_find_distinct_year_month_from_time_series\n",
      "    distinct_year_month_from_time_series = pd.read_sql(find_distinct_year_month_from_time_series, conn)\n",
      "  File \"/Users/kuoyaojen/pyda/lib/python3.6/site-packages/pandas/io/sql.py\", line 489, in read_sql\n",
      "    chunksize=chunksize,\n",
      "  File \"/Users/kuoyaojen/pyda/lib/python3.6/site-packages/pandas/io/sql.py\", line 1728, in read_query\n",
      "    columns = [col_desc[0] for col_desc in cursor.description]\n",
      "TypeError: 'NoneType' object is not iterable\n",
      "\n",
      "======================================================================\n",
      "ERROR: test_12_summarize_total_votes_from_presidential (__main__.TestFunctions)\n",
      "----------------------------------------------------------------------\n",
      "Traceback (most recent call last):\n",
      "  File \"<ipython-input-7-b8bfb7b6b6fb>\", line 20, in test_12_summarize_total_votes_from_presidential\n",
      "    total_votes_from_presidential = pd.read_sql(summarize_total_votes_from_presidential, conn)\n",
      "  File \"/Users/kuoyaojen/pyda/lib/python3.6/site-packages/pandas/io/sql.py\", line 489, in read_sql\n",
      "    chunksize=chunksize,\n",
      "  File \"/Users/kuoyaojen/pyda/lib/python3.6/site-packages/pandas/io/sql.py\", line 1728, in read_query\n",
      "    columns = [col_desc[0] for col_desc in cursor.description]\n",
      "TypeError: 'NoneType' object is not iterable\n",
      "\n",
      "======================================================================\n",
      "ERROR: test_13_summarize_totals_from_daily_report (__main__.TestFunctions)\n",
      "----------------------------------------------------------------------\n",
      "Traceback (most recent call last):\n",
      "  File \"<ipython-input-7-b8bfb7b6b6fb>\", line 25, in test_13_summarize_totals_from_daily_report\n",
      "    totals_from_daily_report = pd.read_sql(summarize_totals_from_daily_report, conn)\n",
      "  File \"/Users/kuoyaojen/pyda/lib/python3.6/site-packages/pandas/io/sql.py\", line 489, in read_sql\n",
      "    chunksize=chunksize,\n",
      "  File \"/Users/kuoyaojen/pyda/lib/python3.6/site-packages/pandas/io/sql.py\", line 1728, in read_query\n",
      "    columns = [col_desc[0] for col_desc in cursor.description]\n",
      "TypeError: 'NoneType' object is not iterable\n",
      "\n",
      "----------------------------------------------------------------------\n",
      "Ran 5 tests in 0.177s\n",
      "\n",
      "FAILED (errors=5)\n"
     ]
    }
   ],
   "source": [
    "class TestFunctions(unittest.TestCase):\n",
    "    def test_09_calculate_rounded_bmi_from_players(self):\n",
    "        rounded_bmi_from_players = pd.read_sql(calculate_rounded_bmi_from_players, conn)\n",
    "        self.assertEqual(rounded_bmi_from_players.shape, (484, 3))\n",
    "        column_values = rounded_bmi_from_players.iloc[:, 2].values\n",
    "        first_value = str(column_values[0])\n",
    "        self.assertTrue(len(first_value) == 5)\n",
    "    def test_10_calculate_ast_to_ratio_from_career_summaries(self):\n",
    "        ast_to_ratio_from_career_summaries = pd.read_sql(calculate_ast_to_ratio_from_career_summaries, conn)\n",
    "        self.assertEqual(ast_to_ratio_from_career_summaries.shape, (484, 3))\n",
    "        variable_dtype = str(ast_to_ratio_from_career_summaries.iloc[:, 2].dtype)\n",
    "        self.assertEqual(variable_dtype, 'float64')     \n",
    "    def test_11_find_distinct_year_month_from_time_series(self):\n",
    "        distinct_year_month_from_time_series = pd.read_sql(find_distinct_year_month_from_time_series, conn)\n",
    "        self.assertEqual(distinct_year_month_from_time_series.shape, (15, 1))\n",
    "        column_values = set(distinct_year_month_from_time_series.iloc[:, 0].values)\n",
    "        self.assertTrue('2020-01' in column_values)\n",
    "        self.assertTrue('2021-03' in column_values)\n",
    "    def test_12_summarize_total_votes_from_presidential(self):\n",
    "        total_votes_from_presidential = pd.read_sql(summarize_total_votes_from_presidential, conn)\n",
    "        self.assertEqual(total_votes_from_presidential.shape, (1, 1))\n",
    "        column_value = total_votes_from_presidential.iloc[0, 0]\n",
    "        self.assertEqual(column_value, 14300940)\n",
    "    def test_13_summarize_totals_from_daily_report(self):\n",
    "        totals_from_daily_report = pd.read_sql(summarize_totals_from_daily_report, conn)\n",
    "        self.assertEqual(totals_from_daily_report.shape, (1, 3))\n",
    "        row_values = set(totals_from_daily_report.iloc[0, :].values)\n",
    "        self.assertTrue(128822735 in row_values)\n",
    "        self.assertTrue(73070921 in row_values)\n",
    "        self.assertTrue(2815166 in row_values)\n",
    "        \n",
    "suite = unittest.TestLoader().loadTestsFromTestCase(TestFunctions)\n",
    "runner = unittest.TextTestRunner(verbosity=2)\n",
    "test_results = runner.run(suite)\n",
    "number_of_failures = len(test_results.failures)\n",
    "number_of_errors = len(test_results.errors)\n",
    "number_of_test_runs = test_results.testsRun\n",
    "number_of_successes = number_of_test_runs - (number_of_failures + number_of_errors)\n",
    "cwd = os.getcwd()\n",
    "folder_name = cwd.split(\"/\")[-1]\n",
    "with open(\"../exercise_index.json\", \"r\") as content:\n",
    "    exercise_index = json.load(content)\n",
    "chapter_name = exercise_index[folder_name]"
   ]
  },
  {
   "cell_type": "code",
   "execution_count": 12,
   "metadata": {},
   "outputs": [
    {
     "name": "stderr",
     "output_type": "stream",
     "text": [
      "test_09_calculate_rounded_bmi_from_players (__main__.TestFunctions) ... ok\n",
      "test_10_calculate_ast_to_ratio_from_career_summaries (__main__.TestFunctions) ... ok\n",
      "test_11_find_distinct_year_month_from_time_series (__main__.TestFunctions) ... ok\n",
      "test_12_summarize_total_votes_from_presidential (__main__.TestFunctions) ... ok\n",
      "test_13_summarize_totals_from_daily_report (__main__.TestFunctions) ... "
     ]
    },
    {
     "name": "stdout",
     "output_type": "stream",
     "text": [
      "D:\\coding\\classroom-hahow-sqlfifty\\05-functions\n",
      "05-functions\n"
     ]
    },
    {
     "name": "stderr",
     "output_type": "stream",
     "text": [
      "ok\n",
      "\n",
      "----------------------------------------------------------------------\n",
      "Ran 5 tests in 0.320s\n",
      "\n",
      "OK\n"
     ]
    }
   ],
   "source": [
    "class TestFunctions(unittest.TestCase):\n",
    "    def test_09_calculate_rounded_bmi_from_players(self):\n",
    "        rounded_bmi_from_players = pd.read_sql(calculate_rounded_bmi_from_players, conn)\n",
    "        self.assertEqual(rounded_bmi_from_players.shape, (484, 3))\n",
    "        column_values = rounded_bmi_from_players.iloc[:, 2].values\n",
    "        first_value = str(column_values[0])\n",
    "        self.assertTrue(len(first_value) == 5)\n",
    "    def test_10_calculate_ast_to_ratio_from_career_summaries(self):\n",
    "        ast_to_ratio_from_career_summaries = pd.read_sql(calculate_ast_to_ratio_from_career_summaries, conn)\n",
    "        self.assertEqual(ast_to_ratio_from_career_summaries.shape, (484, 3))\n",
    "        variable_dtype = str(ast_to_ratio_from_career_summaries.iloc[:, 2].dtype)\n",
    "        self.assertEqual(variable_dtype, 'float64')     \n",
    "    def test_11_find_distinct_year_month_from_time_series(self):\n",
    "        distinct_year_month_from_time_series = pd.read_sql(find_distinct_year_month_from_time_series, conn)\n",
    "        self.assertEqual(distinct_year_month_from_time_series.shape, (15, 1))\n",
    "        column_values = set(distinct_year_month_from_time_series.iloc[:, 0].values)\n",
    "        self.assertTrue('2020-01' in column_values)\n",
    "        self.assertTrue('2021-03' in column_values)\n",
    "    def test_12_summarize_total_votes_from_presidential(self):\n",
    "        total_votes_from_presidential = pd.read_sql(summarize_total_votes_from_presidential, conn)\n",
    "        self.assertEqual(total_votes_from_presidential.shape, (1, 1))\n",
    "        column_value = total_votes_from_presidential.iloc[0, 0]\n",
    "        self.assertEqual(column_value, 14300940)\n",
    "    def test_13_summarize_totals_from_daily_report(self):\n",
    "        totals_from_daily_report = pd.read_sql(summarize_totals_from_daily_report, conn)\n",
    "        self.assertEqual(totals_from_daily_report.shape, (1, 3))\n",
    "        row_values = set(totals_from_daily_report.iloc[0, :].values)\n",
    "        self.assertTrue(128822735 in row_values)\n",
    "        self.assertTrue(73070921 in row_values)\n",
    "        self.assertTrue(2815166 in row_values)\n",
    "        \n",
    "suite = unittest.TestLoader().loadTestsFromTestCase(TestFunctions)\n",
    "runner = unittest.TextTestRunner(verbosity=2)\n",
    "test_results = runner.run(suite)\n",
    "number_of_failures = len(test_results.failures)\n",
    "number_of_errors = len(test_results.errors)\n",
    "number_of_test_runs = test_results.testsRun\n",
    "number_of_successes = number_of_test_runs - (number_of_failures + number_of_errors)\n",
    "cwd = os.getcwd()\n",
    "print(cwd)\n",
    "folder_name = cwd.split(\"\\\\\")[-1]\n",
    "print(folder_name)\n",
    "with open(\"../exercise_index.json\", \"r\",encoding=\"utf-8\") as content:\n",
    "    exercise_index = json.load(content)\n",
    "chapter_name = exercise_index[folder_name]"
   ]
  },
  {
   "cell_type": "code",
   "execution_count": 13,
   "metadata": {
    "deletable": false,
    "editable": false
   },
   "outputs": [
    {
     "name": "stdout",
     "output_type": "stream",
     "text": [
      "您在「函數」章節中的 5 道 SQL 練習答對了 5 題。\n"
     ]
    }
   ],
   "source": [
    "print(\"您在「{}」章節中的 {} 道 SQL 練習答對了 {} 題。\".format(chapter_name, number_of_test_runs, number_of_successes))"
   ]
  },
  {
   "cell_type": "code",
   "execution_count": null,
   "metadata": {},
   "outputs": [],
   "source": []
  }
 ],
 "metadata": {
  "kernelspec": {
   "display_name": "Python 3",
   "language": "python",
   "name": "python3"
  },
  "language_info": {
   "codemirror_mode": {
    "name": "ipython",
    "version": 3
   },
   "file_extension": ".py",
   "mimetype": "text/x-python",
   "name": "python",
   "nbconvert_exporter": "python",
   "pygments_lexer": "ipython3",
   "version": "3.8.5"
  }
 },
 "nbformat": 4,
 "nbformat_minor": 4
}
