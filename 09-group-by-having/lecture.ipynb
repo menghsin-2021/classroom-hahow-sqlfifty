{
 "cells": [
  {
   "cell_type": "markdown",
   "id": "lightweight-fruit",
   "metadata": {
    "slideshow": {
     "slide_type": "slide"
    }
   },
   "source": [
    "# SQL 的五十道練習\n",
    "\n",
    "> 分組與聚合結果篩選\n",
    "\n",
    "[數據交點](https://www.datainpoint.com/) | 郭耀仁 <yaojenkuo@datainpoint.com>"
   ]
  },
  {
   "cell_type": "markdown",
   "id": "olympic-brave",
   "metadata": {
    "slideshow": {
     "slide_type": "subslide"
    }
   },
   "source": [
    "## 這個章節要學起來的 SQL 保留字\n",
    "\n",
    "- `GROUP BY`\n",
    "- `HAVING`"
   ]
  },
  {
   "cell_type": "code",
   "execution_count": 1,
   "id": "matched-spyware",
   "metadata": {
    "slideshow": {
     "slide_type": "skip"
    }
   },
   "outputs": [],
   "source": [
    "%LOAD sqlite3 db=../databases/imdb.db timeout=2 shared_cache=true"
   ]
  },
  {
   "cell_type": "code",
   "execution_count": 2,
   "id": "desperate-contest",
   "metadata": {
    "slideshow": {
     "slide_type": "skip"
    }
   },
   "outputs": [],
   "source": [
    "ATTACH \"../databases/nba.db\" AS nba;"
   ]
  },
  {
   "cell_type": "code",
   "execution_count": 3,
   "id": "located-society",
   "metadata": {
    "slideshow": {
     "slide_type": "skip"
    }
   },
   "outputs": [],
   "source": [
    "ATTACH \"../databases/twElection2020.db\" AS twElection2020;"
   ]
  },
  {
   "cell_type": "code",
   "execution_count": 4,
   "id": "positive-conservative",
   "metadata": {
    "slideshow": {
     "slide_type": "skip"
    }
   },
   "outputs": [],
   "source": [
    "ATTACH \"../databases/covid19.db\" AS covid19;"
   ]
  },
  {
   "cell_type": "markdown",
   "id": "supposed-spread",
   "metadata": {
    "slideshow": {
     "slide_type": "slide"
    }
   },
   "source": [
    "## 以 `GROUP BY` 分組"
   ]
  },
  {
   "cell_type": "markdown",
   "id": "endless-sodium",
   "metadata": {
    "slideshow": {
     "slide_type": "subslide"
    }
   },
   "source": [
    "## 分組 `GROUP BY` 的功能可以視為 `DISTINCT` 與 `ORDER BY` 兩者同時作用\n",
    "\n",
    "```sql\n",
    "SELECT column_names\n",
    "  FROM table_name\n",
    " GROUP BY column_names;\n",
    "```"
   ]
  },
  {
   "cell_type": "markdown",
   "id": "unable-paraguay",
   "metadata": {
    "slideshow": {
     "slide_type": "subslide"
    }
   },
   "source": [
    "## `DISTINCT` 與 `ORDER BY` 兩者同時作用"
   ]
  },
  {
   "cell_type": "code",
   "execution_count": 5,
   "id": "loose-script",
   "metadata": {
    "slideshow": {
     "slide_type": "-"
    }
   },
   "outputs": [
    {
     "data": {
      "text/html": [
       "<table>\n",
       "<tr>\n",
       "<th>distinct_pos</th>\n",
       "</tr>\n",
       "<tr>\n",
       "<td>C</td>\n",
       "</tr>\n",
       "<tr>\n",
       "<td>C-F</td>\n",
       "</tr>\n",
       "<tr>\n",
       "<td>F</td>\n",
       "</tr>\n",
       "<tr>\n",
       "<td>F-C</td>\n",
       "</tr>\n",
       "<tr>\n",
       "<td>F-G</td>\n",
       "</tr>\n",
       "<tr>\n",
       "<td>G</td>\n",
       "</tr>\n",
       "<tr>\n",
       "<td>G-F</td>\n",
       "</tr>\n",
       "</table>\n",
       "7 rows in set (0.00 sec)"
      ],
      "text/plain": [
       "+--------------+\n",
       "| distinct_pos |\n",
       "+--------------+\n",
       "| C            |\n",
       "+--------------+\n",
       "| C-F          |\n",
       "+--------------+\n",
       "| F            |\n",
       "+--------------+\n",
       "| F-C          |\n",
       "+--------------+\n",
       "| F-G          |\n",
       "+--------------+\n",
       "| G            |\n",
       "+--------------+\n",
       "| G-F          |\n",
       "+--------------+\n",
       "7 rows in set (0.00 sec)"
      ]
     },
     "execution_count": 5,
     "metadata": {},
     "output_type": "execute_result"
    }
   ],
   "source": [
    "SELECT DISTINCT pos AS distinct_pos\n",
    "  FROM players\n",
    " ORDER BY distinct_pos;"
   ]
  },
  {
   "cell_type": "markdown",
   "id": "billion-ratio",
   "metadata": {
    "slideshow": {
     "slide_type": "subslide"
    }
   },
   "source": [
    "## 使用分組 `GROUP BY`"
   ]
  },
  {
   "cell_type": "code",
   "execution_count": 6,
   "id": "annoying-milton",
   "metadata": {
    "slideshow": {
     "slide_type": "-"
    }
   },
   "outputs": [
    {
     "data": {
      "text/html": [
       "<table>\n",
       "<tr>\n",
       "<th>distinct_pos</th>\n",
       "</tr>\n",
       "<tr>\n",
       "<td>C</td>\n",
       "</tr>\n",
       "<tr>\n",
       "<td>C-F</td>\n",
       "</tr>\n",
       "<tr>\n",
       "<td>F</td>\n",
       "</tr>\n",
       "<tr>\n",
       "<td>F-C</td>\n",
       "</tr>\n",
       "<tr>\n",
       "<td>F-G</td>\n",
       "</tr>\n",
       "<tr>\n",
       "<td>G</td>\n",
       "</tr>\n",
       "<tr>\n",
       "<td>G-F</td>\n",
       "</tr>\n",
       "</table>\n",
       "7 rows in set (0.00 sec)"
      ],
      "text/plain": [
       "+--------------+\n",
       "| distinct_pos |\n",
       "+--------------+\n",
       "| C            |\n",
       "+--------------+\n",
       "| C-F          |\n",
       "+--------------+\n",
       "| F            |\n",
       "+--------------+\n",
       "| F-C          |\n",
       "+--------------+\n",
       "| F-G          |\n",
       "+--------------+\n",
       "| G            |\n",
       "+--------------+\n",
       "| G-F          |\n",
       "+--------------+\n",
       "7 rows in set (0.00 sec)"
      ]
     },
     "execution_count": 6,
     "metadata": {},
     "output_type": "execute_result"
    }
   ],
   "source": [
    "SELECT pos AS distinct_pos\n",
    "  FROM players\n",
    " GROUP BY pos;"
   ]
  },
  {
   "cell_type": "markdown",
   "id": "olympic-advertiser",
   "metadata": {
    "slideshow": {
     "slide_type": "subslide"
    }
   },
   "source": [
    "## 在「函數」的章節，我們介紹過一種「用來彙總資訊」的函數，稱為聚合函數（Aggregate functions）\n",
    "\n",
    "單獨使用聚合函數的時候，是將一整欄變數的資訊彙總後輸出"
   ]
  },
  {
   "cell_type": "code",
   "execution_count": 7,
   "id": "instrumental-dinner",
   "metadata": {},
   "outputs": [
    {
     "data": {
      "text/html": [
       "<table>\n",
       "<tr>\n",
       "<th>height_meters_avg</th>\n",
       "</tr>\n",
       "<tr>\n",
       "<td>1.989173553719</td>\n",
       "</tr>\n",
       "</table>\n",
       "1 row in set (0.00 sec)"
      ],
      "text/plain": [
       "+-------------------+\n",
       "| height_meters_avg |\n",
       "+-------------------+\n",
       "| 1.989173553719    |\n",
       "+-------------------+\n",
       "1 row in set (0.00 sec)"
      ]
     },
     "execution_count": 7,
     "metadata": {},
     "output_type": "execute_result"
    }
   ],
   "source": [
    "SELECT AVG(heightMeters) AS height_meters_avg  -- 所有球員的平均身高\n",
    "  FROM players;"
   ]
  },
  {
   "cell_type": "markdown",
   "id": "declared-pendant",
   "metadata": {
    "slideshow": {
     "slide_type": "subslide"
    }
   },
   "source": [
    "## 假如現在希望計算不同 `pos`（鋒衛位置）的球員平均身高，現在我們會怎麼做？\n",
    "\n",
    "- 先知道有哪些鋒衛位置。\n",
    "- 篩選不同鋒衛位置的球員，一一計算平均身高。"
   ]
  },
  {
   "cell_type": "code",
   "execution_count": 8,
   "id": "wooden-humanity",
   "metadata": {
    "slideshow": {
     "slide_type": "subslide"
    }
   },
   "outputs": [
    {
     "data": {
      "text/html": [
       "<table>\n",
       "<tr>\n",
       "<th>pos</th>\n",
       "</tr>\n",
       "<tr>\n",
       "<td>F</td>\n",
       "</tr>\n",
       "<tr>\n",
       "<td>C-F</td>\n",
       "</tr>\n",
       "<tr>\n",
       "<td>G-F</td>\n",
       "</tr>\n",
       "<tr>\n",
       "<td>G</td>\n",
       "</tr>\n",
       "<tr>\n",
       "<td>F-G</td>\n",
       "</tr>\n",
       "<tr>\n",
       "<td>C</td>\n",
       "</tr>\n",
       "<tr>\n",
       "<td>F-C</td>\n",
       "</tr>\n",
       "</table>\n",
       "7 rows in set (0.00 sec)"
      ],
      "text/plain": [
       "+-----+\n",
       "| pos |\n",
       "+-----+\n",
       "| F   |\n",
       "+-----+\n",
       "| C-F |\n",
       "+-----+\n",
       "| G-F |\n",
       "+-----+\n",
       "| G   |\n",
       "+-----+\n",
       "| F-G |\n",
       "+-----+\n",
       "| C   |\n",
       "+-----+\n",
       "| F-C |\n",
       "+-----+\n",
       "7 rows in set (0.00 sec)"
      ]
     },
     "execution_count": 8,
     "metadata": {},
     "output_type": "execute_result"
    }
   ],
   "source": [
    "SELECT DISTINCT pos  -- 先知道有哪些鋒衛位置\n",
    "  FROM players;"
   ]
  },
  {
   "cell_type": "markdown",
   "id": "local-proceeding",
   "metadata": {
    "slideshow": {
     "slide_type": "subslide"
    }
   },
   "source": [
    "## 篩選不同鋒衛位置的球員，一一計算平均身高\n",
    "\n",
    "```sql\n",
    "SELECT AVG(heightMeters) AS forward_avg_height_meters\n",
    "  FROM players\n",
    " WHERE pos = 'F';\n",
    "SELECT AVG(heightMeters) AS center_forward_avg_height_meters\n",
    "  FROM players\n",
    " WHERE pos = 'C-F';\n",
    "SELECT AVG(heightMeters) AS guard_forward_avg_height_meters\n",
    "  FROM players\n",
    " WHERE pos = 'G-F';\n",
    "-- 繼續篩選剩餘的四個鋒衛位置...\n",
    "```"
   ]
  },
  {
   "cell_type": "markdown",
   "id": "korean-crossing",
   "metadata": {
    "slideshow": {
     "slide_type": "subslide"
    }
   },
   "source": [
    "## 這不是一個聰明的辦法，萬一用來當作篩選條件欄位有很多的獨一值該怎麼辦呢？"
   ]
  },
  {
   "cell_type": "code",
   "execution_count": 9,
   "id": "apparent-vacation",
   "metadata": {},
   "outputs": [
    {
     "data": {
      "text/html": [
       "<table>\n",
       "<tr>\n",
       "<th>number_of_dist_countries</th>\n",
       "</tr>\n",
       "<tr>\n",
       "<td>43</td>\n",
       "</tr>\n",
       "</table>\n",
       "1 row in set (0.00 sec)"
      ],
      "text/plain": [
       "+--------------------------+\n",
       "| number_of_dist_countries |\n",
       "+--------------------------+\n",
       "| 43                       |\n",
       "+--------------------------+\n",
       "1 row in set (0.00 sec)"
      ]
     },
     "execution_count": 9,
     "metadata": {},
     "output_type": "execute_result"
    }
   ],
   "source": [
    "SELECT COUNT(DISTINCT country) AS number_of_dist_countries  -- 球員的國籍\n",
    "  FROM players;"
   ]
  },
  {
   "cell_type": "markdown",
   "id": "weird-houston",
   "metadata": {
    "slideshow": {
     "slide_type": "subslide"
    }
   },
   "source": [
    "## 結合聚合函數與 `GROUP BY` 可以便捷地完成分組聚合\n",
    "\n",
    "```sql\n",
    "SELECT AGGREGATE_FUNCTION(column_names) AS alias\n",
    "  FROM table_name\n",
    " GROUP BY column_names;\n",
    "```\n",
    "\n",
    "![group by](group_by.png)"
   ]
  },
  {
   "cell_type": "code",
   "execution_count": 10,
   "id": "three-pressure",
   "metadata": {
    "slideshow": {
     "slide_type": "subslide"
    }
   },
   "outputs": [
    {
     "data": {
      "text/html": [
       "<table>\n",
       "<tr>\n",
       "<th>pos</th>\n",
       "<th>avg_height_meters</th>\n",
       "</tr>\n",
       "<tr>\n",
       "<td>C</td>\n",
       "<td>2.12</td>\n",
       "</tr>\n",
       "<tr>\n",
       "<td>C-F</td>\n",
       "<td>2.1</td>\n",
       "</tr>\n",
       "<tr>\n",
       "<td>F</td>\n",
       "<td>2.02</td>\n",
       "</tr>\n",
       "<tr>\n",
       "<td>F-C</td>\n",
       "<td>2.08</td>\n",
       "</tr>\n",
       "<tr>\n",
       "<td>F-G</td>\n",
       "<td>2.0</td>\n",
       "</tr>\n",
       "<tr>\n",
       "<td>G</td>\n",
       "<td>1.91</td>\n",
       "</tr>\n",
       "<tr>\n",
       "<td>G-F</td>\n",
       "<td>1.98</td>\n",
       "</tr>\n",
       "</table>\n",
       "7 rows in set (0.00 sec)"
      ],
      "text/plain": [
       "+-----+-------------------+\n",
       "| pos | avg_height_meters |\n",
       "+-----+-------------------+\n",
       "| C   | 2.12              |\n",
       "+-----+-------------------+\n",
       "| C-F | 2.1               |\n",
       "+-----+-------------------+\n",
       "| F   | 2.02              |\n",
       "+-----+-------------------+\n",
       "| F-C | 2.08              |\n",
       "+-----+-------------------+\n",
       "| F-G | 2.0               |\n",
       "+-----+-------------------+\n",
       "| G   | 1.91              |\n",
       "+-----+-------------------+\n",
       "| G-F | 1.98              |\n",
       "+-----+-------------------+\n",
       "7 rows in set (0.00 sec)"
      ]
     },
     "execution_count": 10,
     "metadata": {},
     "output_type": "execute_result"
    }
   ],
   "source": [
    "SELECT pos,\n",
    "       ROUND(AVG(heightMeters), 2) AS avg_height_meters\n",
    "  FROM players\n",
    " GROUP BY pos;  -- 計算不同 pos（鋒衛位置）的球員平均身高"
   ]
  },
  {
   "cell_type": "code",
   "execution_count": 11,
   "id": "expanded-alert",
   "metadata": {
    "slideshow": {
     "slide_type": "subslide"
    }
   },
   "outputs": [
    {
     "data": {
      "text/html": [
       "<table>\n",
       "<tr>\n",
       "<th>country</th>\n",
       "<th>avg_height_meters</th>\n",
       "</tr>\n",
       "<tr>\n",
       "<td>Angola</td>\n",
       "<td>2.06</td>\n",
       "</tr>\n",
       "<tr>\n",
       "<td>Argentina</td>\n",
       "<td>1.78</td>\n",
       "</tr>\n",
       "<tr>\n",
       "<td>Australia</td>\n",
       "<td>1.98</td>\n",
       "</tr>\n",
       "<tr>\n",
       "<td>Austria</td>\n",
       "<td>2.16</td>\n",
       "</tr>\n",
       "<tr>\n",
       "<td>Bahamas</td>\n",
       "<td>2.02</td>\n",
       "</tr>\n",
       "</table>\n",
       "5 rows in set (0.00 sec)"
      ],
      "text/plain": [
       "+-----------+-------------------+\n",
       "| country   | avg_height_meters |\n",
       "+-----------+-------------------+\n",
       "| Angola    | 2.06              |\n",
       "+-----------+-------------------+\n",
       "| Argentina | 1.78              |\n",
       "+-----------+-------------------+\n",
       "| Australia | 1.98              |\n",
       "+-----------+-------------------+\n",
       "| Austria   | 2.16              |\n",
       "+-----------+-------------------+\n",
       "| Bahamas   | 2.02              |\n",
       "+-----------+-------------------+\n",
       "5 rows in set (0.00 sec)"
      ]
     },
     "execution_count": 11,
     "metadata": {},
     "output_type": "execute_result"
    }
   ],
   "source": [
    "SELECT country,\n",
    "       ROUND(AVG(heightMeters), 2) AS avg_height_meters\n",
    "  FROM players\n",
    " GROUP BY country  -- 計算不同國籍球員平均身高\n",
    " LIMIT 5;"
   ]
  },
  {
   "cell_type": "markdown",
   "id": "fatal-capital",
   "metadata": {
    "slideshow": {
     "slide_type": "subslide"
    }
   },
   "source": [
    "## `GROUP BY` 可以加入不只一個變數"
   ]
  },
  {
   "cell_type": "code",
   "execution_count": 12,
   "id": "expensive-studio",
   "metadata": {},
   "outputs": [
    {
     "data": {
      "text/html": [
       "<table>\n",
       "<tr>\n",
       "<th>pos</th>\n",
       "<th>country</th>\n",
       "<th>avg_height_meters</th>\n",
       "</tr>\n",
       "<tr>\n",
       "<td>C</td>\n",
       "<td>Australia</td>\n",
       "<td>2.08</td>\n",
       "</tr>\n",
       "<tr>\n",
       "<td>C</td>\n",
       "<td>Austria</td>\n",
       "<td>2.16</td>\n",
       "</tr>\n",
       "<tr>\n",
       "<td>C</td>\n",
       "<td>Bahamas</td>\n",
       "<td>2.11</td>\n",
       "</tr>\n",
       "<tr>\n",
       "<td>C</td>\n",
       "<td>Bosnia and Herzegovina</td>\n",
       "<td>2.11</td>\n",
       "</tr>\n",
       "<tr>\n",
       "<td>C</td>\n",
       "<td>Canada</td>\n",
       "<td>2.06</td>\n",
       "</tr>\n",
       "</table>\n",
       "5 rows in set (0.00 sec)"
      ],
      "text/plain": [
       "+-----+------------------------+-------------------+\n",
       "| pos | country                | avg_height_meters |\n",
       "+-----+------------------------+-------------------+\n",
       "| C   | Australia              | 2.08              |\n",
       "+-----+------------------------+-------------------+\n",
       "| C   | Austria                | 2.16              |\n",
       "+-----+------------------------+-------------------+\n",
       "| C   | Bahamas                | 2.11              |\n",
       "+-----+------------------------+-------------------+\n",
       "| C   | Bosnia and Herzegovina | 2.11              |\n",
       "+-----+------------------------+-------------------+\n",
       "| C   | Canada                 | 2.06              |\n",
       "+-----+------------------------+-------------------+\n",
       "5 rows in set (0.00 sec)"
      ]
     },
     "execution_count": 12,
     "metadata": {},
     "output_type": "execute_result"
    }
   ],
   "source": [
    "SELECT pos,\n",
    "       country,\n",
    "       ROUND(AVG(heightMeters), 2) AS avg_height_meters\n",
    "  FROM players\n",
    " GROUP BY pos,\n",
    "          country\n",
    " LIMIT 5;"
   ]
  },
  {
   "cell_type": "markdown",
   "id": "existing-integrity",
   "metadata": {
    "slideshow": {
     "slide_type": "slide"
    }
   },
   "source": [
    "## 以 `HAVING` 篩選分組聚合結果"
   ]
  },
  {
   "cell_type": "markdown",
   "id": "humanitarian-undergraduate",
   "metadata": {
    "slideshow": {
     "slide_type": "subslide"
    }
   },
   "source": [
    "## 用來篩選資料的兩種方式：\n",
    "\n",
    "1. 作用在「觀測值」的 `WHERE`。\n",
    "2. 作用在「分組聚合結果」的 `HAVING`。"
   ]
  },
  {
   "cell_type": "markdown",
   "id": "graphic-collar",
   "metadata": {
    "slideshow": {
     "slide_type": "subslide"
    }
   },
   "source": [
    "## 作用在「分組聚合結果」的 `HAVING`\n",
    "\n",
    "```sql\n",
    "SELECT AGGREGATE_FUNCTION(column_names) AS alias\n",
    "  FROM table_name\n",
    " GROUP BY column_names\n",
    "HAVING conditions;\n",
    "```"
   ]
  },
  {
   "cell_type": "code",
   "execution_count": 13,
   "id": "defined-beach",
   "metadata": {
    "slideshow": {
     "slide_type": "subslide"
    }
   },
   "outputs": [
    {
     "data": {
      "text/html": [
       "<table>\n",
       "<tr>\n",
       "<th>pos</th>\n",
       "<th>avg_height_meters</th>\n",
       "</tr>\n",
       "<tr>\n",
       "<td>C</td>\n",
       "<td>2.12</td>\n",
       "</tr>\n",
       "<tr>\n",
       "<td>C-F</td>\n",
       "<td>2.1</td>\n",
       "</tr>\n",
       "<tr>\n",
       "<td>F</td>\n",
       "<td>2.02</td>\n",
       "</tr>\n",
       "<tr>\n",
       "<td>F-C</td>\n",
       "<td>2.08</td>\n",
       "</tr>\n",
       "<tr>\n",
       "<td>F-G</td>\n",
       "<td>2.0</td>\n",
       "</tr>\n",
       "</table>\n",
       "5 rows in set (0.00 sec)"
      ],
      "text/plain": [
       "+-----+-------------------+\n",
       "| pos | avg_height_meters |\n",
       "+-----+-------------------+\n",
       "| C   | 2.12              |\n",
       "+-----+-------------------+\n",
       "| C-F | 2.1               |\n",
       "+-----+-------------------+\n",
       "| F   | 2.02              |\n",
       "+-----+-------------------+\n",
       "| F-C | 2.08              |\n",
       "+-----+-------------------+\n",
       "| F-G | 2.0               |\n",
       "+-----+-------------------+\n",
       "5 rows in set (0.00 sec)"
      ]
     },
     "execution_count": 13,
     "metadata": {},
     "output_type": "execute_result"
    }
   ],
   "source": [
    "SELECT pos,\n",
    "       ROUND(AVG(heightMeters), 2) AS avg_height_meters\n",
    "  FROM players\n",
    " GROUP BY pos\n",
    "HAVING AVG(heightMeters) >= 2;  -- 篩選平均身高大於 2 公尺的 pos（鋒衛位置）"
   ]
  },
  {
   "cell_type": "code",
   "execution_count": 14,
   "id": "entitled-synthesis",
   "metadata": {
    "slideshow": {
     "slide_type": "subslide"
    }
   },
   "outputs": [
    {
     "data": {
      "text/html": [
       "<table>\n",
       "<tr>\n",
       "<th>pos</th>\n",
       "<th>avg_height_meters</th>\n",
       "</tr>\n",
       "<tr>\n",
       "<td>C</td>\n",
       "<td>2.12</td>\n",
       "</tr>\n",
       "<tr>\n",
       "<td>C-F</td>\n",
       "<td>2.1</td>\n",
       "</tr>\n",
       "<tr>\n",
       "<td>F</td>\n",
       "<td>2.04</td>\n",
       "</tr>\n",
       "<tr>\n",
       "<td>F-C</td>\n",
       "<td>2.08</td>\n",
       "</tr>\n",
       "<tr>\n",
       "<td>F-G</td>\n",
       "<td>2.03</td>\n",
       "</tr>\n",
       "<tr>\n",
       "<td>G</td>\n",
       "<td>2.02</td>\n",
       "</tr>\n",
       "<tr>\n",
       "<td>G-F</td>\n",
       "<td>2.03</td>\n",
       "</tr>\n",
       "</table>\n",
       "7 rows in set (0.00 sec)"
      ],
      "text/plain": [
       "+-----+-------------------+\n",
       "| pos | avg_height_meters |\n",
       "+-----+-------------------+\n",
       "| C   | 2.12              |\n",
       "+-----+-------------------+\n",
       "| C-F | 2.1               |\n",
       "+-----+-------------------+\n",
       "| F   | 2.04              |\n",
       "+-----+-------------------+\n",
       "| F-C | 2.08              |\n",
       "+-----+-------------------+\n",
       "| F-G | 2.03              |\n",
       "+-----+-------------------+\n",
       "| G   | 2.02              |\n",
       "+-----+-------------------+\n",
       "| G-F | 2.03              |\n",
       "+-----+-------------------+\n",
       "7 rows in set (0.00 sec)"
      ]
     },
     "execution_count": 14,
     "metadata": {},
     "output_type": "execute_result"
    }
   ],
   "source": [
    "SELECT pos,\n",
    "       ROUND(AVG(heightMeters), 2) AS avg_height_meters\n",
    "  FROM players\n",
    " WHERE heightMeters >= 2 -- 篩選身高大於 2 公尺的球員\n",
    " GROUP BY pos;"
   ]
  },
  {
   "cell_type": "markdown",
   "id": "understanding-sudan",
   "metadata": {
    "slideshow": {
     "slide_type": "slide"
    }
   },
   "source": [
    "## 重點統整\n",
    "\n",
    "- 分組 `GROUP BY` 可以視為 `DISTINCT` 與 `ORDER BY` 兩者同時作用。\n",
    "- 結合聚合函數與 `GROUP BY` 可以便捷地完成分組聚合。\n",
    "- 以 `HAVING` 篩選分組聚合結果。"
   ]
  },
  {
   "cell_type": "markdown",
   "id": "employed-thousand",
   "metadata": {
    "slideshow": {
     "slide_type": "subslide"
    }
   },
   "source": [
    "```sql\n",
    "/*截至目前學起來的 SQL 有哪些？\n",
    "SQL 寫作順序必須遵從標準 SQL 的規定。*/\n",
    "SELECT column_names     -- 選擇哪些欄位\n",
    "  FROM table_name       -- 從哪個資料庫的資料表\n",
    " WHERE conditions       -- 篩選哪些觀測值\n",
    " GROUP BY column_names  -- 指定依照哪個變數分組\n",
    "HAVING conditions       -- 篩選哪些分組聚合的結果\n",
    " ORDER BY column_names  -- 指定依照哪個變數排序\n",
    " LIMIT m;               -- 查詢結果顯示前 m 列就好\n",
    "```"
   ]
  }
 ],
 "metadata": {
  "celltoolbar": "Slideshow",
  "kernelspec": {
   "display_name": "xsql",
   "language": "sqlite",
   "name": "xsql"
  },
  "language_info": {
   "codemirror_mode": "sql",
   "file_extension": "",
   "mimetype": "",
   "name": "mysql",
   "version": "0.0.8"
  }
 },
 "nbformat": 4,
 "nbformat_minor": 5
}
