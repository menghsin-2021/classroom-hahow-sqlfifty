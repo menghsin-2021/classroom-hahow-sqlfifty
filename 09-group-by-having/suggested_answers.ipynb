{
 "cells": [
  {
   "cell_type": "markdown",
   "metadata": {
    "deletable": false,
    "editable": false
   },
   "source": [
    "# SQL 的五十道練習\n",
    "\n",
    "> 分組與聚合結果篩選\n",
    "\n",
    "[數據交點](https://www.datainpoint.com) | 郭耀仁 <yaojenkuo@datainpoint.com>"
   ]
  },
  {
   "cell_type": "markdown",
   "metadata": {
    "deletable": false,
    "editable": false
   },
   "source": [
    "## 練習題指引\n",
    "\n",
    "- 在每份練習題的開始，都會先將四個學習資料庫載入環境。\n",
    "- 因此 SQL 可以指定四個學習資料庫中的資料表，不需要額外指定資料庫。\n",
    "- 在 SQL 語法起點與 SQL 語法終點這兩個單行註解之間撰寫能夠得到預期結果的 SQL。\n",
    "- 可以先在自己電腦的 SQLiteStudio 或者 DBeaver 寫出跟預期結果相同的 SQL 後再複製貼上到練習題。\n",
    "- 執行測試的方式為點選上方選單的 Kernel -> Restart & Run All -> Restart and Run All Cells。\n",
    "- 可以每寫一題就執行測試，也可以全部寫完再執行測試。\n",
    "- 練習題閒置超過 10 分鐘會自動斷線，這時只要重新點選練習題連結即可重新啟動。"
   ]
  },
  {
   "cell_type": "code",
   "execution_count": 1,
   "metadata": {
    "deletable": false,
    "editable": false
   },
   "outputs": [
    {
     "data": {
      "text/plain": [
       "<sqlite3.Cursor at 0x7f93bd36ea40>"
      ]
     },
     "execution_count": 1,
     "metadata": {},
     "output_type": "execute_result"
    }
   ],
   "source": [
    "import sqlite3\n",
    "import unittest\n",
    "import json\n",
    "import os\n",
    "import numpy as np\n",
    "import pandas as pd\n",
    "conn = sqlite3.connect('../databases/nba.db')\n",
    "conn.execute(\"\"\"ATTACH '../databases/covid19.db' AS covid19\"\"\")\n",
    "conn.execute(\"\"\"ATTACH '../databases/twElection2020.db' AS twElection2020\"\"\")\n",
    "conn.execute(\"\"\"ATTACH '../databases/imdb.db' AS imdb\"\"\")"
   ]
  },
  {
   "cell_type": "markdown",
   "metadata": {},
   "source": [
    "## 25. 從 `imdb` 資料庫的 `movies` 資料表計算每一年有幾部在 IMDb.com 獲得高評等的經典電影，參考下列的預期查詢結果。\n",
    "\n",
    "- 預期輸入：SQL 查詢語法。\n",
    "- 預期輸出：(85, 2) 的查詢結果。\n",
    "\n",
    "```\n",
    "    release_year  number_of_movies\n",
    "0           1921                 1\n",
    "1           1924                 1\n",
    "2           1925                 1\n",
    "3           1926                 1\n",
    "4           1927                 1\n",
    "..           ...               ...\n",
    "80          2017                 3\n",
    "81          2018                 6\n",
    "82          2019                 8\n",
    "83          2020                 2\n",
    "84          2021                 1\n",
    "\n",
    "[85 rows x 2 columns]\n",
    "```"
   ]
  },
  {
   "cell_type": "code",
   "execution_count": 2,
   "metadata": {},
   "outputs": [],
   "source": [
    "count_number_of_movies_by_year_from_movies =\\\n",
    "\"\"\"\n",
    "-- SQL 查詢語法起點\n",
    "SELECT release_year,\n",
    "       COUNT(*) AS number_of_movies\n",
    "  FROM movies\n",
    " GROUP BY release_year\n",
    " ORDER BY release_year;\n",
    "-- SQL 查詢語法終點\n",
    "\"\"\""
   ]
  },
  {
   "cell_type": "markdown",
   "metadata": {},
   "source": [
    "## 26. 從 `imdb` 資料庫的 `movies` 資料表計算每一年有幾部在 IMDb.com 獲得高評等的經典電影，只顯示電影數在 5 部以上（`>= 5`）的年份，參考下列的預期查詢結果。\n",
    "\n",
    "- 預期輸入：SQL 查詢語法。\n",
    "- 預期輸出：(19, 2) 的查詢結果。\n",
    "\n",
    "```\n",
    "    release_year  number_of_movies\n",
    "0           1957                 6\n",
    "1           1988                 5\n",
    "2           1994                 5\n",
    "3           1995                 8\n",
    "4           1997                 6\n",
    "5           1998                 5\n",
    "6           1999                 5\n",
    "7           2000                 6\n",
    "8           2001                 5\n",
    "9           2003                 5\n",
    "10          2004                 7\n",
    "11          2006                 5\n",
    "12          2009                 6\n",
    "13          2010                 5\n",
    "14          2013                 6\n",
    "15          2014                 5\n",
    "16          2015                 5\n",
    "17          2018                 6\n",
    "18          2019                 8\n",
    "```"
   ]
  },
  {
   "cell_type": "code",
   "execution_count": 3,
   "metadata": {},
   "outputs": [],
   "source": [
    "count_number_of_movies_by_year_having_from_movies =\\\n",
    "\"\"\"\n",
    "-- SQL 查詢語法起點\n",
    "SELECT release_year,\n",
    "       COUNT(*) AS number_of_movies\n",
    "  FROM movies\n",
    " GROUP BY release_year\n",
    "HAVING number_of_movies >= 5\n",
    " ORDER BY release_year;\n",
    "-- SQL 查詢語法終點\n",
    "\"\"\""
   ]
  },
  {
   "cell_type": "markdown",
   "metadata": {},
   "source": [
    "## 27. 從 `twElection2020` 資料庫的 `presidential` 資料表暸解台灣 2020 總統副總統的選舉結果，參考下列的預期查詢結果。\n",
    "\n",
    "- 預期輸入：SQL 查詢語法。\n",
    "- 預期輸出：(3, 2) 的查詢結果。\n",
    "\n",
    "```\n",
    "   candidate_id  total_votes\n",
    "0             1       608590\n",
    "1             2      5522119\n",
    "2             3      8170231\n",
    "```"
   ]
  },
  {
   "cell_type": "code",
   "execution_count": 4,
   "metadata": {},
   "outputs": [],
   "source": [
    "find_summary_by_candidate_id_from_presidential =\\\n",
    "\"\"\"\n",
    "-- SQL 查詢語法起點\n",
    "SELECT candidate_id,\n",
    "       SUM(votes) AS total_votes\n",
    "  FROM presidential\n",
    " GROUP BY candidate_id;\n",
    "-- SQL 查詢語法終點\n",
    "\"\"\""
   ]
  },
  {
   "cell_type": "markdown",
   "metadata": {},
   "source": [
    "## 28. 從 `nba` 資料庫的 `players` 資料表根據 `country` 暸解截至 2021-03-31，NBA 由哪些國家的球員所組成，參考下列的預期查詢結果。\n",
    "\n",
    "- 預期輸入：SQL 查詢語法。\n",
    "- 預期輸出：(43, 2) 的查詢結果。\n",
    "\n",
    "```\n",
    "                   country  number_of_players\n",
    "0                      USA                370\n",
    "1                   Canada                 17\n",
    "2                   France                 11\n",
    "3                Australia                  9\n",
    "4                  Germany                  6\n",
    "5                   Serbia                  6\n",
    "6                  Croatia                  4\n",
    "7                    Spain                  4\n",
    "8                   Turkey                  4\n",
    "9                   Greece                  3\n",
    "10                   Italy                  3\n",
    "11                  Latvia                  3\n",
    "12               Lithuania                  3\n",
    "13                 Nigeria                  3\n",
    "14                 Senegal                  3\n",
    "15                Slovenia                  3\n",
    "16                 Bahamas                  2\n",
    "17                  Brazil                  2\n",
    "18                Cameroon                  2\n",
    "19                   Japan                  2\n",
    "20                 Ukraine                  2\n",
    "21                  Angola                  1\n",
    "22               Argentina                  1\n",
    "23                 Austria                  1\n",
    "24  Bosnia and Herzegovina                  1\n",
    "25          Czech Republic                  1\n",
    "26                     DRC                  1\n",
    "27      Dominican Republic                  1\n",
    "28                   Egypt                  1\n",
    "29                 Finland                  1\n",
    "30                   Gabon                  1\n",
    "31                 Georgia                  1\n",
    "32                  Guinea                  1\n",
    "33                  Israel                  1\n",
    "34                 Jamaica                  1\n",
    "35              Montenegro                  1\n",
    "36             New Zealand                  1\n",
    "37   Republic of the Congo                  1\n",
    "38             Saint Lucia                  1\n",
    "39             South Sudan                  1\n",
    "40                   Sudan                  1\n",
    "41             Switzerland                  1\n",
    "42          United Kingdom                  1\n",
    "```"
   ]
  },
  {
   "cell_type": "code",
   "execution_count": 5,
   "metadata": {},
   "outputs": [],
   "source": [
    "count_number_of_players_by_country_from_players =\\\n",
    "\"\"\"\n",
    "-- SQL 查詢語法起點\n",
    "SELECT country,\n",
    "       COUNT(*) AS number_of_players\n",
    "  FROM players\n",
    " GROUP BY country\n",
    " ORDER BY number_of_players DESC;\n",
    "-- SQL 查詢語法終點\n",
    "\"\"\""
   ]
  },
  {
   "cell_type": "markdown",
   "metadata": {},
   "source": [
    "## 29. 從 `nba` 資料庫的 `players` 資料表根據 `country` 暸解截至 2021-03-31，NBA 由哪些國家的球員所組成，只顯示球員數在 2 位以上（>= 2）並在 9 位以下（<=9）的國家，參考下列的預期查詢結果。\n",
    "\n",
    "- 預期輸入：SQL 查詢語法。\n",
    "- 預期輸出：(18, 2) 的查詢結果。\n",
    "\n",
    "```\n",
    "      country  number_of_players\n",
    "0   Australia                  9\n",
    "1     Germany                  6\n",
    "2      Serbia                  6\n",
    "3     Croatia                  4\n",
    "4       Spain                  4\n",
    "5      Turkey                  4\n",
    "6      Greece                  3\n",
    "7       Italy                  3\n",
    "8      Latvia                  3\n",
    "9   Lithuania                  3\n",
    "10    Nigeria                  3\n",
    "11    Senegal                  3\n",
    "12   Slovenia                  3\n",
    "13    Bahamas                  2\n",
    "14     Brazil                  2\n",
    "15   Cameroon                  2\n",
    "16      Japan                  2\n",
    "17    Ukraine                  2\n",
    "```"
   ]
  },
  {
   "cell_type": "code",
   "execution_count": 6,
   "metadata": {},
   "outputs": [],
   "source": [
    "count_number_of_players_by_country_having_from_players =\\\n",
    "\"\"\"\n",
    "-- SQL 查詢語法起點\n",
    "SELECT country,\n",
    "       COUNT(*) AS number_of_players\n",
    "  FROM players\n",
    " GROUP BY country\n",
    "HAVING number_of_players BETWEEN 2 and 9\n",
    " ORDER BY number_of_players DESC;\n",
    "-- SQL 查詢語法終點\n",
    "\"\"\""
   ]
  },
  {
   "cell_type": "markdown",
   "metadata": {
    "deletable": false,
    "editable": false
   },
   "source": [
    "## 執行測試！\n",
    "\n",
    "Kernel -> Restart & Run All -> Restart and Run All Cells."
   ]
  },
  {
   "cell_type": "code",
   "execution_count": 7,
   "metadata": {
    "deletable": false,
    "editable": false
   },
   "outputs": [
    {
     "name": "stderr",
     "output_type": "stream",
     "text": [
      "test_25_count_number_of_movies_by_year_from_movies (__main__.TestGroupByHaving) ... ok\n",
      "test_26_count_number_of_movies_by_year_having_from_movies (__main__.TestGroupByHaving) ... ok\n",
      "test_27_find_summary_by_candidate_id_from_presidential (__main__.TestGroupByHaving) ... ok\n",
      "test_28_count_number_of_players_by_country_from_players (__main__.TestGroupByHaving) ... ok\n",
      "test_29_count_number_of_players_by_country_having_from_players (__main__.TestGroupByHaving) ... ok\n",
      "\n",
      "----------------------------------------------------------------------\n",
      "Ran 5 tests in 0.186s\n",
      "\n",
      "OK\n"
     ]
    }
   ],
   "source": [
    "class TestGroupByHaving(unittest.TestCase):\n",
    "    def test_25_count_number_of_movies_by_year_from_movies(self):\n",
    "        number_of_movies_by_year_from_movies = pd.read_sql(count_number_of_movies_by_year_from_movies, conn)\n",
    "        self.assertEqual(number_of_movies_by_year_from_movies.shape, (85, 2))\n",
    "        column_values = number_of_movies_by_year_from_movies.iloc[:, 1].values\n",
    "        self.assertEqual(column_values.sum(), 250)\n",
    "    def test_26_count_number_of_movies_by_year_having_from_movies(self):\n",
    "        number_of_movies_by_year_having_from_movies = pd.read_sql(count_number_of_movies_by_year_having_from_movies, conn)\n",
    "        self.assertEqual(number_of_movies_by_year_having_from_movies.shape, (19, 2))\n",
    "        column_values = number_of_movies_by_year_having_from_movies.iloc[:, 1].values\n",
    "        self.assertEqual(column_values.sum(), 109)\n",
    "    def test_27_find_summary_by_candidate_id_from_presidential(self):\n",
    "        summary_by_candidate_id_from_presidential = pd.read_sql(find_summary_by_candidate_id_from_presidential, conn)\n",
    "        self.assertEqual(summary_by_candidate_id_from_presidential.shape, (3, 2))\n",
    "        column_values = set(summary_by_candidate_id_from_presidential.iloc[:, 1].values)\n",
    "        self.assertTrue(608590 in column_values)\n",
    "        self.assertTrue(5522119 in column_values)\n",
    "        self.assertTrue(8170231 in column_values)\n",
    "    def test_28_count_number_of_players_by_country_from_players(self):\n",
    "        number_of_players_by_country_from_players = pd.read_sql(count_number_of_players_by_country_from_players, conn)\n",
    "        self.assertEqual(number_of_players_by_country_from_players.shape, (43, 2))\n",
    "        column_values = number_of_players_by_country_from_players.iloc[:, 1].values\n",
    "        self.assertEqual(column_values.sum(), 484)\n",
    "    def test_29_count_number_of_players_by_country_having_from_players(self):\n",
    "        number_of_players_by_country_having_from_players = pd.read_sql(count_number_of_players_by_country_having_from_players, conn)\n",
    "        self.assertEqual(number_of_players_by_country_having_from_players.shape, (18, 2))\n",
    "        column_values = number_of_players_by_country_having_from_players.iloc[:, 1].values\n",
    "        self.assertEqual(column_values.sum(), 64)\n",
    "\n",
    "suite = unittest.TestLoader().loadTestsFromTestCase(TestGroupByHaving)\n",
    "runner = unittest.TextTestRunner(verbosity=2)\n",
    "test_results = runner.run(suite)\n",
    "number_of_failures = len(test_results.failures)\n",
    "number_of_errors = len(test_results.errors)\n",
    "number_of_test_runs = test_results.testsRun\n",
    "number_of_successes = number_of_test_runs - (number_of_failures + number_of_errors)\n",
    "cwd = os.getcwd()\n",
    "folder_name = cwd.split(\"/\")[-1]\n",
    "with open(\"../exercise_index.json\", \"r\") as content:\n",
    "    exercise_index = json.load(content)\n",
    "chapter_name = exercise_index[folder_name]"
   ]
  },
  {
   "cell_type": "code",
   "execution_count": 8,
   "metadata": {
    "deletable": false,
    "editable": false
   },
   "outputs": [
    {
     "name": "stdout",
     "output_type": "stream",
     "text": [
      "您在「分組與聚合結果篩選」章節中的 5 道 SQL 練習答對了 5 題。\n"
     ]
    }
   ],
   "source": [
    "print(\"您在「{}」章節中的 {} 道 SQL 練習答對了 {} 題。\".format(chapter_name, number_of_test_runs, number_of_successes))"
   ]
  }
 ],
 "metadata": {
  "kernelspec": {
   "display_name": "Python Data Analysis",
   "language": "python",
   "name": "pyda"
  },
  "language_info": {
   "codemirror_mode": {
    "name": "ipython",
    "version": 3
   },
   "file_extension": ".py",
   "mimetype": "text/x-python",
   "name": "python",
   "nbconvert_exporter": "python",
   "pygments_lexer": "ipython3",
   "version": "3.6.8"
  }
 },
 "nbformat": 4,
 "nbformat_minor": 4
}
